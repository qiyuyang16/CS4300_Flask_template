{
 "metadata": {
  "language_info": {
   "codemirror_mode": {
    "name": "ipython",
    "version": 3
   },
   "file_extension": ".py",
   "mimetype": "text/x-python",
   "name": "python",
   "nbconvert_exporter": "python",
   "pygments_lexer": "ipython3",
   "version": "3.8.5-final"
  },
  "orig_nbformat": 2,
  "kernelspec": {
   "name": "python385jvsc74a57bd004ac14935f6ed29b3349ee8f41114d2dfa2ba78ce87cf701ad9b7ca15955b787",
   "display_name": "Python 3.8.5 64-bit (conda)"
  }
 },
 "nbformat": 4,
 "nbformat_minor": 2,
 "cells": [
  {
   "cell_type": "code",
   "execution_count": 1,
   "metadata": {},
   "outputs": [],
   "source": [
    "from similarity_measures import preprocessing, cosine\n",
    "\n",
    "from pdfstructure.hierarchy.parser import HierarchyParser\n",
    "from pdfstructure.source import FileSource\n",
    "from pdfstructure.printer import JsonFilePrinter\n",
    "import json\n",
    "import pathlib\n",
    "\n",
    "import numpy as np\n",
    "import re"
   ]
  },
  {
   "cell_type": "code",
   "execution_count": 2,
   "metadata": {},
   "outputs": [],
   "source": [
    "def text_on_page(dict_var, id_json, list_res, page):\n",
    "    if type(dict_var) is dict:\n",
    "        for k, v in dict_var.items():\n",
    "            if k == id_json and v == page:\n",
    "                if v > page: return list_res\n",
    "                list_res.append(dict_var[\"text\"])\n",
    "            elif isinstance(v, dict):\n",
    "                text_on_page(v, id_json, list_res, page)   \n",
    "            elif isinstance(v, list):\n",
    "                for item in v:\n",
    "                    text_on_page(item, id_json, list_res, page)\n",
    "    return list_res\n",
    "\n",
    "\n",
    "def get_page(data, page):\n",
    "    lines = []\n",
    "    for chunk in data[\"elements\"]:\n",
    "        lines.extend(text_on_page(chunk, \"page\", [], page))             \n",
    "    return lines"
   ]
  },
  {
   "cell_type": "code",
   "execution_count": 3,
   "metadata": {},
   "outputs": [],
   "source": [
    "file = 'pdfs/Nurse.pdf'\n",
    "start = 30\n",
    "end = 77"
   ]
  },
  {
   "cell_type": "code",
   "execution_count": 5,
   "metadata": {},
   "outputs": [
    {
     "output_type": "execute_result",
     "data": {
      "text/plain": [
       "'c:\\\\Users\\\\james\\\\Documents\\\\Cornell\\\\2021SP\\\\CS4300\\\\Project\\\\CS4300_microGoogle\\\\pdf.json'"
      ]
     },
     "metadata": {},
     "execution_count": 5
    }
   ],
   "source": [
    "parser = HierarchyParser()\n",
    "source = FileSource(file, page_numbers=list(range(start-1, end)))\n",
    "document = parser.parse_pdf(source)\n",
    "printer = JsonFilePrinter()\n",
    "file_path = pathlib.Path('pdf.json')\n",
    "printer.print(document, file_path=str(file_path.absolute()))"
   ]
  },
  {
   "cell_type": "code",
   "execution_count": 6,
   "metadata": {},
   "outputs": [],
   "source": [
    "with open('pdf.json') as file:\n",
    "    data = json.load(file)\n",
    "file.close()\n",
    "pages = {i + start : get_page(data,i) for i in range(0, end-start+1)}"
   ]
  },
  {
   "cell_type": "code",
   "execution_count": 7,
   "metadata": {},
   "outputs": [
    {
     "output_type": "execute_result",
     "data": {
      "text/plain": [
       "['03doenges-03  2/2/04  11:57 AM  Page 59',\n",
       " 'EXAMPLE 2. SAMPLE OF FOCUS CHARTING®\\nFOR PROTOTYPE PLAN OF CARE (CONTINUED)',\n",
       " 'D (cid:2) DATA A (cid:2) ACTION',\n",
       " 'R (cid:2) RESPONSE',\n",
       " 'DATE',\n",
       " 'TIME',\n",
       " 'FOCUS®',\n",
       " 'The  following  is  an  example  of documentation  of a  client\\nneed/concern that currently does not require identification as a\\nclient  problem  (nursing  diagnosis)  or  inclusion  in  the  plan  of\\ncare  and  therefore  is  not  easily  documented  in  the  SOAP\\nformat:\\n6/29/00',\n",
       " '2020',\n",
       " 'Gastric \\ndistress',\n",
       " 'R: R. S. more confident in',\n",
       " 'demonstration, performed\\nactivity correctly without\\nhesitation or hand tremors.\\nHe explained steps of proce-\\ndure and reasons for actions\\nto wife.\\nCouple identified resources \\nto contact if questions/\\nproblems arise.',\n",
       " 'D: Awakened from light sleep\\nby “indigestion/burning\\nsensation.”\\nPlaces hand over epigastric\\narea. Skin warm/dry, color\\npink, vital signs unchanged.',\n",
       " 'A: Given Mylanta 30 ml PO.',\n",
       " 'Head of bed elevated\\napproximately 15 degrees.',\n",
       " 'R: Reports pain relieved.',\n",
       " 'Appears relaxed, resting \\nquietly. Signed: E. Moore,\\nRN',\n",
       " 'Source: FOCUS Charting®, Susan Lampe, RN, MS: Creative Nursing',\n",
       " 'Management, Inc., 614 East Grant Street, Minneapolis, MN 55404.',\n",
       " 'P U T T I N G   T H E O R Y   I N T O   P R A C T I C E',\n",
       " '59']"
      ]
     },
     "metadata": {},
     "execution_count": 7
    }
   ],
   "source": [
    "pages[77]"
   ]
  },
  {
   "cell_type": "code",
   "execution_count": 9,
   "metadata": {},
   "outputs": [],
   "source": [
    "def get_formatted_docs(pages, max_paragraphs = 0):\n",
    "    \"\"\"\n",
    "    Format the pages extracted from pdf, by removing excessive whitespaces \n",
    "    but preserving punctuations, capital cases, etc.\n",
    "\n",
    "    [pages]: Dict{page_num: List[paragraph_text_string]]\n",
    "    [max_paragraphs]: maximum number of paragraphs allowed per page; if actual number of paragraphs \n",
    "                      exceed this number, then merge paragraphs to improve performance.\n",
    "                      if = 0, then no merging of paragraphs\n",
    "    return:\n",
    "        [formatted_docs]: Dict{parapgrah_idx: paragraph_text_string}\n",
    "        [paragraph_page_idxs]: Dict{paragraph_idx: page_num}\n",
    "    \"\"\"\n",
    "    formatted_docs = {}\n",
    "    paragraph_page_idxs = {}\n",
    "    paragraphs = []\n",
    "    for page_num in pages.keys():\n",
    "        arr = pages[page_num]\n",
    "        arr = [re.sub('-[\\n\\r\\t\\s]+', '', s) for s in arr] # words broken by line break\n",
    "        arr = [re.sub('[\\n\\r\\t\\s]+', ' ', s) for s in arr] # remove line break, tabs, whitespaces\n",
    "        if max_paragraphs > 0 and max_paragraphs < len(arr):\n",
    "            arr = ' '.join(arr).split()\n",
    "            k = int(len(arr)/max_paragraphs)\n",
    "            if k < 1:\n",
    "                arr = [' '.join(arr)]\n",
    "            else:\n",
    "                arr = [' '.join(arr[i:i+k]) for i in range(0, len(arr), k)]\n",
    "        paragraphs += [(page_num, s) for s in arr]\n",
    "    for i in range(len(paragraphs)):\n",
    "        formatted_docs[i] = paragraphs[i][1]\n",
    "        paragraph_page_idxs[i] = paragraphs[i][0]\n",
    "    return (formatted_docs, paragraph_page_idxs)"
   ]
  },
  {
   "cell_type": "code",
   "execution_count": 8,
   "metadata": {},
   "outputs": [],
   "source": [
    "(formatted_docs, paragraph_page_idx) = preprocessing.get_formatted_docs(pages)\n",
    "preprocessed_docs = preprocessing.get_preprocessed_docs(formatted_docs)\n",
    "tfidf_vectorizer = cosine.get_tfidf_vectorizer()\n",
    "tfidf_matrix = tfidf_vectorizer.fit_transform(list(preprocessed_docs.values())).toarray()"
   ]
  },
  {
   "cell_type": "code",
   "execution_count": 11,
   "metadata": {},
   "outputs": [
    {
     "output_type": "stream",
     "name": "stdout",
     "text": [
      "1,   cosine score: 4.026041911102011,   page: 61\nTingling/numbness: feet, once or twice a week (as noted) Eyes: Vision loss, farsighted, “Seems a little blurry now”\n\n\n2,   cosine score: 4.009762252212964,   page: 39\nImpaired vision/hearing:\n\n\n3,   cosine score: 3.713524163659459,   page: 37\nEyes: Vision loss:\n\n\n4,   cosine score: 2.572486048838581,   page: 47\nBack problems: Changes in moles: Impaired vision: Prosthesis:\n\n\n5,   cosine score: 1.0355248425920365,   page: 62\nAllergies: 0 Sexually transmitted disease: none Fractures/dislocations: L clavicle, 1966, fell getting off tractor Arthritis/unstable joints: “I think I’ve got some in my knees.” Back problems: occ. lower back pain Vision impaired: requires glasses for reading Hearing impaired: slightly (R), compensates by turning “good\n\n\n6,   cosine score: 0.0,   page: 45\nMemory: Immediate: Comprehension: Thought processes (assessed through speech): Patterns of\n\n\n7,   cosine score: 0.0,   page: 45\nPerson:\n\n\n8,   cosine score: 0.0,   page: 45\nAlert: Comatose: Delusions:\n\n\n9,   cosine score: 0.0,   page: 45\nDrowsy:\n\n\n10,   cosine score: 0.0,   page: 45\nLethargic:\n\n\n"
     ]
    }
   ],
   "source": [
    "query = 'blurry vision'\n",
    "q = cosine.get_query_vector(query, tfidf_vectorizer)\n",
    "cos_sims = cosine.get_cosine_sim(q, tfidf_matrix)\n",
    "(rankings, scores) = cosine.get_rankings(cos_sims)\n",
    "cosine.display_rankings(rankings, scores, formatted_docs, paragraph_page_idx)"
   ]
  },
  {
   "cell_type": "code",
   "execution_count": null,
   "metadata": {},
   "outputs": [],
   "source": [
    "##### SVD ####"
   ]
  },
  {
   "cell_type": "code",
   "execution_count": 10,
   "metadata": {},
   "outputs": [],
   "source": [
    "(formatted_docs, paragraph_page_idx) = preprocessing.get_formatted_docs(pages)\n",
    "preprocessed_docs = preprocessing.get_preprocessed_docs(formatted_docs)\n",
    "tfidf_vectorizer = cosine.get_tfidf_vectorizer()\n",
    "tfidf_matrix = tfidf_vectorizer.fit_transform(list(preprocessed_docs.values())).toarray()\n",
    "(U, s, Vh) = cosine.get_svd(tfidf_matrix)"
   ]
  },
  {
   "cell_type": "code",
   "execution_count": 11,
   "metadata": {},
   "outputs": [
    {
     "output_type": "stream",
     "name": "stdout",
     "text": [
      "1,   cosine score: 3.4758427315734775,   page: 37\nEyes: Vision loss:\n\n\n2,   cosine score: 3.0439042754372907,   page: 61\nTingling/numbness: feet, once or twice a week (as noted) Eyes: Vision loss, farsighted, “Seems a little blurry now”\n\n\n3,   cosine score: 2.6498260024222255,   page: 39\nImpaired vision/hearing:\n\n\n4,   cosine score: 2.222298445618994,   page: 47\nBack problems: Changes in moles: Impaired vision: Prosthesis:\n\n\n5,   cosine score: 1.11716860303346,   page: 62\nAllergies: 0 Sexually transmitted disease: none Fractures/dislocations: L clavicle, 1966, fell getting off tractor Arthritis/unstable joints: “I think I’ve got some in my knees.” Back problems: occ. lower back pain Vision impaired: requires glasses for reading Hearing impaired: slightly (R), compensates by turning “good\n\n\n6,   cosine score: 0.5087887332715003,   page: 39\nWhen:\n\n\n7,   cosine score: 0.5032480051211793,   page: 54\nN U R S E ’ S P O C K E T G U I D E\n\n\n8,   cosine score: 0.4235593654943664,   page: 52\n263–266\n\n\n9,   cosine score: 0.3848770606810614,   page: 56\n522–525\n\n\n10,   cosine score: 0.366182046206136,   page: 52\n34\n\n\n"
     ]
    }
   ],
   "source": [
    "query = 'blurry vision'\n",
    "q = cosine.get_query_vector(query, tfidf_vectorizer)\n",
    "cos_sims = cosine.get_cosine_sim(q, U, s, Vh)\n",
    "(rankings, scores) = cosine.get_rankings(cos_sims)\n",
    "cosine.display_rankings(rankings, scores, formatted_docs, paragraph_page_idx)"
   ]
  },
  {
   "cell_type": "code",
   "execution_count": null,
   "metadata": {},
   "outputs": [],
   "source": []
  }
 ]
}