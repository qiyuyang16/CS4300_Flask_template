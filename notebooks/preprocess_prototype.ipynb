{
 "metadata": {
  "language_info": {
   "codemirror_mode": {
    "name": "ipython",
    "version": 3
   },
   "file_extension": ".py",
   "mimetype": "text/x-python",
   "name": "python",
   "nbconvert_exporter": "python",
   "pygments_lexer": "ipython3",
   "version": "3.8.5-final"
  },
  "orig_nbformat": 2,
  "kernelspec": {
   "name": "python385jvsc74a57bd004ac14935f6ed29b3349ee8f41114d2dfa2ba78ce87cf701ad9b7ca15955b787",
   "display_name": "Python 3.8.5 64-bit (conda)"
  }
 },
 "nbformat": 4,
 "nbformat_minor": 2,
 "cells": [
  {
   "cell_type": "code",
   "execution_count": 1,
   "metadata": {},
   "outputs": [],
   "source": [
    "import preprocessing3, cosine3\n",
    "\n",
    "from pdfstructure.hierarchy.parser import HierarchyParser\n",
    "from pdfstructure.source import FileSource\n",
    "from pdfstructure.printer import JsonFilePrinter\n",
    "import json\n",
    "import pathlib\n",
    "\n",
    "import numpy as np\n",
    "import re"
   ]
  },
  {
   "cell_type": "code",
   "execution_count": 2,
   "metadata": {},
   "outputs": [],
   "source": [
    "def text_on_page(dict_var, id_json, list_res, page):\n",
    "    if type(dict_var) is dict:\n",
    "        for k, v in dict_var.items():\n",
    "            if k == id_json and v == page:\n",
    "                if v > page: return list_res\n",
    "                list_res.append(dict_var[\"text\"])\n",
    "            elif isinstance(v, dict):\n",
    "                text_on_page(v, id_json, list_res, page)   \n",
    "            elif isinstance(v, list):\n",
    "                for item in v:\n",
    "                    text_on_page(item, id_json, list_res, page)\n",
    "    return list_res\n",
    "\n",
    "\n",
    "def get_page(data, page):\n",
    "    lines = []\n",
    "    for chunk in data[\"elements\"]:\n",
    "        lines.extend(text_on_page(chunk, \"page\", [], page))             \n",
    "    return lines"
   ]
  },
  {
   "cell_type": "code",
   "execution_count": 22,
   "metadata": {},
   "outputs": [],
   "source": [
    "file = 'pdfs/Nurse.pdf'\n",
    "start = 22\n",
    "end = 50"
   ]
  },
  {
   "cell_type": "code",
   "execution_count": 23,
   "metadata": {},
   "outputs": [
    {
     "output_type": "execute_result",
     "data": {
      "text/plain": [
       "'c:\\\\Users\\\\james\\\\Documents\\\\Cornell\\\\2021SP\\\\CS4300\\\\Project\\\\CS4300_microGoogle\\\\pdf.json'"
      ]
     },
     "metadata": {},
     "execution_count": 23
    }
   ],
   "source": [
    "parser = HierarchyParser()\n",
    "source = FileSource(file, page_numbers=list(range(start-1, end)))\n",
    "document = parser.parse_pdf(source)\n",
    "printer = JsonFilePrinter()\n",
    "file_path = pathlib.Path('pdf.json')\n",
    "printer.print(document, file_path=str(file_path.absolute()))"
   ]
  },
  {
   "cell_type": "code",
   "execution_count": 24,
   "metadata": {},
   "outputs": [],
   "source": [
    "with open('pdf.json') as file:\n",
    "    data = json.load(file)\n",
    "file.close()\n",
    "pages = {i + start : get_page(data,i) for i in range(0, end-start+1)}"
   ]
  },
  {
   "cell_type": "code",
   "execution_count": 25,
   "metadata": {},
   "outputs": [
    {
     "output_type": "execute_result",
     "data": {
      "text/plain": [
       "['02doenges-02  2/2/04  11:56 AM  Page 4',\n",
       " 'CHAPTER 2',\n",
       " 'Application of\\nthe Nursing Process',\n",
       " 'Because  of their  hectic  schedules, many  nurses  believe  that\\ntime spent writing plans of care is time taken away from client\\ncare. Plans  of care  have  been  viewed  as “busy  work” to  satisfy\\naccreditation requirements or the whims of supervisors. In real-\\nity, however, quality  client  care  must  be  planned  and  coordi-\\nnated. Properly  written  and  used  plans  of care  can  provide\\ndirection and continuity of care by facilitating communication\\namong  nurses  and  other  caregivers. They  also  provide  guide-\\nlines  for  documentation  and  a  tool  for  evaluating  the  care\\nprovided.',\n",
       " 'The components of a plan of care are based on the nursing\\nprocess. Creating  a  plan  of care  begins  with  the  collection  of\\ndata (assessment). The client database consists of subjective and\\nobjective  information  encompassing  the  various  concerns\\nreflected  in  the  current  NANDA  International  (formerly  the\\nNorth American Nursing Diagnosis Association) list of nursing\\ndiagnoses (NDs) (Table 2–1). Subjective data are those that are\\nreported by the client (and SOs) in the individual’s own words.\\nThis  information  includes  the  individual’s  perceptions  and\\nwhat he or she wants to share. It is important to accept what is\\nreported because the client is the “expert” in this area. Objective\\ndata are those that are observed or described (quantitatively or\\nqualitatively) and include diagnostic testing and physical exam-\\nination findings. Analysis of the collected data leads to the iden-\\ntification of problems or areas of concern/need. These problems\\nor needs are expressed as NDs.',\n",
       " 'A nursing diagnosis is a decision about a need/problem that\\nrequires nursing intervention and management. The need may\\nbe anything that interferes with the quality of life the client is\\nused to and/or desires. It includes concerns of the client, SOs,\\nand/or nurse. The ND focuses attention on a physical or behav-\\nioral  response, either  a  current  need  or  a  problem  at  risk  for\\ndeveloping. When the ND label is combined with the individ-\\nual’s specific related/risk factors and defining characteristics (as\\nappropriate), a  client  diagnostic  statement  is  created. This\\nprovides  direction  for  nursing  care, and  its  affective  tone  can',\n",
       " '4']"
      ]
     },
     "metadata": {},
     "execution_count": 25
    }
   ],
   "source": [
    "pages[22]"
   ]
  },
  {
   "cell_type": "code",
   "execution_count": null,
   "metadata": {},
   "outputs": [],
   "source": [
    "##### SVD ####"
   ]
  },
  {
   "cell_type": "code",
   "execution_count": 26,
   "metadata": {},
   "outputs": [],
   "source": [
    "(formatted_docs, paragraph_page_idx) = preprocessing3.get_formatted_docs(pages)\n",
    "preprocessed_docs = preprocessing3.get_preprocessed_docs(formatted_docs)\n",
    "tfidf_vectorizer = cosine3.get_tfidf_vectorizer()\n",
    "tfidf_matrix = tfidf_vectorizer.fit_transform(list(preprocessed_docs.values())).toarray()"
   ]
  },
  {
   "cell_type": "code",
   "execution_count": 27,
   "metadata": {},
   "outputs": [
    {
     "output_type": "execute_result",
     "data": {
      "text/plain": [
       "(769, 1232)"
      ]
     },
     "metadata": {},
     "execution_count": 27
    }
   ],
   "source": [
    "tfidf_matrix.shape"
   ]
  },
  {
   "cell_type": "code",
   "execution_count": 28,
   "metadata": {},
   "outputs": [
    {
     "output_type": "stream",
     "name": "stdout",
     "text": [
      "1,   cosine score: 4.320900989649408,   page: 22\nBecause of their hectic schedules, many nurses believe that time spent writing plans of care is time taken away from client care. Plans of care have been viewed as “busy work” to satisfy accreditation requirements or the whims of supervisors. In reality, however, quality client care must be planned and coordinated. Properly written and used plans of care can provide direction and continuity of care by facilitating communication among nurses and other caregivers. They also provide guidelines for documentation and a tool for evaluating the care provided.\n\n\n2,   cosine score: 4.267026528189695,   page: 29\nThe plan of care documents client care in areas of accountability, quality assurance, and liability. The nurse needs to plan care with the client, because both are accountable for that care and for achieving the desired outcomes.\n\n\n3,   cosine score: 4.224903211808756,   page: 29\nHealthcare providers have a responsibility for planning with the client and family for continuation of care to the eventual outcome of an optimal state of wellness or a dignified death. Planning, setting goals, and choosing appropriate interventions are essential to the construction of a plan of care as well as to delivery of quality nursing care. These nursing activities comprise the planning phase of the nursing process and are documented in the plan of care for a particular client. As a part of the client’s permanent record, the plan of care not only provides a means for the nurse who is actively caring for the client to be aware of the client’s needs (NDs), goals, and actions to be taken, but it also substantiates the care provided for review by third-party payors and accreditation agencies, while meeting legal requirements.\n\n\n4,   cosine score: 2.789117858575761,   page: 30\nPutting Theory into Practice: Sample Assessment Tools, Plan of Care, and Documentation\n\n\n5,   cosine score: 2.5972310961641223,   page: 48\nSexuality (Component of Ego Integrity and Social Interactions)\n\n\n6,   cosine score: 2.5972310961641223,   page: 40\nSexuality (Component of Ego Integrity and Social Interactions)\n\n\n7,   cosine score: 2.533642665867831,   page: 42\nDischarge Plan Considerations\n\n\n8,   cosine score: 2.135655924810447,   page: 43\nHome care: Equipment:\n\n\n9,   cosine score: 2.11991740336971,   page: 31\nFinally, to complete the learning experience, samples of documentation based on the client situation are presented in Section 4, “Documentation Techniques.” The plan of care provides documentation of the planning process and serves as a framework/outline for charting of administered care. The primary nurse needs to periodically review the client’s progress and the effectiveness of the treatment plan. Persons then are able to read the notes and have a clear picture of what occurred with the client in order to make appropriate judgments regarding client management. The best way to ensure the clarity of progress notes is through the use of descriptive (or observational) statements. Observations of client behavior and response to therapy provide invaluable information. Through this communication, it can be determined if the client’s current desired outcomes or interventions need to be eliminated or altered and if the development of new outcomes or interventions is warranted. Progress notes are an integral component of the overall medical record and should include all significant events that occur in the daily life of the client. They reflect\n\n\n10,   cosine score: 2.0834671519565515,   page: 22\nThe components of a plan of care are based on the nursing process. Creating a plan of care begins with the collection of data (assessment). The client database consists of subjective and objective information encompassing the various concerns reflected in the current NANDA International (formerly the North American Nursing Diagnosis Association) list of nursing diagnoses (NDs) (Table 2–1). Subjective data are those that are reported by the client (and SOs) in the individual’s own words. This information includes the individual’s perceptions and what he or she wants to share. It is important to accept what is reported because the client is the “expert” in this area. Objective data are those that are observed or described (quantitatively or qualitatively) and include diagnostic testing and physical examination findings. Analysis of the collected data leads to the identification of problems or areas of concern/need. These problems or needs are expressed as NDs.\n\n\n"
     ]
    }
   ],
   "source": [
    "query = 'components for a care plan'\n",
    "q = cosine3.get_query_vector(query, tfidf_vectorizer)\n",
    "cos_sims = cosine3.get_cosine_sim(q, tfidf_matrix)\n",
    "(rankings, scores) = cosine3.get_rankings(cos_sims)\n",
    "cosine3.display_rankings(rankings, scores, formatted_docs, paragraph_page_idx)"
   ]
  },
  {
   "cell_type": "code",
   "execution_count": 29,
   "metadata": {},
   "outputs": [
    {
     "output_type": "stream",
     "name": "stdout",
     "text": [
      "1,   cosine score: 2.777366234433362,   page: 29\nHealthcare providers have a responsibility for planning with the client and family for continuation of care to the eventual outcome of an optimal state of wellness or a dignified death. Planning, setting goals, and choosing appropriate interventions are essential to the construction of a plan of care as well as to delivery of quality nursing care. These nursing activities comprise the planning phase of the nursing process and are documented in the plan of care for a particular client. As a part of the client’s permanent record, the plan of care not only provides a means for the nurse who is actively caring for the client to be aware of the client’s needs (NDs), goals, and actions to be taken, but it also substantiates the care provided for review by third-party payors and accreditation agencies, while meeting legal requirements.\n\n\n2,   cosine score: 2.7411974806238217,   page: 22\nBecause of their hectic schedules, many nurses believe that time spent writing plans of care is time taken away from client care. Plans of care have been viewed as “busy work” to satisfy accreditation requirements or the whims of supervisors. In reality, however, quality client care must be planned and coordinated. Properly written and used plans of care can provide direction and continuity of care by facilitating communication among nurses and other caregivers. They also provide guidelines for documentation and a tool for evaluating the care provided.\n\n\n3,   cosine score: 2.7346424677494188,   page: 29\nThe plan of care documents client care in areas of accountability, quality assurance, and liability. The nurse needs to plan care with the client, because both are accountable for that care and for achieving the desired outcomes.\n\n\n4,   cosine score: 2.3181961582470954,   page: 42\nDischarge Plan Considerations\n\n\n5,   cosine score: 1.925477343458865,   page: 30\nPutting Theory into Practice: Sample Assessment Tools, Plan of Care, and Documentation\n\n\n6,   cosine score: 1.2431869515147727,   page: 22\nThe components of a plan of care are based on the nursing process. Creating a plan of care begins with the collection of data (assessment). The client database consists of subjective and objective information encompassing the various concerns reflected in the current NANDA International (formerly the North American Nursing Diagnosis Association) list of nursing diagnoses (NDs) (Table 2–1). Subjective data are those that are reported by the client (and SOs) in the individual’s own words. This information includes the individual’s perceptions and what he or she wants to share. It is important to accept what is reported because the client is the “expert” in this area. Objective data are those that are observed or described (quantitatively or qualitatively) and include diagnostic testing and physical examination findings. Analysis of the collected data leads to the identification of problems or areas of concern/need. These problems or needs are expressed as NDs.\n\n\n7,   cosine score: 1.127260627962507,   page: 48\nSexuality (Component of Ego Integrity and Social Interactions)\n\n\n8,   cosine score: 1.1272606279625068,   page: 40\nSexuality (Component of Ego Integrity and Social Interactions)\n\n\n9,   cosine score: 0.9252554953276089,   page: 42\nFood preparation: Transportation: Medication/IV therapy: Wound care: Self-care (specify):\n\n\n10,   cosine score: 0.8604567551544167,   page: 31\nSection 3, “Client Situation and Prototype Plan of Care,” contains a sample plan of care formulated on data collected in the nursing model assessment tool. Individualized client diagnostic statements and desired client outcomes (with timelines added to reflect anticipated length of stay and individual client/nurse expectations) have been identified. Interventions have been chosen based on concerns/needs identified by the client and nurse during data collection, as well as by physician orders.\n\n\n"
     ]
    }
   ],
   "source": [
    "(U, s, Vh) = cosine3.get_svd(tfidf_matrix)\n",
    "query = 'components for a care plan'\n",
    "q = cosine3.get_query_vector(query, tfidf_vectorizer)\n",
    "cos_sims = cosine3.get_cosine_sim_svd(q, U, s, Vh)\n",
    "(rankings, scores) = cosine3.get_rankings(cos_sims)\n",
    "cosine3.display_rankings(rankings, scores, formatted_docs, paragraph_page_idx)"
   ]
  },
  {
   "cell_type": "code",
   "execution_count": null,
   "metadata": {},
   "outputs": [],
   "source": []
  },
  {
   "cell_type": "code",
   "execution_count": null,
   "metadata": {},
   "outputs": [],
   "source": []
  }
 ]
}