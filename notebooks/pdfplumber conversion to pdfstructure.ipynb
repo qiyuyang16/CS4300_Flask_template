{
 "cells": [
  {
   "cell_type": "code",
   "execution_count": 1,
   "id": "immune-workstation",
   "metadata": {},
   "outputs": [],
   "source": [
    "import pdftotext\n",
    "import pdfplumber\n",
    "from tqdm import tqdm"
   ]
  },
  {
   "cell_type": "code",
   "execution_count": 2,
   "id": "latin-salem",
   "metadata": {},
   "outputs": [],
   "source": [
    "%config Completer.use_jedi = False"
   ]
  },
  {
   "cell_type": "code",
   "execution_count": 4,
   "id": "amateur-stream",
   "metadata": {},
   "outputs": [],
   "source": [
    "file = '../pdfs/Nurse.pdf'\n",
    "slider_val = [1,10]"
   ]
  },
  {
   "cell_type": "code",
   "execution_count": 5,
   "id": "de1a5346",
   "metadata": {},
   "outputs": [],
   "source": [
    "def get_pages_plumber(file, slider_val, full=False):\n",
    "    '''\n",
    "    Extract text from pdf pages\n",
    "    return:\n",
    "        Dict{page_num: page_text_string}\n",
    "    '''\n",
    "    pages = {}\n",
    "    with pdfplumber.open(file) as raw:\n",
    "        for i in tqdm(range(slider_val[0],slider_val[1]+1), desc=\"Thank you for waiting 😊\", mininterval=2):\n",
    "            page = raw.pages[i-1].extract_text()\n",
    "            pages[i] = page if page else ''\n",
    "    raw.close()\n",
    "    return pages"
   ]
  },
  {
   "cell_type": "code",
   "execution_count": 6,
   "id": "d58b7bd5",
   "metadata": {},
   "outputs": [
    {
     "name": "stderr",
     "output_type": "stream",
     "text": [
      "Thank you for waiting 😊: 100%|██████████| 10/10 [00:00<00:00, 15.90it/s]\n"
     ]
    }
   ],
   "source": [
    "plumber_result = get_pages_plumber(file, slider_val)"
   ]
  },
  {
   "cell_type": "code",
   "execution_count": 7,
   "id": "6dcb5e65",
   "metadata": {
    "scrolled": true
   },
   "outputs": [
    {
     "data": {
      "text/plain": [
       "{1: '',\n",
       " 2: '00doenges-FM  2/2/04  11:54 AM  Page ii\\nGORDON’S FUNCTIONAL HEALTH\\nPATTERNS THROUGH 2003*\\nHEALTH PERCEPTION-HEALTH MANAGEMENT PATTERN\\nHealth maintenance,ineffective 275–278\\nTherapeutic regimen:effective management 517–519\\nTherapeutic regimen:ineffective management 522–525\\nTherapeutic regimen:readiness for enhanced management 525–527\\nTherapeutic regimen:family,ineffective management 520–522\\nTherapeutic regimen:community,ineffective management 515–517\\nNoncompliance (specify) 343–347\\nHealth-seeking behaviors (specify) 278–281\\nEnergy field,disturbed 208–211\\nFalls,risk for 217–221\\nInfection,risk for 307–310\\nInjury (trauma),risk for 310–313\\nProtection,ineffective 411–412\\nPoisoning,risk for 393–396\\nSuffocation,risk for 500–503\\nPerioperative positioning injury,risk for 313–316\\nSudden infant death syndrome 185–189\\nNUTRITIONAL-METABOLIC PATTERN\\nNutrition:more than body requirements,imbalanced 352–355\\nNutrition:more than body requirements,risk for imbalanced 356–358\\nNutrition:less than body requirements,imbalanced 347–352\\nNutrition,readiness for enhanced 359–362\\nBreastfeeding,ineffective 110–114\\nBreastfeeding,effective 108–110\\nBreastfeeding,interrupted 115–117\\nInfant feeding pattern,ineffective 304–306\\nAspiration,risk for 86–89\\nSwallowing,impaired 510–515\\nNausea 339–343\\nOral mucous membrane,impaired 362–365\\nDentition,impaired 191–194\\nFluid balance,readiness for enhanced 239–242\\nFluid volume imbalance,risk for 254–256\\nFluid volume,risk for deficient 252–254\\nFluid volume,deficient 245–248\\nFluid volume,excess 249–252\\nSkin integrity,impaired 461–465\\nSkin integrity,risk for impaired 465–468\\nTissue integrity (specify type),impaired 533–537\\nBody temperature,risk for imbalanced 102–104\\nLatex allergy response 73–75\\nLatex allergy response,risk for 76–78\\nThermoregulation,ineffective 527–529\\nHyperthermia 287–290\\nHypothermia 291–295\\nFailure to thrive,adult 214–217\\nELIMINATION PATTERN\\nConstipation 153–157\\nConstipation,risk for 159–161\\nConstipation,perceived 157–159\\nDiarrhea 197–200\\nBowel incontinence 105–107\\nUrinary elimination,impaired 554–558\\n*Reprinted from Manual ofNursing Diagnosis,10th ed.,M.Gordon,Copyright 2002,with\\npermission from Elsevier.',\n",
       " 3: '00doenges-FM  2/2/04  11:54 AM  Page i\\nUrinary elimination,readiness for enhanced 558–561\\nUrinary incontinence,functional 561–564\\nUrinary incontinence,reflex 564–566\\nUrinary incontinence,stress 567–569\\nUrinary incontinence,urge 572–575\\nUrinary urge incontinence,risk for 576–578\\nIncontinence,total 570–572\\nUrinary retention 578–581\\nACTIVITY-EXERCISE PATTERN\\nActivity intolerance,risk for 60–63\\nActivity intolerance (specify level) 63–65\\nAdaptive capacity,decreased,intracranial 316–319\\nInfant behavior,disorganized 295–301\\nInfant behavior,risk for disorganized 303–304\\nInfant behavior,readiness for enhanced organized 301–303\\nFatigue 232–236\\nPhysical mobility,impaired 333–337\\nBed mobility,impaired 331–333\\nWalking,impaired 597–599\\nWheelchair mobility,impaired 337–339\\nTransfer ability,impaired 544–546\\nDevelopment,risk for delayed 194–197\\nAutonomic dysreflexia 92–95\\nAutonomic dysreflexia,risk for 95–97\\nDisuse syndrome,risk for 200–205\\nSelf-care deficit (specify:bathing/hygiene,dressing/grooming,feeding,toileting)\\n425–430\\nDiversional activity deficient 205–208\\nHome maintenance,impaired 281–283\\nDysfunctional ventilatory weaning response 586–590\\nVentilation,impaired spontaneous 581–586\\nAirway clearance,ineffective 69–72\\nBreathing pattern,ineffective 117–121\\nGas exchange,impaired 256–260\\nCardiac output,decreased 121–126\\nTissue perfusion,alteration (specify) 537–544\\nPeripheral neurovascular dysfunction,risk for 387–390\\nSurgical recovery,delayed 507–510\\nGrowth and development,delayed 266–271\\nGrowth,risk for disproportionate 271–275\\nWandering 599–602\\nSLEEP-REST PATTERN\\nSleep-pattern disturbed 472–477\\nSleep deprivation 468–472\\nSleep,readiness for enhanced 477–480\\nCOGNITIVE-PERCEPTUAL PATTERN\\nAcute pain 365–369\\nChronic pain 370–374\\nSensory perception,disturbed (specify) 449–454\\nUnilateral neglect 551–554\\nKnowledge deficit (specify) 319–323\\nKnowledge,readiness for enhanced 323–325\\nMemory,impaired 328–331\\nThought processes,disturbed 529–533\\nAcute confusion 147–150\\nChronic confusion 150–153\\nEnvironmental interpretation syndrome,impaired 211–214\\nDecisional conflict (specify) 144–147\\nSELF-PERCEPTION-SELF-CONCEPT PATTERN\\nFear 236–239\\nAnxiety 78–83',\n",
       " 4: '00doenges-FM  2/2/04  11:54 AM  Page ii\\nAnxiety,death 83–86\\nHopelessness 283–287\\nPowerlessness 404–408\\nPowerlessness,risk for 408–410\\nLoneliness,risk for 326–328\\nSelf-concept,readiness for enhanced 430–433\\nChronic low self-esteem 433–437\\nSituational low self-esteem 437–440\\nSituational low self-esteem,risk for 440–441\\nBody image disturbed 98–102\\nPersonal identity disturbed 390–393\\nViolence,risk for self-directed 591–596\\nROLE-RELATIONSHIP PATTERN\\nAnticipatory grieving 260–263\\nDysfunctional grieving 263–266\\nChronic sorrow 487–489\\nRole performance,ineffective 422–425\\nSocial isolation 484–487\\nImpaired social interaction 480–484\\nRelocation stress syndrome 417–420\\nRelocation stress syndrome,risk for 421–422\\nFamily processes,interrupted 225–228\\nFamily processes,readiness for enhanced 228–232\\nDysfunctional family processes:alcoholism 221–225\\nImpaired parenting,risk for 385–387\\nImpaired parenting 377–381\\nParenting,readiness for enhanced 381–385\\nImpaired parent/infant/child attachment,risk for 89–92\\nParental role conflict 374–377\\nCaregiver role strain 126–132\\nCaregiver role strain,risk for 132–135\\nImpaired verbal communication 135–139\\nCommunication,readiness for enhanced 139–143\\nRisk for violence,directed at others 590–591\\nSEXUALITY-REPRODUCTIVE\\nSexual dysfunction 454–458\\nIneffective sexuality patterns 472–477\\nRape-trauma syndrome 412–417\\nRape-trauma syndrome:compound reaction 413\\nRape-trauma syndrome:silent reaction 413\\nCOPING-STRESS TOLERANCE PATTERN\\nIneffective coping 178–182\\nCoping,readiness for enhanced 182–185\\nDefensive coping 166–169\\nCommunity coping,ineffective 162–164\\nCommunity coping,readiness for enhanced 164–166\\nIneffective denial 189–191\\nImpaired adjustment 66–69\\nPost-trauma syndrome 396–401\\nPost-trauma syndrome,risk for 402–404\\nFamily coping:readiness for enhanced 175–177\\nIneffective family coping:compromised 169–172\\nIneffective family coping:disabling 172–175\\nRisk for suicide 503–507\\nSelf-mutilation 442–445\\nSelf-mutilation,risk for 445–449\\nVALUE-BELIEF PATTERN\\nSpiritual distress 490–494\\nSpiritual distress,risk for 494–497\\nSpiritual well-being,readiness for enhanced 497–500',\n",
       " 5: '00doenges-FM  2/2/04  11:54 AM  Page iii\\nNurse’s Pocket Guide\\nDiagnoses, Interventions,\\nand Rationales',\n",
       " 6: '00doenges-FM  2/2/04  11:54 AM  Page iv',\n",
       " 7: '00doenges-FM  2/2/04  11:54 AM  Page v\\nNurse’s Pocket Guide\\nDiagnoses, Interventions,\\nand Rationales\\nNINTH EDITION\\nMarilynn E.Doenges,RN,BSN,MA \\nClinical Specialist—Adult Psychiatric/Mental Health,Retired\\nAdjunct Faculty\\nBeth-El College ofNursing and Health Sciences CU-Springs\\nColorado Springs,Colorado\\nMary Frances Moorhouse,RN,BSN,CRRN,CLNC\\nNurse Consultant\\nTNT-RN Enterprises\\nAdjunct Faculty\\nPikes Peak Community College\\nColorado Springs,Colorado\\nAlice C.Murr,RN,BSN\\nTelephone Triage Nurse\\nLegal Nurse Consultant\\nColorado Springs,Colorado\\nF.A.Davis Company• Philadelphia',\n",
       " 8: '00doenges-FM  2/2/04  11:54 AM  Page vi\\nF.A.Davis Company\\n1915 Arch Street\\nPhiladelphia,PA 19103\\nwww.fadavis.com\\nCopyright © 2004 by F.A.Davis Company\\nCopyright © 1985,1988,1991,1993,1996,1998,2000,2002 by F.A.\\nDavis Company.All rights reserved.This book is protected by copyright.\\nNo part ofit may be reproduced,stored in a retrieval system,or trans-\\nmitted in any form or by any means,electronic,mechanical,photo-\\ncopying,recording,or otherwise,without written permission from the\\npublisher.\\nPrinted in Canada\\nLast digit indicates print number:10 9 8 7 6 5 4 3 2 1\\nPublisher:Robert G.Martone\\nCover Design:Joan Wendt\\nAs new scientific information becomes available through basic and clin-\\nical research, recommended treatments and drug therapies undergo\\nchanges.The author(s) and publisher have done everything possible to\\nmake this book accurate,up to date,and in accord with accepted stan-\\ndards at the time ofpublication.The authors,editors,and publisher are\\nnot responsible for errors or omissions or for consequences from appli-\\ncation of the book,and make no warranty,expressed or implied,in\\nregard to the contents ofthe book.Any practice described in this book\\nshould be applied by the reader in accordance with professional stan-\\ndards ofcare used in regard to the unique circumstances that may apply\\nin each situation.The reader is advised always to check product infor-\\nmation (package inserts) for changes and new information regarding\\ndose and contraindications before administering any drug.Caution is\\nespecially urged when using new or infrequently ordered drugs.\\nISBN 0-8036-1179-X\\nAuthorization to photocopy items for internal or personal use,or the\\ninternal or personal use of specific clients, is granted by F.A. Davis\\nCompany for users registered with the Copyright Clearance Center\\n(CCC) Transactional Reporting Service,provided that the fee of $.10\\nper copy is paid directly to CCC,222 Rosewood Drive,Danvers,MA\\n01923. For those organizations that have been granted a photocopy\\nlicense by CCC, a separate system of payment has been arranged.\\nThe fee code for users ofthe Transactional Reporting Service is:8036-\\n0948/02 0 + $.10.',\n",
       " 9: '00doenges-FM  2/2/04  11:54 AM  Page vii\\nContributor\\nSheila Marquez\\nExecutive Director\\nVice President/ChiefOperating Officer\\nThe Colorado SIDS Program,Inc.\\nDenver,Colorado',\n",
       " 10: '00doenges-FM  2/2/04  11:54 AM  Page viii'}"
      ]
     },
     "execution_count": 7,
     "metadata": {},
     "output_type": "execute_result"
    }
   ],
   "source": [
    "plumber_result"
   ]
  },
  {
   "cell_type": "markdown",
   "id": "71c0e70c",
   "metadata": {},
   "source": [
    "## Want to get that ^ format. "
   ]
  },
  {
   "cell_type": "code",
   "execution_count": null,
   "id": "c71c4abc",
   "metadata": {},
   "outputs": [],
   "source": []
  }
 ],
 "metadata": {
  "kernelspec": {
   "display_name": "Python 3",
   "language": "python",
   "name": "python3"
  },
  "language_info": {
   "codemirror_mode": {
    "name": "ipython",
    "version": 3
   },
   "file_extension": ".py",
   "mimetype": "text/x-python",
   "name": "python",
   "nbconvert_exporter": "python",
   "pygments_lexer": "ipython3",
   "version": "3.8.5"
  }
 },
 "nbformat": 4,
 "nbformat_minor": 5
}
