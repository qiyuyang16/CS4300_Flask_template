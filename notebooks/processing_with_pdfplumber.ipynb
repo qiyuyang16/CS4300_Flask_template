{
 "cells": [
  {
   "cell_type": "code",
   "execution_count": 11,
   "id": "9a715f1f",
   "metadata": {},
   "outputs": [],
   "source": [
    "import streamlit as st\n",
    "import pandas as pd\n",
    "import numpy as np\n",
    "import pdfplumber as pdf\n",
    "from tqdm import tqdm\n",
    "import re\n",
    "import string\n",
    "import matplotlib.pyplot as plt\n",
    "file = './Nurse.pdf'"
   ]
  },
  {
   "cell_type": "markdown",
   "id": "b3c16652",
   "metadata": {},
   "source": [
    "# Basic processing"
   ]
  },
  {
   "cell_type": "code",
   "execution_count": 12,
   "id": "0698c5bb",
   "metadata": {},
   "outputs": [],
   "source": [
    "def clean_string(text):\n",
    "    '''\n",
    "    Pre-process text\n",
    "    input: string\n",
    "    output: string\n",
    "    '''\n",
    "    # TODO better cleaning/pre-processing\n",
    "    sub = ''\n",
    "    text = text.lower()\n",
    "    text = re.sub(',', ' ', text)\n",
    "    text = re.sub('-', ' ', text)\n",
    "    text = re.sub('\\[.*?\\]', sub, text) #brackets\n",
    "    text = re.sub('[%s]' % re.escape(string.punctuation), sub, text) #punctions\n",
    "    text = re.sub('\\w*\\d\\w*', sub, text) #digits\n",
    "    text = re.sub('[’’“”…]', sub, text) #quotes\n",
    "    text = re.sub('\\n', ' ', text) #newlines\n",
    "    text = re.sub('♪', sub, text) #symbols\n",
    "    text = re.sub('–', sub, text) #dashes\n",
    "    return text\n",
    "\n",
    "def load_data(file, full=False):\n",
    "    '''\n",
    "    Loads raw data as pages into a list.\n",
    "    '''\n",
    "    data = []\n",
    "    if full:\n",
    "        length = len(raw.pages)\n",
    "    else:\n",
    "        length = 5\n",
    "    with pdf.open(file) as raw:\n",
    "        for i in tqdm(range(length)):\n",
    "            data.append((i, raw.pages[i].extract_text()))\n",
    "    raw.close()\n",
    "    return data"
   ]
  },
  {
   "cell_type": "code",
   "execution_count": 13,
   "id": "0a4700ce",
   "metadata": {},
   "outputs": [
    {
     "name": "stderr",
     "output_type": "stream",
     "text": [
      "100%|██████████| 5/5 [00:00<00:00,  9.53it/s]\n"
     ]
    }
   ],
   "source": [
    "data = load_data(file)"
   ]
  },
  {
   "cell_type": "code",
   "execution_count": 14,
   "id": "e86dc87b",
   "metadata": {
    "scrolled": true
   },
   "outputs": [],
   "source": [
    "cleaned_data = [(i[0],clean_string(i[1])) for i in data if i[1] != None]"
   ]
  },
  {
   "cell_type": "code",
   "execution_count": 15,
   "id": "be6f8177",
   "metadata": {},
   "outputs": [
    {
     "data": {
      "text/plain": [
       "'00doenges-FM  2/2/04  11:54 AM  Page ii\\nGORDON’S FUNCTIONAL HEALTH\\nPATTERNS THROUGH 2003*\\nHEALTH PERCEPTION-HEALTH MANAGEMENT PATTERN\\nHealth maintenance,ineffective 275–278\\nTherapeutic regimen:effective management 517–519\\nTherapeutic regimen:ineffective management 522–525\\nTherapeutic regimen:readiness for enhanced management 525–527\\nTherapeutic regimen:family,ineffective management 520–522\\nTherapeutic regimen:community,ineffective management 515–517\\nNoncompliance (specify) 343–347\\nHealth-seeking behaviors (specify) 278–281\\nEnergy field,disturbed 208–211\\nFalls,risk for 217–221\\nInfection,risk for 307–310\\nInjury (trauma),risk for 310–313\\nProtection,ineffective 411–412\\nPoisoning,risk for 393–396\\nSuffocation,risk for 500–503\\nPerioperative positioning injury,risk for 313–316\\nSudden infant death syndrome 185–189\\nNUTRITIONAL-METABOLIC PATTERN\\nNutrition:more than body requirements,imbalanced 352–355\\nNutrition:more than body requirements,risk for imbalanced 356–358\\nNutrition:less than body requirements,imbalanced 347–352\\nNutrition,readiness for enhanced 359–362\\nBreastfeeding,ineffective 110–114\\nBreastfeeding,effective 108–110\\nBreastfeeding,interrupted 115–117\\nInfant feeding pattern,ineffective 304–306\\nAspiration,risk for 86–89\\nSwallowing,impaired 510–515\\nNausea 339–343\\nOral mucous membrane,impaired 362–365\\nDentition,impaired 191–194\\nFluid balance,readiness for enhanced 239–242\\nFluid volume imbalance,risk for 254–256\\nFluid volume,risk for deficient 252–254\\nFluid volume,deficient 245–248\\nFluid volume,excess 249–252\\nSkin integrity,impaired 461–465\\nSkin integrity,risk for impaired 465–468\\nTissue integrity (specify type),impaired 533–537\\nBody temperature,risk for imbalanced 102–104\\nLatex allergy response 73–75\\nLatex allergy response,risk for 76–78\\nThermoregulation,ineffective 527–529\\nHyperthermia 287–290\\nHypothermia 291–295\\nFailure to thrive,adult 214–217\\nELIMINATION PATTERN\\nConstipation 153–157\\nConstipation,risk for 159–161\\nConstipation,perceived 157–159\\nDiarrhea 197–200\\nBowel incontinence 105–107\\nUrinary elimination,impaired 554–558\\n*Reprinted from Manual ofNursing Diagnosis,10th ed.,M.Gordon,Copyright 2002,with\\npermission from Elsevier.'"
      ]
     },
     "execution_count": 15,
     "metadata": {},
     "output_type": "execute_result"
    }
   ],
   "source": [
    "data[1][1]"
   ]
  },
  {
   "cell_type": "code",
   "execution_count": 16,
   "id": "e8d6c6eb",
   "metadata": {},
   "outputs": [
    {
     "data": {
      "text/plain": [
       "[(1,\n",
       "  ' fm     am  page ii gordons functional health patterns through  health perception health management pattern health maintenance ineffective  therapeutic regimeneffective management  therapeutic regimenineffective management  therapeutic regimenreadiness for enhanced management  therapeutic regimenfamily ineffective management  therapeutic regimencommunity ineffective management  noncompliance specify  health seeking behaviors specify  energy field disturbed  falls risk for  infection risk for  injury trauma risk for  protection ineffective  poisoning risk for  suffocation risk for  perioperative positioning injury risk for  sudden infant death syndrome  nutritional metabolic pattern nutritionmore than body requirements imbalanced  nutritionmore than body requirements risk for imbalanced  nutritionless than body requirements imbalanced  nutrition readiness for enhanced  breastfeeding ineffective  breastfeeding effective  breastfeeding interrupted  infant feeding pattern ineffective  aspiration risk for  swallowing impaired  nausea  oral mucous membrane impaired  dentition impaired  fluid balance readiness for enhanced  fluid volume imbalance risk for  fluid volume risk for deficient  fluid volume deficient  fluid volume excess  skin integrity impaired  skin integrity risk for impaired  tissue integrity specify type impaired  body temperature risk for imbalanced  latex allergy response  latex allergy response risk for  thermoregulation ineffective  hyperthermia  hypothermia  failure to thrive adult  elimination pattern constipation  constipation risk for  constipation perceived  diarrhea  bowel incontinence  urinary elimination impaired  reprinted from manual ofnursing diagnosis  ed mgordon copyright  with permission from elsevier'),\n",
       " (2,\n",
       "  ' fm     am  page i urinary elimination readiness for enhanced  urinary incontinence functional  urinary incontinence reflex  urinary incontinence stress  urinary incontinence urge  urinary urge incontinence risk for  incontinence total  urinary retention  activity exercise pattern activity intolerance risk for  activity intolerance specify level  adaptive capacity decreased intracranial  infant behavior disorganized  infant behavior risk for disorganized  infant behavior readiness for enhanced organized  fatigue  physical mobility impaired  bed mobility impaired  walking impaired  wheelchair mobility impaired  transfer ability impaired  development risk for delayed  autonomic dysreflexia  autonomic dysreflexia risk for  disuse syndrome risk for  self care deficit specifybathinghygiene dressinggrooming feeding toileting  diversional activity deficient  home maintenance impaired  dysfunctional ventilatory weaning response  ventilation impaired spontaneous  airway clearance ineffective  breathing pattern ineffective  gas exchange impaired  cardiac output decreased  tissue perfusion alteration specify  peripheral neurovascular dysfunction risk for  surgical recovery delayed  growth and development delayed  growth risk for disproportionate  wandering  sleep rest pattern sleep pattern disturbed  sleep deprivation  sleep readiness for enhanced  cognitive perceptual pattern acute pain  chronic pain  sensory perception disturbed specify  unilateral neglect  knowledge deficit specify  knowledge readiness for enhanced  memory impaired  thought processes disturbed  acute confusion  chronic confusion  environmental interpretation syndrome impaired  decisional conflict specify  self perception self concept pattern fear  anxiety '),\n",
       " (3,\n",
       "  ' fm     am  page ii anxiety death  hopelessness  powerlessness  powerlessness risk for  loneliness risk for  self concept readiness for enhanced  chronic low self esteem  situational low self esteem  situational low self esteem risk for  body image disturbed  personal identity disturbed  violence risk for self directed  role relationship pattern anticipatory grieving  dysfunctional grieving  chronic sorrow  role performance ineffective  social isolation  impaired social interaction  relocation stress syndrome  relocation stress syndrome risk for  family processes interrupted  family processes readiness for enhanced  dysfunctional family processesalcoholism  impaired parenting risk for  impaired parenting  parenting readiness for enhanced  impaired parentinfantchild attachment risk for  parental role conflict  caregiver role strain  caregiver role strain risk for  impaired verbal communication  communication readiness for enhanced  risk for violence directed at others  sexuality reproductive sexual dysfunction  ineffective sexuality patterns  rape trauma syndrome  rape trauma syndromecompound reaction  rape trauma syndromesilent reaction  coping stress tolerance pattern ineffective coping  coping readiness for enhanced  defensive coping  community coping ineffective  community coping readiness for enhanced  ineffective denial  impaired adjustment  post trauma syndrome  post trauma syndrome risk for  family copingreadiness for enhanced  ineffective family copingcompromised  ineffective family copingdisabling  risk for suicide  self mutilation  self mutilation risk for  value belief pattern spiritual distress  spiritual distress risk for  spiritual well being readiness for enhanced '),\n",
       " (4,\n",
       "  ' fm     am  page iii nurses pocket guide diagnoses  interventions  and rationales')]"
      ]
     },
     "execution_count": 16,
     "metadata": {},
     "output_type": "execute_result"
    }
   ],
   "source": [
    "cleaned_data"
   ]
  },
  {
   "cell_type": "code",
   "execution_count": 17,
   "id": "3109343d",
   "metadata": {},
   "outputs": [],
   "source": [
    "def make_wordcount_hist(corpus):\n",
    "    '''\n",
    "    Generate a histogram of word counts from given text, open a new window with the histogram\n",
    "    input: cleaned corpus that has been tokenized\n",
    "    output: histogram: the number of counts for top frequent words\n",
    "    '''\n",
    "    uniques, counts = np.unique(corpus.split(), return_counts = True)\n",
    "    plt.bar(uniques[:20], counts[:20], align='center')\n",
    "    plt.savefig('hist.png', dpi=600)\n",
    "    plt.show()"
   ]
  },
  {
   "cell_type": "code",
   "execution_count": 18,
   "id": "29283145",
   "metadata": {},
   "outputs": [
    {
     "data": {
      "image/png": "[encoded data removed]",
      "text/plain": [
       "<Figure size 432x288 with 1 Axes>"
      ]
     },
     "metadata": {
      "needs_background": "light"
     },
     "output_type": "display_data"
    }
   ],
   "source": [
    "make_wordcount_hist(cleaned_data[0][1])"
   ]
  },
  {
   "cell_type": "code",
   "execution_count": 22,
   "id": "80e14e6c",
   "metadata": {},
   "outputs": [],
   "source": [
    "data[0][1]"
   ]
  },
  {
   "cell_type": "code",
   "execution_count": 23,
   "id": "898ff100",
   "metadata": {},
   "outputs": [
    {
     "data": {
      "text/plain": [
       "(0, None)"
      ]
     },
     "execution_count": 23,
     "metadata": {},
     "output_type": "execute_result"
    }
   ],
   "source": [
    "data = process_data(load_data(file))"
   ]
  },
  {
   "cell_type": "code",
   "execution_count": 26,
   "id": "27db1c38",
   "metadata": {},
   "outputs": [
    {
     "data": {
      "text/plain": [
       "['fm',\n",
       " 'am',\n",
       " 'page',\n",
       " 'ii',\n",
       " 'gordons',\n",
       " 'functional',\n",
       " 'health',\n",
       " 'patterns',\n",
       " 'through',\n",
       " 'health',\n",
       " 'perception',\n",
       " 'health',\n",
       " 'management',\n",
       " 'pattern',\n",
       " 'health',\n",
       " 'maintenance',\n",
       " 'ineffective',\n",
       " 'therapeutic',\n",
       " 'regimeneffective',\n",
       " 'management',\n",
       " 'therapeutic',\n",
       " 'regimenineffective',\n",
       " 'management',\n",
       " 'therapeutic',\n",
       " 'regimenreadiness',\n",
       " 'for',\n",
       " 'enhanced',\n",
       " 'management',\n",
       " 'therapeutic',\n",
       " 'regimenfamily',\n",
       " 'ineffective',\n",
       " 'management',\n",
       " 'therapeutic',\n",
       " 'regimencommunity',\n",
       " 'ineffective',\n",
       " 'management',\n",
       " 'noncompliance',\n",
       " 'specify',\n",
       " 'health',\n",
       " 'seeking',\n",
       " 'behaviors',\n",
       " 'specify',\n",
       " 'energy',\n",
       " 'field',\n",
       " 'disturbed',\n",
       " 'falls',\n",
       " 'risk',\n",
       " 'for',\n",
       " 'infection',\n",
       " 'risk',\n",
       " 'for',\n",
       " 'injury',\n",
       " 'trauma',\n",
       " 'risk',\n",
       " 'for',\n",
       " 'protection',\n",
       " 'ineffective',\n",
       " 'poisoning',\n",
       " 'risk',\n",
       " 'for',\n",
       " 'suffocation',\n",
       " 'risk',\n",
       " 'for',\n",
       " 'perioperative',\n",
       " 'positioning',\n",
       " 'injury',\n",
       " 'risk',\n",
       " 'for',\n",
       " 'sudden',\n",
       " 'infant',\n",
       " 'death',\n",
       " 'syndrome',\n",
       " 'nutritional',\n",
       " 'metabolic',\n",
       " 'pattern',\n",
       " 'nutritionmore',\n",
       " 'than',\n",
       " 'body',\n",
       " 'requirements',\n",
       " 'imbalanced',\n",
       " 'nutritionmore',\n",
       " 'than',\n",
       " 'body',\n",
       " 'requirements',\n",
       " 'risk',\n",
       " 'for',\n",
       " 'imbalanced',\n",
       " 'nutritionless',\n",
       " 'than',\n",
       " 'body',\n",
       " 'requirements',\n",
       " 'imbalanced',\n",
       " 'nutrition',\n",
       " 'readiness',\n",
       " 'for',\n",
       " 'enhanced',\n",
       " 'breastfeeding',\n",
       " 'ineffective',\n",
       " 'breastfeeding',\n",
       " 'effective',\n",
       " 'breastfeeding',\n",
       " 'interrupted',\n",
       " 'infant',\n",
       " 'feeding',\n",
       " 'pattern',\n",
       " 'ineffective',\n",
       " 'aspiration',\n",
       " 'risk',\n",
       " 'for',\n",
       " 'swallowing',\n",
       " 'impaired',\n",
       " 'nausea',\n",
       " 'oral',\n",
       " 'mucous',\n",
       " 'membrane',\n",
       " 'impaired',\n",
       " 'dentition',\n",
       " 'impaired',\n",
       " 'fluid',\n",
       " 'balance',\n",
       " 'readiness',\n",
       " 'for',\n",
       " 'enhanced',\n",
       " 'fluid',\n",
       " 'volume',\n",
       " 'imbalance',\n",
       " 'risk',\n",
       " 'for',\n",
       " 'fluid',\n",
       " 'volume',\n",
       " 'risk',\n",
       " 'for',\n",
       " 'deficient',\n",
       " 'fluid',\n",
       " 'volume',\n",
       " 'deficient',\n",
       " 'fluid',\n",
       " 'volume',\n",
       " 'excess',\n",
       " 'skin',\n",
       " 'integrity',\n",
       " 'impaired',\n",
       " 'skin',\n",
       " 'integrity',\n",
       " 'risk',\n",
       " 'for',\n",
       " 'impaired',\n",
       " 'tissue',\n",
       " 'integrity',\n",
       " 'specify',\n",
       " 'type',\n",
       " 'impaired',\n",
       " 'body',\n",
       " 'temperature',\n",
       " 'risk',\n",
       " 'for',\n",
       " 'imbalanced',\n",
       " 'latex',\n",
       " 'allergy',\n",
       " 'response',\n",
       " 'latex',\n",
       " 'allergy',\n",
       " 'response',\n",
       " 'risk',\n",
       " 'for',\n",
       " 'thermoregulation',\n",
       " 'ineffective',\n",
       " 'hyperthermia',\n",
       " 'hypothermia',\n",
       " 'failure',\n",
       " 'to',\n",
       " 'thrive',\n",
       " 'adult',\n",
       " 'elimination',\n",
       " 'pattern',\n",
       " 'constipation',\n",
       " 'constipation',\n",
       " 'risk',\n",
       " 'for',\n",
       " 'constipation',\n",
       " 'perceived',\n",
       " 'diarrhea',\n",
       " 'bowel',\n",
       " 'incontinence',\n",
       " 'urinary',\n",
       " 'elimination',\n",
       " 'impaired',\n",
       " 'reprinted',\n",
       " 'from',\n",
       " 'manual',\n",
       " 'ofnursing',\n",
       " 'diagnosis',\n",
       " 'ed',\n",
       " 'mgordon',\n",
       " 'copyright',\n",
       " 'with',\n",
       " 'permission',\n",
       " 'from',\n",
       " 'elsevier']"
      ]
     },
     "execution_count": 26,
     "metadata": {},
     "output_type": "execute_result"
    }
   ],
   "source": [
    "cleaned_data[0][1].split()"
   ]
  },
  {
   "cell_type": "code",
   "execution_count": 42,
   "id": "01352b63",
   "metadata": {},
   "outputs": [
    {
     "data": {
      "text/plain": [
       "' fm     am  page ii gordons functional health patterns through  health perception health management pattern health maintenance ineffective  therapeutic regimeneffective management  therapeutic regimenineffective management  therapeutic regimenreadiness for enhanced management  therapeutic regimenfamily ineffective management  therapeutic regimencommunity ineffective management  noncompliance specify  health seeking behaviors specify  energy field disturbed  falls risk for  infection risk for  injury trauma risk for  protection ineffective  poisoning risk for  suffocation risk for  perioperative positioning injury risk for  sudden infant death syndrome  nutritional metabolic pattern nutritionmore than body requirements imbalanced  nutritionmore than body requirements risk for imbalanced  nutritionless than body requirements imbalanced  nutrition readiness for enhanced  breastfeeding ineffective  breastfeeding effective  breastfeeding interrupted  infant feeding pattern ineffective  aspiration risk for  swallowing impaired  nausea  oral mucous membrane impaired  dentition impaired  fluid balance readiness for enhanced  fluid volume imbalance risk for  fluid volume risk for deficient  fluid volume deficient  fluid volume excess  skin integrity impaired  skin integrity risk for impaired  tissue integrity specify type impaired  body temperature risk for imbalanced  latex allergy response  latex allergy response risk for  thermoregulation ineffective  hyperthermia  hypothermia  failure to thrive adult  elimination pattern constipation  constipation risk for  constipation perceived  diarrhea  bowel incontinence  urinary elimination impaired  reprinted from manual ofnursing diagnosis  ed mgordon copyright  with permission from elsevier  fm     am  page i urinary elimination readiness for enhanced  urinary incontinence functional  urinary incontinence reflex  urinary incontinence stress  urinary incontinence urge  urinary urge incontinence risk for  incontinence total  urinary retention  activity exercise pattern activity intolerance risk for  activity intolerance specify level  adaptive capacity decreased intracranial  infant behavior disorganized  infant behavior risk for disorganized  infant behavior readiness for enhanced organized  fatigue  physical mobility impaired  bed mobility impaired  walking impaired  wheelchair mobility impaired  transfer ability impaired  development risk for delayed  autonomic dysreflexia  autonomic dysreflexia risk for  disuse syndrome risk for  self care deficit specifybathinghygiene dressinggrooming feeding toileting  diversional activity deficient  home maintenance impaired  dysfunctional ventilatory weaning response  ventilation impaired spontaneous  airway clearance ineffective  breathing pattern ineffective  gas exchange impaired  cardiac output decreased  tissue perfusion alteration specify  peripheral neurovascular dysfunction risk for  surgical recovery delayed  growth and development delayed  growth risk for disproportionate  wandering  sleep rest pattern sleep pattern disturbed  sleep deprivation  sleep readiness for enhanced  cognitive perceptual pattern acute pain  chronic pain  sensory perception disturbed specify  unilateral neglect  knowledge deficit specify  knowledge readiness for enhanced  memory impaired  thought processes disturbed  acute confusion  chronic confusion  environmental interpretation syndrome impaired  decisional conflict specify  self perception self concept pattern fear  anxiety   fm     am  page ii anxiety death  hopelessness  powerlessness  powerlessness risk for  loneliness risk for  self concept readiness for enhanced  chronic low self esteem  situational low self esteem  situational low self esteem risk for  body image disturbed  personal identity disturbed  violence risk for self directed  role relationship pattern anticipatory grieving  dysfunctional grieving  chronic sorrow  role performance ineffective  social isolation  impaired social interaction  relocation stress syndrome  relocation stress syndrome risk for  family processes interrupted  family processes readiness for enhanced  dysfunctional family processesalcoholism  impaired parenting risk for  impaired parenting  parenting readiness for enhanced  impaired parentinfantchild attachment risk for  parental role conflict  caregiver role strain  caregiver role strain risk for  impaired verbal communication  communication readiness for enhanced  risk for violence directed at others  sexuality reproductive sexual dysfunction  ineffective sexuality patterns  rape trauma syndrome  rape trauma syndromecompound reaction  rape trauma syndromesilent reaction  coping stress tolerance pattern ineffective coping  coping readiness for enhanced  defensive coping  community coping ineffective  community coping readiness for enhanced  ineffective denial  impaired adjustment  post trauma syndrome  post trauma syndrome risk for  family copingreadiness for enhanced  ineffective family copingcompromised  ineffective family copingdisabling  risk for suicide  self mutilation  self mutilation risk for  value belief pattern spiritual distress  spiritual distress risk for  spiritual well being readiness for enhanced   fm     am  page iii nurses pocket guide diagnoses  interventions  and rationales'"
      ]
     },
     "execution_count": 42,
     "metadata": {},
     "output_type": "execute_result"
    }
   ],
   "source": [
    "merged_data = ' '.join([i[1] for i in cleaned_data])"
   ]
  },
  {
   "cell_type": "markdown",
   "id": "2bae6d81",
   "metadata": {},
   "source": [
    "# Chapter isolation"
   ]
  },
  {
   "cell_type": "code",
   "execution_count": 1,
   "id": "6fd51400",
   "metadata": {},
   "outputs": [
    {
     "ename": "NameError",
     "evalue": "name 'pdf' is not defined",
     "output_type": "error",
     "traceback": [
      "\u001b[0;31m---------------------------------------------------------------------------\u001b[0m",
      "\u001b[0;31mNameError\u001b[0m                                 Traceback (most recent call last)",
      "\u001b[0;32m<ipython-input-1-35de5df7bbb0>\u001b[0m in \u001b[0;36m<module>\u001b[0;34m\u001b[0m\n\u001b[1;32m      1\u001b[0m \u001b[0mdata_c\u001b[0m \u001b[0;34m=\u001b[0m \u001b[0;34m{\u001b[0m\u001b[0;34m}\u001b[0m\u001b[0;34m\u001b[0m\u001b[0;34m\u001b[0m\u001b[0m\n\u001b[0;32m----> 2\u001b[0;31m \u001b[0;32mwith\u001b[0m \u001b[0mpdf\u001b[0m\u001b[0;34m.\u001b[0m\u001b[0mopen\u001b[0m\u001b[0;34m(\u001b[0m\u001b[0mfile\u001b[0m\u001b[0;34m)\u001b[0m \u001b[0;32mas\u001b[0m \u001b[0mraw\u001b[0m\u001b[0;34m:\u001b[0m\u001b[0;34m\u001b[0m\u001b[0;34m\u001b[0m\u001b[0m\n\u001b[0m\u001b[1;32m      3\u001b[0m     \u001b[0;32mfor\u001b[0m \u001b[0mi\u001b[0m \u001b[0;32min\u001b[0m \u001b[0mtqdm\u001b[0m\u001b[0;34m(\u001b[0m\u001b[0mrange\u001b[0m\u001b[0;34m(\u001b[0m\u001b[0;36m50\u001b[0m\u001b[0;34m)\u001b[0m\u001b[0;34m)\u001b[0m\u001b[0;34m:\u001b[0m\u001b[0;34m\u001b[0m\u001b[0;34m\u001b[0m\u001b[0m\n\u001b[1;32m      4\u001b[0m         \u001b[0mdata_c\u001b[0m\u001b[0;34m[\u001b[0m\u001b[0mi\u001b[0m\u001b[0;34m]\u001b[0m \u001b[0;34m=\u001b[0m \u001b[0mraw\u001b[0m\u001b[0;34m.\u001b[0m\u001b[0mpages\u001b[0m\u001b[0;34m[\u001b[0m\u001b[0mi\u001b[0m\u001b[0;34m]\u001b[0m\u001b[0;34m\u001b[0m\u001b[0;34m\u001b[0m\u001b[0m\n\u001b[1;32m      5\u001b[0m \u001b[0;31m# raw.close()\u001b[0m\u001b[0;34m\u001b[0m\u001b[0;34m\u001b[0m\u001b[0;34m\u001b[0m\u001b[0m\n",
      "\u001b[0;31mNameError\u001b[0m: name 'pdf' is not defined"
     ]
    }
   ],
   "source": [
    "data_c = {}\n",
    "with pdf.open(file) as raw:\n",
    "    for i in tqdm(range(50)):\n",
    "        data_c[i] = raw.pages[i]\n",
    "# raw.close()"
   ]
  },
  {
   "cell_type": "code",
   "execution_count": 55,
   "id": "5bfbceb9",
   "metadata": {},
   "outputs": [
    {
     "ename": "ValueError",
     "evalue": "seek of closed file",
     "output_type": "error",
     "traceback": [
      "\u001b[0;31m-----------------------------------------------------\u001b[0m",
      "\u001b[0;31mValueError\u001b[0m          Traceback (most recent call last)",
      "\u001b[0;32m<ipython-input-55-c4ee2b12f513>\u001b[0m in \u001b[0;36m<module>\u001b[0;34m\u001b[0m\n\u001b[0;32m----> 1\u001b[0;31m \u001b[0mdata_c\u001b[0m\u001b[0;34m[\u001b[0m\u001b[0;36m0\u001b[0m\u001b[0;34m]\u001b[0m\u001b[0;34m.\u001b[0m\u001b[0mextract_text\u001b[0m\u001b[0;34m(\u001b[0m\u001b[0;34m)\u001b[0m\u001b[0;34m\u001b[0m\u001b[0;34m\u001b[0m\u001b[0m\n\u001b[0m",
      "\u001b[0;32m~/.local/lib/python3.8/site-packages/pdfplumber/page.py\u001b[0m in \u001b[0;36mextract_text\u001b[0;34m(self, **kwargs)\u001b[0m\n\u001b[1;32m    258\u001b[0m \u001b[0;34m\u001b[0m\u001b[0m\n\u001b[1;32m    259\u001b[0m     \u001b[0;32mdef\u001b[0m \u001b[0mextract_text\u001b[0m\u001b[0;34m(\u001b[0m\u001b[0mself\u001b[0m\u001b[0;34m,\u001b[0m \u001b[0;34m**\u001b[0m\u001b[0mkwargs\u001b[0m\u001b[0;34m)\u001b[0m\u001b[0;34m:\u001b[0m\u001b[0;34m\u001b[0m\u001b[0;34m\u001b[0m\u001b[0m\n\u001b[0;32m--> 260\u001b[0;31m         \u001b[0;32mreturn\u001b[0m \u001b[0mutils\u001b[0m\u001b[0;34m.\u001b[0m\u001b[0mextract_text\u001b[0m\u001b[0;34m(\u001b[0m\u001b[0mself\u001b[0m\u001b[0;34m.\u001b[0m\u001b[0mchars\u001b[0m\u001b[0;34m,\u001b[0m \u001b[0;34m**\u001b[0m\u001b[0mkwargs\u001b[0m\u001b[0;34m)\u001b[0m\u001b[0;34m\u001b[0m\u001b[0;34m\u001b[0m\u001b[0m\n\u001b[0m\u001b[1;32m    261\u001b[0m \u001b[0;34m\u001b[0m\u001b[0m\n\u001b[1;32m    262\u001b[0m     \u001b[0;32mdef\u001b[0m \u001b[0mextract_words\u001b[0m\u001b[0;34m(\u001b[0m\u001b[0mself\u001b[0m\u001b[0;34m,\u001b[0m \u001b[0;34m**\u001b[0m\u001b[0mkwargs\u001b[0m\u001b[0;34m)\u001b[0m\u001b[0;34m:\u001b[0m\u001b[0;34m\u001b[0m\u001b[0;34m\u001b[0m\u001b[0m\n",
      "\u001b[0;32m~/.local/lib/python3.8/site-packages/pdfplumber/container.py\u001b[0m in \u001b[0;36mchars\u001b[0;34m(self)\u001b[0m\n\u001b[1;32m     46\u001b[0m     \u001b[0;34m@\u001b[0m\u001b[0mproperty\u001b[0m\u001b[0;34m\u001b[0m\u001b[0;34m\u001b[0m\u001b[0m\n\u001b[1;32m     47\u001b[0m     \u001b[0;32mdef\u001b[0m \u001b[0mchars\u001b[0m\u001b[0;34m(\u001b[0m\u001b[0mself\u001b[0m\u001b[0;34m)\u001b[0m\u001b[0;34m:\u001b[0m\u001b[0;34m\u001b[0m\u001b[0;34m\u001b[0m\u001b[0m\n\u001b[0;32m---> 48\u001b[0;31m         \u001b[0;32mreturn\u001b[0m \u001b[0mself\u001b[0m\u001b[0;34m.\u001b[0m\u001b[0mobjects\u001b[0m\u001b[0;34m.\u001b[0m\u001b[0mget\u001b[0m\u001b[0;34m(\u001b[0m\u001b[0;34m\"char\"\u001b[0m\u001b[0;34m,\u001b[0m \u001b[0;34m[\u001b[0m\u001b[0;34m]\u001b[0m\u001b[0;34m)\u001b[0m\u001b[0;34m\u001b[0m\u001b[0;34m\u001b[0m\u001b[0m\n\u001b[0m\u001b[1;32m     49\u001b[0m \u001b[0;34m\u001b[0m\u001b[0m\n\u001b[1;32m     50\u001b[0m     \u001b[0;34m@\u001b[0m\u001b[0mproperty\u001b[0m\u001b[0;34m\u001b[0m\u001b[0;34m\u001b[0m\u001b[0m\n",
      "\u001b[0;32m~/.local/lib/python3.8/site-packages/pdfplumber/page.py\u001b[0m in \u001b[0;36mobjects\u001b[0;34m(self)\u001b[0m\n\u001b[1;32m    159\u001b[0m         \u001b[0;32mif\u001b[0m \u001b[0mhasattr\u001b[0m\u001b[0;34m(\u001b[0m\u001b[0mself\u001b[0m\u001b[0;34m,\u001b[0m \u001b[0;34m\"_objects\"\u001b[0m\u001b[0;34m)\u001b[0m\u001b[0;34m:\u001b[0m\u001b[0;34m\u001b[0m\u001b[0;34m\u001b[0m\u001b[0m\n\u001b[1;32m    160\u001b[0m             \u001b[0;32mreturn\u001b[0m \u001b[0mself\u001b[0m\u001b[0;34m.\u001b[0m\u001b[0m_objects\u001b[0m\u001b[0;34m\u001b[0m\u001b[0;34m\u001b[0m\u001b[0m\n\u001b[0;32m--> 161\u001b[0;31m         \u001b[0mself\u001b[0m\u001b[0;34m.\u001b[0m\u001b[0m_objects\u001b[0m \u001b[0;34m=\u001b[0m \u001b[0mself\u001b[0m\u001b[0;34m.\u001b[0m\u001b[0mparse_objects\u001b[0m\u001b[0;34m(\u001b[0m\u001b[0;34m)\u001b[0m\u001b[0;34m\u001b[0m\u001b[0;34m\u001b[0m\u001b[0m\n\u001b[0m\u001b[1;32m    162\u001b[0m         \u001b[0;32mreturn\u001b[0m \u001b[0mself\u001b[0m\u001b[0;34m.\u001b[0m\u001b[0m_objects\u001b[0m\u001b[0;34m\u001b[0m\u001b[0;34m\u001b[0m\u001b[0m\n\u001b[1;32m    163\u001b[0m \u001b[0;34m\u001b[0m\u001b[0m\n",
      "\u001b[0;32m~/.local/lib/python3.8/site-packages/pdfplumber/page.py\u001b[0m in \u001b[0;36mparse_objects\u001b[0;34m(self)\u001b[0m\n\u001b[1;32m    220\u001b[0m     \u001b[0;32mdef\u001b[0m \u001b[0mparse_objects\u001b[0m\u001b[0;34m(\u001b[0m\u001b[0mself\u001b[0m\u001b[0;34m)\u001b[0m\u001b[0;34m:\u001b[0m\u001b[0;34m\u001b[0m\u001b[0;34m\u001b[0m\u001b[0m\n\u001b[1;32m    221\u001b[0m         \u001b[0mobjects\u001b[0m \u001b[0;34m=\u001b[0m \u001b[0;34m{\u001b[0m\u001b[0;34m}\u001b[0m\u001b[0;34m\u001b[0m\u001b[0;34m\u001b[0m\u001b[0m\n\u001b[0;32m--> 222\u001b[0;31m         \u001b[0;32mfor\u001b[0m \u001b[0mobj\u001b[0m \u001b[0;32min\u001b[0m \u001b[0mself\u001b[0m\u001b[0;34m.\u001b[0m\u001b[0miter_layout_objects\u001b[0m\u001b[0;34m(\u001b[0m\u001b[0mself\u001b[0m\u001b[0;34m.\u001b[0m\u001b[0mlayout\u001b[0m\u001b[0;34m.\u001b[0m\u001b[0m_objs\u001b[0m\u001b[0;34m)\u001b[0m\u001b[0;34m:\u001b[0m\u001b[0;34m\u001b[0m\u001b[0;34m\u001b[0m\u001b[0m\n\u001b[0m\u001b[1;32m    223\u001b[0m             \u001b[0mkind\u001b[0m \u001b[0;34m=\u001b[0m \u001b[0mobj\u001b[0m\u001b[0;34m[\u001b[0m\u001b[0;34m\"object_type\"\u001b[0m\u001b[0;34m]\u001b[0m\u001b[0;34m\u001b[0m\u001b[0;34m\u001b[0m\u001b[0m\n\u001b[1;32m    224\u001b[0m             \u001b[0;32mif\u001b[0m \u001b[0mobjects\u001b[0m\u001b[0;34m.\u001b[0m\u001b[0mget\u001b[0m\u001b[0;34m(\u001b[0m\u001b[0mkind\u001b[0m\u001b[0;34m)\u001b[0m \u001b[0;32mis\u001b[0m \u001b[0;32mNone\u001b[0m\u001b[0;34m:\u001b[0m\u001b[0;34m\u001b[0m\u001b[0;34m\u001b[0m\u001b[0m\n",
      "\u001b[0;32m~/.local/lib/python3.8/site-packages/pdfplumber/page.py\u001b[0m in \u001b[0;36mlayout\u001b[0;34m(self)\u001b[0m\n\u001b[1;32m    108\u001b[0m         )\n\u001b[1;32m    109\u001b[0m         \u001b[0minterpreter\u001b[0m \u001b[0;34m=\u001b[0m \u001b[0mPDFPageInterpreter\u001b[0m\u001b[0;34m(\u001b[0m\u001b[0mself\u001b[0m\u001b[0;34m.\u001b[0m\u001b[0mpdf\u001b[0m\u001b[0;34m.\u001b[0m\u001b[0mrsrcmgr\u001b[0m\u001b[0;34m,\u001b[0m \u001b[0mdevice\u001b[0m\u001b[0;34m)\u001b[0m\u001b[0;34m\u001b[0m\u001b[0;34m\u001b[0m\u001b[0m\n\u001b[0;32m--> 110\u001b[0;31m         \u001b[0minterpreter\u001b[0m\u001b[0;34m.\u001b[0m\u001b[0mprocess_page\u001b[0m\u001b[0;34m(\u001b[0m\u001b[0mself\u001b[0m\u001b[0;34m.\u001b[0m\u001b[0mpage_obj\u001b[0m\u001b[0;34m)\u001b[0m\u001b[0;34m\u001b[0m\u001b[0;34m\u001b[0m\u001b[0m\n\u001b[0m\u001b[1;32m    111\u001b[0m         \u001b[0mself\u001b[0m\u001b[0;34m.\u001b[0m\u001b[0m_layout\u001b[0m \u001b[0;34m=\u001b[0m \u001b[0mdevice\u001b[0m\u001b[0;34m.\u001b[0m\u001b[0mget_result\u001b[0m\u001b[0;34m(\u001b[0m\u001b[0;34m)\u001b[0m\u001b[0;34m\u001b[0m\u001b[0;34m\u001b[0m\u001b[0m\n\u001b[1;32m    112\u001b[0m         \u001b[0;32mreturn\u001b[0m \u001b[0mself\u001b[0m\u001b[0;34m.\u001b[0m\u001b[0m_layout\u001b[0m\u001b[0;34m\u001b[0m\u001b[0;34m\u001b[0m\u001b[0m\n",
      "\u001b[0;32m~/.local/lib/python3.8/site-packages/pdfminer/pdfinterp.py\u001b[0m in \u001b[0;36mprocess_page\u001b[0;34m(self, page)\u001b[0m\n\u001b[1;32m    839\u001b[0m             \u001b[0mctm\u001b[0m \u001b[0;34m=\u001b[0m \u001b[0;34m(\u001b[0m\u001b[0;36m1\u001b[0m\u001b[0;34m,\u001b[0m \u001b[0;36m0\u001b[0m\u001b[0;34m,\u001b[0m \u001b[0;36m0\u001b[0m\u001b[0;34m,\u001b[0m \u001b[0;36m1\u001b[0m\u001b[0;34m,\u001b[0m \u001b[0;34m-\u001b[0m\u001b[0mx0\u001b[0m\u001b[0;34m,\u001b[0m \u001b[0;34m-\u001b[0m\u001b[0my0\u001b[0m\u001b[0;34m)\u001b[0m\u001b[0;34m\u001b[0m\u001b[0;34m\u001b[0m\u001b[0m\n\u001b[1;32m    840\u001b[0m         \u001b[0mself\u001b[0m\u001b[0;34m.\u001b[0m\u001b[0mdevice\u001b[0m\u001b[0;34m.\u001b[0m\u001b[0mbegin_page\u001b[0m\u001b[0;34m(\u001b[0m\u001b[0mpage\u001b[0m\u001b[0;34m,\u001b[0m \u001b[0mctm\u001b[0m\u001b[0;34m)\u001b[0m\u001b[0;34m\u001b[0m\u001b[0;34m\u001b[0m\u001b[0m\n\u001b[0;32m--> 841\u001b[0;31m         \u001b[0mself\u001b[0m\u001b[0;34m.\u001b[0m\u001b[0mrender_contents\u001b[0m\u001b[0;34m(\u001b[0m\u001b[0mpage\u001b[0m\u001b[0;34m.\u001b[0m\u001b[0mresources\u001b[0m\u001b[0;34m,\u001b[0m \u001b[0mpage\u001b[0m\u001b[0;34m.\u001b[0m\u001b[0mcontents\u001b[0m\u001b[0;34m,\u001b[0m \u001b[0mctm\u001b[0m\u001b[0;34m=\u001b[0m\u001b[0mctm\u001b[0m\u001b[0;34m)\u001b[0m\u001b[0;34m\u001b[0m\u001b[0;34m\u001b[0m\u001b[0m\n\u001b[0m\u001b[1;32m    842\u001b[0m         \u001b[0mself\u001b[0m\u001b[0;34m.\u001b[0m\u001b[0mdevice\u001b[0m\u001b[0;34m.\u001b[0m\u001b[0mend_page\u001b[0m\u001b[0;34m(\u001b[0m\u001b[0mpage\u001b[0m\u001b[0;34m)\u001b[0m\u001b[0;34m\u001b[0m\u001b[0;34m\u001b[0m\u001b[0m\n\u001b[1;32m    843\u001b[0m         \u001b[0;32mreturn\u001b[0m\u001b[0;34m\u001b[0m\u001b[0;34m\u001b[0m\u001b[0m\n",
      "\u001b[0;32m~/.local/lib/python3.8/site-packages/pdfminer/pdfinterp.py\u001b[0m in \u001b[0;36mrender_contents\u001b[0;34m(self, resources, streams, ctm)\u001b[0m\n\u001b[1;32m    852\u001b[0m         \u001b[0mself\u001b[0m\u001b[0;34m.\u001b[0m\u001b[0minit_resources\u001b[0m\u001b[0;34m(\u001b[0m\u001b[0mresources\u001b[0m\u001b[0;34m)\u001b[0m\u001b[0;34m\u001b[0m\u001b[0;34m\u001b[0m\u001b[0m\n\u001b[1;32m    853\u001b[0m         \u001b[0mself\u001b[0m\u001b[0;34m.\u001b[0m\u001b[0minit_state\u001b[0m\u001b[0;34m(\u001b[0m\u001b[0mctm\u001b[0m\u001b[0;34m)\u001b[0m\u001b[0;34m\u001b[0m\u001b[0;34m\u001b[0m\u001b[0m\n\u001b[0;32m--> 854\u001b[0;31m         \u001b[0mself\u001b[0m\u001b[0;34m.\u001b[0m\u001b[0mexecute\u001b[0m\u001b[0;34m(\u001b[0m\u001b[0mlist_value\u001b[0m\u001b[0;34m(\u001b[0m\u001b[0mstreams\u001b[0m\u001b[0;34m)\u001b[0m\u001b[0;34m)\u001b[0m\u001b[0;34m\u001b[0m\u001b[0;34m\u001b[0m\u001b[0m\n\u001b[0m\u001b[1;32m    855\u001b[0m         \u001b[0;32mreturn\u001b[0m\u001b[0;34m\u001b[0m\u001b[0;34m\u001b[0m\u001b[0m\n\u001b[1;32m    856\u001b[0m \u001b[0;34m\u001b[0m\u001b[0m\n",
      "\u001b[0;32m~/.local/lib/python3.8/site-packages/pdfminer/pdfinterp.py\u001b[0m in \u001b[0;36mexecute\u001b[0;34m(self, streams)\u001b[0m\n\u001b[1;32m    877\u001b[0m                             \u001b[0mlogging\u001b[0m\u001b[0;34m.\u001b[0m\u001b[0mdebug\u001b[0m\u001b[0;34m(\u001b[0m\u001b[0;34m'exec: %s %r'\u001b[0m \u001b[0;34m%\u001b[0m \u001b[0;34m(\u001b[0m\u001b[0mname\u001b[0m\u001b[0;34m,\u001b[0m \u001b[0margs\u001b[0m\u001b[0;34m)\u001b[0m\u001b[0;34m)\u001b[0m\u001b[0;34m\u001b[0m\u001b[0;34m\u001b[0m\u001b[0m\n\u001b[1;32m    878\u001b[0m                         \u001b[0;32mif\u001b[0m \u001b[0mlen\u001b[0m\u001b[0;34m(\u001b[0m\u001b[0margs\u001b[0m\u001b[0;34m)\u001b[0m \u001b[0;34m==\u001b[0m \u001b[0mnargs\u001b[0m\u001b[0;34m:\u001b[0m\u001b[0;34m\u001b[0m\u001b[0;34m\u001b[0m\u001b[0m\n\u001b[0;32m--> 879\u001b[0;31m                             \u001b[0mfunc\u001b[0m\u001b[0;34m(\u001b[0m\u001b[0;34m*\u001b[0m\u001b[0margs\u001b[0m\u001b[0;34m)\u001b[0m\u001b[0;34m\u001b[0m\u001b[0;34m\u001b[0m\u001b[0m\n\u001b[0m\u001b[1;32m    880\u001b[0m                     \u001b[0;32melse\u001b[0m\u001b[0;34m:\u001b[0m\u001b[0;34m\u001b[0m\u001b[0;34m\u001b[0m\u001b[0m\n\u001b[1;32m    881\u001b[0m                         \u001b[0;32mif\u001b[0m \u001b[0mself\u001b[0m\u001b[0;34m.\u001b[0m\u001b[0mdebug\u001b[0m\u001b[0;34m:\u001b[0m\u001b[0;34m\u001b[0m\u001b[0;34m\u001b[0m\u001b[0m\n",
      "\u001b[0;32m~/.local/lib/python3.8/site-packages/pdfminer/pdfinterp.py\u001b[0m in \u001b[0;36mdo_Do\u001b[0;34m(self, xobjid)\u001b[0m\n\u001b[1;32m    800\u001b[0m         \u001b[0mxobjid\u001b[0m \u001b[0;34m=\u001b[0m \u001b[0mliteral_name\u001b[0m\u001b[0;34m(\u001b[0m\u001b[0mxobjid\u001b[0m\u001b[0;34m)\u001b[0m\u001b[0;34m\u001b[0m\u001b[0;34m\u001b[0m\u001b[0m\n\u001b[1;32m    801\u001b[0m         \u001b[0;32mtry\u001b[0m\u001b[0;34m:\u001b[0m\u001b[0;34m\u001b[0m\u001b[0;34m\u001b[0m\u001b[0m\n\u001b[0;32m--> 802\u001b[0;31m             \u001b[0mxobj\u001b[0m \u001b[0;34m=\u001b[0m \u001b[0mstream_value\u001b[0m\u001b[0;34m(\u001b[0m\u001b[0mself\u001b[0m\u001b[0;34m.\u001b[0m\u001b[0mxobjmap\u001b[0m\u001b[0;34m[\u001b[0m\u001b[0mxobjid\u001b[0m\u001b[0;34m]\u001b[0m\u001b[0;34m)\u001b[0m\u001b[0;34m\u001b[0m\u001b[0;34m\u001b[0m\u001b[0m\n\u001b[0m\u001b[1;32m    803\u001b[0m         \u001b[0;32mexcept\u001b[0m \u001b[0mKeyError\u001b[0m\u001b[0;34m:\u001b[0m\u001b[0;34m\u001b[0m\u001b[0;34m\u001b[0m\u001b[0m\n\u001b[1;32m    804\u001b[0m             \u001b[0;32mif\u001b[0m \u001b[0mSTRICT\u001b[0m\u001b[0;34m:\u001b[0m\u001b[0;34m\u001b[0m\u001b[0;34m\u001b[0m\u001b[0m\n",
      "\u001b[0;32m~/.local/lib/python3.8/site-packages/pdfminer/pdftypes.py\u001b[0m in \u001b[0;36mstream_value\u001b[0;34m(x)\u001b[0m\n\u001b[1;32m    167\u001b[0m \u001b[0;34m\u001b[0m\u001b[0m\n\u001b[1;32m    168\u001b[0m \u001b[0;32mdef\u001b[0m \u001b[0mstream_value\u001b[0m\u001b[0;34m(\u001b[0m\u001b[0mx\u001b[0m\u001b[0;34m)\u001b[0m\u001b[0;34m:\u001b[0m\u001b[0;34m\u001b[0m\u001b[0;34m\u001b[0m\u001b[0m\n\u001b[0;32m--> 169\u001b[0;31m     \u001b[0mx\u001b[0m \u001b[0;34m=\u001b[0m \u001b[0mresolve1\u001b[0m\u001b[0;34m(\u001b[0m\u001b[0mx\u001b[0m\u001b[0;34m)\u001b[0m\u001b[0;34m\u001b[0m\u001b[0;34m\u001b[0m\u001b[0m\n\u001b[0m\u001b[1;32m    170\u001b[0m     \u001b[0;32mif\u001b[0m \u001b[0;32mnot\u001b[0m \u001b[0misinstance\u001b[0m\u001b[0;34m(\u001b[0m\u001b[0mx\u001b[0m\u001b[0;34m,\u001b[0m \u001b[0mPDFStream\u001b[0m\u001b[0;34m)\u001b[0m\u001b[0;34m:\u001b[0m\u001b[0;34m\u001b[0m\u001b[0;34m\u001b[0m\u001b[0m\n\u001b[1;32m    171\u001b[0m         \u001b[0;32mif\u001b[0m \u001b[0mSTRICT\u001b[0m\u001b[0;34m:\u001b[0m\u001b[0;34m\u001b[0m\u001b[0;34m\u001b[0m\u001b[0m\n",
      "\u001b[0;32m~/.local/lib/python3.8/site-packages/pdfminer/pdftypes.py\u001b[0m in \u001b[0;36mresolve1\u001b[0;34m(x, default)\u001b[0m\n\u001b[1;32m     78\u001b[0m     \"\"\"\n\u001b[1;32m     79\u001b[0m     \u001b[0;32mwhile\u001b[0m \u001b[0misinstance\u001b[0m\u001b[0;34m(\u001b[0m\u001b[0mx\u001b[0m\u001b[0;34m,\u001b[0m \u001b[0mPDFObjRef\u001b[0m\u001b[0;34m)\u001b[0m\u001b[0;34m:\u001b[0m\u001b[0;34m\u001b[0m\u001b[0;34m\u001b[0m\u001b[0m\n\u001b[0;32m---> 80\u001b[0;31m         \u001b[0mx\u001b[0m \u001b[0;34m=\u001b[0m \u001b[0mx\u001b[0m\u001b[0;34m.\u001b[0m\u001b[0mresolve\u001b[0m\u001b[0;34m(\u001b[0m\u001b[0mdefault\u001b[0m\u001b[0;34m=\u001b[0m\u001b[0mdefault\u001b[0m\u001b[0;34m)\u001b[0m\u001b[0;34m\u001b[0m\u001b[0;34m\u001b[0m\u001b[0m\n\u001b[0m\u001b[1;32m     81\u001b[0m     \u001b[0;32mreturn\u001b[0m \u001b[0mx\u001b[0m\u001b[0;34m\u001b[0m\u001b[0;34m\u001b[0m\u001b[0m\n\u001b[1;32m     82\u001b[0m \u001b[0;34m\u001b[0m\u001b[0m\n",
      "\u001b[0;32m~/.local/lib/python3.8/site-packages/pdfminer/pdftypes.py\u001b[0m in \u001b[0;36mresolve\u001b[0;34m(self, default)\u001b[0m\n\u001b[1;32m     65\u001b[0m     \u001b[0;32mdef\u001b[0m \u001b[0mresolve\u001b[0m\u001b[0;34m(\u001b[0m\u001b[0mself\u001b[0m\u001b[0;34m,\u001b[0m \u001b[0mdefault\u001b[0m\u001b[0;34m=\u001b[0m\u001b[0;32mNone\u001b[0m\u001b[0;34m)\u001b[0m\u001b[0;34m:\u001b[0m\u001b[0;34m\u001b[0m\u001b[0;34m\u001b[0m\u001b[0m\n\u001b[1;32m     66\u001b[0m         \u001b[0;32mtry\u001b[0m\u001b[0;34m:\u001b[0m\u001b[0;34m\u001b[0m\u001b[0;34m\u001b[0m\u001b[0m\n\u001b[0;32m---> 67\u001b[0;31m             \u001b[0;32mreturn\u001b[0m \u001b[0mself\u001b[0m\u001b[0;34m.\u001b[0m\u001b[0mdoc\u001b[0m\u001b[0;34m.\u001b[0m\u001b[0mgetobj\u001b[0m\u001b[0;34m(\u001b[0m\u001b[0mself\u001b[0m\u001b[0;34m.\u001b[0m\u001b[0mobjid\u001b[0m\u001b[0;34m)\u001b[0m\u001b[0;34m\u001b[0m\u001b[0;34m\u001b[0m\u001b[0m\n\u001b[0m\u001b[1;32m     68\u001b[0m         \u001b[0;32mexcept\u001b[0m \u001b[0mPDFObjectNotFound\u001b[0m\u001b[0;34m:\u001b[0m\u001b[0;34m\u001b[0m\u001b[0;34m\u001b[0m\u001b[0m\n\u001b[1;32m     69\u001b[0m             \u001b[0;32mreturn\u001b[0m \u001b[0mdefault\u001b[0m\u001b[0;34m\u001b[0m\u001b[0;34m\u001b[0m\u001b[0m\n",
      "\u001b[0;32m~/.local/lib/python3.8/site-packages/pdfminer/pdfdocument.py\u001b[0m in \u001b[0;36mgetobj\u001b[0;34m(self, objid)\u001b[0m\n\u001b[1;32m    674\u001b[0m                         \u001b[0mobj\u001b[0m \u001b[0;34m=\u001b[0m \u001b[0mself\u001b[0m\u001b[0;34m.\u001b[0m\u001b[0m_getobj_objstm\u001b[0m\u001b[0;34m(\u001b[0m\u001b[0mstream\u001b[0m\u001b[0;34m,\u001b[0m \u001b[0mindex\u001b[0m\u001b[0;34m,\u001b[0m \u001b[0mobjid\u001b[0m\u001b[0;34m)\u001b[0m\u001b[0;34m\u001b[0m\u001b[0;34m\u001b[0m\u001b[0m\n\u001b[1;32m    675\u001b[0m                     \u001b[0;32melse\u001b[0m\u001b[0;34m:\u001b[0m\u001b[0;34m\u001b[0m\u001b[0;34m\u001b[0m\u001b[0m\n\u001b[0;32m--> 676\u001b[0;31m                         \u001b[0mobj\u001b[0m \u001b[0;34m=\u001b[0m \u001b[0mself\u001b[0m\u001b[0;34m.\u001b[0m\u001b[0m_getobj_parse\u001b[0m\u001b[0;34m(\u001b[0m\u001b[0mindex\u001b[0m\u001b[0;34m,\u001b[0m \u001b[0mobjid\u001b[0m\u001b[0;34m)\u001b[0m\u001b[0;34m\u001b[0m\u001b[0;34m\u001b[0m\u001b[0m\n\u001b[0m\u001b[1;32m    677\u001b[0m                         \u001b[0;32mif\u001b[0m \u001b[0mself\u001b[0m\u001b[0;34m.\u001b[0m\u001b[0mdecipher\u001b[0m\u001b[0;34m:\u001b[0m\u001b[0;34m\u001b[0m\u001b[0;34m\u001b[0m\u001b[0m\n\u001b[1;32m    678\u001b[0m                             \u001b[0mobj\u001b[0m \u001b[0;34m=\u001b[0m \u001b[0mdecipher_all\u001b[0m\u001b[0;34m(\u001b[0m\u001b[0mself\u001b[0m\u001b[0;34m.\u001b[0m\u001b[0mdecipher\u001b[0m\u001b[0;34m,\u001b[0m \u001b[0mobjid\u001b[0m\u001b[0;34m,\u001b[0m \u001b[0mgenno\u001b[0m\u001b[0;34m,\u001b[0m \u001b[0mobj\u001b[0m\u001b[0;34m)\u001b[0m\u001b[0;34m\u001b[0m\u001b[0;34m\u001b[0m\u001b[0m\n",
      "\u001b[0;32m~/.local/lib/python3.8/site-packages/pdfminer/pdfdocument.py\u001b[0m in \u001b[0;36m_getobj_parse\u001b[0;34m(self, pos, objid)\u001b[0m\n\u001b[1;32m    643\u001b[0m \u001b[0;34m\u001b[0m\u001b[0m\n\u001b[1;32m    644\u001b[0m     \u001b[0;32mdef\u001b[0m \u001b[0m_getobj_parse\u001b[0m\u001b[0;34m(\u001b[0m\u001b[0mself\u001b[0m\u001b[0;34m,\u001b[0m \u001b[0mpos\u001b[0m\u001b[0;34m,\u001b[0m \u001b[0mobjid\u001b[0m\u001b[0;34m)\u001b[0m\u001b[0;34m:\u001b[0m\u001b[0;34m\u001b[0m\u001b[0;34m\u001b[0m\u001b[0m\n\u001b[0;32m--> 645\u001b[0;31m         \u001b[0mself\u001b[0m\u001b[0;34m.\u001b[0m\u001b[0m_parser\u001b[0m\u001b[0;34m.\u001b[0m\u001b[0mseek\u001b[0m\u001b[0;34m(\u001b[0m\u001b[0mpos\u001b[0m\u001b[0;34m)\u001b[0m\u001b[0;34m\u001b[0m\u001b[0;34m\u001b[0m\u001b[0m\n\u001b[0m\u001b[1;32m    646\u001b[0m         \u001b[0;34m(\u001b[0m\u001b[0m_\u001b[0m\u001b[0;34m,\u001b[0m \u001b[0mobjid1\u001b[0m\u001b[0;34m)\u001b[0m \u001b[0;34m=\u001b[0m \u001b[0mself\u001b[0m\u001b[0;34m.\u001b[0m\u001b[0m_parser\u001b[0m\u001b[0;34m.\u001b[0m\u001b[0mnexttoken\u001b[0m\u001b[0;34m(\u001b[0m\u001b[0;34m)\u001b[0m  \u001b[0;31m# objid\u001b[0m\u001b[0;34m\u001b[0m\u001b[0;34m\u001b[0m\u001b[0m\n\u001b[1;32m    647\u001b[0m         \u001b[0;32mif\u001b[0m \u001b[0mobjid1\u001b[0m \u001b[0;34m!=\u001b[0m \u001b[0mobjid\u001b[0m\u001b[0;34m:\u001b[0m\u001b[0;34m\u001b[0m\u001b[0;34m\u001b[0m\u001b[0m\n",
      "\u001b[0;32m~/.local/lib/python3.8/site-packages/pdfminer/psparser.py\u001b[0m in \u001b[0;36mseek\u001b[0;34m(self, pos)\u001b[0m\n\u001b[1;32m    525\u001b[0m \u001b[0;34m\u001b[0m\u001b[0m\n\u001b[1;32m    526\u001b[0m     \u001b[0;32mdef\u001b[0m \u001b[0mseek\u001b[0m\u001b[0;34m(\u001b[0m\u001b[0mself\u001b[0m\u001b[0;34m,\u001b[0m \u001b[0mpos\u001b[0m\u001b[0;34m)\u001b[0m\u001b[0;34m:\u001b[0m\u001b[0;34m\u001b[0m\u001b[0;34m\u001b[0m\u001b[0m\n\u001b[0;32m--> 527\u001b[0;31m         \u001b[0mPSBaseParser\u001b[0m\u001b[0;34m.\u001b[0m\u001b[0mseek\u001b[0m\u001b[0;34m(\u001b[0m\u001b[0mself\u001b[0m\u001b[0;34m,\u001b[0m \u001b[0mpos\u001b[0m\u001b[0;34m)\u001b[0m\u001b[0;34m\u001b[0m\u001b[0;34m\u001b[0m\u001b[0m\n\u001b[0m\u001b[1;32m    528\u001b[0m         \u001b[0mself\u001b[0m\u001b[0;34m.\u001b[0m\u001b[0mreset\u001b[0m\u001b[0;34m(\u001b[0m\u001b[0;34m)\u001b[0m\u001b[0;34m\u001b[0m\u001b[0;34m\u001b[0m\u001b[0m\n\u001b[1;32m    529\u001b[0m         \u001b[0;32mreturn\u001b[0m\u001b[0;34m\u001b[0m\u001b[0;34m\u001b[0m\u001b[0m\n",
      "\u001b[0;32m~/.local/lib/python3.8/site-packages/pdfminer/psparser.py\u001b[0m in \u001b[0;36mseek\u001b[0;34m(self, pos)\u001b[0m\n\u001b[1;32m    197\u001b[0m         \u001b[0;32mif\u001b[0m \u001b[0mself\u001b[0m\u001b[0;34m.\u001b[0m\u001b[0mdebug\u001b[0m\u001b[0;34m:\u001b[0m\u001b[0;34m\u001b[0m\u001b[0;34m\u001b[0m\u001b[0m\n\u001b[1;32m    198\u001b[0m             \u001b[0mlogging\u001b[0m\u001b[0;34m.\u001b[0m\u001b[0mdebug\u001b[0m\u001b[0;34m(\u001b[0m\u001b[0;34m'seek: %r'\u001b[0m \u001b[0;34m%\u001b[0m \u001b[0mpos\u001b[0m\u001b[0;34m)\u001b[0m\u001b[0;34m\u001b[0m\u001b[0;34m\u001b[0m\u001b[0m\n\u001b[0;32m--> 199\u001b[0;31m         \u001b[0mself\u001b[0m\u001b[0;34m.\u001b[0m\u001b[0mfp\u001b[0m\u001b[0;34m.\u001b[0m\u001b[0mseek\u001b[0m\u001b[0;34m(\u001b[0m\u001b[0mpos\u001b[0m\u001b[0;34m)\u001b[0m\u001b[0;34m\u001b[0m\u001b[0;34m\u001b[0m\u001b[0m\n\u001b[0m\u001b[1;32m    200\u001b[0m         \u001b[0;31m# reset the status for nextline()\u001b[0m\u001b[0;34m\u001b[0m\u001b[0;34m\u001b[0m\u001b[0;34m\u001b[0m\u001b[0m\n\u001b[1;32m    201\u001b[0m         \u001b[0mself\u001b[0m\u001b[0;34m.\u001b[0m\u001b[0mbufpos\u001b[0m \u001b[0;34m=\u001b[0m \u001b[0mpos\u001b[0m\u001b[0;34m\u001b[0m\u001b[0;34m\u001b[0m\u001b[0m\n",
      "\u001b[0;31mValueError\u001b[0m: seek of closed file"
     ]
    }
   ],
   "source": [
    "data_c[0].extract_text()"
   ]
  },
  {
   "cell_type": "code",
   "execution_count": 4,
   "id": "6be1a4b2",
   "metadata": {},
   "outputs": [
    {
     "name": "stdout",
     "output_type": "stream",
     "text": [
      "Processing /home/vince/.cache/pip/wheels/1c/28/7d/f390b82bb0307deb63ff27a1474fd308ec68ee028cb9ab6283/pdfminer-20191125-py3-none-any.whl\n",
      "Requirement already satisfied: pycryptodome in /home/vince/.local/lib/python3.8/site-packages (from pdfminer) (3.10.1)\n",
      "Installing collected packages: pdfminer\n",
      "Successfully installed pdfminer-20191125\n",
      "Note: you may need to restart the kernel to use updated packages.\n"
     ]
    }
   ],
   "source": [
    "pip install pdfminer"
   ]
  },
  {
   "cell_type": "code",
   "execution_count": 5,
   "id": "5ac0820a",
   "metadata": {},
   "outputs": [
    {
     "ename": "ImportError",
     "evalue": "cannot import name 'extract_pages' from 'pdfminer.high_level' (/home/vince/.local/lib/python3.8/site-packages/pdfminer/high_level.py)",
     "output_type": "error",
     "traceback": [
      "\u001b[0;31m---------------------------------------------------------------------------\u001b[0m",
      "\u001b[0;31mImportError\u001b[0m                               Traceback (most recent call last)",
      "\u001b[0;32m<ipython-input-5-5981be0aa4e1>\u001b[0m in \u001b[0;36m<module>\u001b[0;34m\u001b[0m\n\u001b[0;32m----> 1\u001b[0;31m \u001b[0;32mfrom\u001b[0m \u001b[0mpdfstructure\u001b[0m\u001b[0;34m.\u001b[0m\u001b[0mprinter\u001b[0m \u001b[0;32mimport\u001b[0m \u001b[0mJsonFilePrinter\u001b[0m\u001b[0;34m\u001b[0m\u001b[0;34m\u001b[0m\u001b[0m\n\u001b[0m",
      "\u001b[0;32m~/Documents/Code/microgoogle/CS4300_microGoogle/streamlit_testing/pdfstructure/printer.py\u001b[0m in \u001b[0;36m<module>\u001b[0;34m\u001b[0m\n\u001b[1;32m      2\u001b[0m \u001b[0;32mfrom\u001b[0m \u001b[0mtyping\u001b[0m \u001b[0;32mimport\u001b[0m \u001b[0mIterator\u001b[0m\u001b[0;34m\u001b[0m\u001b[0;34m\u001b[0m\u001b[0m\n\u001b[1;32m      3\u001b[0m \u001b[0;34m\u001b[0m\u001b[0m\n\u001b[0;32m----> 4\u001b[0;31m \u001b[0;32mfrom\u001b[0m \u001b[0mpdfstructure\u001b[0m\u001b[0;34m.\u001b[0m\u001b[0mhierarchy\u001b[0m\u001b[0;34m.\u001b[0m\u001b[0mtraversal\u001b[0m \u001b[0;32mimport\u001b[0m \u001b[0mtraverse_in_order\u001b[0m\u001b[0;34m\u001b[0m\u001b[0;34m\u001b[0m\u001b[0m\n\u001b[0m\u001b[1;32m      5\u001b[0m \u001b[0;32mfrom\u001b[0m \u001b[0mpdfstructure\u001b[0m\u001b[0;34m.\u001b[0m\u001b[0mmodel\u001b[0m\u001b[0;34m.\u001b[0m\u001b[0mdocument\u001b[0m \u001b[0;32mimport\u001b[0m \u001b[0mSection\u001b[0m\u001b[0;34m,\u001b[0m \u001b[0mStructuredPdfDocument\u001b[0m\u001b[0;34m,\u001b[0m \u001b[0mTextElement\u001b[0m\u001b[0;34m\u001b[0m\u001b[0;34m\u001b[0m\u001b[0m\n\u001b[1;32m      6\u001b[0m \u001b[0;32mfrom\u001b[0m \u001b[0mpdfstructure\u001b[0m\u001b[0;34m.\u001b[0m\u001b[0mmodel\u001b[0m\u001b[0;34m.\u001b[0m\u001b[0mstyle\u001b[0m \u001b[0;32mimport\u001b[0m \u001b[0mStyle\u001b[0m\u001b[0;34m\u001b[0m\u001b[0;34m\u001b[0m\u001b[0m\n",
      "\u001b[0;32m~/Documents/Code/microgoogle/CS4300_microGoogle/streamlit_testing/pdfstructure/hierarchy/traversal.py\u001b[0m in \u001b[0;36m<module>\u001b[0;34m\u001b[0m\n\u001b[1;32m      3\u001b[0m \u001b[0;32mfrom\u001b[0m \u001b[0mtyping\u001b[0m \u001b[0;32mimport\u001b[0m \u001b[0mGenerator\u001b[0m\u001b[0;34m\u001b[0m\u001b[0;34m\u001b[0m\u001b[0m\n\u001b[1;32m      4\u001b[0m \u001b[0;34m\u001b[0m\u001b[0m\n\u001b[0;32m----> 5\u001b[0;31m \u001b[0;32mfrom\u001b[0m \u001b[0mpdfstructure\u001b[0m\u001b[0;34m.\u001b[0m\u001b[0mmodel\u001b[0m\u001b[0;34m.\u001b[0m\u001b[0mdocument\u001b[0m \u001b[0;32mimport\u001b[0m \u001b[0mStructuredPdfDocument\u001b[0m\u001b[0;34m,\u001b[0m \u001b[0mSection\u001b[0m\u001b[0;34m\u001b[0m\u001b[0;34m\u001b[0m\u001b[0m\n\u001b[0m\u001b[1;32m      6\u001b[0m \u001b[0;34m\u001b[0m\u001b[0m\n\u001b[1;32m      7\u001b[0m \u001b[0;34m\u001b[0m\u001b[0m\n",
      "\u001b[0;32m~/Documents/Code/microgoogle/CS4300_microGoogle/streamlit_testing/pdfstructure/model/document.py\u001b[0m in \u001b[0;36m<module>\u001b[0;34m\u001b[0m\n\u001b[1;32m      4\u001b[0m \u001b[0;32mfrom\u001b[0m \u001b[0mpdfminer\u001b[0m\u001b[0;34m.\u001b[0m\u001b[0mlayout\u001b[0m \u001b[0;32mimport\u001b[0m \u001b[0mLTTextContainer\u001b[0m\u001b[0;34m\u001b[0m\u001b[0;34m\u001b[0m\u001b[0m\n\u001b[1;32m      5\u001b[0m \u001b[0;34m\u001b[0m\u001b[0m\n\u001b[0;32m----> 6\u001b[0;31m \u001b[0;32mfrom\u001b[0m \u001b[0mpdfstructure\u001b[0m\u001b[0;34m.\u001b[0m\u001b[0manalysis\u001b[0m\u001b[0;34m.\u001b[0m\u001b[0mstyledistribution\u001b[0m \u001b[0;32mimport\u001b[0m \u001b[0mStyleDistribution\u001b[0m\u001b[0;34m\u001b[0m\u001b[0;34m\u001b[0m\u001b[0m\n\u001b[0m\u001b[1;32m      7\u001b[0m \u001b[0;32mfrom\u001b[0m \u001b[0mpdfstructure\u001b[0m\u001b[0;34m.\u001b[0m\u001b[0mmodel\u001b[0m\u001b[0;34m.\u001b[0m\u001b[0mstyle\u001b[0m \u001b[0;32mimport\u001b[0m \u001b[0mStyle\u001b[0m\u001b[0;34m\u001b[0m\u001b[0;34m\u001b[0m\u001b[0m\n\u001b[1;32m      8\u001b[0m \u001b[0;34m\u001b[0m\u001b[0m\n",
      "\u001b[0;32m~/Documents/Code/microgoogle/CS4300_microGoogle/streamlit_testing/pdfstructure/analysis/styledistribution.py\u001b[0m in \u001b[0;36m<module>\u001b[0;34m\u001b[0m\n\u001b[1;32m      5\u001b[0m \u001b[0;32mfrom\u001b[0m \u001b[0msortedcontainers\u001b[0m \u001b[0;32mimport\u001b[0m \u001b[0mSortedDict\u001b[0m\u001b[0;34m\u001b[0m\u001b[0;34m\u001b[0m\u001b[0m\n\u001b[1;32m      6\u001b[0m \u001b[0;34m\u001b[0m\u001b[0m\n\u001b[0;32m----> 7\u001b[0;31m \u001b[0;32mfrom\u001b[0m \u001b[0mpdfstructure\u001b[0m\u001b[0;34m.\u001b[0m\u001b[0mutils\u001b[0m \u001b[0;32mimport\u001b[0m \u001b[0mtruncate\u001b[0m\u001b[0;34m,\u001b[0m \u001b[0mclosest_key\u001b[0m\u001b[0;34m\u001b[0m\u001b[0;34m\u001b[0m\u001b[0m\n\u001b[0m\u001b[1;32m      8\u001b[0m \u001b[0;34m\u001b[0m\u001b[0m\n\u001b[1;32m      9\u001b[0m \u001b[0;34m\u001b[0m\u001b[0m\n",
      "\u001b[0;32m~/Documents/Code/microgoogle/CS4300_microGoogle/streamlit_testing/pdfstructure/utils.py\u001b[0m in \u001b[0;36m<module>\u001b[0;34m\u001b[0m\n\u001b[1;32m      5\u001b[0m \u001b[0;32mfrom\u001b[0m \u001b[0mtyping\u001b[0m \u001b[0;32mimport\u001b[0m \u001b[0mGenerator\u001b[0m\u001b[0;34m\u001b[0m\u001b[0;34m\u001b[0m\u001b[0m\n\u001b[1;32m      6\u001b[0m \u001b[0;34m\u001b[0m\u001b[0m\n\u001b[0;32m----> 7\u001b[0;31m \u001b[0;32mfrom\u001b[0m \u001b[0mpdfminer\u001b[0m\u001b[0;34m.\u001b[0m\u001b[0mhigh_level\u001b[0m \u001b[0;32mimport\u001b[0m \u001b[0mextract_pages\u001b[0m\u001b[0;34m\u001b[0m\u001b[0;34m\u001b[0m\u001b[0m\n\u001b[0m\u001b[1;32m      8\u001b[0m \u001b[0;32mfrom\u001b[0m \u001b[0mpdfminer\u001b[0m\u001b[0;34m.\u001b[0m\u001b[0mlayout\u001b[0m \u001b[0;32mimport\u001b[0m \u001b[0mLTTextContainer\u001b[0m\u001b[0;34m,\u001b[0m \u001b[0mLTChar\u001b[0m\u001b[0;34m,\u001b[0m \u001b[0mLTTextLine\u001b[0m\u001b[0;34m,\u001b[0m \u001b[0mLAParams\u001b[0m\u001b[0;34m,\u001b[0m \u001b[0mLTTextLineHorizontal\u001b[0m\u001b[0;34m\u001b[0m\u001b[0;34m\u001b[0m\u001b[0m\n\u001b[1;32m      9\u001b[0m \u001b[0;34m\u001b[0m\u001b[0m\n",
      "\u001b[0;31mImportError\u001b[0m: cannot import name 'extract_pages' from 'pdfminer.high_level' (/home/vince/.local/lib/python3.8/site-packages/pdfminer/high_level.py)"
     ]
    }
   ],
   "source": [
    "from pdfstructure.printer import JsonFilePrinter"
   ]
  },
  {
   "cell_type": "code",
   "execution_count": null,
   "id": "4eb73f7c",
   "metadata": {},
   "outputs": [],
   "source": []
  }
 ],
 "metadata": {
  "kernelspec": {
   "display_name": "Python 3",
   "language": "python",
   "name": "python3"
  },
  "language_info": {
   "codemirror_mode": {
    "name": "ipython",
    "version": 3
   },
   "file_extension": ".py",
   "mimetype": "text/x-python",
   "name": "python",
   "nbconvert_exporter": "python",
   "pygments_lexer": "ipython3",
   "version": "3.8.5"
  }
 },
 "nbformat": 4,
 "nbformat_minor": 5
}
