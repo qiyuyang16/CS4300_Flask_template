{
 "metadata": {
  "language_info": {
   "codemirror_mode": {
    "name": "ipython",
    "version": 3
   },
   "file_extension": ".py",
   "mimetype": "text/x-python",
   "name": "python",
   "nbconvert_exporter": "python",
   "pygments_lexer": "ipython3",
   "version": "3.8.5-final"
  },
  "orig_nbformat": 2,
  "kernelspec": {
   "name": "python385jvsc74a57bd004ac14935f6ed29b3349ee8f41114d2dfa2ba78ce87cf701ad9b7ca15955b787",
   "display_name": "Python 3.8.5 64-bit (conda)"
  }
 },
 "nbformat": 4,
 "nbformat_minor": 2,
 "cells": [
  {
   "cell_type": "code",
   "execution_count": 1,
   "metadata": {},
   "outputs": [],
   "source": [
    "from similarity_measures import preprocessing, cosine\n",
    "\n",
    "from pdfstructure.hierarchy.parser import HierarchyParser\n",
    "from pdfstructure.source import FileSource\n",
    "from pdfstructure.printer import JsonFilePrinter\n",
    "import json\n",
    "import pathlib\n",
    "\n",
    "import numpy as np\n",
    "import re"
   ]
  },
  {
   "cell_type": "code",
   "execution_count": 2,
   "metadata": {},
   "outputs": [],
   "source": [
    "def text_on_page(dict_var, id_json, list_res, page):\n",
    "    if type(dict_var) is dict:\n",
    "        for k, v in dict_var.items():\n",
    "            if k == id_json and v == page:\n",
    "                if v > page: return list_res\n",
    "                list_res.append(dict_var[\"text\"])\n",
    "            elif isinstance(v, dict):\n",
    "                text_on_page(v, id_json, list_res, page)   \n",
    "            elif isinstance(v, list):\n",
    "                for item in v:\n",
    "                    text_on_page(item, id_json, list_res, page)\n",
    "    return list_res\n",
    "\n",
    "\n",
    "def get_page(data, page):\n",
    "    lines = []\n",
    "    for chunk in data[\"elements\"]:\n",
    "        lines.extend(text_on_page(chunk, \"page\", [], page))             \n",
    "    return lines"
   ]
  },
  {
   "cell_type": "code",
   "execution_count": 3,
   "metadata": {},
   "outputs": [],
   "source": [
    "file = 'pdfs/Nurse.pdf'\n",
    "start = 25\n",
    "end = 50"
   ]
  },
  {
   "cell_type": "code",
   "execution_count": 4,
   "metadata": {},
   "outputs": [
    {
     "output_type": "execute_result",
     "data": {
      "text/plain": [
       "'c:\\\\Users\\\\james\\\\Documents\\\\Cornell\\\\2021SP\\\\CS4300\\\\Project\\\\CS4300_microGoogle\\\\pdf.json'"
      ]
     },
     "metadata": {},
     "execution_count": 4
    }
   ],
   "source": [
    "# TODO\n",
    "parser = HierarchyParser()\n",
    "source = FileSource(file, page_numbers=list(range(start-1, end)))\n",
    "document = parser.parse_pdf(source)\n",
    "printer = JsonFilePrinter()\n",
    "file_path = pathlib.Path('pdf.json')\n",
    "printer.print(document, file_path=str(file_path.absolute()))"
   ]
  },
  {
   "cell_type": "code",
   "execution_count": 5,
   "metadata": {},
   "outputs": [],
   "source": [
    "# TODO\n",
    "with open('pdf.json') as file:\n",
    "    data = json.load(file)\n",
    "file.close()\n",
    "pages = {i + start : get_page(data,i) for i in range(0, end-start+1)}"
   ]
  },
  {
   "cell_type": "code",
   "execution_count": 6,
   "metadata": {},
   "outputs": [
    {
     "output_type": "execute_result",
     "data": {
      "text/plain": [
       "['02doenges-02  2/2/04  11:56 AM  Page 7',\n",
       " 'Table 2–1. NURSING DIAGNOSES',\n",
       " 'Infection, risk for 307–310\\nInjury, risk for\\nInjury, risk for perioperative positioning 313–316\\nIntracranial Adaptive Capacity, decreased 316–319',\n",
       " '310–313',\n",
       " 'Knowledge, deficient [Learning Need] (specify)\\n*Knowledge (specify), readiness for enhanced 323–325',\n",
       " '319–323',\n",
       " 'Loneliness, risk for 326–328',\n",
       " 'Memory, impaired 328–331\\nMobility, impaired bed 331–333\\nMobility, impaired physical 333–337\\nMobility, impaired wheelchair 337–339',\n",
       " '(cid:2)Nausea 339–343',\n",
       " 'Noncompliance [Adherence, ineffective] [specify] 343–347\\nNutrition: imbalanced, less than body requirements\\nNutrition: imbalanced, more than body requirements 352–355\\nNutrition: imbalanced, risk for more than body requirements',\n",
       " '347–352',\n",
       " '356–358',\n",
       " '*Nutrition, readiness for enhanced 359–362',\n",
       " 'Oral Mucous Membrane, impaired 362–365',\n",
       " '374–377',\n",
       " 'Pain, acute 365–369\\nPain, chronic 370–374\\nParental Role Conflict\\nParenting, impaired 377–381\\n*Parenting, readiness for enhanced 381–385\\nParenting, risk for impaired 385–387\\nPeripheral Neurovascular Dysfunction, risk for 387–390\\nPersonal Identity, disturbed 390–393\\nPoisoning, risk for 393–396\\nPost-Trauma Syndrome [specify stage] 396–401\\nPost-Trauma Syndrome, risk for 402–404\\nPowerlessness [specify level]\\nPowerlessness, risk for\\n408–410\\nProtection, ineffective 411–412',\n",
       " '404–408',\n",
       " 'Rape-Trauma Syndrome 412–417\\nRape-Trauma Syndrome: compound reaction 413',\n",
       " '(cid:2)Revised NDs.',\n",
       " '*New to the 2nd NANDA/NIC/NOC (NNN) Conference.\\nInformation that appears in brackets has been added by the authors',\n",
       " 'to clarify and enhance the use of NDs.',\n",
       " 'Please  also  see  the  NANDA  diagnoses  grouped  according  to',\n",
       " 'Gordon’s Functional Health Patterns on the inside front cover.',\n",
       " '(Continued)',\n",
       " 'A P P L I C AT I O N   O F   T H E   N U R S I N G   P R O C E S S',\n",
       " '7']"
      ]
     },
     "metadata": {},
     "execution_count": 6
    }
   ],
   "source": [
    "pages[25]"
   ]
  },
  {
   "cell_type": "code",
   "execution_count": 40,
   "metadata": {},
   "outputs": [],
   "source": [
    "def get_formatted_docs(pages, max_paragraphs = 0):\n",
    "    \"\"\"\n",
    "    Format the pages extracted from pdf, by removing excessive whitespaces \n",
    "    but preserving punctuations, capital cases, etc.\n",
    "\n",
    "    [pages]: Dict{page_num: List[paragraph_text_string]]\n",
    "    [max_paragraphs]: maximum number of paragraphs allowed per page; if actual number of paragraphs \n",
    "                      exceed this number, then merge paragraphs to improve performance.\n",
    "                      if = 0, then no merging of paragraphs\n",
    "    return:\n",
    "        [formatted_docs]: Dict{parapgrah_idx: paragraph_text_string}\n",
    "        [paragraph_page_idxs]: Dict{paragraph_idx: page_num}\n",
    "    \"\"\"\n",
    "    formatted_docs = {}\n",
    "    paragraph_page_idxs = {}\n",
    "    paragraphs = []\n",
    "    for page_num in pages.keys():\n",
    "        arr = pages[page_num]\n",
    "        arr = [re.sub('-[\\n\\r\\t\\s]+', '', s) for s in arr] # words broken by line break\n",
    "        arr = [re.sub('[\\n\\r\\t\\s]+', ' ', s) for s in arr] # remove line break, tabs, whitespaces\n",
    "        if max_paragraphs > 0 and max_paragraphs < len(arr):\n",
    "            # TODO better merging\n",
    "            merged = '\\n'.join(arr)\n",
    "            arr = merged.split('\\n', maxsplit = max_paragraphs-1)\n",
    "            arr = [re.sub('[\\n\\r\\t\\s]+', ' ', s) for s in arr]\n",
    "        paragraphs += [(page_num, s) for s in arr]\n",
    "    for i in range(len(paragraphs)):\n",
    "        formatted_docs[i] = paragraphs[i][1]\n",
    "        paragraph_page_idxs[i] = paragraphs[i][0]\n",
    "    return (formatted_docs, paragraph_page_idxs)"
   ]
  },
  {
   "cell_type": "code",
   "execution_count": 60,
   "metadata": {},
   "outputs": [],
   "source": [
    "docs, idx = get_formatted_docs(pages, max_paragraphs = 5)"
   ]
  },
  {
   "cell_type": "code",
   "execution_count": 61,
   "metadata": {},
   "outputs": [
    {
     "output_type": "execute_result",
     "data": {
      "text/plain": [
       "38"
      ]
     },
     "metadata": {},
     "execution_count": 61
    }
   ],
   "source": [
    "np.argmin([len(d) for d in docs.values()])"
   ]
  },
  {
   "cell_type": "code",
   "execution_count": 64,
   "metadata": {},
   "outputs": [
    {
     "output_type": "execute_result",
     "data": {
      "text/plain": [
       "'Interventions are designed to specify the action of the nurse, the client, and/or SOs. Interventions need to promote the client’s movement toward health/independence in addition to achievement of physiologic stability. This requires involvement of the client in his or her own care, including participation in decisions about care activities and projected outcomes.'"
      ]
     },
     "metadata": {},
     "execution_count": 64
    }
   ],
   "source": [
    "docs[33]"
   ]
  },
  {
   "cell_type": "code",
   "execution_count": 7,
   "metadata": {},
   "outputs": [],
   "source": [
    "(formatted_docs, paragraph_page_idx) = preprocessing.get_formatted_docs(pages)\n",
    "preprocessed_docs = preprocessing.get_preprocessed_docs(formatted_docs)\n",
    "tfidf_vectorizer = cosine.get_tfidf_vectorizer()\n",
    "tfidf_matrix = tfidf_vectorizer.fit_transform(list(preprocessed_docs.values())).toarray()"
   ]
  },
  {
   "cell_type": "code",
   "execution_count": 8,
   "metadata": {},
   "outputs": [
    {
     "output_type": "stream",
     "name": "stdout",
     "text": [
      "1,   cosine score: 0.7692868436690928,   page: 41\nYears in relationship:\n\n\n2,   cosine score: 0.49085131502080787,   page: 27\nTable 2–1. NURSING DIAGNOSES\n\n\n3,   cosine score: 0.49085131502080787,   page: 25\nTable 2–1. NURSING DIAGNOSES\n\n\n4,   cosine score: 0.43523447746603067,   page: 28\nThe key to accurate diagnosis is collection and analysis of data. In Chapter 3, the NDs have been categorized into divisions (Diagnostic Divisions: Nursing Diagnoses Organized According to a Nursing Focus, Section 2) and an assessment tool designed to assist the nurse to identify appropriate NDs as the data are collected. Nurses may feel at risk in committing themselves to documenting a nursing diagnosis for fear they might be wrong. However, unlike medical diagnoses, NDs can change as the client progresses through various stages of illness/maladaptation to resolution of the condition/situation.\n\n\n5,   cosine score: 0.41722324588943355,   page: 26\nTable 2–1. NURSING DIAGNOSES (CONTINUED)\n\n\n6,   cosine score: 0.3992018499568573,   page: 33\nASSESSMENT TOOLS FOR CHOOSING NURSING DIAGNOSES\n\n\n7,   cosine score: 0.3986958380021454,   page: 30\nThe client assessment is the foundation on which identification of individual needs, responses, and problems is based. To facilitate the steps of assessment and diagnosis in the nursing process, an assessment tool (Assessment Tools for Choosing Nursing Diagnoses, Section 1) has been constructed using a nursing focus instead of the medical approach of “review of systems.” This has the advantage of identifying and validating nursing diagnoses (NDs) as opposed to medical diagnoses.\n\n\n8,   cosine score: 0.3843657116607863,   page: 30\nTo achieve this nursing focus, we have grouped the NANDA International (formerly the North American Nursing Diagnosis Association) NDs into related categories titled Diagnostic Divisions (Section 2), which reflect a blending of theories, primarily Maslow’s Hierarchy of Needs and a self-care philosophy. These divisions serve as the framework or outline for data collection/clustering that focuses attention on the nurse’s phenomena of concern—the human responses to actual and potential health problems—and directs the nurse to the most likely corresponding NDs.\n\n\n9,   cosine score: 0.3051448894900202,   page: 48\nDelivery history: Year: Length of gestation: Type of delivery: Born (alive or dead): Weight:\n\n\n10,   cosine score: 0.2783198764143709,   page: 31\nSection 3, “Client Situation and Prototype Plan of Care,” contains a sample plan of care formulated on data collected in the nursing model assessment tool. Individualized client diagnostic statements and desired client outcomes (with timelines added to reflect anticipated length of stay and individual client/nurse expectations) have been identified. Interventions have been chosen based on concerns/needs identified by the client and nurse during data collection, as well as by physician orders.\n\n\n"
     ]
    }
   ],
   "source": [
    "query = 'many years ago the nursing profession'\n",
    "q = cosine.get_query_vector(query, tfidf_vectorizer)\n",
    "cos_sims = cosine.get_cosine_sim(q, tfidf_matrix)\n",
    "(rankings, scores) = cosine.get_rankings(cos_sims)\n",
    "cosine.display_rankings(rankings, scores, formatted_docs, paragraph_page_idx)"
   ]
  }
 ]
}