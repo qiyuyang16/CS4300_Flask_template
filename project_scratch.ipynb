{
 "cells": [
  {
   "cell_type": "code",
   "execution_count": 1,
   "id": "latin-salem",
   "metadata": {},
   "outputs": [],
   "source": [
    "%config Completer.use_jedi = False"
   ]
  },
  {
   "cell_type": "code",
   "execution_count": 2,
   "id": "b674b3ee",
   "metadata": {},
   "outputs": [],
   "source": [
    "import numpy as np\n",
    "import pandas as pd\n",
    "import preprocessing2\n",
    "import cosine2\n",
    "import plotly.express as px\n",
    "\n",
    "from pdfstructure.hierarchy.parser import HierarchyParser\n",
    "from pdfstructure.source import FileSource\n",
    "from pdfstructure.printer import JsonFilePrinter\n",
    "import pathlib\n",
    "import json"
   ]
  },
  {
   "cell_type": "code",
   "execution_count": 3,
   "id": "1d00e14e",
   "metadata": {},
   "outputs": [],
   "source": [
    "def text_on_page(dict_var, id_json, list_res, page):\n",
    "    if type(dict_var) is dict:\n",
    "        for k, v in dict_var.items():\n",
    "            if k == id_json and v == page:\n",
    "                if v > page: return list_res\n",
    "                list_res.append(dict_var[\"text\"])\n",
    "            elif isinstance(v, dict):\n",
    "                text_on_page(v, id_json, list_res, page)   \n",
    "            elif isinstance(v, list):\n",
    "                for item in v:\n",
    "                    text_on_page(item, id_json, list_res, page)\n",
    "    return list_res"
   ]
  },
  {
   "cell_type": "code",
   "execution_count": 4,
   "id": "4392a2f3",
   "metadata": {},
   "outputs": [],
   "source": [
    "def get_page(data, page):\n",
    "    lines = []\n",
    "    for chunk in data[\"elements\"]:\n",
    "        lines.extend(text_on_page(chunk, \"page\", [], page))             \n",
    "    return lines"
   ]
  },
  {
   "cell_type": "code",
   "execution_count": 5,
   "id": "c125a0e6",
   "metadata": {},
   "outputs": [],
   "source": [
    "def get_histogram(docs, top = 20):\n",
    "    tokens = []\n",
    "    for s in docs.values():\n",
    "        tokens += s.split()\n",
    "    uniques, counts = np.unique(tokens, return_counts = True)\n",
    "    sorted_inds = np.argsort(counts)\n",
    "    uniques_sorted = uniques[sorted_inds[-top:]][::-1]\n",
    "    counts_sorted = counts[sorted_inds[-top:]][::-1]\n",
    "    return (uniques_sorted, counts_sorted)"
   ]
  },
  {
   "cell_type": "code",
   "execution_count": 6,
   "id": "0dd6d89b",
   "metadata": {},
   "outputs": [],
   "source": [
    "file = '/home/vince/Documents/Code/microgoogle/CS4300_microGoogle/pdfs/Nurse.pdf'\n",
    "start = 1\n",
    "end = 50"
   ]
  },
  {
   "cell_type": "code",
   "execution_count": 7,
   "id": "4bd39d0c",
   "metadata": {},
   "outputs": [],
   "source": [
    "parser = HierarchyParser()\n",
    "source = FileSource(file, page_numbers=list(range(start-1, end)))"
   ]
  },
  {
   "cell_type": "code",
   "execution_count": 8,
   "id": "4c8f6d23",
   "metadata": {},
   "outputs": [],
   "source": [
    "# @st.cache(suppress_st_warning=True)\n",
    "def fetch_doc(source):\n",
    "    document = parser.parse_pdf(source)\n",
    "    printer = JsonFilePrinter()\n",
    "    file_path = pathlib.Path('pdf.json')\n",
    "    printer.print(document, file_path=str(file_path.absolute()))\n",
    "    with open('pdf.json') as json_file:\n",
    "            data = json.load(json_file)\n",
    "    pages = {i : get_page(data, i) for i in range(start-1, end)}\n",
    "    return pages"
   ]
  },
  {
   "cell_type": "code",
   "execution_count": 9,
   "id": "63a66c7c",
   "metadata": {},
   "outputs": [],
   "source": [
    "json = fetch_doc(source)"
   ]
  },
  {
   "cell_type": "code",
   "execution_count": 10,
   "id": "03fd5899",
   "metadata": {},
   "outputs": [
    {
     "data": {
      "text/plain": [
       "{0: [],\n",
       " 1: ['00doenges-FM  2/2/04  11:54 AM  Page ii',\n",
       "  'GORDON’S FUNCTIONAL HEALTH',\n",
       "  'PATTERNS THROUGH 2003*',\n",
       "  '522–525',\n",
       "  'HEALTH PERCEPTION-HEALTH MANAGEMENT PATTERN\\nHealth maintenance, ineffective 275–278\\nTherapeutic regimen: effective management 517–519\\nTherapeutic regimen: ineffective management\\nTherapeutic regimen: readiness for enhanced management 525–527\\nTherapeutic regimen: family, ineffective management 520–522\\nTherapeutic regimen: community, ineffective management\\nNoncompliance (specify) 343–347\\nHealth-seeking behaviors (specify) 278–281\\nEnergy field, disturbed 208–211\\nFalls, risk for\\nInfection, risk for\\nInjury (trauma), risk for 310–313\\nProtection, ineffective 411–412\\nPoisoning, risk for 393–396\\nSuffocation, risk for 500–503\\nPerioperative positioning injury, risk for 313–316\\nSudden infant death syndrome 185–189',\n",
       "  '307–310',\n",
       "  '515–517',\n",
       "  '217–221',\n",
       "  '339–343',\n",
       "  '304–306',\n",
       "  '110–114',\n",
       "  'NUTRITIONAL-METABOLIC PATTERN\\nNutrition: more than body requirements, imbalanced 352–355\\nNutrition: more than body requirements, risk for imbalanced 356–358\\nNutrition: less than body requirements, imbalanced 347–352\\nNutrition, readiness for enhanced 359–362\\nBreastfeeding, ineffective\\nBreastfeeding, effective 108–110\\nBreastfeeding, interrupted 115–117\\nInfant feeding pattern, ineffective\\nAspiration, risk for 86–89\\nSwallowing, impaired 510–515\\nNausea\\nOral mucous membrane, impaired 362–365\\nDentition, impaired 191–194\\nFluid balance, readiness for enhanced 239–242\\nFluid volume imbalance, risk for 254–256\\nFluid volume, risk for deficient\\nFluid volume, deficient\\nFluid volume, excess 249–252\\nSkin integrity, impaired 461–465\\nSkin integrity, risk for impaired 465–468\\nTissue integrity (specify type), impaired 533–537\\nBody temperature, risk for imbalanced 102–104\\nLatex allergy response\\n73–75\\nLatex allergy response, risk for\\nThermoregulation, ineffective\\nHyperthermia\\nHypothermia 291–295\\nFailure to thrive, adult 214–217',\n",
       "  '527–529',\n",
       "  '287–290',\n",
       "  '245–248',\n",
       "  '252–254',\n",
       "  '76–78',\n",
       "  'ELIMINATION PATTERN\\nConstipation 153–157\\nConstipation, risk for\\nConstipation, perceived 157–159\\nDiarrhea\\n197–200\\nBowel incontinence\\nUrinary elimination, impaired 554–558',\n",
       "  '159–161',\n",
       "  '105–107',\n",
       "  '*Reprinted from Manual of Nursing Diagnosis, 10th ed., M. Gordon, Copyright 2002, with',\n",
       "  'permission from Elsevier.'],\n",
       " 2: ['00doenges-FM  2/2/04  11:54 AM  Page i',\n",
       "  'Urinary elimination, readiness for enhanced 558–561\\nUrinary incontinence, functional\\nUrinary incontinence, reflex 564–566\\nUrinary incontinence, stress 567–569\\nUrinary incontinence, urge 572–575\\nUrinary urge incontinence, risk for 576–578\\nIncontinence, total\\nUrinary retention 578–581',\n",
       "  '570–572',\n",
       "  '561–564',\n",
       "  '232–236',\n",
       "  'ACTIVITY-EXERCISE PATTERN\\nActivity intolerance, risk for 60–63\\nActivity intolerance (specify level) 63–65\\nAdaptive capacity, decreased, intracranial 316–319\\nInfant behavior, disorganized 295–301\\nInfant behavior, risk for disorganized 303–304\\nInfant behavior, readiness for enhanced organized 301–303\\nFatigue\\nPhysical mobility, impaired 333–337\\nBed mobility, impaired 331–333\\nWalking, impaired 597–599\\nWheelchair mobility, impaired 337–339\\nTransfer ability, impaired 544–546\\nDevelopment, risk for delayed 194–197\\nAutonomic dysreflexia 92–95\\nAutonomic dysreflexia, risk for 95–97\\nDisuse syndrome, risk for 200–205\\nSelf-care deficit (specify: bathing/hygiene, dressing/grooming, feeding, toileting)',\n",
       "  '425–430',\n",
       "  '586–590',\n",
       "  '581–586',\n",
       "  'Diversional activity deficient 205–208\\nHome maintenance, impaired 281–283\\nDysfunctional ventilatory weaning response\\nVentilation, impaired spontaneous\\nAirway clearance, ineffective\\nBreathing pattern, ineffective 117–121\\nGas exchange, impaired 256–260\\nCardiac output, decreased 121–126\\nTissue perfusion, alteration (specify) 537–544\\nPeripheral neurovascular dysfunction, risk for 387–390\\nSurgical recovery, delayed 507–510\\nGrowth and development, delayed 266–271\\nGrowth, risk for disproportionate 271–275\\nWandering',\n",
       "  '599–602',\n",
       "  '69–72',\n",
       "  'SLEEP-REST PATTERN\\nSleep-pattern disturbed 472–477\\nSleep deprivation 468–472\\nSleep, readiness for enhanced 477–480',\n",
       "  '551–554',\n",
       "  'COGNITIVE-PERCEPTUAL PATTERN\\nAcute pain 365–369\\nChronic pain 370–374\\nSensory perception, disturbed (specify) 449–454\\nUnilateral neglect\\nKnowledge deficit (specify) 319–323\\nKnowledge, readiness for enhanced 323–325\\nMemory, impaired 328–331\\nThought processes, disturbed 529–533\\nAcute confusion 147–150\\nChronic confusion 150–153\\nEnvironmental interpretation syndrome, impaired 211–214\\nDecisional conflict (specify)',\n",
       "  '144–147',\n",
       "  'SELF-PERCEPTION-SELF-CONCEPT PATTERN\\nFear\\nAnxiety 78–83',\n",
       "  '236–239'],\n",
       " 3: ['00doenges-FM  2/2/04  11:54 AM  Page ii',\n",
       "  '404–408',\n",
       "  '408–410',\n",
       "  '283–287',\n",
       "  'Anxiety, death 83–86\\nHopelessness\\nPowerlessness\\nPowerlessness, risk for\\nLoneliness, risk for\\nSelf-concept, readiness for enhanced 430–433\\nChronic low self-esteem 433–437\\nSituational low self-esteem 437–440\\nSituational low self-esteem, risk for 440–441\\nBody image disturbed 98–102\\nPersonal identity disturbed 390–393\\nViolence, risk for self-directed 591–596',\n",
       "  '326–328',\n",
       "  'ROLE-RELATIONSHIP PATTERN\\nAnticipatory grieving 260–263\\nDysfunctional grieving 263–266\\nChronic sorrow 487–489\\nRole performance, ineffective 422–425\\nSocial isolation 484–487\\nImpaired social interaction 480–484\\nRelocation stress syndrome 417–420\\nRelocation stress syndrome, risk for\\nFamily processes, interrupted 225–228\\nFamily processes, readiness for enhanced 228–232\\nDysfunctional family processes: alcoholism 221–225\\nImpaired parenting, risk for 385–387\\nImpaired parenting\\nParenting, readiness for enhanced 381–385\\nImpaired parent/infant/child attachment, risk for 89–92\\nParental role conflict\\n374–377\\nCaregiver role strain 126–132\\nCaregiver role strain, risk for 132–135\\nImpaired verbal communication 135–139\\nCommunication, readiness for enhanced 139–143\\nRisk for violence, directed at others 590–591',\n",
       "  '377–381',\n",
       "  '421–422',\n",
       "  'SEXUALITY-REPRODUCTIVE\\nSexual dysfunction 454–458\\nIneffective sexuality patterns\\nRape-trauma syndrome 412–417\\nRape-trauma syndrome: compound reaction 413\\nRape-trauma syndrome: silent reaction 413',\n",
       "  '472–477',\n",
       "  '178–182',\n",
       "  'COPING-STRESS TOLERANCE PATTERN\\nIneffective coping\\nCoping, readiness for enhanced 182–185\\nDefensive coping 166–169\\nCommunity coping, ineffective 162–164\\nCommunity coping, readiness for enhanced 164–166\\nIneffective denial\\nImpaired adjustment 66–69\\nPost-trauma syndrome 396–401\\nPost-trauma syndrome, risk for 402–404\\nFamily coping: readiness for enhanced 175–177\\nIneffective family coping: compromised 169–172\\nIneffective family coping: disabling 172–175\\n503–507\\nRisk for suicide\\nSelf-mutilation 442–445\\nSelf-mutilation, risk for',\n",
       "  '445–449',\n",
       "  '189–191',\n",
       "  'VALUE-BELIEF PATTERN\\nSpiritual distress\\n490–494\\nSpiritual distress, risk for 494–497\\nSpiritual well-being, readiness for enhanced 497–500'],\n",
       " 4: ['00doenges-FM  2/2/04  11:54 AM  Page iii',\n",
       "  'Nurse’s Pocket Guide',\n",
       "  'Diagnoses, Interventions,\\nand Rationales'],\n",
       " 5: ['00doenges-FM  2/2/04  11:54 AM  Page iv'],\n",
       " 6: ['00doenges-FM  2/2/04  11:54 AM  Page v',\n",
       "  'Nurse’s Pocket Guide',\n",
       "  'Diagnoses, Interventions,\\nand Rationales',\n",
       "  'NINTH EDITION',\n",
       "  'Marilynn E. Doenges, RN, BSN, MA',\n",
       "  'Clinical Specialist—Adult Psychiatric/Mental Health, Retired\\nAdjunct Faculty\\nBeth-El College of Nursing and Health Sciences CU-Springs\\nColorado Springs, Colorado',\n",
       "  'Mary Frances Moorhouse, RN, BSN, CRRN, CLNC',\n",
       "  'Nurse Consultant\\nTNT-RN Enterprises\\nAdjunct Faculty\\nPikes Peak Community College\\nColorado Springs, Colorado',\n",
       "  'Alice C. Murr, RN, BSN',\n",
       "  'Telephone Triage Nurse\\nLegal Nurse Consultant\\nColorado Springs, Colorado',\n",
       "  'F.A. Davis Company • Philadelphia'],\n",
       " 7: ['00doenges-FM  2/2/04  11:54 AM  Page vi',\n",
       "  'F.A. Davis Company\\n1915 Arch Street\\nPhiladelphia, PA 19103\\nwww. fadavis.com',\n",
       "  'Copyright © 2004 by F.A. Davis Company',\n",
       "  'Copyright  ©  1985, 1988, 1991, 1993, 1996, 1998, 2000, 2002  by  F.A.\\nDavis Company. All rights reserved. This book is protected by copyright.\\nNo part of it may be reproduced, stored in a retrieval system, or trans-\\nmitted  in  any  form  or  by  any  means, electronic, mechanical, photo-\\ncopying, recording, or otherwise, without written permission from the\\npublisher.',\n",
       "  'Last digit indicates print number: 10 9 8 7 6 5 4 3 2 1',\n",
       "  'Printed in Canada',\n",
       "  'Publisher: Robert G. Martone\\nCover Design: Joan Wendt',\n",
       "  'As new scientific information becomes available through basic and clin-\\nical  research, recommended  treatments  and  drug  therapies  undergo\\nchanges. The author(s) and publisher have done everything possible to\\nmake this book accurate, up to date, and in accord with accepted stan-\\ndards at the time of publication. The authors, editors, and publisher are\\nnot responsible for errors or omissions or for consequences from appli-\\ncation  of the  book, and  make  no  warranty, expressed  or  implied, in\\nregard to the contents of the book. Any practice described in this book\\nshould be applied by the reader in accordance with professional stan-\\ndards of care used in regard to the unique circumstances that may apply\\nin each situation. The reader is advised always to check product infor-\\nmation  (package  inserts)  for  changes  and  new  information  regarding\\ndose and contraindications before administering any drug. Caution is\\nespecially urged when using new or infrequently ordered drugs.',\n",
       "  'ISBN 0-8036-1179-X',\n",
       "  'Authorization  to  photocopy  items  for  internal  or  personal  use, or  the\\ninternal  or  personal  use  of specific  clients, is  granted  by  F.A. Davis\\nCompany  for  users  registered  with  the  Copyright  Clearance  Center\\n(CCC)  Transactional  Reporting  Service, provided  that  the  fee  of $.10\\nper  copy  is  paid  directly  to  CCC, 222  Rosewood  Drive, Danvers, MA\\n01923. For  those  organizations  that  have  been  granted  a  photocopy\\nlicense  by  CCC, a  separate  system  of payment  has  been  arranged.\\nThe fee code for users of the Transactional Reporting Service is: 8036-\\n0948/02 0 + $.10.'],\n",
       " 8: ['00doenges-FM  2/2/04  11:54 AM  Page vii',\n",
       "  'Contributor',\n",
       "  'Sheila Marquez\\nExecutive Director\\nVice President/Chief Operating Officer\\nThe Colorado SIDS Program, Inc.\\nDenver, Colorado'],\n",
       " 9: ['00doenges-FM  2/2/04  11:54 AM  Page viii'],\n",
       " 10: ['00doenges-FM  2/2/04  11:54 AM  Page ix',\n",
       "  'Dedication',\n",
       "  'This book is dedicated to:',\n",
       "  'Our  families, who  helped  with  the  mundane  activities  of\\ndaily living that allowed us to write this book and who provide\\nus with love and encouragement in all our endeavors.',\n",
       "  'Our friends, who support us in our writing, put up with our',\n",
       "  'memory lapses, and love us still.',\n",
       "  'Bob  Martone, Publisher, Nursing, who  asks  questions  that\\nstimulate  thought  and  discussion, and  who  maintains  good\\nhumor throughout.',\n",
       "  'The F.A. Davis production staff, who coordinated and expe-\\ndited the project through the printing process, meeting unreal\\ndeadlines, and sending pages to us with bated breath.',\n",
       "  'Robert H. Craven, Jr., and the F.A. Davis family.',\n",
       "  'And last and most important:\\nThe nurses we are writing for, to those who have found the\\nprevious  editions  of the  Pocket  Guide  helpful, and  to  other\\nnurses who are looking for help to provide quality nursing care\\nin a period of transition and change, we say, “Nursing Diagnosis\\nis the way.”',\n",
       "  'ACKNOWLEDGMENTS',\n",
       "  'A special acknowledgment to Marilynn’s friend, the late Diane\\nCamillone, who  provoked  an  awareness  of the  role  of the\\npatient  and  continues  to  influence  our  thoughts  about  the\\nimportance  of quality  nursing  care, and  to  our  late  colleague,\\nMary Jeffries, who introduced us to nursing diagnosis.',\n",
       "  'To our colleagues in NANDA who continue to formulate and\\nrefine  nursing  diagnoses  to  provide  nursing  with  the  tools  to\\nenhance and promote the growth of the profession.',\n",
       "  'Marilynn E. Doenges',\n",
       "  'Mary Frances Moorhouse',\n",
       "  'Alice C. Murr'],\n",
       " 11: ['00doenges-FM  2/2/04  11:54 AM  Page x'],\n",
       " 12: ['00doenges-FM  2/2/04  11:54 AM  Page xi',\n",
       "  'Contents',\n",
       "  'Health Conditions and Client Concerns with Associated Nursing\\nDiagnoses appear on pages 603-720.',\n",
       "  'How to Use the Nurse’s Pocket Guide ..................................xiii',\n",
       "  'The Nursing Process ..................................................................1',\n",
       "  'Application of the Nursing Process ..........................................4',\n",
       "  'CHAPTER 1',\n",
       "  'CHAPTER 2',\n",
       "  'CHAPTER 3',\n",
       "  'Putting Theory into Practice: Sample\\nAssessment Tools, Plan of Care,\\nand Documentation ................................................................12',\n",
       "  'SECTION 1\\nAssessment Tools for Choosing\\nNursing Diagnoses  ..............................................................15',\n",
       "  'Adult Medical/Surgical Assessment Tool 16\\nExcerpt from Psychiatric Assessment Tool\\nExcerpt from Prenatal Assessment Tool\\nExcerpt from Intrapartal Assessment Tool',\n",
       "  '29',\n",
       "  '26',\n",
       "  '31',\n",
       "  'SECTION 2\\nDiagnostic Divisions: Nursing Diagnoses\\nOrganized According to a Nursing Focus ..........................33',\n",
       "  'SECTION 3\\nClient Situation and Prototype Plan of Care ......................39',\n",
       "  'SECTION 4\\nDocumentation Techniques: SOAP\\nand Focus Charting® ............................................................55',\n",
       "  'CHAPTER 4',\n",
       "  'Nursing Diagnoses in Alphabetical Order ............................60',\n",
       "  'For each nursing diagnosis, the following information is provided:\\nTaxonomy II, Domain, Class, Code, Year Submitted',\n",
       "  'xi'],\n",
       " 13: ['00doenges-FM  2/2/04  11:54 AM  Page xii',\n",
       "  'Diagnostic Division\\nDefinition\\nRelated/Risk Factors, Defining Characteristics:',\n",
       "  'Subjective/Objective\\nDesired Outcomes/Evaluation Criteria\\nActions/Interventions\\nNursing Priorities\\nDocumentation Focus\\nSample Nursing Outcomes & Interventions Classifications',\n",
       "  '(NOC/NIC)',\n",
       "  'CHAPTER 5',\n",
       "  'APPENDIX 1',\n",
       "  'APPENDIX 2',\n",
       "  'Health Conditions and Client Concerns\\nwith Associated Nursing Diagnoses ....................................603',\n",
       "  'NANDA’s Taxonomy II ..........................................................732',\n",
       "  'Definitions of Taxonomy II Axes ..........................................736',\n",
       "  'Bibliography ..........................................................................739',\n",
       "  'Index ......................................................................................749',\n",
       "  'xii',\n",
       "  'C O N T E N T S'],\n",
       " 14: ['00doenges-FM  2/2/04  11:54 AM  Page xiii',\n",
       "  'How to Use the\\nNurse’s Pocket Guide',\n",
       "  'The  American  Nurses  Association  (ANA)  Social  Policy\\nStatement of 1980 was the first to define nursing as the diagno-\\nsis  and  treatment  of human  responses  to  actual  and  potential\\nhealth problems. This definition, when combined with the ANA\\nStandards of Practice, has provided impetus and support for the\\nuse  of nursing  diagnosis. Defining  nursing  and  its  effect  on\\nclient care supports the growing awareness that nursing care is\\na key factor in client survival and in the maintenance, rehabili-\\ntative, and  preventive  aspects  of healthcare. Changes  and  new\\ndevelopments  in  healthcare  delivery  in  the  last  decade  have\\ngiven rise to the need for a common framework of communica-\\ntion to ensure continuity of care for the client moving between\\nmultiple  healthcare  settings  and  providers. Evaluation  and\\ndocumentation of care are important parts of this process.',\n",
       "  'This  book  is  designed  to  aid  the  practitioner  and  student\\nnurse  in  identifying  interventions  commonly  associated  with\\nspecific  nursing  diagnoses  as  proposed  by  NANDA  Inter-\\nnational  (formerly  the  North  American  Nursing  Diagnosis\\nAssociation). These  interventions  are  the  activities  needed  to\\nimplement  and  document  care  provided  to  the  individual\\nclient and can be used in varied settings from acute to commu-\\nnity/home care.',\n",
       "  'Chapters  1  and  2  present  brief discussions  of the  nursing\\nprocess, data collection, and care plan construction. Chapter 3\\ncontains  the  Diagnostic  Divisions, Assessment  Tool, a  sample\\nplan of care, and corresponding documentation/charting exam-\\nples. For more in-depth information and inclusive plans of care\\nrelated to specific medical/psychiatric conditions (with ration-\\nale and the application of the diagnoses), the nurse is referred\\nto  the  larger  works, all  published  by  the  F.A. Davis  Company:\\nNursing  Care  Plans:  Guidelines  for  Planning  and  Documenting\\nPatient Care, ed. 6 (Doenges, Moorhouse, Geissler-Murr, 2002);\\nPsychiatric Care Plans: Guidelines for Planning and Documenting\\nClient Care, ed. 3 (Doenges, Townsend, Moorhouse, 1998); and\\nMaternal/Newborn  Plans  of Care:  Guidelines  for  Planning  and\\nDocumenting Client Care, ed. 3 (Doenges, Moorhouse, 1999).',\n",
       "  'Nursing  diagnoses  are  listed  alphabetically  in  Chapter  4  for\\nease of reference and include the diagnoses accepted for use by',\n",
       "  'xiii'],\n",
       " 15: ['00doenges-FM  2/2/04  11:54 AM  Page xiv',\n",
       "  'NANDA  through  2003. Each  approved  diagnosis  includes  its\\ndefinition and information divided into the NANDA categories\\nof Related  or  Risk  Factors  and  Defining  Characteristics.\\ninformation  reflects  causative  or\\nRelated/Risk  Factors \\ncontributing factors that can be useful for determining whether\\nthe  diagnosis  is  applicable  to  a  particular  client. Defining\\nCharacteristics  (signs  and  symptoms  or  cues)  are  listed  as\\nsubjective and/or objective and are used to confirm actual diag-\\nnoses, aid in formulating outcomes, and provide additional data\\nfor  choosing  appropriate  interventions. The  authors  have  not\\ndeleted or altered NANDA’s listings; however, on occasion, they\\nhave added to their definitions and suggested additional criteria\\nto  provide  clarification  and  direction. These  additions  are\\ndenoted with brackets [   ].',\n",
       "  'With  the  development  and  acceptance  of Taxonomy  II\\nfollowing  the  biennial  conference  in  2000, significant  changes\\nwere made to better reflect the content of the diagnoses within\\nthe taxonomy. It is designed to reduce miscalculations, errors,\\nand redundancies. The framework has been changed from the\\nHuman  Response  Patterns  and  is  organized  in  Domains  only\\nand  Classes, with  13  domains, 105  classes, and  167  diagnoses.\\nAlthough clinicians will use the actual diagnoses, understanding\\nthe taxonomic structure will help the nurse to find the desired\\ninformation quickly. Taxonomy II is designed to be multiaxial\\nwith 7 axes (see Appendix 2). An axis is defined as a dimension\\nof the  human  response  that  is  considered  in  the  diagnostic\\nprocess. Sometimes  an  axis  may  be  included  in  the  diagnostic\\nconcept, such  as  ineffective  community  coping  in  which  the\\nunit of care (e.g., community) is named. Some are implicit, such\\nas activity intolerance in which the individual is the unit of care.\\nSometimes an axis may not be pertinent to a particular diagno-\\nsis and will not be a part of the nursing diagnosis label or code.\\nFor example, the time axis may not be relevant to each diagnos-\\ntic situation. The Taxonomic Domain and Class are noted under\\neach nursing diagnosis heading. An Axis 6 descriptor is included\\nin each nursing diagnosis label.',\n",
       "  'The  ANA,',\n",
       "  'in  conjunction  with  NANDA, proposed  that\\nspecific  nursing  diagnoses  currently  approved  and  structured\\naccording  to  Taxonomy  I  Revised  be  included  in  the  Inter-\\nnational  Classification  of Diseases  (ICD)  within  the  section\\n“Family  of Health-Related  Classifications.” While  the  World\\nHealth Organization did not accept this initial proposal because\\nof lack of documentation of the usefulness of nursing diagnoses\\nat the international level, the NANDA list has been accepted by\\nSNOMED  (Systemized  Nomenclature  of Medicine)  for  inclu-\\nsion  in  its  international  coding  system  and  is  included  in  the\\nUnified  Medical  Language  System  of the  National  Library  of',\n",
       "  'xiv',\n",
       "  'H O W   T O   U S E   T H E   N U R S E ’ S   P O C K E T   G U I D E'],\n",
       " 16: ['00doenges-FM  2/2/04  11:54 AM  Page xv',\n",
       "  'Medicine. Today, researchers from around the world are validat-\\ning nursing diagnoses in support for resubmission and accep-\\ntance in future additions of ICD.',\n",
       "  'The  authors  have  chosen  to  categorize  the  list  of nursing\\ndiagnoses approved for clinical use and testing into Diagnostic\\nDivisions, which  is  the  framework  for  an  assessment  tool\\n(Chapter  3)  designed  to  assist  the  nurse  to  readily  identify  an\\nappropriate  nursing  diagnosis  from  data  collected  during  the\\nassessment  process. The  Diagnostic  Division  label  is  included\\nfollowing  the  Taxonomic  label  under  each  nursing  diagnosis\\nheading.',\n",
       "  'Desired Outcomes/Evaluation Criteria are identified to assist\\nthe  nurse  in  formulating  individual  client  outcomes  and  to\\nsupport the evaluation process.',\n",
       "  'Interventions  in  this  pocket  guide  are  primarily  directed  to\\nadult  care  settings  (although  general  age  span  considerations\\nare  included)  and  are  listed  according  to  nursing  priorities.\\nSome  interventions  require  collaborative  or  interdependent\\norders  (e.g., medical, psychiatric), and  the  nurse  will  need  to\\ndetermine  when  this  is  necessary  and  take  the  appropriate\\naction. Although all defining characteristics are listed, interven-\\ntions that address specialty areas outside the scope of this book\\nare  not  routinely  presented  (e.g., obstetrics/gynecology/pedi-\\natrics)  except  for  diagnoses  that  are  infancy-oriented, such  as\\nBreastfeeding, ineffective; Infant  Behavior, disorganized; and\\nParent/Infant/Child  Attachment, risk  for  impaired. For  exam-\\nple, when addressing deficient Fluid Volume, isotonic (hemor-\\nrhage), the nurse is directed to stop blood loss; however, specific\\ndirection to perform fundal massage is not listed.',\n",
       "  'The  inclusion  of Documentation  Focus  suggestions  is  to\\nremind the nurse of the importance and necessity of recording\\nthe steps of the nursing process.',\n",
       "  'Finally, in  recognition  of the  ongoing  work  of numerous\\nresearchers over the past 15 years, the authors have referenced\\nthe  Nursing  Interventions  and  Outcomes  labels  developed  by\\nthe  Iowa  Intervention  Projects  (Bulechek  &  McCloskey;\\nJohnson, Mass, & Moorhead). These groups have been classify-\\ning  nursing  interventions  and  outcomes  to  predict  resource\\nrequirements  and  measure  outcomes, thereby  meeting  the\\nneeds  of a  standardized  language  that  can  be  coded  for\\ncomputer and reimbursement purposes. As an introduction to\\nthis work in progress, sample NIC and NOC labels have been\\nincluded  under  the  heading  Sample  Nursing  Interventions  &\\nOutcomes  Classifications  at  the  conclusion  of each  nursing\\ndiagnosis section. The reader is referred to the various publica-\\ntions by Joanne C. McCloskey and Marion Johnson for more in-\\ndepth information.',\n",
       "  'H O W   T O   U S E   T H E   N U R S E ’ S   P O C K E T   G U I D E',\n",
       "  'xv'],\n",
       " 17: ['00doenges-FM  2/2/04  11:54 AM  Page xvi',\n",
       "  'Chapter  5  presents  over  400  disorders/health  conditions\\nreflecting all specialty areas, with associated nursing diagnoses\\nwritten as client diagnostic statements that include the “related\\nto” and “evidenced by” components. This section will facilitate\\nand help validate the assessment and problem/need identifica-\\ntion steps of the nursing process.',\n",
       "  'As noted, with few exceptions, we have presented NANDA’s\\nrecommendations  as  formulated. We  support  the  belief that\\npracticing nurses and researchers need to study, use, and evalu-\\nate the diagnoses as presented. Nurses can be creative as they use\\nthe standardized language, redefining and sharing information\\nas the diagnoses are used with individual patients. As new nurs-\\ning diagnoses are developed, it is important that the data they\\nencompass  are  added  to  the  current  database. As  part  of the\\nprocess by clinicians, educators, and researchers across practice\\nspecialties and academic settings to define, test, and refine nurs-\\ning diagnosis, nurses are encouraged to share insights and ideas\\nwith NANDA at the following address: NANDA International,\\n1211  Locust  Street, Philadelphia, PA  19107, USA; e-mail:\\nnanda@rmpinc.com.',\n",
       "  'xvi',\n",
       "  'H O W   T O   U S E   T H E   N U R S E ’ S   P O C K E T   G U I D E'],\n",
       " 18: ['01doenges-01  2/2/04  11:55 AM  Page 1',\n",
       "  'CHAPTER 1',\n",
       "  'The Nursing Process',\n",
       "  'Many years ago, the nursing profession identified a problem-\\nsolving process that “combines the most desirable elements of\\nthe  art  of nursing  with  the  most  relevant  elements  of systems\\ntheory, using  the  scientific  method” (Shore, 1988). The  term\\nnursing  process was  introduced  in  the  1950s  and  has  gained\\nnational acceptance as the basis for providing effective nursing\\ncare. It is now included in the conceptual framework of all nurs-\\ning curricula and is accepted in the legal definition of nursing in\\nthe  nurse  practice  acts  of most  states. This  nursing  process  is\\ncentral to nursing actions in any setting, because it is an efficient\\nmethod  of organizing  thought  processes  for  clinical  decision\\nmaking and problem solving.',\n",
       "  'Use  of the  nursing  process  requires  the  skills  of (1)  assess-\\nment (systematic collection of data relating to clients and their\\nneeds), (2)  problem/need  identification  (analysis  of data), (3)\\nplanning  (setting  goals, choice  of solutions), (4)  implementa-\\ntion (putting the plan into action), and (5) evaluation (assess-\\ning  the  effectiveness  of the  plan  and  changing  the  plan  as\\nindicated  by  the  current  needs). Although  these  skills  are\\npresented as separate, individual activities, they are interrelated\\nand form a continuous circle of thought and action.',\n",
       "  'To use this process, the nurse must demonstrate fundamental\\nabilities  of knowledge, creativity, adaptability, commitment,\\ntrust, and leadership. In addition, intelligence and interpersonal\\nand technical skills are important. Because decision making is\\ncrucial  to  each  step  of the  process, the  following  assumptions\\nare important for the nurse to consider:',\n",
       "  '• The client is a human being who has worth and dignity.\\n• There are basic human needs that must be met, and when\\nthey  are  not, problems  arise, requiring  interventions  by\\nanother  person  until  and  if the  individual  can  resume\\nresponsibility for self.',\n",
       "  '• The  client  has  a  right  to  quality  health  and  nursing  care\\ndelivered  with  interest, compassion, competence, and  a\\nfocus on wellness and prevention of illness.',\n",
       "  '• The  therapeutic  nurse-client  relationship  is  important  in',\n",
       "  'this process.',\n",
       "  'Nurses have struggled for years to define nursing by identi-\\nfying  the  parameters  of nursing  with  the  goal  of attaining',\n",
       "  '1'],\n",
       " 19: ['01doenges-01  2/2/04  11:55 AM  Page 2',\n",
       "  'professional  status. To  this  end, nurses  meet, discuss, and\\nconduct  research  (in  both  the  national  and  international\\narenas) to identify and label client problems and responses that\\nfall within the scope of nursing practice. Changes in healthcare\\ndelivery  and  reimbursement  methods, the  advent  of health\\nmaintenance organizations (HMOs), and alternative healthcare\\nsettings  (home  health, extended-care  facilities, and  the  like)\\ncontinue to increase the need for a commonality of communi-\\ncation  to  ensure  continuity  of care  for  the  client  who  moves\\nfrom one setting/area to another. Evaluation and improvement\\nof provided services are an important part of this process, and\\nboth  providers  and  users  of care  benefit  from  accurate  docu-\\nmentation of the care provided and the client’s response.',\n",
       "  'The  use  of nursing  diagnosis  (ND)  provides  nurses  with  a\\ncommon  language  for  identifying  client  needs, aids  in  the\\nchoice of nursing interventions, and provides guidance for eval-\\nuation. It  promotes  improved  communication  among  nurses,\\nshifts, units, other  healthcare  providers, and  alternative  care\\nsettings. This  language  further  provides  a  base  for  clinicians,\\neducators, and  researchers  to  document, validate, and/or  alter\\nthe  process. The  American  Nurses  Association  (ANA)  Social\\nPolicy  Statements  (1980/1995)  and  the  ANA  Standards  of\\nPractice  (1973/1991)  have  provided  impetus  and  support  for\\nthe use of nursing diagnosis in the practice setting.',\n",
       "  'Currently, there are differing definitions of nursing diagno-\\nsis. NANDA  International  (formerly  The  North  American\\nNursing  Diagnosis  Association)  has  accepted  the  following\\ndefinition:',\n",
       "  'Nursing diagnosis is a clinical judgment about individ-\\nual, family, or community responses to actual and poten-\\ntial  health  problems/life  processes. Nursing  diagnoses\\nprovide the basis for selection of nursing interventions to\\nachieve outcomes for which the nurse is accountable.',\n",
       "  'Although  it  continues  to  evolve, the  current  NANDA  list\\nprovides diagnostic labels and information for appropriate use.\\nNurses  need  to  become  familiar  with  the  parameters  of the\\ndiagnoses, identifying strengths and weaknesses, thus promot-\\ning research and further development. Although nursing prac-\\ntice  is  more  than  nursing  diagnosis, the  use  of standardized\\nnursing language can help to define and to refine the profession.\\nAlso, NDs can be used within many existing conceptual frame-\\nworks because they are a generic approach adaptable to all.',\n",
       "  'Whereas nursing actions were once based on variables such as\\nsigns  and  symptoms, diagnostic  tests, and  medical  diagnoses,\\nNDs  are  a  uniform  way  of identifying, focusing  on, and  deal-\\ning  with  specific  client  problems/needs. The  accurate  nursing',\n",
       "  '2',\n",
       "  'N U R S E ’ S   P O C K E T   G U I D E'],\n",
       " 20: ['01doenges-01  2/2/04  11:55 AM  Page 3',\n",
       "  'diagnosis  of a  client  need  can  set  a  standard  for  nursing\\npractice, thus leading to improved care delivery.',\n",
       "  'Nursing and medicine are interrelated and have implications\\nfor each other. This interrelationship includes the exchange of\\ndata, the  sharing  of ideas/thinking, and  the  development  of\\nplans  of care  that  include  all  data  pertinent  to  the  individual\\nclient  as  well  as  the  family/significant  other(s)  (SO[s]). This\\nrelationship also extends to all disciplines that have contact with\\nthe individual/family. Although nurses work within the medical\\nand  psychosocial  domains, nursing’s  phenomena  of concern\\nare  the  patterns  of human  response, not  disease  processes.\\nTherefore, nursing diagnoses usually do not parallel or mimic\\nmedical/psychiatric  diagnoses  but  do  involve  independent\\nnursing  activities  as  well  as  collaborative  roles  and  actions.\\nThus, the  written  plan  of care  contains  more  than  actions\\ninitiated  by  medical  orders. It  contains  a  combination  of the\\norders  and  plans  of care  of all  involved  disciplines. The  nurse\\nis responsible for seeing that these different activities are pulled\\ntogether into a functional plan to provide holistic care for the\\nindividual/family.',\n",
       "  'Summary',\n",
       "  'In  using  ND  as  an  integral  part  of the  nursing  process, the\\nnursing  profession  has  identified  a  body  of knowledge  that\\ncontributes to the prevention of illness as well as to the mainte-\\nnance  and/or  restoration  of health  (or  relief of pain  and\\ndiscomfort when a return to health is not possible). Because the\\nnursing  process  is  the  basis  of all  nursing  actions, it  is  the\\nessence  of nursing. The  process  is  flexible  and  yet  sufficiently\\nstructured so as to provide the base for nursing actions. It can\\nbe applied in any healthcare or educational setting, in any theo-\\nretical or conceptual framework, and within the context of any\\nnursing philosophy.',\n",
       "  'Subsequent chapters help the nurse apply the nursing process\\nto  become  more  familiar  with  the  current  NANDA-approved\\nlist of NDs, their definitions, related/risk factors (etiology), and\\ndefining characteristics. Coupled with desired outcomes and the\\nmost commonly used interventions, the nurse can write, imple-\\nment, and document an individualized plan of care.',\n",
       "  'T H E   N U R S I N G   P R O C E S S',\n",
       "  '3'],\n",
       " 21: ['02doenges-02  2/2/04  11:56 AM  Page 4',\n",
       "  'CHAPTER 2',\n",
       "  'Application of\\nthe Nursing Process',\n",
       "  'Because  of their  hectic  schedules, many  nurses  believe  that\\ntime spent writing plans of care is time taken away from client\\ncare. Plans  of care  have  been  viewed  as “busy  work” to  satisfy\\naccreditation requirements or the whims of supervisors. In real-\\nity, however, quality  client  care  must  be  planned  and  coordi-\\nnated. Properly  written  and  used  plans  of care  can  provide\\ndirection and continuity of care by facilitating communication\\namong  nurses  and  other  caregivers. They  also  provide  guide-\\nlines  for  documentation  and  a  tool  for  evaluating  the  care\\nprovided.',\n",
       "  'The components of a plan of care are based on the nursing\\nprocess. Creating  a  plan  of care  begins  with  the  collection  of\\ndata (assessment). The client database consists of subjective and\\nobjective  information  encompassing  the  various  concerns\\nreflected  in  the  current  NANDA  International  (formerly  the\\nNorth American Nursing Diagnosis Association) list of nursing\\ndiagnoses (NDs) (Table 2–1). Subjective data are those that are\\nreported by the client (and SOs) in the individual’s own words.\\nThis  information  includes  the  individual’s  perceptions  and\\nwhat he or she wants to share. It is important to accept what is\\nreported because the client is the “expert” in this area. Objective\\ndata are those that are observed or described (quantitatively or\\nqualitatively) and include diagnostic testing and physical exam-\\nination findings. Analysis of the collected data leads to the iden-\\ntification of problems or areas of concern/need. These problems\\nor needs are expressed as NDs.',\n",
       "  'A nursing diagnosis is a decision about a need/problem that\\nrequires nursing intervention and management. The need may\\nbe anything that interferes with the quality of life the client is\\nused to and/or desires. It includes concerns of the client, SOs,\\nand/or nurse. The ND focuses attention on a physical or behav-\\nioral  response, either  a  current  need  or  a  problem  at  risk  for\\ndeveloping. When the ND label is combined with the individ-\\nual’s specific related/risk factors and defining characteristics (as\\nappropriate), a  client  diagnostic  statement  is  created. This\\nprovides  direction  for  nursing  care, and  its  affective  tone  can',\n",
       "  '4'],\n",
       " 22: ['02doenges-02  2/2/04  11:56 AM  Page 5',\n",
       "  'Table 2–1. NURSING DIAGNOSES',\n",
       "  'ACCEPTED FOR USE AND RESEARCH (2003–2004)',\n",
       "  '63–65',\n",
       "  '60–63',\n",
       "  'Activity Intolerance [specify level]\\nActivity Intolerance, risk for\\nAdjustment, impaired 66–69\\nAirway Clearance, ineffective 69–72\\nAllergy Response, latex 73–75\\nAllergy Response, risk for latex 76–78\\nAnxiety [specify level]\\nAnxiety, death 83–86\\nAspiration, risk for 86–89\\nAttachment, risk for impaired parent/infant/child 89–92\\nAutonomic Dysreflexia 92–95\\nAutonomic Dysreflexia, risk for 95–97',\n",
       "  '78–83',\n",
       "  'Body Image, disturbed 98–102\\nBody Temperature, risk for imbalanced 102–104\\nBowel Incontinence\\nBreastfeeding, effective 108–110\\nBreastfeeding, ineffective\\nBreastfeeding, interrupted 115–117\\nBreathing Pattern, ineffective 117–121',\n",
       "  '105–107',\n",
       "  '110–114',\n",
       "  '135–139',\n",
       "  'Cardiac Output, decreased 121–126\\nCaregiver Role Strain 126–132\\nCaregiver Role Strain, risk for 132–135\\nCommunication, impaired verbal\\n*Communication, readiness for enhanced 139–143\\nConflict, decisional (specify) 144–147\\nConfusion, acute 147–150\\nConfusion, chronic 150–153\\nConstipation 153–157\\nConstipation, perceived 157–159\\nConstipation, risk for\\nCoping, community: ineffective\\nCoping, community: readiness for enhanced 164–166\\nCoping, defensive 166–169\\nCoping, family: compromised 169–172\\nCoping, family: disabled 172–175\\nCoping, family: readiness for enhanced 175–177\\nCoping, ineffective\\n178–182\\n*Coping, readiness for enhanced 182–185',\n",
       "  '159–161',\n",
       "  '162–164',\n",
       "  '*New to the 2nd NANDA/NIC/NOC (NNN) Conference.\\nInformation that appears in brackets has been added by the authors',\n",
       "  'to clarify and enhance the use of NDs.',\n",
       "  'Please  also  see  the  NANDA  diagnoses  grouped  according  to',\n",
       "  'Gordon’s Functional Health Patterns on the inside front cover.',\n",
       "  '(Continued)',\n",
       "  'A P P L I C AT I O N   O F   T H E   N U R S I N G   P R O C E S S',\n",
       "  '5'],\n",
       " 23: ['02doenges-02  2/2/04  11:56 AM  Page 6',\n",
       "  'Table 2–1. NURSING DIAGNOSES (CONTINUED)',\n",
       "  'Death Syndrome, risk for sudden infant 185–189\\nDenial, ineffective 189–191\\nDentition, impaired 191–194\\nDevelopment, risk for delayed 194–197\\nDiarrhea 197–200\\nDisuse Syndrome, risk for 200–205\\nDiversional Activity, deficient 205–208',\n",
       "  'Energy Field, disturbed 208–211\\nEnvironmental Interpretation Syndrome, impaired 211–214',\n",
       "  'Failure to Thrive, adult 214–217\\nFalls, risk for 217–221\\nFamily Processes, dysfunctional: alcoholism 221–225\\nFamily Processes, interrupted 225–228\\n*Family Processes, readiness for enhanced 228–232\\nFatigue 232–236\\nFear\\n*Fluid Balance, readiness for enhanced 239–242\\n[Fluid Volume, deficient hyper/hypotonic]\\nFluid Volume, deficient [isotonic]\\nFluid Volume, excess 249–252\\nFluid Volume, risk for deficient\\nFluid Volume, risk for imbalanced 254–256',\n",
       "  '236–239',\n",
       "  '242–245',\n",
       "  '245–248',\n",
       "  '252–254',\n",
       "  'Gas Exchange, impaired 256–260\\nGrieving, anticipatory 260–263\\nGrieving, dysfunctional\\nGrowth and Development, delayed 266–271\\nGrowth, risk for disproportionate 271–275',\n",
       "  '263–266',\n",
       "  'Health Maintenance, ineffective 275–278\\nHealth-Seeking Behaviors (specify) 278–281\\nHome Maintenance, impaired 281–283\\nHopelessness\\nHyperthermia 287–290\\nHypothermia',\n",
       "  '283–287',\n",
       "  '291–295',\n",
       "  'Infant Behavior, disorganized 295–301\\nInfant Behavior, readiness for enhanced organized 301–303\\nInfant Behavior, risk for disorganized 303–304\\nInfant Feeding Pattern, ineffective 304–306',\n",
       "  '*New to the 2nd NANDA/NIC/NOC (NNN) Conference.\\nInformation that appears in brackets has been added by the authors',\n",
       "  'to clarify and enhance the use of NDs.',\n",
       "  'Please  also  see  the  NANDA  diagnoses  grouped  according  to',\n",
       "  'Gordon’s Functional Health Patterns on the inside front cover.',\n",
       "  '6',\n",
       "  'N U R S E ’ S   P O C K E T   G U I D E'],\n",
       " 24: ['02doenges-02  2/2/04  11:56 AM  Page 7',\n",
       "  'Table 2–1. NURSING DIAGNOSES',\n",
       "  'Infection, risk for 307–310\\nInjury, risk for\\nInjury, risk for perioperative positioning 313–316\\nIntracranial Adaptive Capacity, decreased 316–319',\n",
       "  '310–313',\n",
       "  'Knowledge, deficient [Learning Need] (specify)\\n*Knowledge (specify), readiness for enhanced 323–325',\n",
       "  '319–323',\n",
       "  'Loneliness, risk for 326–328',\n",
       "  'Memory, impaired 328–331\\nMobility, impaired bed 331–333\\nMobility, impaired physical 333–337\\nMobility, impaired wheelchair 337–339',\n",
       "  '(cid:2)Nausea 339–343',\n",
       "  'Noncompliance [Adherence, ineffective] [specify] 343–347\\nNutrition: imbalanced, less than body requirements\\nNutrition: imbalanced, more than body requirements 352–355\\nNutrition: imbalanced, risk for more than body requirements',\n",
       "  '347–352',\n",
       "  '356–358',\n",
       "  '*Nutrition, readiness for enhanced 359–362',\n",
       "  'Oral Mucous Membrane, impaired 362–365',\n",
       "  '374–377',\n",
       "  'Pain, acute 365–369\\nPain, chronic 370–374\\nParental Role Conflict\\nParenting, impaired 377–381\\n*Parenting, readiness for enhanced 381–385\\nParenting, risk for impaired 385–387\\nPeripheral Neurovascular Dysfunction, risk for 387–390\\nPersonal Identity, disturbed 390–393\\nPoisoning, risk for 393–396\\nPost-Trauma Syndrome [specify stage] 396–401\\nPost-Trauma Syndrome, risk for 402–404\\nPowerlessness [specify level]\\nPowerlessness, risk for\\n408–410\\nProtection, ineffective 411–412',\n",
       "  '404–408',\n",
       "  'Rape-Trauma Syndrome 412–417\\nRape-Trauma Syndrome: compound reaction 413',\n",
       "  '(cid:2)Revised NDs.',\n",
       "  '*New to the 2nd NANDA/NIC/NOC (NNN) Conference.\\nInformation that appears in brackets has been added by the authors',\n",
       "  'to clarify and enhance the use of NDs.',\n",
       "  'Please  also  see  the  NANDA  diagnoses  grouped  according  to',\n",
       "  'Gordon’s Functional Health Patterns on the inside front cover.',\n",
       "  '(Continued)',\n",
       "  'A P P L I C AT I O N   O F   T H E   N U R S I N G   P R O C E S S',\n",
       "  '7'],\n",
       " 25: ['02doenges-02  2/2/04  11:56 AM  Page 8',\n",
       "  'Table 2–1. NURSING DIAGNOSES (CONTINUED)',\n",
       "  'Rape-Trauma Syndrome: silent reaction 413\\nRelocation Stress Syndrome 417–420\\nRelocation Stress Syndrome, risk for 421–422\\nRole Performance, ineffective 422–425',\n",
       "  '425–430',\n",
       "  '425–430',\n",
       "  'Self-Care Deficit: bathing/hygiene 425–430\\nSelf-Care Deficit: dressing/grooming\\nSelf-Care Deficit: feeding\\nSelf-Care Deficit: toileting\\n*Self-Concept, readiness for enhanced 430–433\\nSelf-Esteem, chronic low 433–437\\nSelf-Esteem, situational low 437–440\\nSelf-Esteem, risk for situational low 440–441\\nSelf-Mutilation 442–445\\nSelf-Mutilation, risk for\\nSensory Perception, disturbed (specify: visual, auditory, kinesthetic,',\n",
       "  '425–430',\n",
       "  '445–449',\n",
       "  'gustatory, tactile, olfactory) 449–454',\n",
       "  'Sexual Dysfunction 454–458\\nSexuality Pattern, ineffective 458–461\\nSkin Integrity, impaired 461–465\\nSkin Integrity, risk for impaired 465–468\\nSleep Deprivation 468–472\\nSleep Pattern, disturbed 472–477\\n*Sleep, readiness for enhanced 477–480\\nSocial Interaction, impaired 480–484\\nSocial Isolation 484–487\\nSorrow, chronic 487–489',\n",
       "  '(cid:2)Spiritual Distress 490–494',\n",
       "  'Spiritual Distress, risk for',\n",
       "  '494–497',\n",
       "  'Suffocation, risk for 500–503\\nSuicide, risk for 503–507\\nSurgical Recovery, delayed 507–510\\nSwallowing, impaired 510–515',\n",
       "  '(cid:2)Spiritual Well-Being, readiness for enhanced 497–500',\n",
       "  'Therapeutic Regimen Management: community, ineffective\\nTherapeutic Regimen Management: effective 517–519\\nTherapeutic Regimen Management: family, ineffective 520–522\\nTherapeutic Regimen Management: ineffective\\n*Therapeutic Regimen Management: readiness for enhanced',\n",
       "  '522–525',\n",
       "  '515–517',\n",
       "  '525–527',\n",
       "  'Thermoregulation, ineffective\\n527–529\\nThought Processes, disturbed 529–533',\n",
       "  '(cid:2)Revised NDs.',\n",
       "  '*New to the 2nd NANDA/NIC/NOC (NNN) Conference.\\nPlease  also  see  the  NANDA  diagnoses  grouped  according  to',\n",
       "  'Gordon’s Functional Health Patterns on the inside front cover.',\n",
       "  '8',\n",
       "  'N U R S E ’ S   P O C K E T   G U I D E'],\n",
       " 26: ['02doenges-02  2/2/04  11:56 AM  Page 9',\n",
       "  'Table 2–1. NURSING DIAGNOSES',\n",
       "  'Tissue Integrity, impaired 533–537\\nTissue Perfusion, ineffective (specify type: renal, cerebral, cardiopul-',\n",
       "  'monary, gastrointestinal, peripheral)',\n",
       "  '537–544',\n",
       "  'Transfer Ability, impaired 544–546\\nTrauma, risk for 547–551',\n",
       "  '551–554',\n",
       "  'Unilateral Neglect\\nUrinary Elimination, impaired 554–558\\n*Urinary Elimination, readiness for enhanced 558–561\\nUrinary Incontinence, functional\\nUrinary Incontinence, reflex 564–566\\nUrinary Incontinence, stress 567–569\\nUrinary Incontinence, total\\n570–572\\nUrinary Incontinence, urge 572–575\\nUrinary Incontinence, risk for urge 576–578\\nUrinary Retention [acute/chronic] 578–581',\n",
       "  '561–564',\n",
       "  'Ventilation, impaired spontaneous\\n581–586\\nVentilatory Weaning Response, dysfunctional\\nViolence, [actual/] risk for other-directed 590–591\\nViolence, [actual/] risk for self-directed 591–596',\n",
       "  '586–590',\n",
       "  'Walking, impaired 597–599\\nWandering [specify sporadic or continuous]',\n",
       "  '599–602',\n",
       "  '*New to the 2nd NANDA/NIC/NOC (NNN) Conference.\\nInformation that appears in brackets has been added by the authors',\n",
       "  'to clarify and enhance the use of NDs.',\n",
       "  'Please  also  see  the  NANDA  diagnoses  grouped  according  to',\n",
       "  'Gordon’s Functional Health Patterns on the inside front cover.',\n",
       "  'A P P L I C AT I O N   O F   T H E   N U R S I N G   P R O C E S S',\n",
       "  '9'],\n",
       " 27: ['02doenges-02  2/2/04  11:56 AM  Page 10',\n",
       "  'shape expectations of the client’s response and/or influence the\\nnurse’s behavior toward the client.',\n",
       "  'The  key  to  accurate  diagnosis  is  collection  and  analysis  of\\ndata. In Chapter 3, the NDs have been categorized into divisions\\n(Diagnostic Divisions: Nursing Diagnoses Organized According\\nto a Nursing Focus, Section 2) and an assessment tool designed\\nto assist the nurse to identify appropriate NDs as the data are\\ncollected. Nurses may feel at risk in committing themselves to\\ndocumenting a nursing diagnosis for fear they might be wrong.\\nHowever, unlike  medical  diagnoses, NDs  can  change  as  the\\nclient  progresses  through  various  stages  of illness/maladapta-\\ntion to resolution of the condition/situation.',\n",
       "  'Desired outcomes are formulated to give direction to, as well\\nas to evaluate, the care provided. These outcomes emerge from\\nthe  diagnostic  statement  and  are  what  the  client  hopes  to\\nachieve. They serve as the guidelines to evaluate progress toward\\nresolution  of needs/problems, providing  impetus  for  revising\\nthe  plan  as  appropriate. In  this  book, outcomes  are  stated  in\\ngeneral terms to permit the practitioner to individualize them\\nby adding timelines and other data according to specific client\\ncircumstances. Outcome terminology needs to be concise, real-\\nistic, measurable, and stated in words the client can understand.\\nBeginning the outcome statement with an action verb provides\\nmeasurable  direction, for  example, “Verbalizes  relationship\\nbetween diabetes mellitus and circulatory changes in feet within\\n2  days” or  “Correctly  performs  procedure  of home  glucose\\nmonitoring within 48 hours.”',\n",
       "  'Interventions  are  the  action  steps  taken  to  achieve  desired\\noutcomes and, because they are communicated to others, they\\nmust be clearly stated. A solid nursing knowledge base is vital to\\nthis process because the rationale for interventions needs to be\\nsound  and  feasible  with  the  intention  of providing  effective\\nindividualized care. The actions may be independent or collab-\\norative and may encompass specific orders from nursing, medi-\\ncine, and  other  disciplines. Written  interventions  that  guide\\nongoing client care need to be dated and signed. To facilitate the\\nplanning  process, specific  nursing  priorities  have  been  identi-\\nfied  in  this  text  to  provide  a  general  ranking  of interventions.\\nThis  ranking  would  be  altered  according  to  individual  client\\nsituations. The seasoned practitioner may choose to use these as\\nbroad-based  interventions. The  student  or  beginning  practi-\\ntioner  may  need  to  develop  a  more  detailed  plan  of care  by\\nincluding the appropriate interventions listed under each nurs-\\ning  priority. Finally, as  each  client  usually  has  a  perception  of\\nindividual needs or problems he or she faces and an expectation\\nof what could be done about the situation, the plan of care must\\nbe congruent with the client’s reality or it will fail.',\n",
       "  '10',\n",
       "  'N U R S E ’ S   P O C K E T   G U I D E'],\n",
       " 28: ['02doenges-02  2/2/04  11:56 AM  Page 11',\n",
       "  'The plan of care documents client care in areas of accounta-\\nbility, quality assurance, and liability. The nurse needs to plan\\ncare with the client, because both are accountable for that care\\nand for achieving the desired outcomes.',\n",
       "  'Summary',\n",
       "  'Healthcare providers have a responsibility for planning with\\nthe  client  and  family  for  continuation  of care  to  the  eventual\\noutcome  of an  optimal  state  of wellness  or  a  dignified  death.\\nPlanning, setting goals, and choosing appropriate interventions\\nare essential to the construction of a plan of care as well as to\\ndelivery  of quality  nursing  care. These  nursing  activities\\ncomprise  the  planning  phase  of the  nursing  process  and  are\\ndocumented in the plan of care for a particular client. As a part\\nof the  client’s  permanent  record, the  plan  of care  not  only\\nprovides  a  means  for  the  nurse  who  is  actively  caring  for  the\\nclient to be aware of the client’s needs (NDs), goals, and actions\\nto be taken, but it also substantiates the care provided for review\\nby third-party payors and accreditation agencies, while meeting\\nlegal requirements.',\n",
       "  'A P P L I C AT I O N   O F   T H E   N U R S I N G   P R O C E S S',\n",
       "  '11'],\n",
       " 29: ['03doenges-03  2/2/04  11:57 AM  Page 12',\n",
       "  'CHAPTER 3',\n",
       "  'Putting Theory into\\nPractice: Sample\\nAssessment Tools, Plan of\\nCare, and Documentation',\n",
       "  'The client assessment is the foundation on which identifica-\\ntion of individual needs, responses, and problems is based. To\\nfacilitate  the  steps  of assessment  and  diagnosis  in  the  nursing\\nprocess, an  assessment  tool  (Assessment  Tools  for  Choosing\\nNursing  Diagnoses, Section  1)  has  been  constructed  using  a\\nnursing  focus  instead  of the  medical  approach  of “review  of\\nsystems.” This  has  the  advantage  of identifying  and  validating\\nnursing diagnoses (NDs) as opposed to medical diagnoses.',\n",
       "  'To achieve this nursing focus, we have grouped the NANDA\\nInternational  (formerly  the  North American  Nursing  Diagno-\\nsis  Association)  NDs  into  related  categories  titled  Diagnostic\\nDivisions  (Section  2), which  reflect  a  blending  of theories,\\nprimarily Maslow’s Hierarchy of Needs and a self-care philoso-\\nphy. These divisions serve as the framework or outline for data\\ncollection/clustering  that  focuses  attention  on  the  nurse’s\\nphenomena  of concern—the  human  responses  to  actual  and\\npotential  health  problems—and  directs  the  nurse  to  the  most\\nlikely corresponding NDs.',\n",
       "  'Because  the  divisions  are  based  on  human  responses  and\\nneeds and not specific “systems,” information may be recorded\\nin more than one area. For this reason, the nurse is encouraged\\nto keep an open mind, to pursue all leads, and to collect as much\\ndata as possible before choosing the ND label that best reflects\\nthe client’s situation. For example, when the nurse identifies the\\ncue of restlessness in a client, the nurse may infer that the client\\nis  anxious, assuming  that  the  restlessness  is  psychologically\\nbased  and  overlooking  the  possibility  that  it  is  physiologically\\nbased.',\n",
       "  'From the specific data recorded in the database, an individu-\\nalized client diagnostic statement can be formulated using the\\nproblem, etiology, signs/symptoms (PES) format  to  accurately\\nrepresent  the  client’s  situation. For  example, the  diagnostic',\n",
       "  '1212',\n",
       "  'N U R S E ’ S   P O C K E T   G U I D E'],\n",
       " 30: ['03doenges-03  2/2/04  11:57 AM  Page 13',\n",
       "  'statement  may  read, “deficient  Knowledge  regarding  diabetic\\ncare, related  to  misinterpretation  of information  and/or  lack\\nof recall, evidenced  by  inaccurate  follow-through  of instruc-\\ntions  and  failure  to  recognize  signs  and  symptoms  of hyper-\\nglycemia.”',\n",
       "  'Desired  client  outcomes  are  identified  to  facilitate  choosing\\nappropriate  interventions  and  to  serve  as  evaluators  of both\\nnursing care and client response. These outcomes also form the\\nframework for documentation.',\n",
       "  'Interventions are designed to specify the action of the nurse,\\nthe  client, and/or  SOs. Interventions  need  to  promote  the\\nclient’s  movement  toward  health/independence  in  addition  to\\nachievement of physiologic stability. This requires involvement\\nof the client in his or her own care, including participation in\\ndecisions about care activities and projected outcomes.',\n",
       "  'Section  3, “Client  Situation  and  Prototype  Plan  of Care,”\\ncontains a sample plan of care formulated on data collected in\\nthe nursing model assessment tool. Individualized client diag-\\nnostic  statements  and  desired  client  outcomes  (with  timelines\\nadded  to  reflect  anticipated  length  of stay  and  individual\\nclient/nurse  expectations)  have  been  identified. Interventions\\nhave  been  chosen  based  on  concerns/needs  identified  by  the\\nclient and nurse during data collection, as well as by physician\\norders.',\n",
       "  'Although  not  normally  included  in  a  written  plan  of care,\\nrationales  are  included  in  this  sample  for  the  purpose  of\\nexplaining or clarifying the choice of interventions to enhance\\nthe nurse’s learning.',\n",
       "  'Finally, to  complete  the  learning  experience, samples  of\\ndocumentation  based  on  the  client  situation  are  presented  in\\nSection  4, “Documentation  Techniques.” The  plan  of care\\nprovides documentation of the planning process and serves as a\\nframework/outline  for  charting  of administered  care. The\\nprimary nurse needs to periodically review the client’s progress\\nand  the  effectiveness  of the  treatment  plan. Persons  then  are\\nable to read the notes and have a clear picture of what occurred\\nwith the client in order to make appropriate judgments regard-\\ning  client  management. The  best  way  to  ensure  the  clarity  of\\nprogress  notes  is  through  the  use  of descriptive  (or  observa-\\ntional)  statements. Observations  of client  behavior  and\\nresponse  to  therapy  provide  invaluable  information. Through\\nthis communication, it can be determined if the client’s current\\ndesired  outcomes  or  interventions  need  to  be  eliminated  or\\naltered  and  if the  development  of new  outcomes  or  interven-\\ntions is warranted. Progress notes are an integral component of\\nthe  overall  medical  record  and  should  include  all  significant\\nevents  that  occur  in  the  daily  life  of the  client. They  reflect',\n",
       "  'P U T T I N G   T H E O R Y   I N T O   P R A C T I C E',\n",
       "  '13'],\n",
       " 31: ['03doenges-03  2/2/04  11:57 AM  Page 14',\n",
       "  'implementation  of the  treatment  plan  and  document  that\\nappropriate  actions  have  been  carried  out, precautions  taken,\\nand  so  forth. It  is  important  that  both  the  implementation  of\\ninterventions  and  progress  toward  the  desired  outcomes  be\\ndocumented. The notes need to be written in a clear and objec-\\ntive  fashion, specific  as  to  date  and  time, and  signed  by  the\\nperson making the entry.',\n",
       "  'Use of clear documentation helps the nurse to individualize\\nclient  care. Providing  a  picture  of what  has  happened  and  is\\nhappening  promotes  continuity  of care  and  facilitates  evalua-\\ntion. This reinforces each person’s accountability and responsi-\\nbility  for  using  nursing  process  to  provide  individually\\nappropriate and cost-effective client care.',\n",
       "  '14',\n",
       "  'N U R S E ’ S   P O C K E T   G U I D E'],\n",
       " 32: ['03doenges-03  2/2/04  11:57 AM  Page 15',\n",
       "  'SECTION 1',\n",
       "  'ASSESSMENT TOOLS FOR\\nCHOOSING NURSING\\nDIAGNOSES',\n",
       "  'This is a suggested guide/tool to create a database reflecting a\\nnursing focus. Although the Diagnostic Divisions are alphabet-\\nized  here  for  ease  of presentation, they  can  be  prioritized  or\\nrearranged in any manner to meet individual needs. In addition,\\nthe assessment tool can be adapted to meet the needs of specific\\nclient  populations. Excerpts  of assessment  tools  adapted  for\\npsychiatric and obstetric settings are included at the end of this\\nsection.',\n",
       "  'P U T T I N G   T H E O R Y   I N T O   P R A C T I C E',\n",
       "  '15'],\n",
       " 33: ['03doenges-03  2/2/04  11:57 AM  Page 16',\n",
       "  'ADULT MEDICAL/SURGICAL\\nASSESSMENT TOOL',\n",
       "  'General Information',\n",
       "  'Name:\\nAge:\\nAdmission Date:\\nSource of Information:',\n",
       "  'DOB:',\n",
       "  'Reliability (1–4 with 4 (cid:2) very reliable):',\n",
       "  'Gender:',\n",
       "  'Time:',\n",
       "  'Race:',\n",
       "  'From:',\n",
       "  'Activity/Rest',\n",
       "  'SUBJECTIVE (REPORTS)',\n",
       "  'Occupation:\\nLeisure time activities/hobbies:\\nLimitations imposed by condition:\\nSleep: Hours:',\n",
       "  'Naps:',\n",
       "  'Usual activities:',\n",
       "  'Related to:',\n",
       "  'Aids:',\n",
       "  'Insomnia:\\nRested on awakening:\\nExcessive grogginess:',\n",
       "  'Feelings of boredom/dissatisfaction:',\n",
       "  'OBJECTIVE (EXHIBITS)',\n",
       "  'Observed response to activity: Cardiovascular:\\nRespiratory:\\nMental status (i.e., withdrawn/lethargic)\\nNeuro/muscular assessment:',\n",
       "  'Muscle mass/tone:\\nPosture:\\nROM:',\n",
       "  'Strength:',\n",
       "  'Deformity:',\n",
       "  'Tremors:',\n",
       "  'Circulation',\n",
       "  'SUBJECTIVE (REPORTS)',\n",
       "  'History of:',\n",
       "  'Hypertension:\\nRheumatic fever:\\nPhlebitis:\\nClaudication:\\nDysreflexia:\\nBleeding tendencies/episodes:\\nPalpitations:',\n",
       "  'Extremities: Numbness:\\nCough/hemoptysis:\\nChange in frequency/amount of urine:',\n",
       "  'Syncope:',\n",
       "  'Tingling:',\n",
       "  'Heart trouble:\\nAnkle/leg edema:',\n",
       "  'Slow healing:',\n",
       "  '16',\n",
       "  'N U R S E ’ S   P O C K E T   G U I D E'],\n",
       " 34: ['OBJECTIVE (EXHIBITS)',\n",
       "  'BP: R and L: Lying/sitting/standing:',\n",
       "  'Pulse pressure:',\n",
       "  'Auscultatory gap:',\n",
       "  'Temporal:',\n",
       "  'Femoral:\\nDorsalis pedis:',\n",
       "  'Heaves:',\n",
       "  'Rhythm:',\n",
       "  'Quality:',\n",
       "  'Murmur:',\n",
       "  'Jugular vein distention:',\n",
       "  'Color:',\n",
       "  'Varicosities:\\nEdema:',\n",
       "  'Conjunctiva:',\n",
       "  'Sclera:',\n",
       "  'Lips:',\n",
       "  'Pulses (palpation): Carotid:',\n",
       "  'Jugular:\\nPopliteal:',\n",
       "  'Radial:',\n",
       "  'Post-tibial:',\n",
       "  'Cardiac (palpation): Thrill:\\nHeart sounds: Rate:',\n",
       "  'Friction rub:',\n",
       "  'Vascular bruit:\\nBreath sounds:\\nExtremities: Temperature:',\n",
       "  'Capillary refill:\\nHomans’ sign:\\nNail abnormalities:\\nDistribution/quality of hair:\\nTrophic skin changes:',\n",
       "  'Color: General:',\n",
       "  'Mucous membranes:\\nNailbeds:',\n",
       "  'Diaphoresis:',\n",
       "  'Ego Integrity',\n",
       "  'SUBJECTIVE (REPORTS)',\n",
       "  'Stress factors:\\nWays of handling stress:\\nFinancial concerns:\\nRelationship status:\\nCultural factors/ethnic ties:\\nReligion:\\nLifestyle:\\nSense of connectedness/harmony with self:\\nFeelings of: Helplessness:',\n",
       "  'Practicing:',\n",
       "  'Recent changes:',\n",
       "  'Hopelessness:',\n",
       "  'Powerlessness:',\n",
       "  'OBJECTIVE (EXHIBITS)',\n",
       "  'Emotional status (check those that apply):',\n",
       "  'Calm:\\nWithdrawn:\\nRestive:',\n",
       "  'Anxious:',\n",
       "  'Fearful:',\n",
       "  'Angry:',\n",
       "  'Irritable:',\n",
       "  'Euphoric:',\n",
       "  'Observed physiologic response(s):\\nChanges in energy field:',\n",
       "  'Color:',\n",
       "  'Distribution:',\n",
       "  'Temperature:\\nMovement:\\nSounds:',\n",
       "  'P U T T I N G   T H E O R Y   I N T O   P R A C T I C E',\n",
       "  '17',\n",
       "  '03doenges-03  2/2/04  11:57 AM  Page 17'],\n",
       " 35: ['03doenges-03  2/2/04  11:57 AM  Page 18',\n",
       "  'Elimination',\n",
       "  'SUBJECTIVE (REPORTS)',\n",
       "  'Usual bowel pattern:\\nLaxative use:\\nCharacter of stool:\\nDiarrhea:\\nHistory of bleeding:\\nUsual voiding pattern:\\nIncontinence/when:\\nFrequency:',\n",
       "  'Character of urine:\\nPain/burning/difficulty voiding:\\nHistory of kidney/bladder disease:',\n",
       "  'Diuretic use:',\n",
       "  'OBJECTIVE (EXHIBITS)',\n",
       "  'Abdomen: Tender:\\nPalpable mass:\\nBowel sounds: Location:',\n",
       "  'Hemorrhoids:\\nBladder palpable:\\nCVA tenderness:',\n",
       "  'Food/Fluid',\n",
       "  'SUBJECTIVE (REPORTS)',\n",
       "  'Last BM:',\n",
       "  'Constipation:',\n",
       "  'Hemorrhoids:',\n",
       "  'Urgency:',\n",
       "  'Retention:',\n",
       "  'Soft/firm:\\nSize/girth:',\n",
       "  'Type:',\n",
       "  'Stool guaiac:',\n",
       "  'Overflow voiding:',\n",
       "  'Usual diet (type):\\nCultural/religious restrictions:\\nCarbohydrate/protein/fat intake: g/d\\nVitamin/food supplement use:\\nFood preferences:\\nNo. of meals daily:\\nDietary pattern/content: B:\\nLast meal/intake:\\nLoss of appetite:\\nHeartburn/indigestion:',\n",
       "  'Prohibitions:',\n",
       "  'L:',\n",
       "  'D:',\n",
       "  'Nausea/vomiting:',\n",
       "  'Related to:',\n",
       "  'Relieved by:',\n",
       "  'Allergy/food intolerance:\\nMastication/swallowing problems:',\n",
       "  'Dentures:',\n",
       "  'Usual weight:\\nDiuretic use:',\n",
       "  'Changes in weight:',\n",
       "  'OBJECTIVE (EXHIBITS)',\n",
       "  'Current weight:\\nSkin turgor:\\nBreath sounds: Crackles:',\n",
       "  'Height:',\n",
       "  'Body build:\\nMucous membranes moist/dry:',\n",
       "  'Wheezes:',\n",
       "  '18',\n",
       "  'N U R S E ’ S   P O C K E T   G U I D E'],\n",
       " 36: ['Dependent:\\nAscites:',\n",
       "  'Halitosis:',\n",
       "  'Edema: General:\\nPeriorbital:',\n",
       "  'Jugular vein distention:\\nThyroid enlarged:\\nCondition of teeth/gums:\\nAppearance of tongue:\\nMucous membranes:',\n",
       "  'Bowel sounds:\\nHernia/masses:\\nUrine S/A or Chemstix:\\nSerum glucose (glucometer):',\n",
       "  'Hygiene',\n",
       "  'SUBJECTIVE (REPORTS)',\n",
       "  'Activities of daily living: Independent/dependent (level):',\n",
       "  'Mobility:\\nHygiene:',\n",
       "  'Dressing/grooming:',\n",
       "  'Toileting:',\n",
       "  'Feeding:',\n",
       "  'Preferred time of personal care/bath:\\nEquipment/prosthetic devices required:\\nAssistance required:',\n",
       "  'Personal habits:\\nCondition of scalp:',\n",
       "  'provided by:',\n",
       "  'OBJECTIVE (EXHIBITS)',\n",
       "  'General appearance:\\nManner of dress:\\nBody odor:\\nPresence of vermin:',\n",
       "  'Neurosensory',\n",
       "  'SUBJECTIVE (REPORTS)',\n",
       "  'Frequency:\\nHow controlled:',\n",
       "  'Eyes: Vision loss:',\n",
       "  'Glaucoma:',\n",
       "  'Ears: Hearing loss:\\nSense of smell:',\n",
       "  'OBJECTIVE (EXHIBITS)',\n",
       "  'Fainting spells/dizziness:\\nHeadaches: Location:\\nTingling/numbness/weakness (location):\\nStroke/brain injury (residual effects):\\nSeizures: Type:',\n",
       "  'Frequency:',\n",
       "  'Aura:\\nPostictal state:',\n",
       "  'Last examination:',\n",
       "  'Cataract:\\nLast examination:',\n",
       "  'Epistaxis:',\n",
       "  'Mental status (note duration of change):',\n",
       "  'Oriented/disoriented: Time:\\nPerson:',\n",
       "  'Situation:',\n",
       "  'Place:',\n",
       "  'P U T T I N G   T H E O R Y   I N T O   P R A C T I C E',\n",
       "  '19',\n",
       "  '03doenges-03  2/2/04  11:57 AM  Page 19'],\n",
       " 37: ['03doenges-03  2/2/04  11:57 AM  Page 20',\n",
       "  'Check all that apply:',\n",
       "  'Alert:\\nStuporous:\\nCooperative:\\nDelusions:\\nAffect (describe):',\n",
       "  'Memory: Recent:\\nGlasses:\\nPupil: Shape:\\nFacial droop:\\nHandgrasp/release, R/L:\\nPosturing:\\nDeep tendon reflexes:',\n",
       "  'Pain/Discomfort',\n",
       "  'SUBJECTIVE (REPORTS)',\n",
       "  'Drowsy:',\n",
       "  'Lethargic:',\n",
       "  'Comatose:',\n",
       "  'Combative:',\n",
       "  'Hallucinations:',\n",
       "  'Remote:',\n",
       "  'Contacts:',\n",
       "  'Hearing aids:',\n",
       "  'Size/reaction: R/L:\\nSwallowing:',\n",
       "  'Paralysis:',\n",
       "  'Primary focus:',\n",
       "  'Intensity (0–10 with 10 (cid:2) most severe):',\n",
       "  'Location:',\n",
       "  'Quality:',\n",
       "  'Radiation:',\n",
       "  'Frequency:\\nDuration:',\n",
       "  'Precipitating/aggravating factors:',\n",
       "  'How relieved:',\n",
       "  'Associated symptoms:\\nEffect on activities:\\nRelationships:',\n",
       "  'Additional focus:',\n",
       "  'OBJECTIVE (EXHIBITS)',\n",
       "  'Facial grimacing:\\nPosturing:\\nEmotional response:\\nChange in BP:',\n",
       "  'Respiration',\n",
       "  'SUBJECTIVE (REPORTS)',\n",
       "  'Dyspnea/related to:\\nCough/sputum:\\nHistory of: Bronchitis:',\n",
       "  'Guarding affected area:',\n",
       "  'Behaviors:',\n",
       "  'Narrowed focus:',\n",
       "  'Pulse:',\n",
       "  'Tuberculosis:\\nRecurrent pneumonia:\\nExposure to noxious fumes:',\n",
       "  'Smoker:\\nUse of respiratory aids:',\n",
       "  'pk/day:',\n",
       "  'Asthma:',\n",
       "  'Emphysema:',\n",
       "  'No. of pk-yrs:\\nOxygen:',\n",
       "  '20',\n",
       "  'N U R S E ’ S   P O C K E T   G U I D E'],\n",
       " 38: ['OBJECTIVE (EXHIBITS)',\n",
       "  'Respiratory: Rate:\\nUse of accessory muscles:\\nFremitus:\\nBreath sounds:\\nCyanosis:\\nSputum characteristics:\\nMentation/restlessness:',\n",
       "  'Safety',\n",
       "  'SUBJECTIVE (REPORTS)',\n",
       "  'Depth:',\n",
       "  'Symmetry:',\n",
       "  'Nasal flaring:',\n",
       "  'Egophony:',\n",
       "  'Clubbing of fingers:',\n",
       "  'Allergies/sensitivity:\\nExposure to infectious diseases:\\nImmunization history:\\nPrevious alteration of immune system:',\n",
       "  'Reaction:',\n",
       "  'Cause:',\n",
       "  'Testing:',\n",
       "  'Reaction:',\n",
       "  'History of sexually transmitted disease (date/type):',\n",
       "  'Blood transfusion/number:',\n",
       "  'When:',\n",
       "  'High-risk behaviors:',\n",
       "  'Describe:',\n",
       "  'Geographic areas lived in/visited:\\nSeat belt/helmet use:\\nWorkplace safety/health issues:\\nHistory of accidental injuries:',\n",
       "  'Fractures/dislocations:\\nArthritis/unstable joints:\\nBack problems:\\nChanges in moles:\\nDelayed healing:\\nCognitive limitations:',\n",
       "  'Impaired vision/hearing:',\n",
       "  'Enlarged nodes:',\n",
       "  'Prosthesis:',\n",
       "  'Ambulatory devices:',\n",
       "  'OBJECTIVE (EXHIBITS)',\n",
       "  'Temperature:\\nSkin integrity (mark location on diagram):',\n",
       "  'Diaphoresis:',\n",
       "  'Ecchymoses:',\n",
       "  'Blisters:',\n",
       "  'Lacerations:',\n",
       "  'Scars:\\nUlcerations:\\nBurns (degree/percent):\\nDrainage:',\n",
       "  'Rashes:',\n",
       "  'General strength:',\n",
       "  'Gait:\\nParesthesia/paralysis:',\n",
       "  'Results of cultures:\\nTuberculosis testing:',\n",
       "  'Muscle tone:',\n",
       "  'ROM:',\n",
       "  'Immune system testing:',\n",
       "  'P U T T I N G   T H E O R Y   I N T O   P R A C T I C E',\n",
       "  '21',\n",
       "  '03doenges-03  2/2/04  11:57 AM  Page 21'],\n",
       " 39: ['03doenges-03  2/2/04  11:57 AM  Page 22',\n",
       "  'Sexuality (Component of Ego Integrity\\nand Social Interactions)',\n",
       "  'SUBJECTIVE (REPORTS)',\n",
       "  'Sexually active:\\nBirth control method:\\nSexual concerns/difficulties:\\nRecent change in frequency/interest:',\n",
       "  'Use of condoms:',\n",
       "  'OBJECTIVE (EXHIBITS)',\n",
       "  'Comfort level with subject matter:',\n",
       "  'FEMALE: SUBJECTIVE (REPORTS)',\n",
       "  'Age at menarche:',\n",
       "  'Duration:\\nLast menstrual period:',\n",
       "  'Length of cycle:\\nNo. of pads used/day:',\n",
       "  'Pregnant now:',\n",
       "  'Vaginal lubrication:',\n",
       "  'Bleeding between periods:\\nMenopause:\\nVaginal discharge:\\nSurgeries:\\nHormonal therapy/calcium use:\\nPractices breast self-examination:\\nLast mammogram:',\n",
       "  'OBJECTIVE (EXHIBITS)',\n",
       "  'Breast examination:\\nGenital warts/lesions:',\n",
       "  'Pap smear:',\n",
       "  'Discharge:',\n",
       "  'MALE: SUBJECTIVE (REPORTS)',\n",
       "  'Penile discharge:\\nCircumcised:',\n",
       "  'Prostate disorder:',\n",
       "  'Vasectomy:',\n",
       "  '22',\n",
       "  'N U R S E ’ S   P O C K E T   G U I D E'],\n",
       " 40: ['Practice self-examination: Breast:\\nLast proctoscopic/prostate examination:',\n",
       "  'Testicles:',\n",
       "  'OBJECTIVE (EXHIBITS)',\n",
       "  'Breast:\\nGenital warts/lesions:',\n",
       "  'Penis:',\n",
       "  'Testicles:',\n",
       "  'Discharge:',\n",
       "  'Social Interactions',\n",
       "  'SUBJECTIVE (REPORTS)',\n",
       "  'Marital status:\\nPerception of relationship:',\n",
       "  'Living with:\\nConcerns/stresses:',\n",
       "  'Extended family:',\n",
       "  'Other support person(s):',\n",
       "  'Years in relationship:',\n",
       "  'Role within family structure:\\nPerception of relationships with family members:\\nFeelings of: Mistrust:',\n",
       "  'Rejection:',\n",
       "  'Unhappiness:\\nLoneliness/isolation:',\n",
       "  'Problems related to illness/condition:\\nProblems with communication:\\nGenogram:',\n",
       "  'OBJECTIVE (EXHIBITS)',\n",
       "  'Speech: Clear:',\n",
       "  'Unintelligible:\\nUnusual speech pattern/impairment:\\nUse of speech/communication aids:\\nLaryngectomy present:',\n",
       "  'Slurred:',\n",
       "  'Aphasic:',\n",
       "  'Verbal/nonverbal communication with family/SO(s):',\n",
       "  'Family interaction (behavioral) pattern',\n",
       "  'Teaching/Learning',\n",
       "  'SUBJECTIVE (REPORTS)',\n",
       "  'Dominant language (specify):',\n",
       "  'Second language:',\n",
       "  'Literate:\\nLearning disabilities (specify):\\nCognitive limitations:',\n",
       "  'Education level:',\n",
       "  'If immigrant, how long in this',\n",
       "  'Where born:\\ncountry?',\n",
       "  'Health and illness beliefs/practices/customs:',\n",
       "  'P U T T I N G   T H E O R Y   I N T O   P R A C T I C E',\n",
       "  '23',\n",
       "  '03doenges-03  2/2/04  11:57 AM  Page 23'],\n",
       " 41: ['03doenges-03  2/2/04  11:57 AM  Page 24',\n",
       "  'Which family member makes healthcare decisions/',\n",
       "  'is spokeperson:',\n",
       "  'Presence of Advance Directives:',\n",
       "  'Durable Medical Power of Attorney:',\n",
       "  'Special healthcare concerns (e.g., impact of religious/\\ncultural practices):\\nHealth goals:\\nFamilial risk factors (indicate relationship):',\n",
       "  'Diabetes:\\nTuberculosis:\\nStrokes:\\nEpilepsy:\\nCancer:\\nOther:',\n",
       "  'Prescribed medications:',\n",
       "  'Drug:\\nDose:\\nTake regularly:\\nSide effects/problems:',\n",
       "  'Thyroid (specify):\\nHeart disease:',\n",
       "  'High BP:',\n",
       "  'Kidney disease:',\n",
       "  'Mental illness:',\n",
       "  'Times (circle last dose):',\n",
       "  'Purpose:',\n",
       "  'Nonprescription drugs: OTC drugs:',\n",
       "  'Street drugs:\\nSmokeless tobacco:\\nAlcohol (amount/frequency):',\n",
       "  'Tobacco:',\n",
       "  'Use of herbal supplements (specify):\\nAdmitting diagnosis per provider:\\nReason per client:\\nHistory of current complaint:\\nClient expectations of this hospitalization:\\nPrevious illnesses and/or hospitalizations/surgeries:\\nEvidence of failure to improve:\\nLast complete physical examination:',\n",
       "  'Discharge Plan Considerations',\n",
       "  'DRG-projected mean length of stay:\\nDate information obtained:\\nAnticipated date of discharge:\\nResources available: Persons:',\n",
       "  'Community:',\n",
       "  'Areas that may require alteration/assistance:',\n",
       "  'Financial:\\nSupport groups:\\nSocialization:',\n",
       "  'Food preparation:\\nTransportation:\\nMedication/IV therapy:\\nWound care:\\nSelf-care (specify):',\n",
       "  'Shopping:\\nAmbulation:',\n",
       "  'Treatments:',\n",
       "  'Supplies:',\n",
       "  '24',\n",
       "  'N U R S E ’ S   P O C K E T   G U I D E'],\n",
       " 42: ['Homemaker/maintenance (specify):\\nPhysical layout of home (specify):',\n",
       "  'Anticipated changes in living situation after discharge:',\n",
       "  'Living facility other than home (specify):',\n",
       "  'Referrals (date, source, services):',\n",
       "  'Social services:\\nDietary:\\nResp/O2:',\n",
       "  'Supplies:\\nOther:',\n",
       "  'Rehab services:',\n",
       "  'Home care:\\nEquipment:',\n",
       "  '03doenges-03  2/2/04  11:57 AM  Page 25',\n",
       "  'P U T T I N G   T H E O R Y   I N T O   P R A C T I C E',\n",
       "  '25'],\n",
       " 43: ['03doenges-03  2/2/04  11:57 AM  Page 26',\n",
       "  'EXCERPT FROM PSYCHIATRIC\\nASSESSMENT TOOL',\n",
       "  'Ego Integrity',\n",
       "  'SUBJECTIVE (REPORTS)',\n",
       "  'What kind of person are you (positive/negative, etc.)?\\nWhat do you think of your body?\\nHow would you rate your self-esteem (1–10 with',\n",
       "  '10 (cid:2) highest)?',\n",
       "  'What are your problematic moods? Depressed:',\n",
       "  'Guilty:\\nUnreal:\\nApathetic:\\nSeparated from the world:',\n",
       "  'Sad:\\nUps/downs:\\nDetached:',\n",
       "  'Are you a nervous person?\\nAre your feelings easily hurt?\\nReport of stress factors:\\nPrevious patterns of handling stress:\\nFinancial concerns:\\nRelationship status:\\nWork history/military service:\\nCultural factors:\\nReligion:\\nLifestyle:\\nSignificant losses/changes (date):\\nStages of grief/manifestations of loss:\\nFeelings of: Helplessness:',\n",
       "  'Practicing:\\nRecent changes:',\n",
       "  'Hopelessness:',\n",
       "  'Powerlessness:',\n",
       "  'OBJECTIVE (EXHIBITS)',\n",
       "  'Emotional status (check those that apply):',\n",
       "  'Calm:\\nAnxious:\\nFearful:\\nDependent:',\n",
       "  'Friendly:',\n",
       "  'Cooperative:',\n",
       "  'Evasive:',\n",
       "  'Angry/hostile:',\n",
       "  'Irritable:',\n",
       "  'Restive:',\n",
       "  'Withdrawn:',\n",
       "  'Passive:',\n",
       "  'Euphoric:',\n",
       "  'Other (specify):',\n",
       "  'Defense mechanisms:',\n",
       "  'Projection:\\nRationalization:\\nPassive-aggressive:\\nIntellectualization:\\nRegression:\\nIntrojection:\\nIsolation:',\n",
       "  'Denial:',\n",
       "  'Undoing:',\n",
       "  'Repression:',\n",
       "  'Sublimation:\\nSomatization:',\n",
       "  'Identification:',\n",
       "  'Reaction formation:',\n",
       "  'Displacement:',\n",
       "  'Substitution:',\n",
       "  'Consistency of behavior:',\n",
       "  'Verbal:',\n",
       "  'Nonverbal:',\n",
       "  '26',\n",
       "  'N U R S E ’ S   P O C K E T   G U I D E'],\n",
       " 44: ['Characteristics of speech:\\nSlow/rapid/volume:\\nImpairments:',\n",
       "  'Motor activity/behaviors:\\nRestless:\\nStereotypic:\\nGait patterns:\\nObserved physiologic response(s):',\n",
       "  'Under/overactive:\\nTics/tremors:',\n",
       "  'Coping strategies:',\n",
       "  'Pressured:',\n",
       "  'Aphasia:',\n",
       "  'Posturing:',\n",
       "  'Walking in sleep:',\n",
       "  'Neurosensory',\n",
       "  'SUBJECTIVE (REPORTS)',\n",
       "  'Dreamlike states:',\n",
       "  'Automatic writing:',\n",
       "  'Believe/feel you are another person:\\nPerception different than others:\\nAbility to follow directions:',\n",
       "  'Perform calculations:\\nAccomplish ADLs:',\n",
       "  'Fainting spells/dizziness:',\n",
       "  'Blackouts:',\n",
       "  'Seizures:',\n",
       "  'OBJECTIVE (EXHIBITS)',\n",
       "  'Mental status (note duration of change):\\nOriented/disoriented: Time:\\nPlace:\\nCheck all that apply:',\n",
       "  'Person:',\n",
       "  'Alert:\\nComatose:\\nDelusions:',\n",
       "  'Drowsy:',\n",
       "  'Lethargic:',\n",
       "  'Stuporous:',\n",
       "  'Cooperative:\\nHallucinations:',\n",
       "  'Combative:\\nAffect (describe):',\n",
       "  'Memory: Immediate:\\nComprehension:\\nThought processes (assessed through speech): Patterns of',\n",
       "  'Remote:',\n",
       "  'Recent:',\n",
       "  'speech (e.g., spontaneous/sudden silences):\\nContent:\\nDelusions:\\nRate or flow:\\nClear, logical progression:\\nExpression:\\nFlight of ideas:\\nAbility to concentrate:',\n",
       "  'Hallucinations:',\n",
       "  'Change in topic:',\n",
       "  'Attention span:',\n",
       "  'Illusions:',\n",
       "  'Mood:',\n",
       "  'Affect:\\nRange:',\n",
       "  'Insight:',\n",
       "  'Appropriateness:',\n",
       "  'Intensity:',\n",
       "  'Misperceptions:',\n",
       "  'P U T T I N G   T H E O R Y   I N T O   P R A C T I C E',\n",
       "  '27',\n",
       "  '03doenges-03  2/2/04  11:57 AM  Page 27'],\n",
       " 45: ['03doenges-03  2/2/04  11:57 AM  Page 28',\n",
       "  'Attention/calculation skills:',\n",
       "  'Judgment:\\nAbility to follow directions:\\nProblem solving:',\n",
       "  'Impulse control: Aggression:\\nSexual feelings:',\n",
       "  'Hostility:',\n",
       "  'Affection:',\n",
       "  '28',\n",
       "  'N U R S E ’ S   P O C K E T   G U I D E'],\n",
       " 46: ['EXCERPT FROM PRENATAL\\nASSESSMENT TOOL',\n",
       "  'Safety',\n",
       "  'SUBJECTIVE (REPORTS)',\n",
       "  'Allergies/sensitivity:',\n",
       "  'Reaction:',\n",
       "  'Previous alteration of immune system:',\n",
       "  'Cause:',\n",
       "  'History of sexually transmitted diseases/gynecologic',\n",
       "  'infections (date/type):',\n",
       "  'High-risk behaviors:\\nBlood transfusion/number:',\n",
       "  'Reaction:',\n",
       "  'Childhood diseases:',\n",
       "  'Immunization history:',\n",
       "  'Testing:',\n",
       "  'When:',\n",
       "  'Describe:',\n",
       "  'Recent exposure to German measles:',\n",
       "  'Other viral infections:\\nHouse pets:',\n",
       "  'X ray/radiation:',\n",
       "  'Previous ob/gyn problems: PIH:',\n",
       "  'Kidney:',\n",
       "  'Hemorrhage:\\nDiabetes:\\nABO/Rh sensitivity:\\nAnemia:',\n",
       "  'Cardiac:',\n",
       "  'Infection/UTI:',\n",
       "  'Uterine surgery:',\n",
       "  'Length of time since last pregnancy:',\n",
       "  'Type of previous delivery:\\nHealth status of living children:\\nHistory of accidental injuries:',\n",
       "  'Fractures/dislocations:\\nArthritis/unstable joints:',\n",
       "  'Back problems:\\nChanges in moles:\\nImpaired vision:\\nProsthesis:',\n",
       "  'OBJECTIVE (EXHIBITS)',\n",
       "  'Temperature:',\n",
       "  'Skin integrity:\\nRashes:\\nVaginal warts/lesions:',\n",
       "  'Sores:',\n",
       "  'Physical abuse:',\n",
       "  'Enlarged nodes:',\n",
       "  'Hearing:',\n",
       "  'Ambulatory devices:',\n",
       "  'Diaphoresis:',\n",
       "  'Scars:',\n",
       "  'Ecchymoses:',\n",
       "  'General strength:',\n",
       "  'Muscle tone:',\n",
       "  'Gait:',\n",
       "  'ROM:',\n",
       "  'Paresthesia/paralysis:',\n",
       "  'Fetal: Heart rate:',\n",
       "  'Method of auscultation:\\nEstimated gestation:\\nMovement:',\n",
       "  'Location:',\n",
       "  'Fundal height:',\n",
       "  'Ballottement:',\n",
       "  'P U T T I N G   T H E O R Y   I N T O   P R A C T I C E',\n",
       "  '29',\n",
       "  '03doenges-03  2/2/04  11:57 AM  Page 29'],\n",
       " 47: ['03doenges-03  2/2/04  11:57 AM  Page 30',\n",
       "  'Results of fetal testing: Date:\\nResults of cultures, cervical/rectal:',\n",
       "  'Test:',\n",
       "  'Result:',\n",
       "  'Immune system',\n",
       "  'testing:',\n",
       "  'Blood type: Maternal:\\nScreenings: Serology:',\n",
       "  'Rubella:',\n",
       "  'Hepatitis:',\n",
       "  'HIV:',\n",
       "  'Syphilis:',\n",
       "  'Paternal:',\n",
       "  'Sickle Cell:\\nAFP:',\n",
       "  'Sexuality (Component of Ego Integrity\\nand Social Interactions)',\n",
       "  'SUBJECTIVE (REPORTS)',\n",
       "  'Sexual concerns:\\nMenarche:',\n",
       "  'Duration:',\n",
       "  'Length of cycle:',\n",
       "  'First day of last menstrual period:',\n",
       "  'Amount:\\nBleeding/cramping since LMP:\\nVaginal discharge:',\n",
       "  'Client’s belief of when conception occurred:\\nEstimated date of delivery:\\nPractices breast self-examination (Y/N):\\nLast Pap smear:\\nRecent contraceptive method:\\nOB history (GPTPAL): Gravida:',\n",
       "  'Results:',\n",
       "  'Term:\\nLiving:',\n",
       "  'Preterm:',\n",
       "  'Para:',\n",
       "  'Abortions:',\n",
       "  'Multiple births:',\n",
       "  'Place of delivery:\\nLength of labor:',\n",
       "  'Complications (maternal/fetal):',\n",
       "  'Apgar scores:',\n",
       "  'Delivery history: Year:\\nLength of gestation:\\nType of delivery:\\nBorn (alive or dead):\\nWeight:',\n",
       "  'OBJECTIVE (EXHIBITS)',\n",
       "  'Pelvic: Vulva:',\n",
       "  'Vagina:\\nUterus:\\nDiagonal conjugate:\\nTransverse diameter:\\nShape of sacrum:\\nCoccyx:\\nIschial spines:\\nAdequacy of inlet:\\nMid:',\n",
       "  'Prognosis for delivery:\\nBreast examination:\\nPregnancy test:\\nPap smear date/results:',\n",
       "  'Perineum:',\n",
       "  'Cervix:\\nAdnexal:',\n",
       "  'Outlet (cm):',\n",
       "  'Arch:',\n",
       "  'SS Notch:',\n",
       "  'Outlet:',\n",
       "  'Nipples:',\n",
       "  'Serology test (date):',\n",
       "  '30',\n",
       "  'N U R S E ’ S   P O C K E T   G U I D E'],\n",
       " 48: ['EXCERPT FROM INTRAPARTAL\\nASSESSMENT TOOL',\n",
       "  'Pain/Discomfort',\n",
       "  'SUBJECTIVE (REPORTS)',\n",
       "  'Uterine contractions began:',\n",
       "  'Became regular:\\nFrequency:',\n",
       "  'Location of contractile pain:',\n",
       "  'Front:\\nDegree of discomfort: Mild:\\nSevere:',\n",
       "  'Character:',\n",
       "  'Duration:',\n",
       "  'Sacral area:',\n",
       "  'Moderate:',\n",
       "  'How relieved: Breathing/relaxation techniques:',\n",
       "  'Sacral rubs:',\n",
       "  'Change in blood pressure:',\n",
       "  'Pulse:',\n",
       "  'Narrowed focus:',\n",
       "  'Positioning:\\nEffleurage:',\n",
       "  'OBJECTIVE (EXHIBITS)',\n",
       "  'Facial expression:',\n",
       "  'Body movement:',\n",
       "  'Safety',\n",
       "  'SUBJECTIVE (REPORTS)',\n",
       "  'Allergies/Sensitivity:',\n",
       "  'Reaction (specify):',\n",
       "  'History of STD (date/type):\\nMonth of first prenatal visit:\\nPrevious/current obstetric problems/treatment:',\n",
       "  'Kidney:',\n",
       "  'Hemorrhage:',\n",
       "  'PIH:\\nCardiac:\\nInfection/UTI:\\nUterine surgery:',\n",
       "  'Diabetes:',\n",
       "  'ABO/Rh sensitivity:',\n",
       "  'Anemia:',\n",
       "  'Length of time since last pregnancy:\\nType of previous delivery:\\nHealth status of living children:\\nBlood transfusion:',\n",
       "  'Reaction (describe):',\n",
       "  'Maternal stature/build:\\nFractures/dislocations:\\nPelvis:\\nArthritis/Unstable joints:\\nSpinal problems/deformity: Kyphosis:',\n",
       "  'Scoliosis:\\nSurgery:',\n",
       "  'Prosthesis/ambulatory devices:',\n",
       "  'Trauma:',\n",
       "  'When:',\n",
       "  'P U T T I N G   T H E O R Y   I N T O   P R A C T I C E',\n",
       "  '31',\n",
       "  '03doenges-03  2/2/04  11:57 AM  Page 31'],\n",
       " 49: ['03doenges-03  2/2/04  11:57 AM  Page 32',\n",
       "  'OBJECTIVE (EXHIBITS)',\n",
       "  'Temperature:\\nSkin integrity:',\n",
       "  'Sores:',\n",
       "  'Paresthesia/Paralysis:\\nFetal status: Heart rate:',\n",
       "  'Method of auscultation:\\nFundal height:\\nActivity/movement:\\nFetal assessment testing (Y/N):\\nDate:',\n",
       "  'Test:',\n",
       "  'Labor status: Cervical dilation:',\n",
       "  'Bruises:',\n",
       "  'Scars:',\n",
       "  'Rashes:',\n",
       "  'Location:',\n",
       "  'Estimated gestation:',\n",
       "  'Results:\\nEffacement:',\n",
       "  'Engagement:\\nLie:',\n",
       "  'Ruptured/time:',\n",
       "  'Amount of drainage:',\n",
       "  'Fetal descent:\\nPresentation:\\nPosition:',\n",
       "  'Membranes: Intact:\\nNitrazine test:\\nCharacter:',\n",
       "  'Blood type/Rh: Maternal:\\nScreens: Sickle cell:',\n",
       "  'Paternal:',\n",
       "  'Rubella:',\n",
       "  'Hepatitis:',\n",
       "  'HIV:',\n",
       "  'Tuberculosis:',\n",
       "  'Serology: Syphilis: Pos\\nCervical/rectal culture: Pos\\nVaginal warts/lesions:\\nPerineal varicosities:',\n",
       "  'Neg',\n",
       "  'Neg',\n",
       "  '32',\n",
       "  'N U R S E ’ S   P O C K E T   G U I D E']}"
      ]
     },
     "execution_count": 10,
     "metadata": {},
     "output_type": "execute_result"
    }
   ],
   "source": [
    "json"
   ]
  },
  {
   "cell_type": "code",
   "execution_count": 11,
   "id": "8ddc68f2",
   "metadata": {},
   "outputs": [
    {
     "data": {
      "text/plain": [
       "50"
      ]
     },
     "execution_count": 11,
     "metadata": {},
     "output_type": "execute_result"
    }
   ],
   "source": [
    "len(json)"
   ]
  },
  {
   "cell_type": "code",
   "execution_count": 12,
   "id": "698da07a",
   "metadata": {},
   "outputs": [],
   "source": [
    "tmp = [i for j in [i[1] for i in json.items()] for i in j]"
   ]
  },
  {
   "cell_type": "code",
   "execution_count": 13,
   "id": "9141916c",
   "metadata": {},
   "outputs": [],
   "source": [
    "word_window = 10"
   ]
  },
  {
   "cell_type": "code",
   "execution_count": 14,
   "id": "de6047ee",
   "metadata": {},
   "outputs": [],
   "source": [
    "count_words = lambda doc: len(list(''.join(list(doc)).split()))"
   ]
  },
  {
   "cell_type": "code",
   "execution_count": 15,
   "id": "e5d14474",
   "metadata": {},
   "outputs": [],
   "source": [
    "tmp= [i for i in list(enumerate(tmp)) if count_words(i[1])>word_window]"
   ]
  },
  {
   "cell_type": "code",
   "execution_count": 16,
   "id": "822e9b9e",
   "metadata": {},
   "outputs": [
    {
     "data": {
      "text/plain": [
       "[(4,\n",
       "  'HEALTH PERCEPTION-HEALTH MANAGEMENT PATTERN\\nHealth maintenance, ineffective 275–278\\nTherapeutic regimen: effective management 517–519\\nTherapeutic regimen: ineffective management\\nTherapeutic regimen: readiness for enhanced management 525–527\\nTherapeutic regimen: family, ineffective management 520–522\\nTherapeutic regimen: community, ineffective management\\nNoncompliance (specify) 343–347\\nHealth-seeking behaviors (specify) 278–281\\nEnergy field, disturbed 208–211\\nFalls, risk for\\nInfection, risk for\\nInjury (trauma), risk for 310–313\\nProtection, ineffective 411–412\\nPoisoning, risk for 393–396\\nSuffocation, risk for 500–503\\nPerioperative positioning injury, risk for 313–316\\nSudden infant death syndrome 185–189'),\n",
       " (11,\n",
       "  'NUTRITIONAL-METABOLIC PATTERN\\nNutrition: more than body requirements, imbalanced 352–355\\nNutrition: more than body requirements, risk for imbalanced 356–358\\nNutrition: less than body requirements, imbalanced 347–352\\nNutrition, readiness for enhanced 359–362\\nBreastfeeding, ineffective\\nBreastfeeding, effective 108–110\\nBreastfeeding, interrupted 115–117\\nInfant feeding pattern, ineffective\\nAspiration, risk for 86–89\\nSwallowing, impaired 510–515\\nNausea\\nOral mucous membrane, impaired 362–365\\nDentition, impaired 191–194\\nFluid balance, readiness for enhanced 239–242\\nFluid volume imbalance, risk for 254–256\\nFluid volume, risk for deficient\\nFluid volume, deficient\\nFluid volume, excess 249–252\\nSkin integrity, impaired 461–465\\nSkin integrity, risk for impaired 465–468\\nTissue integrity (specify type), impaired 533–537\\nBody temperature, risk for imbalanced 102–104\\nLatex allergy response\\n73–75\\nLatex allergy response, risk for\\nThermoregulation, ineffective\\nHyperthermia\\nHypothermia 291–295\\nFailure to thrive, adult 214–217'),\n",
       " (17,\n",
       "  'ELIMINATION PATTERN\\nConstipation 153–157\\nConstipation, risk for\\nConstipation, perceived 157–159\\nDiarrhea\\n197–200\\nBowel incontinence\\nUrinary elimination, impaired 554–558'),\n",
       " (20,\n",
       "  '*Reprinted from Manual of Nursing Diagnosis, 10th ed., M. Gordon, Copyright 2002, with'),\n",
       " (23,\n",
       "  'Urinary elimination, readiness for enhanced 558–561\\nUrinary incontinence, functional\\nUrinary incontinence, reflex 564–566\\nUrinary incontinence, stress 567–569\\nUrinary incontinence, urge 572–575\\nUrinary urge incontinence, risk for 576–578\\nIncontinence, total\\nUrinary retention 578–581'),\n",
       " (27,\n",
       "  'ACTIVITY-EXERCISE PATTERN\\nActivity intolerance, risk for 60–63\\nActivity intolerance (specify level) 63–65\\nAdaptive capacity, decreased, intracranial 316–319\\nInfant behavior, disorganized 295–301\\nInfant behavior, risk for disorganized 303–304\\nInfant behavior, readiness for enhanced organized 301–303\\nFatigue\\nPhysical mobility, impaired 333–337\\nBed mobility, impaired 331–333\\nWalking, impaired 597–599\\nWheelchair mobility, impaired 337–339\\nTransfer ability, impaired 544–546\\nDevelopment, risk for delayed 194–197\\nAutonomic dysreflexia 92–95\\nAutonomic dysreflexia, risk for 95–97\\nDisuse syndrome, risk for 200–205\\nSelf-care deficit (specify: bathing/hygiene, dressing/grooming, feeding, toileting)'),\n",
       " (31,\n",
       "  'Diversional activity deficient 205–208\\nHome maintenance, impaired 281–283\\nDysfunctional ventilatory weaning response\\nVentilation, impaired spontaneous\\nAirway clearance, ineffective\\nBreathing pattern, ineffective 117–121\\nGas exchange, impaired 256–260\\nCardiac output, decreased 121–126\\nTissue perfusion, alteration (specify) 537–544\\nPeripheral neurovascular dysfunction, risk for 387–390\\nSurgical recovery, delayed 507–510\\nGrowth and development, delayed 266–271\\nGrowth, risk for disproportionate 271–275\\nWandering'),\n",
       " (34,\n",
       "  'SLEEP-REST PATTERN\\nSleep-pattern disturbed 472–477\\nSleep deprivation 468–472\\nSleep, readiness for enhanced 477–480'),\n",
       " (36,\n",
       "  'COGNITIVE-PERCEPTUAL PATTERN\\nAcute pain 365–369\\nChronic pain 370–374\\nSensory perception, disturbed (specify) 449–454\\nUnilateral neglect\\nKnowledge deficit (specify) 319–323\\nKnowledge, readiness for enhanced 323–325\\nMemory, impaired 328–331\\nThought processes, disturbed 529–533\\nAcute confusion 147–150\\nChronic confusion 150–153\\nEnvironmental interpretation syndrome, impaired 211–214\\nDecisional conflict (specify)'),\n",
       " (44,\n",
       "  'Anxiety, death 83–86\\nHopelessness\\nPowerlessness\\nPowerlessness, risk for\\nLoneliness, risk for\\nSelf-concept, readiness for enhanced 430–433\\nChronic low self-esteem 433–437\\nSituational low self-esteem 437–440\\nSituational low self-esteem, risk for 440–441\\nBody image disturbed 98–102\\nPersonal identity disturbed 390–393\\nViolence, risk for self-directed 591–596'),\n",
       " (46,\n",
       "  'ROLE-RELATIONSHIP PATTERN\\nAnticipatory grieving 260–263\\nDysfunctional grieving 263–266\\nChronic sorrow 487–489\\nRole performance, ineffective 422–425\\nSocial isolation 484–487\\nImpaired social interaction 480–484\\nRelocation stress syndrome 417–420\\nRelocation stress syndrome, risk for\\nFamily processes, interrupted 225–228\\nFamily processes, readiness for enhanced 228–232\\nDysfunctional family processes: alcoholism 221–225\\nImpaired parenting, risk for 385–387\\nImpaired parenting\\nParenting, readiness for enhanced 381–385\\nImpaired parent/infant/child attachment, risk for 89–92\\nParental role conflict\\n374–377\\nCaregiver role strain 126–132\\nCaregiver role strain, risk for 132–135\\nImpaired verbal communication 135–139\\nCommunication, readiness for enhanced 139–143\\nRisk for violence, directed at others 590–591'),\n",
       " (49,\n",
       "  'SEXUALITY-REPRODUCTIVE\\nSexual dysfunction 454–458\\nIneffective sexuality patterns\\nRape-trauma syndrome 412–417\\nRape-trauma syndrome: compound reaction 413\\nRape-trauma syndrome: silent reaction 413'),\n",
       " (52,\n",
       "  'COPING-STRESS TOLERANCE PATTERN\\nIneffective coping\\nCoping, readiness for enhanced 182–185\\nDefensive coping 166–169\\nCommunity coping, ineffective 162–164\\nCommunity coping, readiness for enhanced 164–166\\nIneffective denial\\nImpaired adjustment 66–69\\nPost-trauma syndrome 396–401\\nPost-trauma syndrome, risk for 402–404\\nFamily coping: readiness for enhanced 175–177\\nIneffective family coping: compromised 169–172\\nIneffective family coping: disabling 172–175\\n503–507\\nRisk for suicide\\nSelf-mutilation 442–445\\nSelf-mutilation, risk for'),\n",
       " (55,\n",
       "  'VALUE-BELIEF PATTERN\\nSpiritual distress\\n490–494\\nSpiritual distress, risk for 494–497\\nSpiritual well-being, readiness for enhanced 497–500'),\n",
       " (65,\n",
       "  'Clinical Specialist—Adult Psychiatric/Mental Health, Retired\\nAdjunct Faculty\\nBeth-El College of Nursing and Health Sciences CU-Springs\\nColorado Springs, Colorado'),\n",
       " (67,\n",
       "  'Nurse Consultant\\nTNT-RN Enterprises\\nAdjunct Faculty\\nPikes Peak Community College\\nColorado Springs, Colorado'),\n",
       " (72,\n",
       "  'F.A. Davis Company\\n1915 Arch Street\\nPhiladelphia, PA 19103\\nwww. fadavis.com'),\n",
       " (74,\n",
       "  'Copyright  ©  1985, 1988, 1991, 1993, 1996, 1998, 2000, 2002  by  F.A.\\nDavis Company. All rights reserved. This book is protected by copyright.\\nNo part of it may be reproduced, stored in a retrieval system, or trans-\\nmitted  in  any  form  or  by  any  means, electronic, mechanical, photo-\\ncopying, recording, or otherwise, without written permission from the\\npublisher.'),\n",
       " (75, 'Last digit indicates print number: 10 9 8 7 6 5 4 3 2 1'),\n",
       " (78,\n",
       "  'As new scientific information becomes available through basic and clin-\\nical  research, recommended  treatments  and  drug  therapies  undergo\\nchanges. The author(s) and publisher have done everything possible to\\nmake this book accurate, up to date, and in accord with accepted stan-\\ndards at the time of publication. The authors, editors, and publisher are\\nnot responsible for errors or omissions or for consequences from appli-\\ncation  of the  book, and  make  no  warranty, expressed  or  implied, in\\nregard to the contents of the book. Any practice described in this book\\nshould be applied by the reader in accordance with professional stan-\\ndards of care used in regard to the unique circumstances that may apply\\nin each situation. The reader is advised always to check product infor-\\nmation  (package  inserts)  for  changes  and  new  information  regarding\\ndose and contraindications before administering any drug. Caution is\\nespecially urged when using new or infrequently ordered drugs.'),\n",
       " (80,\n",
       "  'Authorization  to  photocopy  items  for  internal  or  personal  use, or  the\\ninternal  or  personal  use  of specific  clients, is  granted  by  F.A. Davis\\nCompany  for  users  registered  with  the  Copyright  Clearance  Center\\n(CCC)  Transactional  Reporting  Service, provided  that  the  fee  of $.10\\nper  copy  is  paid  directly  to  CCC, 222  Rosewood  Drive, Danvers, MA\\n01923. For  those  organizations  that  have  been  granted  a  photocopy\\nlicense  by  CCC, a  separate  system  of payment  has  been  arranged.\\nThe fee code for users of the Transactional Reporting Service is: 8036-\\n0948/02 0 + $.10.'),\n",
       " (83,\n",
       "  'Sheila Marquez\\nExecutive Director\\nVice President/Chief Operating Officer\\nThe Colorado SIDS Program, Inc.\\nDenver, Colorado'),\n",
       " (88,\n",
       "  'Our  families, who  helped  with  the  mundane  activities  of\\ndaily living that allowed us to write this book and who provide\\nus with love and encouragement in all our endeavors.'),\n",
       " (89, 'Our friends, who support us in our writing, put up with our'),\n",
       " (91,\n",
       "  'Bob  Martone, Publisher, Nursing, who  asks  questions  that\\nstimulate  thought  and  discussion, and  who  maintains  good\\nhumor throughout.'),\n",
       " (92,\n",
       "  'The F.A. Davis production staff, who coordinated and expe-\\ndited the project through the printing process, meeting unreal\\ndeadlines, and sending pages to us with bated breath.'),\n",
       " (94,\n",
       "  'And last and most important:\\nThe nurses we are writing for, to those who have found the\\nprevious  editions  of the  Pocket  Guide  helpful, and  to  other\\nnurses who are looking for help to provide quality nursing care\\nin a period of transition and change, we say, “Nursing Diagnosis\\nis the way.”'),\n",
       " (96,\n",
       "  'A special acknowledgment to Marilynn’s friend, the late Diane\\nCamillone, who  provoked  an  awareness  of the  role  of the\\npatient  and  continues  to  influence  our  thoughts  about  the\\nimportance  of quality  nursing  care, and  to  our  late  colleague,\\nMary Jeffries, who introduced us to nursing diagnosis.'),\n",
       " (97,\n",
       "  'To our colleagues in NANDA who continue to formulate and\\nrefine  nursing  diagnoses  to  provide  nursing  with  the  tools  to\\nenhance and promote the growth of the profession.'),\n",
       " (104,\n",
       "  'Health Conditions and Client Concerns with Associated Nursing\\nDiagnoses appear on pages 603-720.'),\n",
       " (111,\n",
       "  'Putting Theory into Practice: Sample\\nAssessment Tools, Plan of Care,\\nand Documentation ................................................................12'),\n",
       " (113,\n",
       "  'Adult Medical/Surgical Assessment Tool 16\\nExcerpt from Psychiatric Assessment Tool\\nExcerpt from Prenatal Assessment Tool\\nExcerpt from Intrapartal Assessment Tool'),\n",
       " (117,\n",
       "  'SECTION 2\\nDiagnostic Divisions: Nursing Diagnoses\\nOrganized According to a Nursing Focus ..........................33'),\n",
       " (122,\n",
       "  'For each nursing diagnosis, the following information is provided:\\nTaxonomy II, Domain, Class, Code, Year Submitted'),\n",
       " (126,\n",
       "  'Subjective/Objective\\nDesired Outcomes/Evaluation Criteria\\nActions/Interventions\\nNursing Priorities\\nDocumentation Focus\\nSample Nursing Outcomes & Interventions Classifications'),\n",
       " (140,\n",
       "  'The  American  Nurses  Association  (ANA)  Social  Policy\\nStatement of 1980 was the first to define nursing as the diagno-\\nsis  and  treatment  of human  responses  to  actual  and  potential\\nhealth problems. This definition, when combined with the ANA\\nStandards of Practice, has provided impetus and support for the\\nuse  of nursing  diagnosis. Defining  nursing  and  its  effect  on\\nclient care supports the growing awareness that nursing care is\\na key factor in client survival and in the maintenance, rehabili-\\ntative, and  preventive  aspects  of healthcare. Changes  and  new\\ndevelopments  in  healthcare  delivery  in  the  last  decade  have\\ngiven rise to the need for a common framework of communica-\\ntion to ensure continuity of care for the client moving between\\nmultiple  healthcare  settings  and  providers. Evaluation  and\\ndocumentation of care are important parts of this process.'),\n",
       " (141,\n",
       "  'This  book  is  designed  to  aid  the  practitioner  and  student\\nnurse  in  identifying  interventions  commonly  associated  with\\nspecific  nursing  diagnoses  as  proposed  by  NANDA  Inter-\\nnational  (formerly  the  North  American  Nursing  Diagnosis\\nAssociation). These  interventions  are  the  activities  needed  to\\nimplement  and  document  care  provided  to  the  individual\\nclient and can be used in varied settings from acute to commu-\\nnity/home care.'),\n",
       " (142,\n",
       "  'Chapters  1  and  2  present  brief discussions  of the  nursing\\nprocess, data collection, and care plan construction. Chapter 3\\ncontains  the  Diagnostic  Divisions, Assessment  Tool, a  sample\\nplan of care, and corresponding documentation/charting exam-\\nples. For more in-depth information and inclusive plans of care\\nrelated to specific medical/psychiatric conditions (with ration-\\nale and the application of the diagnoses), the nurse is referred\\nto  the  larger  works, all  published  by  the  F.A. Davis  Company:\\nNursing  Care  Plans:  Guidelines  for  Planning  and  Documenting\\nPatient Care, ed. 6 (Doenges, Moorhouse, Geissler-Murr, 2002);\\nPsychiatric Care Plans: Guidelines for Planning and Documenting\\nClient Care, ed. 3 (Doenges, Townsend, Moorhouse, 1998); and\\nMaternal/Newborn  Plans  of Care:  Guidelines  for  Planning  and\\nDocumenting Client Care, ed. 3 (Doenges, Moorhouse, 1999).'),\n",
       " (143,\n",
       "  'Nursing  diagnoses  are  listed  alphabetically  in  Chapter  4  for\\nease of reference and include the diagnoses accepted for use by'),\n",
       " (146,\n",
       "  'NANDA  through  2003. Each  approved  diagnosis  includes  its\\ndefinition and information divided into the NANDA categories\\nof Related  or  Risk  Factors  and  Defining  Characteristics.\\ninformation  reflects  causative  or\\nRelated/Risk  Factors \\ncontributing factors that can be useful for determining whether\\nthe  diagnosis  is  applicable  to  a  particular  client. Defining\\nCharacteristics  (signs  and  symptoms  or  cues)  are  listed  as\\nsubjective and/or objective and are used to confirm actual diag-\\nnoses, aid in formulating outcomes, and provide additional data\\nfor  choosing  appropriate  interventions. The  authors  have  not\\ndeleted or altered NANDA’s listings; however, on occasion, they\\nhave added to their definitions and suggested additional criteria\\nto  provide  clarification  and  direction. These  additions  are\\ndenoted with brackets [   ].'),\n",
       " (147,\n",
       "  'With  the  development  and  acceptance  of Taxonomy  II\\nfollowing  the  biennial  conference  in  2000, significant  changes\\nwere made to better reflect the content of the diagnoses within\\nthe taxonomy. It is designed to reduce miscalculations, errors,\\nand redundancies. The framework has been changed from the\\nHuman  Response  Patterns  and  is  organized  in  Domains  only\\nand  Classes, with  13  domains, 105  classes, and  167  diagnoses.\\nAlthough clinicians will use the actual diagnoses, understanding\\nthe taxonomic structure will help the nurse to find the desired\\ninformation quickly. Taxonomy II is designed to be multiaxial\\nwith 7 axes (see Appendix 2). An axis is defined as a dimension\\nof the  human  response  that  is  considered  in  the  diagnostic\\nprocess. Sometimes  an  axis  may  be  included  in  the  diagnostic\\nconcept, such  as  ineffective  community  coping  in  which  the\\nunit of care (e.g., community) is named. Some are implicit, such\\nas activity intolerance in which the individual is the unit of care.\\nSometimes an axis may not be pertinent to a particular diagno-\\nsis and will not be a part of the nursing diagnosis label or code.\\nFor example, the time axis may not be relevant to each diagnos-\\ntic situation. The Taxonomic Domain and Class are noted under\\neach nursing diagnosis heading. An Axis 6 descriptor is included\\nin each nursing diagnosis label.'),\n",
       " (149,\n",
       "  'in  conjunction  with  NANDA, proposed  that\\nspecific  nursing  diagnoses  currently  approved  and  structured\\naccording  to  Taxonomy  I  Revised  be  included  in  the  Inter-\\nnational  Classification  of Diseases  (ICD)  within  the  section\\n“Family  of Health-Related  Classifications.” While  the  World\\nHealth Organization did not accept this initial proposal because\\nof lack of documentation of the usefulness of nursing diagnoses\\nat the international level, the NANDA list has been accepted by\\nSNOMED  (Systemized  Nomenclature  of Medicine)  for  inclu-\\nsion  in  its  international  coding  system  and  is  included  in  the\\nUnified  Medical  Language  System  of the  National  Library  of'),\n",
       " (151,\n",
       "  'H O W   T O   U S E   T H E   N U R S E ’ S   P O C K E T   G U I D E'),\n",
       " (153,\n",
       "  'Medicine. Today, researchers from around the world are validat-\\ning nursing diagnoses in support for resubmission and accep-\\ntance in future additions of ICD.'),\n",
       " (154,\n",
       "  'The  authors  have  chosen  to  categorize  the  list  of nursing\\ndiagnoses approved for clinical use and testing into Diagnostic\\nDivisions, which  is  the  framework  for  an  assessment  tool\\n(Chapter  3)  designed  to  assist  the  nurse  to  readily  identify  an\\nappropriate  nursing  diagnosis  from  data  collected  during  the\\nassessment  process. The  Diagnostic  Division  label  is  included\\nfollowing  the  Taxonomic  label  under  each  nursing  diagnosis\\nheading.'),\n",
       " (155,\n",
       "  'Desired Outcomes/Evaluation Criteria are identified to assist\\nthe  nurse  in  formulating  individual  client  outcomes  and  to\\nsupport the evaluation process.'),\n",
       " (156,\n",
       "  'Interventions  in  this  pocket  guide  are  primarily  directed  to\\nadult  care  settings  (although  general  age  span  considerations\\nare  included)  and  are  listed  according  to  nursing  priorities.\\nSome  interventions  require  collaborative  or  interdependent\\norders  (e.g., medical, psychiatric), and  the  nurse  will  need  to\\ndetermine  when  this  is  necessary  and  take  the  appropriate\\naction. Although all defining characteristics are listed, interven-\\ntions that address specialty areas outside the scope of this book\\nare  not  routinely  presented  (e.g., obstetrics/gynecology/pedi-\\natrics)  except  for  diagnoses  that  are  infancy-oriented, such  as\\nBreastfeeding, ineffective; Infant  Behavior, disorganized; and\\nParent/Infant/Child  Attachment, risk  for  impaired. For  exam-\\nple, when addressing deficient Fluid Volume, isotonic (hemor-\\nrhage), the nurse is directed to stop blood loss; however, specific\\ndirection to perform fundal massage is not listed.'),\n",
       " (157,\n",
       "  'The  inclusion  of Documentation  Focus  suggestions  is  to\\nremind the nurse of the importance and necessity of recording\\nthe steps of the nursing process.'),\n",
       " (158,\n",
       "  'Finally, in  recognition  of the  ongoing  work  of numerous\\nresearchers over the past 15 years, the authors have referenced\\nthe  Nursing  Interventions  and  Outcomes  labels  developed  by\\nthe  Iowa  Intervention  Projects  (Bulechek  &  McCloskey;\\nJohnson, Mass, & Moorhead). These groups have been classify-\\ning  nursing  interventions  and  outcomes  to  predict  resource\\nrequirements  and  measure  outcomes, thereby  meeting  the\\nneeds  of a  standardized  language  that  can  be  coded  for\\ncomputer and reimbursement purposes. As an introduction to\\nthis work in progress, sample NIC and NOC labels have been\\nincluded  under  the  heading  Sample  Nursing  Interventions  &\\nOutcomes  Classifications  at  the  conclusion  of each  nursing\\ndiagnosis section. The reader is referred to the various publica-\\ntions by Joanne C. McCloskey and Marion Johnson for more in-\\ndepth information.'),\n",
       " (159,\n",
       "  'H O W   T O   U S E   T H E   N U R S E ’ S   P O C K E T   G U I D E'),\n",
       " (162,\n",
       "  'Chapter  5  presents  over  400  disorders/health  conditions\\nreflecting all specialty areas, with associated nursing diagnoses\\nwritten as client diagnostic statements that include the “related\\nto” and “evidenced by” components. This section will facilitate\\nand help validate the assessment and problem/need identifica-\\ntion steps of the nursing process.'),\n",
       " (163,\n",
       "  'As noted, with few exceptions, we have presented NANDA’s\\nrecommendations  as  formulated. We  support  the  belief that\\npracticing nurses and researchers need to study, use, and evalu-\\nate the diagnoses as presented. Nurses can be creative as they use\\nthe standardized language, redefining and sharing information\\nas the diagnoses are used with individual patients. As new nurs-\\ning diagnoses are developed, it is important that the data they\\nencompass  are  added  to  the  current  database. As  part  of the\\nprocess by clinicians, educators, and researchers across practice\\nspecialties and academic settings to define, test, and refine nurs-\\ning diagnosis, nurses are encouraged to share insights and ideas\\nwith NANDA at the following address: NANDA International,\\n1211  Locust  Street, Philadelphia, PA  19107, USA; e-mail:\\nnanda@rmpinc.com.'),\n",
       " (165,\n",
       "  'H O W   T O   U S E   T H E   N U R S E ’ S   P O C K E T   G U I D E'),\n",
       " (169,\n",
       "  'Many years ago, the nursing profession identified a problem-\\nsolving process that “combines the most desirable elements of\\nthe  art  of nursing  with  the  most  relevant  elements  of systems\\ntheory, using  the  scientific  method” (Shore, 1988). The  term\\nnursing  process was  introduced  in  the  1950s  and  has  gained\\nnational acceptance as the basis for providing effective nursing\\ncare. It is now included in the conceptual framework of all nurs-\\ning curricula and is accepted in the legal definition of nursing in\\nthe  nurse  practice  acts  of most  states. This  nursing  process  is\\ncentral to nursing actions in any setting, because it is an efficient\\nmethod  of organizing  thought  processes  for  clinical  decision\\nmaking and problem solving.'),\n",
       " (170,\n",
       "  'Use  of the  nursing  process  requires  the  skills  of (1)  assess-\\nment (systematic collection of data relating to clients and their\\nneeds), (2)  problem/need  identification  (analysis  of data), (3)\\nplanning  (setting  goals, choice  of solutions), (4)  implementa-\\ntion (putting the plan into action), and (5) evaluation (assess-\\ning  the  effectiveness  of the  plan  and  changing  the  plan  as\\nindicated  by  the  current  needs). Although  these  skills  are\\npresented as separate, individual activities, they are interrelated\\nand form a continuous circle of thought and action.'),\n",
       " (171,\n",
       "  'To use this process, the nurse must demonstrate fundamental\\nabilities  of knowledge, creativity, adaptability, commitment,\\ntrust, and leadership. In addition, intelligence and interpersonal\\nand technical skills are important. Because decision making is\\ncrucial  to  each  step  of the  process, the  following  assumptions\\nare important for the nurse to consider:'),\n",
       " (172,\n",
       "  '• The client is a human being who has worth and dignity.\\n• There are basic human needs that must be met, and when\\nthey  are  not, problems  arise, requiring  interventions  by\\nanother  person  until  and  if the  individual  can  resume\\nresponsibility for self.'),\n",
       " (173,\n",
       "  '• The  client  has  a  right  to  quality  health  and  nursing  care\\ndelivered  with  interest, compassion, competence, and  a\\nfocus on wellness and prevention of illness.'),\n",
       " (176,\n",
       "  'Nurses have struggled for years to define nursing by identi-\\nfying  the  parameters  of nursing  with  the  goal  of attaining'),\n",
       " (179,\n",
       "  'professional  status. To  this  end, nurses  meet, discuss, and\\nconduct  research  (in  both  the  national  and  international\\narenas) to identify and label client problems and responses that\\nfall within the scope of nursing practice. Changes in healthcare\\ndelivery  and  reimbursement  methods, the  advent  of health\\nmaintenance organizations (HMOs), and alternative healthcare\\nsettings  (home  health, extended-care  facilities, and  the  like)\\ncontinue to increase the need for a commonality of communi-\\ncation  to  ensure  continuity  of care  for  the  client  who  moves\\nfrom one setting/area to another. Evaluation and improvement\\nof provided services are an important part of this process, and\\nboth  providers  and  users  of care  benefit  from  accurate  docu-\\nmentation of the care provided and the client’s response.'),\n",
       " (180,\n",
       "  'The  use  of nursing  diagnosis  (ND)  provides  nurses  with  a\\ncommon  language  for  identifying  client  needs, aids  in  the\\nchoice of nursing interventions, and provides guidance for eval-\\nuation. It  promotes  improved  communication  among  nurses,\\nshifts, units, other  healthcare  providers, and  alternative  care\\nsettings. This  language  further  provides  a  base  for  clinicians,\\neducators, and  researchers  to  document, validate, and/or  alter\\nthe  process. The  American  Nurses  Association  (ANA)  Social\\nPolicy  Statements  (1980/1995)  and  the  ANA  Standards  of\\nPractice  (1973/1991)  have  provided  impetus  and  support  for\\nthe use of nursing diagnosis in the practice setting.'),\n",
       " (181,\n",
       "  'Currently, there are differing definitions of nursing diagno-\\nsis. NANDA  International  (formerly  The  North  American\\nNursing  Diagnosis  Association)  has  accepted  the  following\\ndefinition:'),\n",
       " (182,\n",
       "  'Nursing diagnosis is a clinical judgment about individ-\\nual, family, or community responses to actual and poten-\\ntial  health  problems/life  processes. Nursing  diagnoses\\nprovide the basis for selection of nursing interventions to\\nachieve outcomes for which the nurse is accountable.'),\n",
       " (183,\n",
       "  'Although  it  continues  to  evolve, the  current  NANDA  list\\nprovides diagnostic labels and information for appropriate use.\\nNurses  need  to  become  familiar  with  the  parameters  of the\\ndiagnoses, identifying strengths and weaknesses, thus promot-\\ning research and further development. Although nursing prac-\\ntice  is  more  than  nursing  diagnosis, the  use  of standardized\\nnursing language can help to define and to refine the profession.\\nAlso, NDs can be used within many existing conceptual frame-\\nworks because they are a generic approach adaptable to all.'),\n",
       " (184,\n",
       "  'Whereas nursing actions were once based on variables such as\\nsigns  and  symptoms, diagnostic  tests, and  medical  diagnoses,\\nNDs  are  a  uniform  way  of identifying, focusing  on, and  deal-\\ning  with  specific  client  problems/needs. The  accurate  nursing'),\n",
       " (186, 'N U R S E ’ S   P O C K E T   G U I D E'),\n",
       " (188,\n",
       "  'diagnosis  of a  client  need  can  set  a  standard  for  nursing\\npractice, thus leading to improved care delivery.'),\n",
       " (189,\n",
       "  'Nursing and medicine are interrelated and have implications\\nfor each other. This interrelationship includes the exchange of\\ndata, the  sharing  of ideas/thinking, and  the  development  of\\nplans  of care  that  include  all  data  pertinent  to  the  individual\\nclient  as  well  as  the  family/significant  other(s)  (SO[s]). This\\nrelationship also extends to all disciplines that have contact with\\nthe individual/family. Although nurses work within the medical\\nand  psychosocial  domains, nursing’s  phenomena  of concern\\nare  the  patterns  of human  response, not  disease  processes.\\nTherefore, nursing diagnoses usually do not parallel or mimic\\nmedical/psychiatric  diagnoses  but  do  involve  independent\\nnursing  activities  as  well  as  collaborative  roles  and  actions.\\nThus, the  written  plan  of care  contains  more  than  actions\\ninitiated  by  medical  orders. It  contains  a  combination  of the\\norders  and  plans  of care  of all  involved  disciplines. The  nurse\\nis responsible for seeing that these different activities are pulled\\ntogether into a functional plan to provide holistic care for the\\nindividual/family.'),\n",
       " (191,\n",
       "  'In  using  ND  as  an  integral  part  of the  nursing  process, the\\nnursing  profession  has  identified  a  body  of knowledge  that\\ncontributes to the prevention of illness as well as to the mainte-\\nnance  and/or  restoration  of health  (or  relief of pain  and\\ndiscomfort when a return to health is not possible). Because the\\nnursing  process  is  the  basis  of all  nursing  actions, it  is  the\\nessence  of nursing. The  process  is  flexible  and  yet  sufficiently\\nstructured so as to provide the base for nursing actions. It can\\nbe applied in any healthcare or educational setting, in any theo-\\nretical or conceptual framework, and within the context of any\\nnursing philosophy.'),\n",
       " (192,\n",
       "  'Subsequent chapters help the nurse apply the nursing process\\nto  become  more  familiar  with  the  current  NANDA-approved\\nlist of NDs, their definitions, related/risk factors (etiology), and\\ndefining characteristics. Coupled with desired outcomes and the\\nmost commonly used interventions, the nurse can write, imple-\\nment, and document an individualized plan of care.'),\n",
       " (193, 'T H E   N U R S I N G   P R O C E S S'),\n",
       " (198,\n",
       "  'Because  of their  hectic  schedules, many  nurses  believe  that\\ntime spent writing plans of care is time taken away from client\\ncare. Plans  of care  have  been  viewed  as “busy  work” to  satisfy\\naccreditation requirements or the whims of supervisors. In real-\\nity, however, quality  client  care  must  be  planned  and  coordi-\\nnated. Properly  written  and  used  plans  of care  can  provide\\ndirection and continuity of care by facilitating communication\\namong  nurses  and  other  caregivers. They  also  provide  guide-\\nlines  for  documentation  and  a  tool  for  evaluating  the  care\\nprovided.'),\n",
       " (199,\n",
       "  'The components of a plan of care are based on the nursing\\nprocess. Creating  a  plan  of care  begins  with  the  collection  of\\ndata (assessment). The client database consists of subjective and\\nobjective  information  encompassing  the  various  concerns\\nreflected  in  the  current  NANDA  International  (formerly  the\\nNorth American Nursing Diagnosis Association) list of nursing\\ndiagnoses (NDs) (Table 2–1). Subjective data are those that are\\nreported by the client (and SOs) in the individual’s own words.\\nThis  information  includes  the  individual’s  perceptions  and\\nwhat he or she wants to share. It is important to accept what is\\nreported because the client is the “expert” in this area. Objective\\ndata are those that are observed or described (quantitatively or\\nqualitatively) and include diagnostic testing and physical exam-\\nination findings. Analysis of the collected data leads to the iden-\\ntification of problems or areas of concern/need. These problems\\nor needs are expressed as NDs.'),\n",
       " (200,\n",
       "  'A nursing diagnosis is a decision about a need/problem that\\nrequires nursing intervention and management. The need may\\nbe anything that interferes with the quality of life the client is\\nused to and/or desires. It includes concerns of the client, SOs,\\nand/or nurse. The ND focuses attention on a physical or behav-\\nioral  response, either  a  current  need  or  a  problem  at  risk  for\\ndeveloping. When the ND label is combined with the individ-\\nual’s specific related/risk factors and defining characteristics (as\\nappropriate), a  client  diagnostic  statement  is  created. This\\nprovides  direction  for  nursing  care, and  its  affective  tone  can'),\n",
       " (207,\n",
       "  'Activity Intolerance [specify level]\\nActivity Intolerance, risk for\\nAdjustment, impaired 66–69\\nAirway Clearance, ineffective 69–72\\nAllergy Response, latex 73–75\\nAllergy Response, risk for latex 76–78\\nAnxiety [specify level]\\nAnxiety, death 83–86\\nAspiration, risk for 86–89\\nAttachment, risk for impaired parent/infant/child 89–92\\nAutonomic Dysreflexia 92–95\\nAutonomic Dysreflexia, risk for 95–97'),\n",
       " (209,\n",
       "  'Body Image, disturbed 98–102\\nBody Temperature, risk for imbalanced 102–104\\nBowel Incontinence\\nBreastfeeding, effective 108–110\\nBreastfeeding, ineffective\\nBreastfeeding, interrupted 115–117\\nBreathing Pattern, ineffective 117–121'),\n",
       " (213,\n",
       "  'Cardiac Output, decreased 121–126\\nCaregiver Role Strain 126–132\\nCaregiver Role Strain, risk for 132–135\\nCommunication, impaired verbal\\n*Communication, readiness for enhanced 139–143\\nConflict, decisional (specify) 144–147\\nConfusion, acute 147–150\\nConfusion, chronic 150–153\\nConstipation 153–157\\nConstipation, perceived 157–159\\nConstipation, risk for\\nCoping, community: ineffective\\nCoping, community: readiness for enhanced 164–166\\nCoping, defensive 166–169\\nCoping, family: compromised 169–172\\nCoping, family: disabled 172–175\\nCoping, family: readiness for enhanced 175–177\\nCoping, ineffective\\n178–182\\n*Coping, readiness for enhanced 182–185'),\n",
       " (216,\n",
       "  '*New to the 2nd NANDA/NIC/NOC (NNN) Conference.\\nInformation that appears in brackets has been added by the authors'),\n",
       " (221, 'A P P L I C AT I O N   O F   T H E   N U R S I N G   P R O C E S S'),\n",
       " (225,\n",
       "  'Death Syndrome, risk for sudden infant 185–189\\nDenial, ineffective 189–191\\nDentition, impaired 191–194\\nDevelopment, risk for delayed 194–197\\nDiarrhea 197–200\\nDisuse Syndrome, risk for 200–205\\nDiversional Activity, deficient 205–208'),\n",
       " (227,\n",
       "  'Failure to Thrive, adult 214–217\\nFalls, risk for 217–221\\nFamily Processes, dysfunctional: alcoholism 221–225\\nFamily Processes, interrupted 225–228\\n*Family Processes, readiness for enhanced 228–232\\nFatigue 232–236\\nFear\\n*Fluid Balance, readiness for enhanced 239–242\\n[Fluid Volume, deficient hyper/hypotonic]\\nFluid Volume, deficient [isotonic]\\nFluid Volume, excess 249–252\\nFluid Volume, risk for deficient\\nFluid Volume, risk for imbalanced 254–256'),\n",
       " (232,\n",
       "  'Gas Exchange, impaired 256–260\\nGrieving, anticipatory 260–263\\nGrieving, dysfunctional\\nGrowth and Development, delayed 266–271\\nGrowth, risk for disproportionate 271–275'),\n",
       " (234,\n",
       "  'Health Maintenance, ineffective 275–278\\nHealth-Seeking Behaviors (specify) 278–281\\nHome Maintenance, impaired 281–283\\nHopelessness\\nHyperthermia 287–290\\nHypothermia'),\n",
       " (237,\n",
       "  'Infant Behavior, disorganized 295–301\\nInfant Behavior, readiness for enhanced organized 301–303\\nInfant Behavior, risk for disorganized 303–304\\nInfant Feeding Pattern, ineffective 304–306'),\n",
       " (238,\n",
       "  '*New to the 2nd NANDA/NIC/NOC (NNN) Conference.\\nInformation that appears in brackets has been added by the authors'),\n",
       " (243, 'N U R S E ’ S   P O C K E T   G U I D E'),\n",
       " (246,\n",
       "  'Infection, risk for 307–310\\nInjury, risk for\\nInjury, risk for perioperative positioning 313–316\\nIntracranial Adaptive Capacity, decreased 316–319'),\n",
       " (248,\n",
       "  'Knowledge, deficient [Learning Need] (specify)\\n*Knowledge (specify), readiness for enhanced 323–325'),\n",
       " (251,\n",
       "  'Memory, impaired 328–331\\nMobility, impaired bed 331–333\\nMobility, impaired physical 333–337\\nMobility, impaired wheelchair 337–339'),\n",
       " (253,\n",
       "  'Noncompliance [Adherence, ineffective] [specify] 343–347\\nNutrition: imbalanced, less than body requirements\\nNutrition: imbalanced, more than body requirements 352–355\\nNutrition: imbalanced, risk for more than body requirements'),\n",
       " (259,\n",
       "  'Pain, acute 365–369\\nPain, chronic 370–374\\nParental Role Conflict\\nParenting, impaired 377–381\\n*Parenting, readiness for enhanced 381–385\\nParenting, risk for impaired 385–387\\nPeripheral Neurovascular Dysfunction, risk for 387–390\\nPersonal Identity, disturbed 390–393\\nPoisoning, risk for 393–396\\nPost-Trauma Syndrome [specify stage] 396–401\\nPost-Trauma Syndrome, risk for 402–404\\nPowerlessness [specify level]\\nPowerlessness, risk for\\n408–410\\nProtection, ineffective 411–412'),\n",
       " (263,\n",
       "  '*New to the 2nd NANDA/NIC/NOC (NNN) Conference.\\nInformation that appears in brackets has been added by the authors'),\n",
       " (268, 'A P P L I C AT I O N   O F   T H E   N U R S I N G   P R O C E S S'),\n",
       " (272,\n",
       "  'Rape-Trauma Syndrome: silent reaction 413\\nRelocation Stress Syndrome 417–420\\nRelocation Stress Syndrome, risk for 421–422\\nRole Performance, ineffective 422–425'),\n",
       " (275,\n",
       "  'Self-Care Deficit: bathing/hygiene 425–430\\nSelf-Care Deficit: dressing/grooming\\nSelf-Care Deficit: feeding\\nSelf-Care Deficit: toileting\\n*Self-Concept, readiness for enhanced 430–433\\nSelf-Esteem, chronic low 433–437\\nSelf-Esteem, situational low 437–440\\nSelf-Esteem, risk for situational low 440–441\\nSelf-Mutilation 442–445\\nSelf-Mutilation, risk for\\nSensory Perception, disturbed (specify: visual, auditory, kinesthetic,'),\n",
       " (279,\n",
       "  'Sexual Dysfunction 454–458\\nSexuality Pattern, ineffective 458–461\\nSkin Integrity, impaired 461–465\\nSkin Integrity, risk for impaired 465–468\\nSleep Deprivation 468–472\\nSleep Pattern, disturbed 472–477\\n*Sleep, readiness for enhanced 477–480\\nSocial Interaction, impaired 480–484\\nSocial Isolation 484–487\\nSorrow, chronic 487–489'),\n",
       " (283,\n",
       "  'Suffocation, risk for 500–503\\nSuicide, risk for 503–507\\nSurgical Recovery, delayed 507–510\\nSwallowing, impaired 510–515'),\n",
       " (285,\n",
       "  'Therapeutic Regimen Management: community, ineffective\\nTherapeutic Regimen Management: effective 517–519\\nTherapeutic Regimen Management: family, ineffective 520–522\\nTherapeutic Regimen Management: ineffective\\n*Therapeutic Regimen Management: readiness for enhanced'),\n",
       " (291,\n",
       "  '*New to the 2nd NANDA/NIC/NOC (NNN) Conference.\\nPlease  also  see  the  NANDA  diagnoses  grouped  according  to'),\n",
       " (294, 'N U R S E ’ S   P O C K E T   G U I D E'),\n",
       " (297,\n",
       "  'Tissue Integrity, impaired 533–537\\nTissue Perfusion, ineffective (specify type: renal, cerebral, cardiopul-'),\n",
       " (302,\n",
       "  'Unilateral Neglect\\nUrinary Elimination, impaired 554–558\\n*Urinary Elimination, readiness for enhanced 558–561\\nUrinary Incontinence, functional\\nUrinary Incontinence, reflex 564–566\\nUrinary Incontinence, stress 567–569\\nUrinary Incontinence, total\\n570–572\\nUrinary Incontinence, urge 572–575\\nUrinary Incontinence, risk for urge 576–578\\nUrinary Retention [acute/chronic] 578–581'),\n",
       " (304,\n",
       "  'Ventilation, impaired spontaneous\\n581–586\\nVentilatory Weaning Response, dysfunctional\\nViolence, [actual/] risk for other-directed 590–591\\nViolence, [actual/] risk for self-directed 591–596'),\n",
       " (308,\n",
       "  '*New to the 2nd NANDA/NIC/NOC (NNN) Conference.\\nInformation that appears in brackets has been added by the authors'),\n",
       " (312, 'A P P L I C AT I O N   O F   T H E   N U R S I N G   P R O C E S S'),\n",
       " (315,\n",
       "  'shape expectations of the client’s response and/or influence the\\nnurse’s behavior toward the client.'),\n",
       " (316,\n",
       "  'The  key  to  accurate  diagnosis  is  collection  and  analysis  of\\ndata. In Chapter 3, the NDs have been categorized into divisions\\n(Diagnostic Divisions: Nursing Diagnoses Organized According\\nto a Nursing Focus, Section 2) and an assessment tool designed\\nto assist the nurse to identify appropriate NDs as the data are\\ncollected. Nurses may feel at risk in committing themselves to\\ndocumenting a nursing diagnosis for fear they might be wrong.\\nHowever, unlike  medical  diagnoses, NDs  can  change  as  the\\nclient  progresses  through  various  stages  of illness/maladapta-\\ntion to resolution of the condition/situation.'),\n",
       " (317,\n",
       "  'Desired outcomes are formulated to give direction to, as well\\nas to evaluate, the care provided. These outcomes emerge from\\nthe  diagnostic  statement  and  are  what  the  client  hopes  to\\nachieve. They serve as the guidelines to evaluate progress toward\\nresolution  of needs/problems, providing  impetus  for  revising\\nthe  plan  as  appropriate. In  this  book, outcomes  are  stated  in\\ngeneral terms to permit the practitioner to individualize them\\nby adding timelines and other data according to specific client\\ncircumstances. Outcome terminology needs to be concise, real-\\nistic, measurable, and stated in words the client can understand.\\nBeginning the outcome statement with an action verb provides\\nmeasurable  direction, for  example, “Verbalizes  relationship\\nbetween diabetes mellitus and circulatory changes in feet within\\n2  days” or  “Correctly  performs  procedure  of home  glucose\\nmonitoring within 48 hours.”'),\n",
       " (318,\n",
       "  'Interventions  are  the  action  steps  taken  to  achieve  desired\\noutcomes and, because they are communicated to others, they\\nmust be clearly stated. A solid nursing knowledge base is vital to\\nthis process because the rationale for interventions needs to be\\nsound  and  feasible  with  the  intention  of providing  effective\\nindividualized care. The actions may be independent or collab-\\norative and may encompass specific orders from nursing, medi-\\ncine, and  other  disciplines. Written  interventions  that  guide\\nongoing client care need to be dated and signed. To facilitate the\\nplanning  process, specific  nursing  priorities  have  been  identi-\\nfied  in  this  text  to  provide  a  general  ranking  of interventions.\\nThis  ranking  would  be  altered  according  to  individual  client\\nsituations. The seasoned practitioner may choose to use these as\\nbroad-based  interventions. The  student  or  beginning  practi-\\ntioner  may  need  to  develop  a  more  detailed  plan  of care  by\\nincluding the appropriate interventions listed under each nurs-\\ning  priority. Finally, as  each  client  usually  has  a  perception  of\\nindividual needs or problems he or she faces and an expectation\\nof what could be done about the situation, the plan of care must\\nbe congruent with the client’s reality or it will fail.'),\n",
       " (320, 'N U R S E ’ S   P O C K E T   G U I D E'),\n",
       " (322,\n",
       "  'The plan of care documents client care in areas of accounta-\\nbility, quality assurance, and liability. The nurse needs to plan\\ncare with the client, because both are accountable for that care\\nand for achieving the desired outcomes.'),\n",
       " (324,\n",
       "  'Healthcare providers have a responsibility for planning with\\nthe  client  and  family  for  continuation  of care  to  the  eventual\\noutcome  of an  optimal  state  of wellness  or  a  dignified  death.\\nPlanning, setting goals, and choosing appropriate interventions\\nare essential to the construction of a plan of care as well as to\\ndelivery  of quality  nursing  care. These  nursing  activities\\ncomprise  the  planning  phase  of the  nursing  process  and  are\\ndocumented in the plan of care for a particular client. As a part\\nof the  client’s  permanent  record, the  plan  of care  not  only\\nprovides  a  means  for  the  nurse  who  is  actively  caring  for  the\\nclient to be aware of the client’s needs (NDs), goals, and actions\\nto be taken, but it also substantiates the care provided for review\\nby third-party payors and accreditation agencies, while meeting\\nlegal requirements.'),\n",
       " (325, 'A P P L I C AT I O N   O F   T H E   N U R S I N G   P R O C E S S'),\n",
       " (329,\n",
       "  'Putting Theory into\\nPractice: Sample\\nAssessment Tools, Plan of\\nCare, and Documentation'),\n",
       " (330,\n",
       "  'The client assessment is the foundation on which identifica-\\ntion of individual needs, responses, and problems is based. To\\nfacilitate  the  steps  of assessment  and  diagnosis  in  the  nursing\\nprocess, an  assessment  tool  (Assessment  Tools  for  Choosing\\nNursing  Diagnoses, Section  1)  has  been  constructed  using  a\\nnursing  focus  instead  of the  medical  approach  of “review  of\\nsystems.” This  has  the  advantage  of identifying  and  validating\\nnursing diagnoses (NDs) as opposed to medical diagnoses.'),\n",
       " (331,\n",
       "  'To achieve this nursing focus, we have grouped the NANDA\\nInternational  (formerly  the  North American  Nursing  Diagno-\\nsis  Association)  NDs  into  related  categories  titled  Diagnostic\\nDivisions  (Section  2), which  reflect  a  blending  of theories,\\nprimarily Maslow’s Hierarchy of Needs and a self-care philoso-\\nphy. These divisions serve as the framework or outline for data\\ncollection/clustering  that  focuses  attention  on  the  nurse’s\\nphenomena  of concern—the  human  responses  to  actual  and\\npotential  health  problems—and  directs  the  nurse  to  the  most\\nlikely corresponding NDs.'),\n",
       " (332,\n",
       "  'Because  the  divisions  are  based  on  human  responses  and\\nneeds and not specific “systems,” information may be recorded\\nin more than one area. For this reason, the nurse is encouraged\\nto keep an open mind, to pursue all leads, and to collect as much\\ndata as possible before choosing the ND label that best reflects\\nthe client’s situation. For example, when the nurse identifies the\\ncue of restlessness in a client, the nurse may infer that the client\\nis  anxious, assuming  that  the  restlessness  is  psychologically\\nbased  and  overlooking  the  possibility  that  it  is  physiologically\\nbased.'),\n",
       " (333,\n",
       "  'From the specific data recorded in the database, an individu-\\nalized client diagnostic statement can be formulated using the\\nproblem, etiology, signs/symptoms (PES) format  to  accurately\\nrepresent  the  client’s  situation. For  example, the  diagnostic'),\n",
       " (335, 'N U R S E ’ S   P O C K E T   G U I D E'),\n",
       " (337,\n",
       "  'statement  may  read, “deficient  Knowledge  regarding  diabetic\\ncare, related  to  misinterpretation  of information  and/or  lack\\nof recall, evidenced  by  inaccurate  follow-through  of instruc-\\ntions  and  failure  to  recognize  signs  and  symptoms  of hyper-\\nglycemia.”'),\n",
       " (338,\n",
       "  'Desired  client  outcomes  are  identified  to  facilitate  choosing\\nappropriate  interventions  and  to  serve  as  evaluators  of both\\nnursing care and client response. These outcomes also form the\\nframework for documentation.'),\n",
       " (339,\n",
       "  'Interventions are designed to specify the action of the nurse,\\nthe  client, and/or  SOs. Interventions  need  to  promote  the\\nclient’s  movement  toward  health/independence  in  addition  to\\nachievement of physiologic stability. This requires involvement\\nof the client in his or her own care, including participation in\\ndecisions about care activities and projected outcomes.'),\n",
       " (340,\n",
       "  'Section  3, “Client  Situation  and  Prototype  Plan  of Care,”\\ncontains a sample plan of care formulated on data collected in\\nthe nursing model assessment tool. Individualized client diag-\\nnostic  statements  and  desired  client  outcomes  (with  timelines\\nadded  to  reflect  anticipated  length  of stay  and  individual\\nclient/nurse  expectations)  have  been  identified. Interventions\\nhave  been  chosen  based  on  concerns/needs  identified  by  the\\nclient and nurse during data collection, as well as by physician\\norders.'),\n",
       " (341,\n",
       "  'Although  not  normally  included  in  a  written  plan  of care,\\nrationales  are  included  in  this  sample  for  the  purpose  of\\nexplaining or clarifying the choice of interventions to enhance\\nthe nurse’s learning.'),\n",
       " (342,\n",
       "  'Finally, to  complete  the  learning  experience, samples  of\\ndocumentation  based  on  the  client  situation  are  presented  in\\nSection  4, “Documentation  Techniques.” The  plan  of care\\nprovides documentation of the planning process and serves as a\\nframework/outline  for  charting  of administered  care. The\\nprimary nurse needs to periodically review the client’s progress\\nand  the  effectiveness  of the  treatment  plan. Persons  then  are\\nable to read the notes and have a clear picture of what occurred\\nwith the client in order to make appropriate judgments regard-\\ning  client  management. The  best  way  to  ensure  the  clarity  of\\nprogress  notes  is  through  the  use  of descriptive  (or  observa-\\ntional)  statements. Observations  of client  behavior  and\\nresponse  to  therapy  provide  invaluable  information. Through\\nthis communication, it can be determined if the client’s current\\ndesired  outcomes  or  interventions  need  to  be  eliminated  or\\naltered  and  if the  development  of new  outcomes  or  interven-\\ntions is warranted. Progress notes are an integral component of\\nthe  overall  medical  record  and  should  include  all  significant\\nevents  that  occur  in  the  daily  life  of the  client. They  reflect'),\n",
       " (343, 'P U T T I N G   T H E O R Y   I N T O   P R A C T I C E'),\n",
       " (346,\n",
       "  'implementation  of the  treatment  plan  and  document  that\\nappropriate  actions  have  been  carried  out, precautions  taken,\\nand  so  forth. It  is  important  that  both  the  implementation  of\\ninterventions  and  progress  toward  the  desired  outcomes  be\\ndocumented. The notes need to be written in a clear and objec-\\ntive  fashion, specific  as  to  date  and  time, and  signed  by  the\\nperson making the entry.'),\n",
       " (347,\n",
       "  'Use of clear documentation helps the nurse to individualize\\nclient  care. Providing  a  picture  of what  has  happened  and  is\\nhappening  promotes  continuity  of care  and  facilitates  evalua-\\ntion. This reinforces each person’s accountability and responsi-\\nbility  for  using  nursing  process  to  provide  individually\\nappropriate and cost-effective client care.'),\n",
       " (349, 'N U R S E ’ S   P O C K E T   G U I D E'),\n",
       " (353,\n",
       "  'This is a suggested guide/tool to create a database reflecting a\\nnursing focus. Although the Diagnostic Divisions are alphabet-\\nized  here  for  ease  of presentation, they  can  be  prioritized  or\\nrearranged in any manner to meet individual needs. In addition,\\nthe assessment tool can be adapted to meet the needs of specific\\nclient  populations. Excerpts  of assessment  tools  adapted  for\\npsychiatric and obstetric settings are included at the end of this\\nsection.'),\n",
       " (354, 'P U T T I N G   T H E O R Y   I N T O   P R A C T I C E'),\n",
       " (376,\n",
       "  'Observed response to activity: Cardiovascular:\\nRespiratory:\\nMental status (i.e., withdrawn/lethargic)\\nNeuro/muscular assessment:'),\n",
       " (391, 'N U R S E ’ S   P O C K E T   G U I D E'),\n",
       " (415,\n",
       "  'Capillary refill:\\nHomans’ sign:\\nNail abnormalities:\\nDistribution/quality of hair:\\nTrophic skin changes:'),\n",
       " (421,\n",
       "  'Stress factors:\\nWays of handling stress:\\nFinancial concerns:\\nRelationship status:\\nCultural factors/ethnic ties:\\nReligion:\\nLifestyle:\\nSense of connectedness/harmony with self:\\nFeelings of: Helplessness:'),\n",
       " (438, 'P U T T I N G   T H E O R Y   I N T O   P R A C T I C E'),\n",
       " (444,\n",
       "  'Usual bowel pattern:\\nLaxative use:\\nCharacter of stool:\\nDiarrhea:\\nHistory of bleeding:\\nUsual voiding pattern:\\nIncontinence/when:\\nFrequency:'),\n",
       " (461,\n",
       "  'Usual diet (type):\\nCultural/religious restrictions:\\nCarbohydrate/protein/fat intake: g/d\\nVitamin/food supplement use:\\nFood preferences:\\nNo. of meals daily:\\nDietary pattern/content: B:\\nLast meal/intake:\\nLoss of appetite:\\nHeartburn/indigestion:'),\n",
       " (478, 'N U R S E ’ S   P O C K E T   G U I D E'),\n",
       " (482,\n",
       "  'Jugular vein distention:\\nThyroid enlarged:\\nCondition of teeth/gums:\\nAppearance of tongue:\\nMucous membranes:'),\n",
       " (503,\n",
       "  'Fainting spells/dizziness:\\nHeadaches: Location:\\nTingling/numbness/weakness (location):\\nStroke/brain injury (residual effects):\\nSeizures: Type:'),\n",
       " (513, 'P U T T I N G   T H E O R Y   I N T O   P R A C T I C E'),\n",
       " (519,\n",
       "  'Memory: Recent:\\nGlasses:\\nPupil: Shape:\\nFacial droop:\\nHandgrasp/release, R/L:\\nPosturing:\\nDeep tendon reflexes:'),\n",
       " (558, 'N U R S E ’ S   P O C K E T   G U I D E'),\n",
       " (560,\n",
       "  'Respiratory: Rate:\\nUse of accessory muscles:\\nFremitus:\\nBreath sounds:\\nCyanosis:\\nSputum characteristics:\\nMentation/restlessness:'),\n",
       " (568,\n",
       "  'Allergies/sensitivity:\\nExposure to infectious diseases:\\nImmunization history:\\nPrevious alteration of immune system:'),\n",
       " (578,\n",
       "  'Geographic areas lived in/visited:\\nSeat belt/helmet use:\\nWorkplace safety/health issues:\\nHistory of accidental injuries:'),\n",
       " (579,\n",
       "  'Fractures/dislocations:\\nArthritis/unstable joints:\\nBack problems:\\nChanges in moles:\\nDelayed healing:\\nCognitive limitations:'),\n",
       " (598, 'P U T T I N G   T H E O R Y   I N T O   P R A C T I C E'),\n",
       " (604,\n",
       "  'Sexually active:\\nBirth control method:\\nSexual concerns/difficulties:\\nRecent change in frequency/interest:'),\n",
       " (614,\n",
       "  'Bleeding between periods:\\nMenopause:\\nVaginal discharge:\\nSurgeries:\\nHormonal therapy/calcium use:\\nPractices breast self-examination:\\nLast mammogram:'),\n",
       " (624, 'N U R S E ’ S   P O C K E T   G U I D E'),\n",
       " (639,\n",
       "  'Role within family structure:\\nPerception of relationships with family members:\\nFeelings of: Mistrust:'),\n",
       " (659, 'P U T T I N G   T H E O R Y   I N T O   P R A C T I C E'),\n",
       " (667,\n",
       "  'Special healthcare concerns (e.g., impact of religious/\\ncultural practices):\\nHealth goals:\\nFamilial risk factors (indicate relationship):'),\n",
       " (680,\n",
       "  'Use of herbal supplements (specify):\\nAdmitting diagnosis per provider:\\nReason per client:\\nHistory of current complaint:\\nClient expectations of this hospitalization:\\nPrevious illnesses and/or hospitalizations/surgeries:\\nEvidence of failure to improve:\\nLast complete physical examination:'),\n",
       " (682,\n",
       "  'DRG-projected mean length of stay:\\nDate information obtained:\\nAnticipated date of discharge:\\nResources available: Persons:'),\n",
       " (691, 'N U R S E ’ S   P O C K E T   G U I D E'),\n",
       " (701, 'P U T T I N G   T H E O R Y   I N T O   P R A C T I C E'),\n",
       " (707,\n",
       "  'What kind of person are you (positive/negative, etc.)?\\nWhat do you think of your body?\\nHow would you rate your self-esteem (1–10 with'),\n",
       " (712,\n",
       "  'Are you a nervous person?\\nAre your feelings easily hurt?\\nReport of stress factors:\\nPrevious patterns of handling stress:\\nFinancial concerns:\\nRelationship status:\\nWork history/military service:\\nCultural factors:\\nReligion:\\nLifestyle:\\nSignificant losses/changes (date):\\nStages of grief/manifestations of loss:\\nFeelings of: Helplessness:'),\n",
       " (743, 'N U R S E ’ S   P O C K E T   G U I D E'),\n",
       " (756,\n",
       "  'Believe/feel you are another person:\\nPerception different than others:\\nAbility to follow directions:'),\n",
       " (762,\n",
       "  'Mental status (note duration of change):\\nOriented/disoriented: Time:\\nPlace:\\nCheck all that apply:'),\n",
       " (773,\n",
       "  'speech (e.g., spontaneous/sudden silences):\\nContent:\\nDelusions:\\nRate or flow:\\nClear, logical progression:\\nExpression:\\nFlight of ideas:\\nAbility to concentrate:'),\n",
       " (784, 'P U T T I N G   T H E O R Y   I N T O   P R A C T I C E'),\n",
       " (794, 'N U R S E ’ S   P O C K E T   G U I D E'),\n",
       " (821,\n",
       "  'Type of previous delivery:\\nHealth status of living children:\\nHistory of accidental injuries:'),\n",
       " (845, 'P U T T I N G   T H E O R Y   I N T O   P R A C T I C E'),\n",
       " (868,\n",
       "  'Client’s belief of when conception occurred:\\nEstimated date of delivery:\\nPractices breast self-examination (Y/N):\\nLast Pap smear:\\nRecent contraceptive method:\\nOB history (GPTPAL): Gravida:'),\n",
       " (878,\n",
       "  'Delivery history: Year:\\nLength of gestation:\\nType of delivery:\\nBorn (alive or dead):\\nWeight:'),\n",
       " (881,\n",
       "  'Vagina:\\nUterus:\\nDiagonal conjugate:\\nTransverse diameter:\\nShape of sacrum:\\nCoccyx:\\nIschial spines:\\nAdequacy of inlet:\\nMid:'),\n",
       " (892, 'N U R S E ’ S   P O C K E T   G U I D E'),\n",
       " (917,\n",
       "  'History of STD (date/type):\\nMonth of first prenatal visit:\\nPrevious/current obstetric problems/treatment:'),\n",
       " (924,\n",
       "  'Length of time since last pregnancy:\\nType of previous delivery:\\nHealth status of living children:\\nBlood transfusion:'),\n",
       " (931, 'P U T T I N G   T H E O R Y   I N T O   P R A C T I C E'),\n",
       " (939,\n",
       "  'Method of auscultation:\\nFundal height:\\nActivity/movement:\\nFetal assessment testing (Y/N):\\nDate:'),\n",
       " (963, 'N U R S E ’ S   P O C K E T   G U I D E')]"
      ]
     },
     "execution_count": 16,
     "metadata": {},
     "output_type": "execute_result"
    }
   ],
   "source": [
    "tmp"
   ]
  },
  {
   "cell_type": "code",
   "execution_count": 17,
   "id": "7c0258c2",
   "metadata": {},
   "outputs": [],
   "source": [
    "import cosine3"
   ]
  },
  {
   "cell_type": "code",
   "execution_count": 18,
   "id": "0bb84140",
   "metadata": {},
   "outputs": [],
   "source": [
    "tfidf_vectorizer = cosine3.get_tfidf_vectorizer()"
   ]
  },
  {
   "cell_type": "code",
   "execution_count": 19,
   "id": "91f483e6",
   "metadata": {},
   "outputs": [],
   "source": [
    "import preprocessing3"
   ]
  },
  {
   "cell_type": "code",
   "execution_count": 20,
   "id": "29b96338",
   "metadata": {},
   "outputs": [],
   "source": [
    "import json as js"
   ]
  },
  {
   "cell_type": "code",
   "execution_count": 21,
   "id": "ac251cc1",
   "metadata": {},
   "outputs": [],
   "source": [
    "def fetch_pages(source):\n",
    "    document = parser.parse_pdf(source)\n",
    "    printer = JsonFilePrinter()\n",
    "    file_path = pathlib.Path('pdf.json')\n",
    "    printer.print(document, file_path=str(file_path.absolute()))\n",
    "\n",
    "    with open('pdf.json') as json_file:\n",
    "        data = js.load(json_file)\n",
    "    json_file.close()\n",
    "    pages = {i + 1 : get_page(data, i) for i in range(0, end)}\n",
    "    return pages, file_path\n",
    "pages, file_path = fetch_pages(source)"
   ]
  },
  {
   "cell_type": "code",
   "execution_count": 22,
   "id": "e747ef61",
   "metadata": {},
   "outputs": [],
   "source": [
    "(formatted_docs, paragraph_page_idx) = preprocessing3.get_formatted_docs(pages)"
   ]
  },
  {
   "cell_type": "code",
   "execution_count": 23,
   "id": "85ebf12f",
   "metadata": {},
   "outputs": [],
   "source": [
    "preprocessed_docs = preprocessing3.get_preprocessed_docs(formatted_docs)"
   ]
  },
  {
   "cell_type": "code",
   "execution_count": 24,
   "id": "173ccdc1",
   "metadata": {},
   "outputs": [],
   "source": [
    "tfidf_matrix = tfidf_vectorizer.fit_transform(list(preprocessed_docs.values())).toarray()"
   ]
  },
  {
   "cell_type": "code",
   "execution_count": 25,
   "id": "cb9b2c2f",
   "metadata": {},
   "outputs": [
    {
     "data": {
      "text/plain": [
       "(964, 1605)"
      ]
     },
     "execution_count": 25,
     "metadata": {},
     "output_type": "execute_result"
    }
   ],
   "source": [
    "np.shape(tfidf_matrix)"
   ]
  },
  {
   "cell_type": "code",
   "execution_count": 26,
   "id": "69ab3568",
   "metadata": {},
   "outputs": [],
   "source": [
    "tmp = tfidf_matrix@tfidf_matrix.T"
   ]
  },
  {
   "cell_type": "code",
   "execution_count": 27,
   "id": "df58841a",
   "metadata": {},
   "outputs": [],
   "source": [
    "import matplotlib.pyplot as plt"
   ]
  },
  {
   "cell_type": "code",
   "execution_count": 28,
   "id": "361994b7",
   "metadata": {},
   "outputs": [
    {
     "data": {
      "image/png": "[encoded data removed]",
      "text/plain": [
       "<Figure size 432x288 with 2 Axes>"
      ]
     },
     "metadata": {
      "needs_background": "light"
     },
     "output_type": "display_data"
    }
   ],
   "source": [
    "plt.imshow(tmp, interpolation='none',\n",
    "           cmap=plt.cm.Greys, vmin=0, vmax=0.6)\n",
    "plt.colorbar()\n",
    "\n",
    "# plt.xticks(range(n_speakers_to_analyze), speakers_to_analyze, rotation=90)\n",
    "# plt.yticks(range(n_speakers_to_analyze), speakers_to_analyze)\n",
    "plt.show()"
   ]
  },
  {
   "cell_type": "code",
   "execution_count": 29,
   "id": "eea9de2b",
   "metadata": {},
   "outputs": [
    {
     "data": {
      "text/plain": [
       "(964, 964)"
      ]
     },
     "execution_count": 29,
     "metadata": {},
     "output_type": "execute_result"
    }
   ],
   "source": [
    "tmp.shape"
   ]
  },
  {
   "cell_type": "code",
   "execution_count": 41,
   "id": "9024aa05",
   "metadata": {},
   "outputs": [
    {
     "data": {
      "text/plain": [
       "(964, 964)"
      ]
     },
     "execution_count": 41,
     "metadata": {},
     "output_type": "execute_result"
    }
   ],
   "source": [
    "tmp1.shape"
   ]
  },
  {
   "cell_type": "code",
   "execution_count": 31,
   "id": "65233432",
   "metadata": {},
   "outputs": [],
   "source": [
    "tmp1 = np.tril(tmp)\n",
    "indices = np.argwhere((tmp1 > .48) & (tmp < .58))"
   ]
  },
  {
   "cell_type": "code",
   "execution_count": 32,
   "id": "fa6a1871",
   "metadata": {},
   "outputs": [
    {
     "data": {
      "text/plain": [
       "592"
      ]
     },
     "execution_count": 32,
     "metadata": {},
     "output_type": "execute_result"
    }
   ],
   "source": [
    "len(indices)"
   ]
  },
  {
   "cell_type": "code",
   "execution_count": 33,
   "id": "01aed418",
   "metadata": {},
   "outputs": [],
   "source": [
    "query = \"blood pressure\""
   ]
  },
  {
   "cell_type": "code",
   "execution_count": 47,
   "id": "a800b723",
   "metadata": {},
   "outputs": [],
   "source": [
    "verbatim_search = lambda query: [msg for msg in tmp if query in msg]"
   ]
  },
  {
   "cell_type": "code",
   "execution_count": 48,
   "id": "dcbc5754",
   "metadata": {},
   "outputs": [
    {
     "name": "stderr",
     "output_type": "stream",
     "text": [
      "<ipython-input-47-eac202d75418>:1: FutureWarning: elementwise comparison failed; returning scalar instead, but in the future will perform elementwise comparison\n",
      "  verbatim_search = lambda query: [msg for msg in tmp if query in msg]\n"
     ]
    },
    {
     "data": {
      "text/plain": [
       "0"
      ]
     },
     "execution_count": 48,
     "metadata": {},
     "output_type": "execute_result"
    }
   ],
   "source": [
    "len(verbatim_search('volume imbalgance'))"
   ]
  },
  {
   "cell_type": "code",
   "execution_count": 49,
   "id": "b9c9e1b5",
   "metadata": {},
   "outputs": [
    {
     "data": {
      "text/plain": [
       "array([[1., 0., 0., ..., 0., 0., 0.],\n",
       "       [0., 1., 0., ..., 0., 0., 0.],\n",
       "       [0., 0., 1., ..., 0., 0., 0.],\n",
       "       ...,\n",
       "       [0., 0., 0., ..., 1., 0., 0.],\n",
       "       [0., 0., 0., ..., 0., 0., 0.],\n",
       "       [0., 0., 0., ..., 0., 0., 0.]])"
      ]
     },
     "execution_count": 49,
     "metadata": {},
     "output_type": "execute_result"
    }
   ],
   "source": [
    "tmp"
   ]
  },
  {
   "cell_type": "code",
   "execution_count": 51,
   "id": "62f0527f",
   "metadata": {},
   "outputs": [
    {
     "data": {
      "text/plain": [
       "array([[1., 0., 0., ..., 0., 0., 0.],\n",
       "       [0., 1., 0., ..., 0., 0., 0.],\n",
       "       [0., 0., 1., ..., 0., 0., 0.],\n",
       "       ...,\n",
       "       [0., 0., 0., ..., 1., 0., 0.],\n",
       "       [0., 0., 0., ..., 0., 0., 0.],\n",
       "       [0., 0., 0., ..., 0., 0., 0.]])"
      ]
     },
     "execution_count": 51,
     "metadata": {},
     "output_type": "execute_result"
    }
   ],
   "source": [
    "tmp"
   ]
  },
  {
   "cell_type": "code",
   "execution_count": 53,
   "id": "3231b5c0",
   "metadata": {},
   "outputs": [],
   "source": [
    "tmp = [i for j in [i[1] for i in json.items()] for i in j]\n",
    "tmp= [i for i in list(enumerate(tmp)) if count_words(i[1])>word_window]"
   ]
  },
  {
   "cell_type": "code",
   "execution_count": 54,
   "id": "d4862d04",
   "metadata": {},
   "outputs": [],
   "source": [
    "text_blob = ' '.join([i[1] for i in tmp])"
   ]
  },
  {
   "cell_type": "code",
   "execution_count": 55,
   "id": "b4ebb334",
   "metadata": {},
   "outputs": [
    {
     "data": {
      "text/plain": [
       "'HEALTH PERCEPTION-HEALTH MANAGEMENT PATTERN\\nHealth maintenance, ineffective 275–278\\nTherapeutic regimen: effective management 517–519\\nTherapeutic regimen: ineffective management\\nTherapeutic regimen: readiness for enhanced management 525–527\\nTherapeutic regimen: family, ineffective management 520–522\\nTherapeutic regimen: community, ineffective management\\nNoncompliance (specify) 343–347\\nHealth-seeking behaviors (specify) 278–281\\nEnergy field, disturbed 208–211\\nFalls, risk for\\nInfection, risk for\\nInjury (trauma), risk for 310–313\\nProtection, ineffective 411–412\\nPoisoning, risk for 393–396\\nSuffocation, risk for 500–503\\nPerioperative positioning injury, risk for 313–316\\nSudden infant death syndrome 185–189 NUTRITIONAL-METABOLIC PATTERN\\nNutrition: more than body requirements, imbalanced 352–355\\nNutrition: more than body requirements, risk for imbalanced 356–358\\nNutrition: less than body requirements, imbalanced 347–352\\nNutrition, readiness for enhanced 359–362\\nBreastfeeding, ineffective\\nBreastfeeding, effective 108–110\\nBreastfeeding, interrupted 115–117\\nInfant feeding pattern, ineffective\\nAspiration, risk for 86–89\\nSwallowing, impaired 510–515\\nNausea\\nOral mucous membrane, impaired 362–365\\nDentition, impaired 191–194\\nFluid balance, readiness for enhanced 239–242\\nFluid volume imbalance, risk for 254–256\\nFluid volume, risk for deficient\\nFluid volume, deficient\\nFluid volume, excess 249–252\\nSkin integrity, impaired 461–465\\nSkin integrity, risk for impaired 465–468\\nTissue integrity (specify type), impaired 533–537\\nBody temperature, risk for imbalanced 102–104\\nLatex allergy response\\n73–75\\nLatex allergy response, risk for\\nThermoregulation, ineffective\\nHyperthermia\\nHypothermia 291–295\\nFailure to thrive, adult 214–217 ELIMINATION PATTERN\\nConstipation 153–157\\nConstipation, risk for\\nConstipation, perceived 157–159\\nDiarrhea\\n197–200\\nBowel incontinence\\nUrinary elimination, impaired 554–558 *Reprinted from Manual of Nursing Diagnosis, 10th ed., M. Gordon, Copyright 2002, with Urinary elimination, readiness for enhanced 558–561\\nUrinary incontinence, functional\\nUrinary incontinence, reflex 564–566\\nUrinary incontinence, stress 567–569\\nUrinary incontinence, urge 572–575\\nUrinary urge incontinence, risk for 576–578\\nIncontinence, total\\nUrinary retention 578–581 ACTIVITY-EXERCISE PATTERN\\nActivity intolerance, risk for 60–63\\nActivity intolerance (specify level) 63–65\\nAdaptive capacity, decreased, intracranial 316–319\\nInfant behavior, disorganized 295–301\\nInfant behavior, risk for disorganized 303–304\\nInfant behavior, readiness for enhanced organized 301–303\\nFatigue\\nPhysical mobility, impaired 333–337\\nBed mobility, impaired 331–333\\nWalking, impaired 597–599\\nWheelchair mobility, impaired 337–339\\nTransfer ability, impaired 544–546\\nDevelopment, risk for delayed 194–197\\nAutonomic dysreflexia 92–95\\nAutonomic dysreflexia, risk for 95–97\\nDisuse syndrome, risk for 200–205\\nSelf-care deficit (specify: bathing/hygiene, dressing/grooming, feeding, toileting) Diversional activity deficient 205–208\\nHome maintenance, impaired 281–283\\nDysfunctional ventilatory weaning response\\nVentilation, impaired spontaneous\\nAirway clearance, ineffective\\nBreathing pattern, ineffective 117–121\\nGas exchange, impaired 256–260\\nCardiac output, decreased 121–126\\nTissue perfusion, alteration (specify) 537–544\\nPeripheral neurovascular dysfunction, risk for 387–390\\nSurgical recovery, delayed 507–510\\nGrowth and development, delayed 266–271\\nGrowth, risk for disproportionate 271–275\\nWandering SLEEP-REST PATTERN\\nSleep-pattern disturbed 472–477\\nSleep deprivation 468–472\\nSleep, readiness for enhanced 477–480 COGNITIVE-PERCEPTUAL PATTERN\\nAcute pain 365–369\\nChronic pain 370–374\\nSensory perception, disturbed (specify) 449–454\\nUnilateral neglect\\nKnowledge deficit (specify) 319–323\\nKnowledge, readiness for enhanced 323–325\\nMemory, impaired 328–331\\nThought processes, disturbed 529–533\\nAcute confusion 147–150\\nChronic confusion 150–153\\nEnvironmental interpretation syndrome, impaired 211–214\\nDecisional conflict (specify) Anxiety, death 83–86\\nHopelessness\\nPowerlessness\\nPowerlessness, risk for\\nLoneliness, risk for\\nSelf-concept, readiness for enhanced 430–433\\nChronic low self-esteem 433–437\\nSituational low self-esteem 437–440\\nSituational low self-esteem, risk for 440–441\\nBody image disturbed 98–102\\nPersonal identity disturbed 390–393\\nViolence, risk for self-directed 591–596 ROLE-RELATIONSHIP PATTERN\\nAnticipatory grieving 260–263\\nDysfunctional grieving 263–266\\nChronic sorrow 487–489\\nRole performance, ineffective 422–425\\nSocial isolation 484–487\\nImpaired social interaction 480–484\\nRelocation stress syndrome 417–420\\nRelocation stress syndrome, risk for\\nFamily processes, interrupted 225–228\\nFamily processes, readiness for enhanced 228–232\\nDysfunctional family processes: alcoholism 221–225\\nImpaired parenting, risk for 385–387\\nImpaired parenting\\nParenting, readiness for enhanced 381–385\\nImpaired parent/infant/child attachment, risk for 89–92\\nParental role conflict\\n374–377\\nCaregiver role strain 126–132\\nCaregiver role strain, risk for 132–135\\nImpaired verbal communication 135–139\\nCommunication, readiness for enhanced 139–143\\nRisk for violence, directed at others 590–591 SEXUALITY-REPRODUCTIVE\\nSexual dysfunction 454–458\\nIneffective sexuality patterns\\nRape-trauma syndrome 412–417\\nRape-trauma syndrome: compound reaction 413\\nRape-trauma syndrome: silent reaction 413 COPING-STRESS TOLERANCE PATTERN\\nIneffective coping\\nCoping, readiness for enhanced 182–185\\nDefensive coping 166–169\\nCommunity coping, ineffective 162–164\\nCommunity coping, readiness for enhanced 164–166\\nIneffective denial\\nImpaired adjustment 66–69\\nPost-trauma syndrome 396–401\\nPost-trauma syndrome, risk for 402–404\\nFamily coping: readiness for enhanced 175–177\\nIneffective family coping: compromised 169–172\\nIneffective family coping: disabling 172–175\\n503–507\\nRisk for suicide\\nSelf-mutilation 442–445\\nSelf-mutilation, risk for VALUE-BELIEF PATTERN\\nSpiritual distress\\n490–494\\nSpiritual distress, risk for 494–497\\nSpiritual well-being, readiness for enhanced 497–500 Clinical Specialist—Adult Psychiatric/Mental Health, Retired\\nAdjunct Faculty\\nBeth-El College of Nursing and Health Sciences CU-Springs\\nColorado Springs, Colorado Nurse Consultant\\nTNT-RN Enterprises\\nAdjunct Faculty\\nPikes Peak Community College\\nColorado Springs, Colorado F.A. Davis Company\\n1915 Arch Street\\nPhiladelphia, PA 19103\\nwww. fadavis.com Copyright  ©  1985, 1988, 1991, 1993, 1996, 1998, 2000, 2002  by  F.A.\\nDavis Company. All rights reserved. This book is protected by copyright.\\nNo part of it may be reproduced, stored in a retrieval system, or trans-\\nmitted  in  any  form  or  by  any  means, electronic, mechanical, photo-\\ncopying, recording, or otherwise, without written permission from the\\npublisher. Last digit indicates print number: 10 9 8 7 6 5 4 3 2 1 As new scientific information becomes available through basic and clin-\\nical  research, recommended  treatments  and  drug  therapies  undergo\\nchanges. The author(s) and publisher have done everything possible to\\nmake this book accurate, up to date, and in accord with accepted stan-\\ndards at the time of publication. The authors, editors, and publisher are\\nnot responsible for errors or omissions or for consequences from appli-\\ncation  of the  book, and  make  no  warranty, expressed  or  implied, in\\nregard to the contents of the book. Any practice described in this book\\nshould be applied by the reader in accordance with professional stan-\\ndards of care used in regard to the unique circumstances that may apply\\nin each situation. The reader is advised always to check product infor-\\nmation  (package  inserts)  for  changes  and  new  information  regarding\\ndose and contraindications before administering any drug. Caution is\\nespecially urged when using new or infrequently ordered drugs. Authorization  to  photocopy  items  for  internal  or  personal  use, or  the\\ninternal  or  personal  use  of specific  clients, is  granted  by  F.A. Davis\\nCompany  for  users  registered  with  the  Copyright  Clearance  Center\\n(CCC)  Transactional  Reporting  Service, provided  that  the  fee  of $.10\\nper  copy  is  paid  directly  to  CCC, 222  Rosewood  Drive, Danvers, MA\\n01923. For  those  organizations  that  have  been  granted  a  photocopy\\nlicense  by  CCC, a  separate  system  of payment  has  been  arranged.\\nThe fee code for users of the Transactional Reporting Service is: 8036-\\n0948/02 0 + $.10. Sheila Marquez\\nExecutive Director\\nVice President/Chief Operating Officer\\nThe Colorado SIDS Program, Inc.\\nDenver, Colorado Our  families, who  helped  with  the  mundane  activities  of\\ndaily living that allowed us to write this book and who provide\\nus with love and encouragement in all our endeavors. Our friends, who support us in our writing, put up with our Bob  Martone, Publisher, Nursing, who  asks  questions  that\\nstimulate  thought  and  discussion, and  who  maintains  good\\nhumor throughout. The F.A. Davis production staff, who coordinated and expe-\\ndited the project through the printing process, meeting unreal\\ndeadlines, and sending pages to us with bated breath. And last and most important:\\nThe nurses we are writing for, to those who have found the\\nprevious  editions  of the  Pocket  Guide  helpful, and  to  other\\nnurses who are looking for help to provide quality nursing care\\nin a period of transition and change, we say, “Nursing Diagnosis\\nis the way.” A special acknowledgment to Marilynn’s friend, the late Diane\\nCamillone, who  provoked  an  awareness  of the  role  of the\\npatient  and  continues  to  influence  our  thoughts  about  the\\nimportance  of quality  nursing  care, and  to  our  late  colleague,\\nMary Jeffries, who introduced us to nursing diagnosis. To our colleagues in NANDA who continue to formulate and\\nrefine  nursing  diagnoses  to  provide  nursing  with  the  tools  to\\nenhance and promote the growth of the profession. Health Conditions and Client Concerns with Associated Nursing\\nDiagnoses appear on pages 603-720. Putting Theory into Practice: Sample\\nAssessment Tools, Plan of Care,\\nand Documentation ................................................................12 Adult Medical/Surgical Assessment Tool 16\\nExcerpt from Psychiatric Assessment Tool\\nExcerpt from Prenatal Assessment Tool\\nExcerpt from Intrapartal Assessment Tool SECTION 2\\nDiagnostic Divisions: Nursing Diagnoses\\nOrganized According to a Nursing Focus ..........................33 For each nursing diagnosis, the following information is provided:\\nTaxonomy II, Domain, Class, Code, Year Submitted Subjective/Objective\\nDesired Outcomes/Evaluation Criteria\\nActions/Interventions\\nNursing Priorities\\nDocumentation Focus\\nSample Nursing Outcomes & Interventions Classifications The  American  Nurses  Association  (ANA)  Social  Policy\\nStatement of 1980 was the first to define nursing as the diagno-\\nsis  and  treatment  of human  responses  to  actual  and  potential\\nhealth problems. This definition, when combined with the ANA\\nStandards of Practice, has provided impetus and support for the\\nuse  of nursing  diagnosis. Defining  nursing  and  its  effect  on\\nclient care supports the growing awareness that nursing care is\\na key factor in client survival and in the maintenance, rehabili-\\ntative, and  preventive  aspects  of healthcare. Changes  and  new\\ndevelopments  in  healthcare  delivery  in  the  last  decade  have\\ngiven rise to the need for a common framework of communica-\\ntion to ensure continuity of care for the client moving between\\nmultiple  healthcare  settings  and  providers. Evaluation  and\\ndocumentation of care are important parts of this process. This  book  is  designed  to  aid  the  practitioner  and  student\\nnurse  in  identifying  interventions  commonly  associated  with\\nspecific  nursing  diagnoses  as  proposed  by  NANDA  Inter-\\nnational  (formerly  the  North  American  Nursing  Diagnosis\\nAssociation). These  interventions  are  the  activities  needed  to\\nimplement  and  document  care  provided  to  the  individual\\nclient and can be used in varied settings from acute to commu-\\nnity/home care. Chapters  1  and  2  present  brief discussions  of the  nursing\\nprocess, data collection, and care plan construction. Chapter 3\\ncontains  the  Diagnostic  Divisions, Assessment  Tool, a  sample\\nplan of care, and corresponding documentation/charting exam-\\nples. For more in-depth information and inclusive plans of care\\nrelated to specific medical/psychiatric conditions (with ration-\\nale and the application of the diagnoses), the nurse is referred\\nto  the  larger  works, all  published  by  the  F.A. Davis  Company:\\nNursing  Care  Plans:  Guidelines  for  Planning  and  Documenting\\nPatient Care, ed. 6 (Doenges, Moorhouse, Geissler-Murr, 2002);\\nPsychiatric Care Plans: Guidelines for Planning and Documenting\\nClient Care, ed. 3 (Doenges, Townsend, Moorhouse, 1998); and\\nMaternal/Newborn  Plans  of Care:  Guidelines  for  Planning  and\\nDocumenting Client Care, ed. 3 (Doenges, Moorhouse, 1999). Nursing  diagnoses  are  listed  alphabetically  in  Chapter  4  for\\nease of reference and include the diagnoses accepted for use by NANDA  through  2003. Each  approved  diagnosis  includes  its\\ndefinition and information divided into the NANDA categories\\nof Related  or  Risk  Factors  and  Defining  Characteristics.\\ninformation  reflects  causative  or\\nRelated/Risk  Factors \\ncontributing factors that can be useful for determining whether\\nthe  diagnosis  is  applicable  to  a  particular  client. Defining\\nCharacteristics  (signs  and  symptoms  or  cues)  are  listed  as\\nsubjective and/or objective and are used to confirm actual diag-\\nnoses, aid in formulating outcomes, and provide additional data\\nfor  choosing  appropriate  interventions. The  authors  have  not\\ndeleted or altered NANDA’s listings; however, on occasion, they\\nhave added to their definitions and suggested additional criteria\\nto  provide  clarification  and  direction. These  additions  are\\ndenoted with brackets [   ]. With  the  development  and  acceptance  of Taxonomy  II\\nfollowing  the  biennial  conference  in  2000, significant  changes\\nwere made to better reflect the content of the diagnoses within\\nthe taxonomy. It is designed to reduce miscalculations, errors,\\nand redundancies. The framework has been changed from the\\nHuman  Response  Patterns  and  is  organized  in  Domains  only\\nand  Classes, with  13  domains, 105  classes, and  167  diagnoses.\\nAlthough clinicians will use the actual diagnoses, understanding\\nthe taxonomic structure will help the nurse to find the desired\\ninformation quickly. Taxonomy II is designed to be multiaxial\\nwith 7 axes (see Appendix 2). An axis is defined as a dimension\\nof the  human  response  that  is  considered  in  the  diagnostic\\nprocess. Sometimes  an  axis  may  be  included  in  the  diagnostic\\nconcept, such  as  ineffective  community  coping  in  which  the\\nunit of care (e.g., community) is named. Some are implicit, such\\nas activity intolerance in which the individual is the unit of care.\\nSometimes an axis may not be pertinent to a particular diagno-\\nsis and will not be a part of the nursing diagnosis label or code.\\nFor example, the time axis may not be relevant to each diagnos-\\ntic situation. The Taxonomic Domain and Class are noted under\\neach nursing diagnosis heading. An Axis 6 descriptor is included\\nin each nursing diagnosis label. in  conjunction  with  NANDA, proposed  that\\nspecific  nursing  diagnoses  currently  approved  and  structured\\naccording  to  Taxonomy  I  Revised  be  included  in  the  Inter-\\nnational  Classification  of Diseases  (ICD)  within  the  section\\n“Family  of Health-Related  Classifications.” While  the  World\\nHealth Organization did not accept this initial proposal because\\nof lack of documentation of the usefulness of nursing diagnoses\\nat the international level, the NANDA list has been accepted by\\nSNOMED  (Systemized  Nomenclature  of Medicine)  for  inclu-\\nsion  in  its  international  coding  system  and  is  included  in  the\\nUnified  Medical  Language  System  of the  National  Library  of H O W   T O   U S E   T H E   N U R S E ’ S   P O C K E T   G U I D E Medicine. Today, researchers from around the world are validat-\\ning nursing diagnoses in support for resubmission and accep-\\ntance in future additions of ICD. The  authors  have  chosen  to  categorize  the  list  of nursing\\ndiagnoses approved for clinical use and testing into Diagnostic\\nDivisions, which  is  the  framework  for  an  assessment  tool\\n(Chapter  3)  designed  to  assist  the  nurse  to  readily  identify  an\\nappropriate  nursing  diagnosis  from  data  collected  during  the\\nassessment  process. The  Diagnostic  Division  label  is  included\\nfollowing  the  Taxonomic  label  under  each  nursing  diagnosis\\nheading. Desired Outcomes/Evaluation Criteria are identified to assist\\nthe  nurse  in  formulating  individual  client  outcomes  and  to\\nsupport the evaluation process. Interventions  in  this  pocket  guide  are  primarily  directed  to\\nadult  care  settings  (although  general  age  span  considerations\\nare  included)  and  are  listed  according  to  nursing  priorities.\\nSome  interventions  require  collaborative  or  interdependent\\norders  (e.g., medical, psychiatric), and  the  nurse  will  need  to\\ndetermine  when  this  is  necessary  and  take  the  appropriate\\naction. Although all defining characteristics are listed, interven-\\ntions that address specialty areas outside the scope of this book\\nare  not  routinely  presented  (e.g., obstetrics/gynecology/pedi-\\natrics)  except  for  diagnoses  that  are  infancy-oriented, such  as\\nBreastfeeding, ineffective; Infant  Behavior, disorganized; and\\nParent/Infant/Child  Attachment, risk  for  impaired. For  exam-\\nple, when addressing deficient Fluid Volume, isotonic (hemor-\\nrhage), the nurse is directed to stop blood loss; however, specific\\ndirection to perform fundal massage is not listed. The  inclusion  of Documentation  Focus  suggestions  is  to\\nremind the nurse of the importance and necessity of recording\\nthe steps of the nursing process. Finally, in  recognition  of the  ongoing  work  of numerous\\nresearchers over the past 15 years, the authors have referenced\\nthe  Nursing  Interventions  and  Outcomes  labels  developed  by\\nthe  Iowa  Intervention  Projects  (Bulechek  &  McCloskey;\\nJohnson, Mass, & Moorhead). These groups have been classify-\\ning  nursing  interventions  and  outcomes  to  predict  resource\\nrequirements  and  measure  outcomes, thereby  meeting  the\\nneeds  of a  standardized  language  that  can  be  coded  for\\ncomputer and reimbursement purposes. As an introduction to\\nthis work in progress, sample NIC and NOC labels have been\\nincluded  under  the  heading  Sample  Nursing  Interventions  &\\nOutcomes  Classifications  at  the  conclusion  of each  nursing\\ndiagnosis section. The reader is referred to the various publica-\\ntions by Joanne C. McCloskey and Marion Johnson for more in-\\ndepth information. H O W   T O   U S E   T H E   N U R S E ’ S   P O C K E T   G U I D E Chapter  5  presents  over  400  disorders/health  conditions\\nreflecting all specialty areas, with associated nursing diagnoses\\nwritten as client diagnostic statements that include the “related\\nto” and “evidenced by” components. This section will facilitate\\nand help validate the assessment and problem/need identifica-\\ntion steps of the nursing process. As noted, with few exceptions, we have presented NANDA’s\\nrecommendations  as  formulated. We  support  the  belief that\\npracticing nurses and researchers need to study, use, and evalu-\\nate the diagnoses as presented. Nurses can be creative as they use\\nthe standardized language, redefining and sharing information\\nas the diagnoses are used with individual patients. As new nurs-\\ning diagnoses are developed, it is important that the data they\\nencompass  are  added  to  the  current  database. As  part  of the\\nprocess by clinicians, educators, and researchers across practice\\nspecialties and academic settings to define, test, and refine nurs-\\ning diagnosis, nurses are encouraged to share insights and ideas\\nwith NANDA at the following address: NANDA International,\\n1211  Locust  Street, Philadelphia, PA  19107, USA; e-mail:\\nnanda@rmpinc.com. H O W   T O   U S E   T H E   N U R S E ’ S   P O C K E T   G U I D E Many years ago, the nursing profession identified a problem-\\nsolving process that “combines the most desirable elements of\\nthe  art  of nursing  with  the  most  relevant  elements  of systems\\ntheory, using  the  scientific  method” (Shore, 1988). The  term\\nnursing  process was  introduced  in  the  1950s  and  has  gained\\nnational acceptance as the basis for providing effective nursing\\ncare. It is now included in the conceptual framework of all nurs-\\ning curricula and is accepted in the legal definition of nursing in\\nthe  nurse  practice  acts  of most  states. This  nursing  process  is\\ncentral to nursing actions in any setting, because it is an efficient\\nmethod  of organizing  thought  processes  for  clinical  decision\\nmaking and problem solving. Use  of the  nursing  process  requires  the  skills  of (1)  assess-\\nment (systematic collection of data relating to clients and their\\nneeds), (2)  problem/need  identification  (analysis  of data), (3)\\nplanning  (setting  goals, choice  of solutions), (4)  implementa-\\ntion (putting the plan into action), and (5) evaluation (assess-\\ning  the  effectiveness  of the  plan  and  changing  the  plan  as\\nindicated  by  the  current  needs). Although  these  skills  are\\npresented as separate, individual activities, they are interrelated\\nand form a continuous circle of thought and action. To use this process, the nurse must demonstrate fundamental\\nabilities  of knowledge, creativity, adaptability, commitment,\\ntrust, and leadership. In addition, intelligence and interpersonal\\nand technical skills are important. Because decision making is\\ncrucial  to  each  step  of the  process, the  following  assumptions\\nare important for the nurse to consider: • The client is a human being who has worth and dignity.\\n• There are basic human needs that must be met, and when\\nthey  are  not, problems  arise, requiring  interventions  by\\nanother  person  until  and  if the  individual  can  resume\\nresponsibility for self. • The  client  has  a  right  to  quality  health  and  nursing  care\\ndelivered  with  interest, compassion, competence, and  a\\nfocus on wellness and prevention of illness. Nurses have struggled for years to define nursing by identi-\\nfying  the  parameters  of nursing  with  the  goal  of attaining professional  status. To  this  end, nurses  meet, discuss, and\\nconduct  research  (in  both  the  national  and  international\\narenas) to identify and label client problems and responses that\\nfall within the scope of nursing practice. Changes in healthcare\\ndelivery  and  reimbursement  methods, the  advent  of health\\nmaintenance organizations (HMOs), and alternative healthcare\\nsettings  (home  health, extended-care  facilities, and  the  like)\\ncontinue to increase the need for a commonality of communi-\\ncation  to  ensure  continuity  of care  for  the  client  who  moves\\nfrom one setting/area to another. Evaluation and improvement\\nof provided services are an important part of this process, and\\nboth  providers  and  users  of care  benefit  from  accurate  docu-\\nmentation of the care provided and the client’s response. The  use  of nursing  diagnosis  (ND)  provides  nurses  with  a\\ncommon  language  for  identifying  client  needs, aids  in  the\\nchoice of nursing interventions, and provides guidance for eval-\\nuation. It  promotes  improved  communication  among  nurses,\\nshifts, units, other  healthcare  providers, and  alternative  care\\nsettings. This  language  further  provides  a  base  for  clinicians,\\neducators, and  researchers  to  document, validate, and/or  alter\\nthe  process. The  American  Nurses  Association  (ANA)  Social\\nPolicy  Statements  (1980/1995)  and  the  ANA  Standards  of\\nPractice  (1973/1991)  have  provided  impetus  and  support  for\\nthe use of nursing diagnosis in the practice setting. Currently, there are differing definitions of nursing diagno-\\nsis. NANDA  International  (formerly  The  North  American\\nNursing  Diagnosis  Association)  has  accepted  the  following\\ndefinition: Nursing diagnosis is a clinical judgment about individ-\\nual, family, or community responses to actual and poten-\\ntial  health  problems/life  processes. Nursing  diagnoses\\nprovide the basis for selection of nursing interventions to\\nachieve outcomes for which the nurse is accountable. Although  it  continues  to  evolve, the  current  NANDA  list\\nprovides diagnostic labels and information for appropriate use.\\nNurses  need  to  become  familiar  with  the  parameters  of the\\ndiagnoses, identifying strengths and weaknesses, thus promot-\\ning research and further development. Although nursing prac-\\ntice  is  more  than  nursing  diagnosis, the  use  of standardized\\nnursing language can help to define and to refine the profession.\\nAlso, NDs can be used within many existing conceptual frame-\\nworks because they are a generic approach adaptable to all. Whereas nursing actions were once based on variables such as\\nsigns  and  symptoms, diagnostic  tests, and  medical  diagnoses,\\nNDs  are  a  uniform  way  of identifying, focusing  on, and  deal-\\ning  with  specific  client  problems/needs. The  accurate  nursing N U R S E ’ S   P O C K E T   G U I D E diagnosis  of a  client  need  can  set  a  standard  for  nursing\\npractice, thus leading to improved care delivery. Nursing and medicine are interrelated and have implications\\nfor each other. This interrelationship includes the exchange of\\ndata, the  sharing  of ideas/thinking, and  the  development  of\\nplans  of care  that  include  all  data  pertinent  to  the  individual\\nclient  as  well  as  the  family/significant  other(s)  (SO[s]). This\\nrelationship also extends to all disciplines that have contact with\\nthe individual/family. Although nurses work within the medical\\nand  psychosocial  domains, nursing’s  phenomena  of concern\\nare  the  patterns  of human  response, not  disease  processes.\\nTherefore, nursing diagnoses usually do not parallel or mimic\\nmedical/psychiatric  diagnoses  but  do  involve  independent\\nnursing  activities  as  well  as  collaborative  roles  and  actions.\\nThus, the  written  plan  of care  contains  more  than  actions\\ninitiated  by  medical  orders. It  contains  a  combination  of the\\norders  and  plans  of care  of all  involved  disciplines. The  nurse\\nis responsible for seeing that these different activities are pulled\\ntogether into a functional plan to provide holistic care for the\\nindividual/family. In  using  ND  as  an  integral  part  of the  nursing  process, the\\nnursing  profession  has  identified  a  body  of knowledge  that\\ncontributes to the prevention of illness as well as to the mainte-\\nnance  and/or  restoration  of health  (or  relief of pain  and\\ndiscomfort when a return to health is not possible). Because the\\nnursing  process  is  the  basis  of all  nursing  actions, it  is  the\\nessence  of nursing. The  process  is  flexible  and  yet  sufficiently\\nstructured so as to provide the base for nursing actions. It can\\nbe applied in any healthcare or educational setting, in any theo-\\nretical or conceptual framework, and within the context of any\\nnursing philosophy. Subsequent chapters help the nurse apply the nursing process\\nto  become  more  familiar  with  the  current  NANDA-approved\\nlist of NDs, their definitions, related/risk factors (etiology), and\\ndefining characteristics. Coupled with desired outcomes and the\\nmost commonly used interventions, the nurse can write, imple-\\nment, and document an individualized plan of care. T H E   N U R S I N G   P R O C E S S Because  of their  hectic  schedules, many  nurses  believe  that\\ntime spent writing plans of care is time taken away from client\\ncare. Plans  of care  have  been  viewed  as “busy  work” to  satisfy\\naccreditation requirements or the whims of supervisors. In real-\\nity, however, quality  client  care  must  be  planned  and  coordi-\\nnated. Properly  written  and  used  plans  of care  can  provide\\ndirection and continuity of care by facilitating communication\\namong  nurses  and  other  caregivers. They  also  provide  guide-\\nlines  for  documentation  and  a  tool  for  evaluating  the  care\\nprovided. The components of a plan of care are based on the nursing\\nprocess. Creating  a  plan  of care  begins  with  the  collection  of\\ndata (assessment). The client database consists of subjective and\\nobjective  information  encompassing  the  various  concerns\\nreflected  in  the  current  NANDA  International  (formerly  the\\nNorth American Nursing Diagnosis Association) list of nursing\\ndiagnoses (NDs) (Table 2–1). Subjective data are those that are\\nreported by the client (and SOs) in the individual’s own words.\\nThis  information  includes  the  individual’s  perceptions  and\\nwhat he or she wants to share. It is important to accept what is\\nreported because the client is the “expert” in this area. Objective\\ndata are those that are observed or described (quantitatively or\\nqualitatively) and include diagnostic testing and physical exam-\\nination findings. Analysis of the collected data leads to the iden-\\ntification of problems or areas of concern/need. These problems\\nor needs are expressed as NDs. A nursing diagnosis is a decision about a need/problem that\\nrequires nursing intervention and management. The need may\\nbe anything that interferes with the quality of life the client is\\nused to and/or desires. It includes concerns of the client, SOs,\\nand/or nurse. The ND focuses attention on a physical or behav-\\nioral  response, either  a  current  need  or  a  problem  at  risk  for\\ndeveloping. When the ND label is combined with the individ-\\nual’s specific related/risk factors and defining characteristics (as\\nappropriate), a  client  diagnostic  statement  is  created. This\\nprovides  direction  for  nursing  care, and  its  affective  tone  can Activity Intolerance [specify level]\\nActivity Intolerance, risk for\\nAdjustment, impaired 66–69\\nAirway Clearance, ineffective 69–72\\nAllergy Response, latex 73–75\\nAllergy Response, risk for latex 76–78\\nAnxiety [specify level]\\nAnxiety, death 83–86\\nAspiration, risk for 86–89\\nAttachment, risk for impaired parent/infant/child 89–92\\nAutonomic Dysreflexia 92–95\\nAutonomic Dysreflexia, risk for 95–97 Body Image, disturbed 98–102\\nBody Temperature, risk for imbalanced 102–104\\nBowel Incontinence\\nBreastfeeding, effective 108–110\\nBreastfeeding, ineffective\\nBreastfeeding, interrupted 115–117\\nBreathing Pattern, ineffective 117–121 Cardiac Output, decreased 121–126\\nCaregiver Role Strain 126–132\\nCaregiver Role Strain, risk for 132–135\\nCommunication, impaired verbal\\n*Communication, readiness for enhanced 139–143\\nConflict, decisional (specify) 144–147\\nConfusion, acute 147–150\\nConfusion, chronic 150–153\\nConstipation 153–157\\nConstipation, perceived 157–159\\nConstipation, risk for\\nCoping, community: ineffective\\nCoping, community: readiness for enhanced 164–166\\nCoping, defensive 166–169\\nCoping, family: compromised 169–172\\nCoping, family: disabled 172–175\\nCoping, family: readiness for enhanced 175–177\\nCoping, ineffective\\n178–182\\n*Coping, readiness for enhanced 182–185 *New to the 2nd NANDA/NIC/NOC (NNN) Conference.\\nInformation that appears in brackets has been added by the authors A P P L I C AT I O N   O F   T H E   N U R S I N G   P R O C E S S Death Syndrome, risk for sudden infant 185–189\\nDenial, ineffective 189–191\\nDentition, impaired 191–194\\nDevelopment, risk for delayed 194–197\\nDiarrhea 197–200\\nDisuse Syndrome, risk for 200–205\\nDiversional Activity, deficient 205–208 Failure to Thrive, adult 214–217\\nFalls, risk for 217–221\\nFamily Processes, dysfunctional: alcoholism 221–225\\nFamily Processes, interrupted 225–228\\n*Family Processes, readiness for enhanced 228–232\\nFatigue 232–236\\nFear\\n*Fluid Balance, readiness for enhanced 239–242\\n[Fluid Volume, deficient hyper/hypotonic]\\nFluid Volume, deficient [isotonic]\\nFluid Volume, excess 249–252\\nFluid Volume, risk for deficient\\nFluid Volume, risk for imbalanced 254–256 Gas Exchange, impaired 256–260\\nGrieving, anticipatory 260–263\\nGrieving, dysfunctional\\nGrowth and Development, delayed 266–271\\nGrowth, risk for disproportionate 271–275 Health Maintenance, ineffective 275–278\\nHealth-Seeking Behaviors (specify) 278–281\\nHome Maintenance, impaired 281–283\\nHopelessness\\nHyperthermia 287–290\\nHypothermia Infant Behavior, disorganized 295–301\\nInfant Behavior, readiness for enhanced organized 301–303\\nInfant Behavior, risk for disorganized 303–304\\nInfant Feeding Pattern, ineffective 304–306 *New to the 2nd NANDA/NIC/NOC (NNN) Conference.\\nInformation that appears in brackets has been added by the authors N U R S E ’ S   P O C K E T   G U I D E Infection, risk for 307–310\\nInjury, risk for\\nInjury, risk for perioperative positioning 313–316\\nIntracranial Adaptive Capacity, decreased 316–319 Knowledge, deficient [Learning Need] (specify)\\n*Knowledge (specify), readiness for enhanced 323–325 Memory, impaired 328–331\\nMobility, impaired bed 331–333\\nMobility, impaired physical 333–337\\nMobility, impaired wheelchair 337–339 Noncompliance [Adherence, ineffective] [specify] 343–347\\nNutrition: imbalanced, less than body requirements\\nNutrition: imbalanced, more than body requirements 352–355\\nNutrition: imbalanced, risk for more than body requirements Pain, acute 365–369\\nPain, chronic 370–374\\nParental Role Conflict\\nParenting, impaired 377–381\\n*Parenting, readiness for enhanced 381–385\\nParenting, risk for impaired 385–387\\nPeripheral Neurovascular Dysfunction, risk for 387–390\\nPersonal Identity, disturbed 390–393\\nPoisoning, risk for 393–396\\nPost-Trauma Syndrome [specify stage] 396–401\\nPost-Trauma Syndrome, risk for 402–404\\nPowerlessness [specify level]\\nPowerlessness, risk for\\n408–410\\nProtection, ineffective 411–412 *New to the 2nd NANDA/NIC/NOC (NNN) Conference.\\nInformation that appears in brackets has been added by the authors A P P L I C AT I O N   O F   T H E   N U R S I N G   P R O C E S S Rape-Trauma Syndrome: silent reaction 413\\nRelocation Stress Syndrome 417–420\\nRelocation Stress Syndrome, risk for 421–422\\nRole Performance, ineffective 422–425 Self-Care Deficit: bathing/hygiene 425–430\\nSelf-Care Deficit: dressing/grooming\\nSelf-Care Deficit: feeding\\nSelf-Care Deficit: toileting\\n*Self-Concept, readiness for enhanced 430–433\\nSelf-Esteem, chronic low 433–437\\nSelf-Esteem, situational low 437–440\\nSelf-Esteem, risk for situational low 440–441\\nSelf-Mutilation 442–445\\nSelf-Mutilation, risk for\\nSensory Perception, disturbed (specify: visual, auditory, kinesthetic, Sexual Dysfunction 454–458\\nSexuality Pattern, ineffective 458–461\\nSkin Integrity, impaired 461–465\\nSkin Integrity, risk for impaired 465–468\\nSleep Deprivation 468–472\\nSleep Pattern, disturbed 472–477\\n*Sleep, readiness for enhanced 477–480\\nSocial Interaction, impaired 480–484\\nSocial Isolation 484–487\\nSorrow, chronic 487–489 Suffocation, risk for 500–503\\nSuicide, risk for 503–507\\nSurgical Recovery, delayed 507–510\\nSwallowing, impaired 510–515 Therapeutic Regimen Management: community, ineffective\\nTherapeutic Regimen Management: effective 517–519\\nTherapeutic Regimen Management: family, ineffective 520–522\\nTherapeutic Regimen Management: ineffective\\n*Therapeutic Regimen Management: readiness for enhanced *New to the 2nd NANDA/NIC/NOC (NNN) Conference.\\nPlease  also  see  the  NANDA  diagnoses  grouped  according  to N U R S E ’ S   P O C K E T   G U I D E Tissue Integrity, impaired 533–537\\nTissue Perfusion, ineffective (specify type: renal, cerebral, cardiopul- Unilateral Neglect\\nUrinary Elimination, impaired 554–558\\n*Urinary Elimination, readiness for enhanced 558–561\\nUrinary Incontinence, functional\\nUrinary Incontinence, reflex 564–566\\nUrinary Incontinence, stress 567–569\\nUrinary Incontinence, total\\n570–572\\nUrinary Incontinence, urge 572–575\\nUrinary Incontinence, risk for urge 576–578\\nUrinary Retention [acute/chronic] 578–581 Ventilation, impaired spontaneous\\n581–586\\nVentilatory Weaning Response, dysfunctional\\nViolence, [actual/] risk for other-directed 590–591\\nViolence, [actual/] risk for self-directed 591–596 *New to the 2nd NANDA/NIC/NOC (NNN) Conference.\\nInformation that appears in brackets has been added by the authors A P P L I C AT I O N   O F   T H E   N U R S I N G   P R O C E S S shape expectations of the client’s response and/or influence the\\nnurse’s behavior toward the client. The  key  to  accurate  diagnosis  is  collection  and  analysis  of\\ndata. In Chapter 3, the NDs have been categorized into divisions\\n(Diagnostic Divisions: Nursing Diagnoses Organized According\\nto a Nursing Focus, Section 2) and an assessment tool designed\\nto assist the nurse to identify appropriate NDs as the data are\\ncollected. Nurses may feel at risk in committing themselves to\\ndocumenting a nursing diagnosis for fear they might be wrong.\\nHowever, unlike  medical  diagnoses, NDs  can  change  as  the\\nclient  progresses  through  various  stages  of illness/maladapta-\\ntion to resolution of the condition/situation. Desired outcomes are formulated to give direction to, as well\\nas to evaluate, the care provided. These outcomes emerge from\\nthe  diagnostic  statement  and  are  what  the  client  hopes  to\\nachieve. They serve as the guidelines to evaluate progress toward\\nresolution  of needs/problems, providing  impetus  for  revising\\nthe  plan  as  appropriate. In  this  book, outcomes  are  stated  in\\ngeneral terms to permit the practitioner to individualize them\\nby adding timelines and other data according to specific client\\ncircumstances. Outcome terminology needs to be concise, real-\\nistic, measurable, and stated in words the client can understand.\\nBeginning the outcome statement with an action verb provides\\nmeasurable  direction, for  example, “Verbalizes  relationship\\nbetween diabetes mellitus and circulatory changes in feet within\\n2  days” or  “Correctly  performs  procedure  of home  glucose\\nmonitoring within 48 hours.” Interventions  are  the  action  steps  taken  to  achieve  desired\\noutcomes and, because they are communicated to others, they\\nmust be clearly stated. A solid nursing knowledge base is vital to\\nthis process because the rationale for interventions needs to be\\nsound  and  feasible  with  the  intention  of providing  effective\\nindividualized care. The actions may be independent or collab-\\norative and may encompass specific orders from nursing, medi-\\ncine, and  other  disciplines. Written  interventions  that  guide\\nongoing client care need to be dated and signed. To facilitate the\\nplanning  process, specific  nursing  priorities  have  been  identi-\\nfied  in  this  text  to  provide  a  general  ranking  of interventions.\\nThis  ranking  would  be  altered  according  to  individual  client\\nsituations. The seasoned practitioner may choose to use these as\\nbroad-based  interventions. The  student  or  beginning  practi-\\ntioner  may  need  to  develop  a  more  detailed  plan  of care  by\\nincluding the appropriate interventions listed under each nurs-\\ning  priority. Finally, as  each  client  usually  has  a  perception  of\\nindividual needs or problems he or she faces and an expectation\\nof what could be done about the situation, the plan of care must\\nbe congruent with the client’s reality or it will fail. N U R S E ’ S   P O C K E T   G U I D E The plan of care documents client care in areas of accounta-\\nbility, quality assurance, and liability. The nurse needs to plan\\ncare with the client, because both are accountable for that care\\nand for achieving the desired outcomes. Healthcare providers have a responsibility for planning with\\nthe  client  and  family  for  continuation  of care  to  the  eventual\\noutcome  of an  optimal  state  of wellness  or  a  dignified  death.\\nPlanning, setting goals, and choosing appropriate interventions\\nare essential to the construction of a plan of care as well as to\\ndelivery  of quality  nursing  care. These  nursing  activities\\ncomprise  the  planning  phase  of the  nursing  process  and  are\\ndocumented in the plan of care for a particular client. As a part\\nof the  client’s  permanent  record, the  plan  of care  not  only\\nprovides  a  means  for  the  nurse  who  is  actively  caring  for  the\\nclient to be aware of the client’s needs (NDs), goals, and actions\\nto be taken, but it also substantiates the care provided for review\\nby third-party payors and accreditation agencies, while meeting\\nlegal requirements. A P P L I C AT I O N   O F   T H E   N U R S I N G   P R O C E S S Putting Theory into\\nPractice: Sample\\nAssessment Tools, Plan of\\nCare, and Documentation The client assessment is the foundation on which identifica-\\ntion of individual needs, responses, and problems is based. To\\nfacilitate  the  steps  of assessment  and  diagnosis  in  the  nursing\\nprocess, an  assessment  tool  (Assessment  Tools  for  Choosing\\nNursing  Diagnoses, Section  1)  has  been  constructed  using  a\\nnursing  focus  instead  of the  medical  approach  of “review  of\\nsystems.” This  has  the  advantage  of identifying  and  validating\\nnursing diagnoses (NDs) as opposed to medical diagnoses. To achieve this nursing focus, we have grouped the NANDA\\nInternational  (formerly  the  North American  Nursing  Diagno-\\nsis  Association)  NDs  into  related  categories  titled  Diagnostic\\nDivisions  (Section  2), which  reflect  a  blending  of theories,\\nprimarily Maslow’s Hierarchy of Needs and a self-care philoso-\\nphy. These divisions serve as the framework or outline for data\\ncollection/clustering  that  focuses  attention  on  the  nurse’s\\nphenomena  of concern—the  human  responses  to  actual  and\\npotential  health  problems—and  directs  the  nurse  to  the  most\\nlikely corresponding NDs. Because  the  divisions  are  based  on  human  responses  and\\nneeds and not specific “systems,” information may be recorded\\nin more than one area. For this reason, the nurse is encouraged\\nto keep an open mind, to pursue all leads, and to collect as much\\ndata as possible before choosing the ND label that best reflects\\nthe client’s situation. For example, when the nurse identifies the\\ncue of restlessness in a client, the nurse may infer that the client\\nis  anxious, assuming  that  the  restlessness  is  psychologically\\nbased  and  overlooking  the  possibility  that  it  is  physiologically\\nbased. From the specific data recorded in the database, an individu-\\nalized client diagnostic statement can be formulated using the\\nproblem, etiology, signs/symptoms (PES) format  to  accurately\\nrepresent  the  client’s  situation. For  example, the  diagnostic N U R S E ’ S   P O C K E T   G U I D E statement  may  read, “deficient  Knowledge  regarding  diabetic\\ncare, related  to  misinterpretation  of information  and/or  lack\\nof recall, evidenced  by  inaccurate  follow-through  of instruc-\\ntions  and  failure  to  recognize  signs  and  symptoms  of hyper-\\nglycemia.” Desired  client  outcomes  are  identified  to  facilitate  choosing\\nappropriate  interventions  and  to  serve  as  evaluators  of both\\nnursing care and client response. These outcomes also form the\\nframework for documentation. Interventions are designed to specify the action of the nurse,\\nthe  client, and/or  SOs. Interventions  need  to  promote  the\\nclient’s  movement  toward  health/independence  in  addition  to\\nachievement of physiologic stability. This requires involvement\\nof the client in his or her own care, including participation in\\ndecisions about care activities and projected outcomes. Section  3, “Client  Situation  and  Prototype  Plan  of Care,”\\ncontains a sample plan of care formulated on data collected in\\nthe nursing model assessment tool. Individualized client diag-\\nnostic  statements  and  desired  client  outcomes  (with  timelines\\nadded  to  reflect  anticipated  length  of stay  and  individual\\nclient/nurse  expectations)  have  been  identified. Interventions\\nhave  been  chosen  based  on  concerns/needs  identified  by  the\\nclient and nurse during data collection, as well as by physician\\norders. Although  not  normally  included  in  a  written  plan  of care,\\nrationales  are  included  in  this  sample  for  the  purpose  of\\nexplaining or clarifying the choice of interventions to enhance\\nthe nurse’s learning. Finally, to  complete  the  learning  experience, samples  of\\ndocumentation  based  on  the  client  situation  are  presented  in\\nSection  4, “Documentation  Techniques.” The  plan  of care\\nprovides documentation of the planning process and serves as a\\nframework/outline  for  charting  of administered  care. The\\nprimary nurse needs to periodically review the client’s progress\\nand  the  effectiveness  of the  treatment  plan. Persons  then  are\\nable to read the notes and have a clear picture of what occurred\\nwith the client in order to make appropriate judgments regard-\\ning  client  management. The  best  way  to  ensure  the  clarity  of\\nprogress  notes  is  through  the  use  of descriptive  (or  observa-\\ntional)  statements. Observations  of client  behavior  and\\nresponse  to  therapy  provide  invaluable  information. Through\\nthis communication, it can be determined if the client’s current\\ndesired  outcomes  or  interventions  need  to  be  eliminated  or\\naltered  and  if the  development  of new  outcomes  or  interven-\\ntions is warranted. Progress notes are an integral component of\\nthe  overall  medical  record  and  should  include  all  significant\\nevents  that  occur  in  the  daily  life  of the  client. They  reflect P U T T I N G   T H E O R Y   I N T O   P R A C T I C E implementation  of the  treatment  plan  and  document  that\\nappropriate  actions  have  been  carried  out, precautions  taken,\\nand  so  forth. It  is  important  that  both  the  implementation  of\\ninterventions  and  progress  toward  the  desired  outcomes  be\\ndocumented. The notes need to be written in a clear and objec-\\ntive  fashion, specific  as  to  date  and  time, and  signed  by  the\\nperson making the entry. Use of clear documentation helps the nurse to individualize\\nclient  care. Providing  a  picture  of what  has  happened  and  is\\nhappening  promotes  continuity  of care  and  facilitates  evalua-\\ntion. This reinforces each person’s accountability and responsi-\\nbility  for  using  nursing  process  to  provide  individually\\nappropriate and cost-effective client care. N U R S E ’ S   P O C K E T   G U I D E This is a suggested guide/tool to create a database reflecting a\\nnursing focus. Although the Diagnostic Divisions are alphabet-\\nized  here  for  ease  of presentation, they  can  be  prioritized  or\\nrearranged in any manner to meet individual needs. In addition,\\nthe assessment tool can be adapted to meet the needs of specific\\nclient  populations. Excerpts  of assessment  tools  adapted  for\\npsychiatric and obstetric settings are included at the end of this\\nsection. P U T T I N G   T H E O R Y   I N T O   P R A C T I C E Observed response to activity: Cardiovascular:\\nRespiratory:\\nMental status (i.e., withdrawn/lethargic)\\nNeuro/muscular assessment: N U R S E ’ S   P O C K E T   G U I D E Capillary refill:\\nHomans’ sign:\\nNail abnormalities:\\nDistribution/quality of hair:\\nTrophic skin changes: Stress factors:\\nWays of handling stress:\\nFinancial concerns:\\nRelationship status:\\nCultural factors/ethnic ties:\\nReligion:\\nLifestyle:\\nSense of connectedness/harmony with self:\\nFeelings of: Helplessness: P U T T I N G   T H E O R Y   I N T O   P R A C T I C E Usual bowel pattern:\\nLaxative use:\\nCharacter of stool:\\nDiarrhea:\\nHistory of bleeding:\\nUsual voiding pattern:\\nIncontinence/when:\\nFrequency: Usual diet (type):\\nCultural/religious restrictions:\\nCarbohydrate/protein/fat intake: g/d\\nVitamin/food supplement use:\\nFood preferences:\\nNo. of meals daily:\\nDietary pattern/content: B:\\nLast meal/intake:\\nLoss of appetite:\\nHeartburn/indigestion: N U R S E ’ S   P O C K E T   G U I D E Jugular vein distention:\\nThyroid enlarged:\\nCondition of teeth/gums:\\nAppearance of tongue:\\nMucous membranes: Fainting spells/dizziness:\\nHeadaches: Location:\\nTingling/numbness/weakness (location):\\nStroke/brain injury (residual effects):\\nSeizures: Type: P U T T I N G   T H E O R Y   I N T O   P R A C T I C E Memory: Recent:\\nGlasses:\\nPupil: Shape:\\nFacial droop:\\nHandgrasp/release, R/L:\\nPosturing:\\nDeep tendon reflexes: N U R S E ’ S   P O C K E T   G U I D E Respiratory: Rate:\\nUse of accessory muscles:\\nFremitus:\\nBreath sounds:\\nCyanosis:\\nSputum characteristics:\\nMentation/restlessness: Allergies/sensitivity:\\nExposure to infectious diseases:\\nImmunization history:\\nPrevious alteration of immune system: Geographic areas lived in/visited:\\nSeat belt/helmet use:\\nWorkplace safety/health issues:\\nHistory of accidental injuries: Fractures/dislocations:\\nArthritis/unstable joints:\\nBack problems:\\nChanges in moles:\\nDelayed healing:\\nCognitive limitations: P U T T I N G   T H E O R Y   I N T O   P R A C T I C E Sexually active:\\nBirth control method:\\nSexual concerns/difficulties:\\nRecent change in frequency/interest: Bleeding between periods:\\nMenopause:\\nVaginal discharge:\\nSurgeries:\\nHormonal therapy/calcium use:\\nPractices breast self-examination:\\nLast mammogram: N U R S E ’ S   P O C K E T   G U I D E Role within family structure:\\nPerception of relationships with family members:\\nFeelings of: Mistrust: P U T T I N G   T H E O R Y   I N T O   P R A C T I C E Special healthcare concerns (e.g., impact of religious/\\ncultural practices):\\nHealth goals:\\nFamilial risk factors (indicate relationship): Use of herbal supplements (specify):\\nAdmitting diagnosis per provider:\\nReason per client:\\nHistory of current complaint:\\nClient expectations of this hospitalization:\\nPrevious illnesses and/or hospitalizations/surgeries:\\nEvidence of failure to improve:\\nLast complete physical examination: DRG-projected mean length of stay:\\nDate information obtained:\\nAnticipated date of discharge:\\nResources available: Persons: N U R S E ’ S   P O C K E T   G U I D E P U T T I N G   T H E O R Y   I N T O   P R A C T I C E What kind of person are you (positive/negative, etc.)?\\nWhat do you think of your body?\\nHow would you rate your self-esteem (1–10 with Are you a nervous person?\\nAre your feelings easily hurt?\\nReport of stress factors:\\nPrevious patterns of handling stress:\\nFinancial concerns:\\nRelationship status:\\nWork history/military service:\\nCultural factors:\\nReligion:\\nLifestyle:\\nSignificant losses/changes (date):\\nStages of grief/manifestations of loss:\\nFeelings of: Helplessness: N U R S E ’ S   P O C K E T   G U I D E Believe/feel you are another person:\\nPerception different than others:\\nAbility to follow directions: Mental status (note duration of change):\\nOriented/disoriented: Time:\\nPlace:\\nCheck all that apply: speech (e.g., spontaneous/sudden silences):\\nContent:\\nDelusions:\\nRate or flow:\\nClear, logical progression:\\nExpression:\\nFlight of ideas:\\nAbility to concentrate: P U T T I N G   T H E O R Y   I N T O   P R A C T I C E N U R S E ’ S   P O C K E T   G U I D E Type of previous delivery:\\nHealth status of living children:\\nHistory of accidental injuries: P U T T I N G   T H E O R Y   I N T O   P R A C T I C E Client’s belief of when conception occurred:\\nEstimated date of delivery:\\nPractices breast self-examination (Y/N):\\nLast Pap smear:\\nRecent contraceptive method:\\nOB history (GPTPAL): Gravida: Delivery history: Year:\\nLength of gestation:\\nType of delivery:\\nBorn (alive or dead):\\nWeight: Vagina:\\nUterus:\\nDiagonal conjugate:\\nTransverse diameter:\\nShape of sacrum:\\nCoccyx:\\nIschial spines:\\nAdequacy of inlet:\\nMid: N U R S E ’ S   P O C K E T   G U I D E History of STD (date/type):\\nMonth of first prenatal visit:\\nPrevious/current obstetric problems/treatment: Length of time since last pregnancy:\\nType of previous delivery:\\nHealth status of living children:\\nBlood transfusion: P U T T I N G   T H E O R Y   I N T O   P R A C T I C E Method of auscultation:\\nFundal height:\\nActivity/movement:\\nFetal assessment testing (Y/N):\\nDate: N U R S E ’ S   P O C K E T   G U I D E'"
      ]
     },
     "execution_count": 55,
     "metadata": {},
     "output_type": "execute_result"
    }
   ],
   "source": [
    "text_blob"
   ]
  },
  {
   "cell_type": "code",
   "execution_count": 57,
   "id": "ecc59fcc",
   "metadata": {},
   "outputs": [
    {
     "name": "stderr",
     "output_type": "stream",
     "text": [
      "[nltk_data] Downloading package webtext to /home/vince/nltk_data...\n",
      "[nltk_data]   Package webtext is already up-to-date!\n"
     ]
    },
    {
     "data": {
      "image/png": "[encoded data removed]",
      "text/plain": [
       "<Figure size 432x288 with 1 Axes>"
      ]
     },
     "metadata": {
      "needs_background": "light"
     },
     "output_type": "display_data"
    }
   ],
   "source": [
    "import nltk\n",
    "from nltk.corpus import webtext\n",
    "from nltk.probability import FreqDist\n",
    "import matplotlib.pyplot as plt\n",
    " \n",
    "words = ['data', 'blood', 'health']\n",
    " \n",
    "nltk.download('webtext')\n",
    "with open('./text_blob.txt','w') as f:\n",
    "    f.write(text_blob)\n",
    "# wt_words = webtext.words('/home/vince/Documents/Code/microgoogle/CS4300_microGoogle/text_blob.txt')  # Sample data\n",
    "#  \n",
    "wt_words = text_blob.split()\n",
    "points = [(x, y) for x in range(len(wt_words))\n",
    "          for y in range(len(words)) if wt_words[x] == words[y]]\n",
    " \n",
    "if points:\n",
    "    x, y = zip(*points)\n",
    "else:\n",
    "    x = y = ()\n",
    "\n",
    "plt.plot(x, y, \"rx\", scalex=.1)\n",
    "plt.yticks(range(len(words)), words, color=\"b\")\n",
    "plt.ylim(-1, len(words))\n",
    "plt.title(\"Lexical Dispersion Plot\")\n",
    "plt.xlabel(\"Word Offset\")\n",
    "plt.show()"
   ]
  },
  {
   "cell_type": "code",
   "execution_count": 58,
   "id": "977b4489",
   "metadata": {},
   "outputs": [],
   "source": [
    "import plotly.express as px"
   ]
  },
  {
   "cell_type": "code",
   "execution_count": 59,
   "id": "02230944",
   "metadata": {},
   "outputs": [],
   "source": [
    "import pandas as pd"
   ]
  },
  {
   "cell_type": "code",
   "execution_count": 67,
   "id": "78af3fc5",
   "metadata": {},
   "outputs": [],
   "source": [
    "dispersion_df = pd.DataFrame(y,x)"
   ]
  },
  {
   "cell_type": "code",
   "execution_count": 76,
   "id": "1119410e",
   "metadata": {},
   "outputs": [
    {
     "data": {
      "application/vnd.plotly.v1+json": {
       "config": {
        "plotlyServerURL": "https://plot.ly"
       },
       "data": [
        {
         "hovertemplate": "variable=0<br>index=%{x}<br>value=%{y}<extra></extra>",
         "legendgroup": "0",
         "marker": {
          "color": "#636efa",
          "symbol": "circle"
         },
         "mode": "markers",
         "name": "0",
         "orientation": "v",
         "showlegend": true,
         "type": "scatter",
         "x": [
          1397,
          1576,
          1782,
          2232,
          2386,
          2690,
          2908,
          3078,
          3160,
          3368,
          3578,
          3740,
          3751,
          3995,
          4031,
          4079,
          4103,
          5127,
          5243,
          5862,
          5879,
          5934,
          5989,
          6171,
          6218
         ],
         "xaxis": "x",
         "y": [
          2,
          0,
          0,
          0,
          1,
          0,
          0,
          2,
          2,
          2,
          0,
          2,
          2,
          0,
          0,
          0,
          0,
          0,
          0,
          0,
          2,
          0,
          0,
          0,
          0
         ],
         "yaxis": "y"
        }
       ],
       "layout": {
        "legend": {
         "title": {
          "text": "variable"
         },
         "tracegroupgap": 0
        },
        "margin": {
         "t": 60
        },
        "template": {
         "data": {
          "bar": [
           {
            "error_x": {
             "color": "#2a3f5f"
            },
            "error_y": {
             "color": "#2a3f5f"
            },
            "marker": {
             "line": {
              "color": "#E5ECF6",
              "width": 0.5
             }
            },
            "type": "bar"
           }
          ],
          "barpolar": [
           {
            "marker": {
             "line": {
              "color": "#E5ECF6",
              "width": 0.5
             }
            },
            "type": "barpolar"
           }
          ],
          "carpet": [
           {
            "aaxis": {
             "endlinecolor": "#2a3f5f",
             "gridcolor": "white",
             "linecolor": "white",
             "minorgridcolor": "white",
             "startlinecolor": "#2a3f5f"
            },
            "baxis": {
             "endlinecolor": "#2a3f5f",
             "gridcolor": "white",
             "linecolor": "white",
             "minorgridcolor": "white",
             "startlinecolor": "#2a3f5f"
            },
            "type": "carpet"
           }
          ],
          "choropleth": [
           {
            "colorbar": {
             "outlinewidth": 0,
             "ticks": ""
            },
            "type": "choropleth"
           }
          ],
          "contour": [
           {
            "colorbar": {
             "outlinewidth": 0,
             "ticks": ""
            },
            "colorscale": [
             [
              0,
              "#0d0887"
             ],
             [
              0.1111111111111111,
              "#46039f"
             ],
             [
              0.2222222222222222,
              "#7201a8"
             ],
             [
              0.3333333333333333,
              "#9c179e"
             ],
             [
              0.4444444444444444,
              "#bd3786"
             ],
             [
              0.5555555555555556,
              "#d8576b"
             ],
             [
              0.6666666666666666,
              "#ed7953"
             ],
             [
              0.7777777777777778,
              "#fb9f3a"
             ],
             [
              0.8888888888888888,
              "#fdca26"
             ],
             [
              1,
              "#f0f921"
             ]
            ],
            "type": "contour"
           }
          ],
          "contourcarpet": [
           {
            "colorbar": {
             "outlinewidth": 0,
             "ticks": ""
            },
            "type": "contourcarpet"
           }
          ],
          "heatmap": [
           {
            "colorbar": {
             "outlinewidth": 0,
             "ticks": ""
            },
            "colorscale": [
             [
              0,
              "#0d0887"
             ],
             [
              0.1111111111111111,
              "#46039f"
             ],
             [
              0.2222222222222222,
              "#7201a8"
             ],
             [
              0.3333333333333333,
              "#9c179e"
             ],
             [
              0.4444444444444444,
              "#bd3786"
             ],
             [
              0.5555555555555556,
              "#d8576b"
             ],
             [
              0.6666666666666666,
              "#ed7953"
             ],
             [
              0.7777777777777778,
              "#fb9f3a"
             ],
             [
              0.8888888888888888,
              "#fdca26"
             ],
             [
              1,
              "#f0f921"
             ]
            ],
            "type": "heatmap"
           }
          ],
          "heatmapgl": [
           {
            "colorbar": {
             "outlinewidth": 0,
             "ticks": ""
            },
            "colorscale": [
             [
              0,
              "#0d0887"
             ],
             [
              0.1111111111111111,
              "#46039f"
             ],
             [
              0.2222222222222222,
              "#7201a8"
             ],
             [
              0.3333333333333333,
              "#9c179e"
             ],
             [
              0.4444444444444444,
              "#bd3786"
             ],
             [
              0.5555555555555556,
              "#d8576b"
             ],
             [
              0.6666666666666666,
              "#ed7953"
             ],
             [
              0.7777777777777778,
              "#fb9f3a"
             ],
             [
              0.8888888888888888,
              "#fdca26"
             ],
             [
              1,
              "#f0f921"
             ]
            ],
            "type": "heatmapgl"
           }
          ],
          "histogram": [
           {
            "marker": {
             "colorbar": {
              "outlinewidth": 0,
              "ticks": ""
             }
            },
            "type": "histogram"
           }
          ],
          "histogram2d": [
           {
            "colorbar": {
             "outlinewidth": 0,
             "ticks": ""
            },
            "colorscale": [
             [
              0,
              "#0d0887"
             ],
             [
              0.1111111111111111,
              "#46039f"
             ],
             [
              0.2222222222222222,
              "#7201a8"
             ],
             [
              0.3333333333333333,
              "#9c179e"
             ],
             [
              0.4444444444444444,
              "#bd3786"
             ],
             [
              0.5555555555555556,
              "#d8576b"
             ],
             [
              0.6666666666666666,
              "#ed7953"
             ],
             [
              0.7777777777777778,
              "#fb9f3a"
             ],
             [
              0.8888888888888888,
              "#fdca26"
             ],
             [
              1,
              "#f0f921"
             ]
            ],
            "type": "histogram2d"
           }
          ],
          "histogram2dcontour": [
           {
            "colorbar": {
             "outlinewidth": 0,
             "ticks": ""
            },
            "colorscale": [
             [
              0,
              "#0d0887"
             ],
             [
              0.1111111111111111,
              "#46039f"
             ],
             [
              0.2222222222222222,
              "#7201a8"
             ],
             [
              0.3333333333333333,
              "#9c179e"
             ],
             [
              0.4444444444444444,
              "#bd3786"
             ],
             [
              0.5555555555555556,
              "#d8576b"
             ],
             [
              0.6666666666666666,
              "#ed7953"
             ],
             [
              0.7777777777777778,
              "#fb9f3a"
             ],
             [
              0.8888888888888888,
              "#fdca26"
             ],
             [
              1,
              "#f0f921"
             ]
            ],
            "type": "histogram2dcontour"
           }
          ],
          "mesh3d": [
           {
            "colorbar": {
             "outlinewidth": 0,
             "ticks": ""
            },
            "type": "mesh3d"
           }
          ],
          "parcoords": [
           {
            "line": {
             "colorbar": {
              "outlinewidth": 0,
              "ticks": ""
             }
            },
            "type": "parcoords"
           }
          ],
          "pie": [
           {
            "automargin": true,
            "type": "pie"
           }
          ],
          "scatter": [
           {
            "marker": {
             "colorbar": {
              "outlinewidth": 0,
              "ticks": ""
             }
            },
            "type": "scatter"
           }
          ],
          "scatter3d": [
           {
            "line": {
             "colorbar": {
              "outlinewidth": 0,
              "ticks": ""
             }
            },
            "marker": {
             "colorbar": {
              "outlinewidth": 0,
              "ticks": ""
             }
            },
            "type": "scatter3d"
           }
          ],
          "scattercarpet": [
           {
            "marker": {
             "colorbar": {
              "outlinewidth": 0,
              "ticks": ""
             }
            },
            "type": "scattercarpet"
           }
          ],
          "scattergeo": [
           {
            "marker": {
             "colorbar": {
              "outlinewidth": 0,
              "ticks": ""
             }
            },
            "type": "scattergeo"
           }
          ],
          "scattergl": [
           {
            "marker": {
             "colorbar": {
              "outlinewidth": 0,
              "ticks": ""
             }
            },
            "type": "scattergl"
           }
          ],
          "scattermapbox": [
           {
            "marker": {
             "colorbar": {
              "outlinewidth": 0,
              "ticks": ""
             }
            },
            "type": "scattermapbox"
           }
          ],
          "scatterpolar": [
           {
            "marker": {
             "colorbar": {
              "outlinewidth": 0,
              "ticks": ""
             }
            },
            "type": "scatterpolar"
           }
          ],
          "scatterpolargl": [
           {
            "marker": {
             "colorbar": {
              "outlinewidth": 0,
              "ticks": ""
             }
            },
            "type": "scatterpolargl"
           }
          ],
          "scatterternary": [
           {
            "marker": {
             "colorbar": {
              "outlinewidth": 0,
              "ticks": ""
             }
            },
            "type": "scatterternary"
           }
          ],
          "surface": [
           {
            "colorbar": {
             "outlinewidth": 0,
             "ticks": ""
            },
            "colorscale": [
             [
              0,
              "#0d0887"
             ],
             [
              0.1111111111111111,
              "#46039f"
             ],
             [
              0.2222222222222222,
              "#7201a8"
             ],
             [
              0.3333333333333333,
              "#9c179e"
             ],
             [
              0.4444444444444444,
              "#bd3786"
             ],
             [
              0.5555555555555556,
              "#d8576b"
             ],
             [
              0.6666666666666666,
              "#ed7953"
             ],
             [
              0.7777777777777778,
              "#fb9f3a"
             ],
             [
              0.8888888888888888,
              "#fdca26"
             ],
             [
              1,
              "#f0f921"
             ]
            ],
            "type": "surface"
           }
          ],
          "table": [
           {
            "cells": {
             "fill": {
              "color": "#EBF0F8"
             },
             "line": {
              "color": "white"
             }
            },
            "header": {
             "fill": {
              "color": "#C8D4E3"
             },
             "line": {
              "color": "white"
             }
            },
            "type": "table"
           }
          ]
         },
         "layout": {
          "annotationdefaults": {
           "arrowcolor": "#2a3f5f",
           "arrowhead": 0,
           "arrowwidth": 1
          },
          "autotypenumbers": "strict",
          "coloraxis": {
           "colorbar": {
            "outlinewidth": 0,
            "ticks": ""
           }
          },
          "colorscale": {
           "diverging": [
            [
             0,
             "#8e0152"
            ],
            [
             0.1,
             "#c51b7d"
            ],
            [
             0.2,
             "#de77ae"
            ],
            [
             0.3,
             "#f1b6da"
            ],
            [
             0.4,
             "#fde0ef"
            ],
            [
             0.5,
             "#f7f7f7"
            ],
            [
             0.6,
             "#e6f5d0"
            ],
            [
             0.7,
             "#b8e186"
            ],
            [
             0.8,
             "#7fbc41"
            ],
            [
             0.9,
             "#4d9221"
            ],
            [
             1,
             "#276419"
            ]
           ],
           "sequential": [
            [
             0,
             "#0d0887"
            ],
            [
             0.1111111111111111,
             "#46039f"
            ],
            [
             0.2222222222222222,
             "#7201a8"
            ],
            [
             0.3333333333333333,
             "#9c179e"
            ],
            [
             0.4444444444444444,
             "#bd3786"
            ],
            [
             0.5555555555555556,
             "#d8576b"
            ],
            [
             0.6666666666666666,
             "#ed7953"
            ],
            [
             0.7777777777777778,
             "#fb9f3a"
            ],
            [
             0.8888888888888888,
             "#fdca26"
            ],
            [
             1,
             "#f0f921"
            ]
           ],
           "sequentialminus": [
            [
             0,
             "#0d0887"
            ],
            [
             0.1111111111111111,
             "#46039f"
            ],
            [
             0.2222222222222222,
             "#7201a8"
            ],
            [
             0.3333333333333333,
             "#9c179e"
            ],
            [
             0.4444444444444444,
             "#bd3786"
            ],
            [
             0.5555555555555556,
             "#d8576b"
            ],
            [
             0.6666666666666666,
             "#ed7953"
            ],
            [
             0.7777777777777778,
             "#fb9f3a"
            ],
            [
             0.8888888888888888,
             "#fdca26"
            ],
            [
             1,
             "#f0f921"
            ]
           ]
          },
          "colorway": [
           "#636efa",
           "#EF553B",
           "#00cc96",
           "#ab63fa",
           "#FFA15A",
           "#19d3f3",
           "#FF6692",
           "#B6E880",
           "#FF97FF",
           "#FECB52"
          ],
          "font": {
           "color": "#2a3f5f"
          },
          "geo": {
           "bgcolor": "white",
           "lakecolor": "white",
           "landcolor": "#E5ECF6",
           "showlakes": true,
           "showland": true,
           "subunitcolor": "white"
          },
          "hoverlabel": {
           "align": "left"
          },
          "hovermode": "closest",
          "mapbox": {
           "style": "light"
          },
          "paper_bgcolor": "white",
          "plot_bgcolor": "#E5ECF6",
          "polar": {
           "angularaxis": {
            "gridcolor": "white",
            "linecolor": "white",
            "ticks": ""
           },
           "bgcolor": "#E5ECF6",
           "radialaxis": {
            "gridcolor": "white",
            "linecolor": "white",
            "ticks": ""
           }
          },
          "scene": {
           "xaxis": {
            "backgroundcolor": "#E5ECF6",
            "gridcolor": "white",
            "gridwidth": 2,
            "linecolor": "white",
            "showbackground": true,
            "ticks": "",
            "zerolinecolor": "white"
           },
           "yaxis": {
            "backgroundcolor": "#E5ECF6",
            "gridcolor": "white",
            "gridwidth": 2,
            "linecolor": "white",
            "showbackground": true,
            "ticks": "",
            "zerolinecolor": "white"
           },
           "zaxis": {
            "backgroundcolor": "#E5ECF6",
            "gridcolor": "white",
            "gridwidth": 2,
            "linecolor": "white",
            "showbackground": true,
            "ticks": "",
            "zerolinecolor": "white"
           }
          },
          "shapedefaults": {
           "line": {
            "color": "#2a3f5f"
           }
          },
          "ternary": {
           "aaxis": {
            "gridcolor": "white",
            "linecolor": "white",
            "ticks": ""
           },
           "baxis": {
            "gridcolor": "white",
            "linecolor": "white",
            "ticks": ""
           },
           "bgcolor": "#E5ECF6",
           "caxis": {
            "gridcolor": "white",
            "linecolor": "white",
            "ticks": ""
           }
          },
          "title": {
           "x": 0.05
          },
          "xaxis": {
           "automargin": true,
           "gridcolor": "white",
           "linecolor": "white",
           "ticks": "",
           "title": {
            "standoff": 15
           },
           "zerolinecolor": "white",
           "zerolinewidth": 2
          },
          "yaxis": {
           "automargin": true,
           "gridcolor": "white",
           "linecolor": "white",
           "ticks": "",
           "title": {
            "standoff": 15
           },
           "zerolinecolor": "white",
           "zerolinewidth": 2
          }
         }
        },
        "xaxis": {
         "anchor": "y",
         "domain": [
          0,
          1
         ],
         "title": {
          "text": "index"
         }
        },
        "yaxis": {
         "anchor": "x",
         "domain": [
          0,
          1
         ],
         "title": {
          "text": "value"
         }
        }
       }
      },
      "text/html": [
       "<div>                            <div id=\"c7368a95-0674-4399-b7b2-d3c02155dc08\" class=\"plotly-graph-div\" style=\"height:525px; width:100%;\"></div>            <script type=\"text/javascript\">                require([\"plotly\"], function(Plotly) {                    window.PLOTLYENV=window.PLOTLYENV || {};                                    if (document.getElementById(\"c7368a95-0674-4399-b7b2-d3c02155dc08\")) {                    Plotly.newPlot(                        \"c7368a95-0674-4399-b7b2-d3c02155dc08\",                        [{\"hovertemplate\": \"variable=0<br>index=%{x}<br>value=%{y}<extra></extra>\", \"legendgroup\": \"0\", \"marker\": {\"color\": \"#636efa\", \"symbol\": \"circle\"}, \"mode\": \"markers\", \"name\": \"0\", \"orientation\": \"v\", \"showlegend\": true, \"type\": \"scatter\", \"x\": [1397, 1576, 1782, 2232, 2386, 2690, 2908, 3078, 3160, 3368, 3578, 3740, 3751, 3995, 4031, 4079, 4103, 5127, 5243, 5862, 5879, 5934, 5989, 6171, 6218], \"xaxis\": \"x\", \"y\": [2, 0, 0, 0, 1, 0, 0, 2, 2, 2, 0, 2, 2, 0, 0, 0, 0, 0, 0, 0, 2, 0, 0, 0, 0], \"yaxis\": \"y\"}],                        {\"legend\": {\"title\": {\"text\": \"variable\"}, \"tracegroupgap\": 0}, \"margin\": {\"t\": 60}, \"template\": {\"data\": {\"bar\": [{\"error_x\": {\"color\": \"#2a3f5f\"}, \"error_y\": {\"color\": \"#2a3f5f\"}, \"marker\": {\"line\": {\"color\": \"#E5ECF6\", \"width\": 0.5}}, \"type\": \"bar\"}], \"barpolar\": [{\"marker\": {\"line\": {\"color\": \"#E5ECF6\", \"width\": 0.5}}, \"type\": \"barpolar\"}], \"carpet\": [{\"aaxis\": {\"endlinecolor\": \"#2a3f5f\", \"gridcolor\": \"white\", \"linecolor\": \"white\", \"minorgridcolor\": \"white\", \"startlinecolor\": \"#2a3f5f\"}, \"baxis\": {\"endlinecolor\": \"#2a3f5f\", \"gridcolor\": \"white\", \"linecolor\": \"white\", \"minorgridcolor\": \"white\", \"startlinecolor\": \"#2a3f5f\"}, \"type\": \"carpet\"}], \"choropleth\": [{\"colorbar\": {\"outlinewidth\": 0, \"ticks\": \"\"}, \"type\": \"choropleth\"}], \"contour\": [{\"colorbar\": {\"outlinewidth\": 0, \"ticks\": \"\"}, \"colorscale\": [[0.0, \"#0d0887\"], [0.1111111111111111, \"#46039f\"], [0.2222222222222222, \"#7201a8\"], [0.3333333333333333, \"#9c179e\"], [0.4444444444444444, \"#bd3786\"], [0.5555555555555556, \"#d8576b\"], [0.6666666666666666, \"#ed7953\"], [0.7777777777777778, \"#fb9f3a\"], [0.8888888888888888, \"#fdca26\"], [1.0, \"#f0f921\"]], \"type\": \"contour\"}], \"contourcarpet\": [{\"colorbar\": {\"outlinewidth\": 0, \"ticks\": \"\"}, \"type\": \"contourcarpet\"}], \"heatmap\": [{\"colorbar\": {\"outlinewidth\": 0, \"ticks\": \"\"}, \"colorscale\": [[0.0, \"#0d0887\"], [0.1111111111111111, \"#46039f\"], [0.2222222222222222, \"#7201a8\"], [0.3333333333333333, \"#9c179e\"], [0.4444444444444444, \"#bd3786\"], [0.5555555555555556, \"#d8576b\"], [0.6666666666666666, \"#ed7953\"], [0.7777777777777778, \"#fb9f3a\"], [0.8888888888888888, \"#fdca26\"], [1.0, \"#f0f921\"]], \"type\": \"heatmap\"}], \"heatmapgl\": [{\"colorbar\": {\"outlinewidth\": 0, \"ticks\": \"\"}, \"colorscale\": [[0.0, \"#0d0887\"], [0.1111111111111111, \"#46039f\"], [0.2222222222222222, \"#7201a8\"], [0.3333333333333333, \"#9c179e\"], [0.4444444444444444, \"#bd3786\"], [0.5555555555555556, \"#d8576b\"], [0.6666666666666666, \"#ed7953\"], [0.7777777777777778, \"#fb9f3a\"], [0.8888888888888888, \"#fdca26\"], [1.0, \"#f0f921\"]], \"type\": \"heatmapgl\"}], \"histogram\": [{\"marker\": {\"colorbar\": {\"outlinewidth\": 0, \"ticks\": \"\"}}, \"type\": \"histogram\"}], \"histogram2d\": [{\"colorbar\": {\"outlinewidth\": 0, \"ticks\": \"\"}, \"colorscale\": [[0.0, \"#0d0887\"], [0.1111111111111111, \"#46039f\"], [0.2222222222222222, \"#7201a8\"], [0.3333333333333333, \"#9c179e\"], [0.4444444444444444, \"#bd3786\"], [0.5555555555555556, \"#d8576b\"], [0.6666666666666666, \"#ed7953\"], [0.7777777777777778, \"#fb9f3a\"], [0.8888888888888888, \"#fdca26\"], [1.0, \"#f0f921\"]], \"type\": \"histogram2d\"}], \"histogram2dcontour\": [{\"colorbar\": {\"outlinewidth\": 0, \"ticks\": \"\"}, \"colorscale\": [[0.0, \"#0d0887\"], [0.1111111111111111, \"#46039f\"], [0.2222222222222222, \"#7201a8\"], [0.3333333333333333, \"#9c179e\"], [0.4444444444444444, \"#bd3786\"], [0.5555555555555556, \"#d8576b\"], [0.6666666666666666, \"#ed7953\"], [0.7777777777777778, \"#fb9f3a\"], [0.8888888888888888, \"#fdca26\"], [1.0, \"#f0f921\"]], \"type\": \"histogram2dcontour\"}], \"mesh3d\": [{\"colorbar\": {\"outlinewidth\": 0, \"ticks\": \"\"}, \"type\": \"mesh3d\"}], \"parcoords\": [{\"line\": {\"colorbar\": {\"outlinewidth\": 0, \"ticks\": \"\"}}, \"type\": \"parcoords\"}], \"pie\": [{\"automargin\": true, \"type\": \"pie\"}], \"scatter\": [{\"marker\": {\"colorbar\": {\"outlinewidth\": 0, \"ticks\": \"\"}}, \"type\": \"scatter\"}], \"scatter3d\": [{\"line\": {\"colorbar\": {\"outlinewidth\": 0, \"ticks\": \"\"}}, \"marker\": {\"colorbar\": {\"outlinewidth\": 0, \"ticks\": \"\"}}, \"type\": \"scatter3d\"}], \"scattercarpet\": [{\"marker\": {\"colorbar\": {\"outlinewidth\": 0, \"ticks\": \"\"}}, \"type\": \"scattercarpet\"}], \"scattergeo\": [{\"marker\": {\"colorbar\": {\"outlinewidth\": 0, \"ticks\": \"\"}}, \"type\": \"scattergeo\"}], \"scattergl\": [{\"marker\": {\"colorbar\": {\"outlinewidth\": 0, \"ticks\": \"\"}}, \"type\": \"scattergl\"}], \"scattermapbox\": [{\"marker\": {\"colorbar\": {\"outlinewidth\": 0, \"ticks\": \"\"}}, \"type\": \"scattermapbox\"}], \"scatterpolar\": [{\"marker\": {\"colorbar\": {\"outlinewidth\": 0, \"ticks\": \"\"}}, \"type\": \"scatterpolar\"}], \"scatterpolargl\": [{\"marker\": {\"colorbar\": {\"outlinewidth\": 0, \"ticks\": \"\"}}, \"type\": \"scatterpolargl\"}], \"scatterternary\": [{\"marker\": {\"colorbar\": {\"outlinewidth\": 0, \"ticks\": \"\"}}, \"type\": \"scatterternary\"}], \"surface\": [{\"colorbar\": {\"outlinewidth\": 0, \"ticks\": \"\"}, \"colorscale\": [[0.0, \"#0d0887\"], [0.1111111111111111, \"#46039f\"], [0.2222222222222222, \"#7201a8\"], [0.3333333333333333, \"#9c179e\"], [0.4444444444444444, \"#bd3786\"], [0.5555555555555556, \"#d8576b\"], [0.6666666666666666, \"#ed7953\"], [0.7777777777777778, \"#fb9f3a\"], [0.8888888888888888, \"#fdca26\"], [1.0, \"#f0f921\"]], \"type\": \"surface\"}], \"table\": [{\"cells\": {\"fill\": {\"color\": \"#EBF0F8\"}, \"line\": {\"color\": \"white\"}}, \"header\": {\"fill\": {\"color\": \"#C8D4E3\"}, \"line\": {\"color\": \"white\"}}, \"type\": \"table\"}]}, \"layout\": {\"annotationdefaults\": {\"arrowcolor\": \"#2a3f5f\", \"arrowhead\": 0, \"arrowwidth\": 1}, \"autotypenumbers\": \"strict\", \"coloraxis\": {\"colorbar\": {\"outlinewidth\": 0, \"ticks\": \"\"}}, \"colorscale\": {\"diverging\": [[0, \"#8e0152\"], [0.1, \"#c51b7d\"], [0.2, \"#de77ae\"], [0.3, \"#f1b6da\"], [0.4, \"#fde0ef\"], [0.5, \"#f7f7f7\"], [0.6, \"#e6f5d0\"], [0.7, \"#b8e186\"], [0.8, \"#7fbc41\"], [0.9, \"#4d9221\"], [1, \"#276419\"]], \"sequential\": [[0.0, \"#0d0887\"], [0.1111111111111111, \"#46039f\"], [0.2222222222222222, \"#7201a8\"], [0.3333333333333333, \"#9c179e\"], [0.4444444444444444, \"#bd3786\"], [0.5555555555555556, \"#d8576b\"], [0.6666666666666666, \"#ed7953\"], [0.7777777777777778, \"#fb9f3a\"], [0.8888888888888888, \"#fdca26\"], [1.0, \"#f0f921\"]], \"sequentialminus\": [[0.0, \"#0d0887\"], [0.1111111111111111, \"#46039f\"], [0.2222222222222222, \"#7201a8\"], [0.3333333333333333, \"#9c179e\"], [0.4444444444444444, \"#bd3786\"], [0.5555555555555556, \"#d8576b\"], [0.6666666666666666, \"#ed7953\"], [0.7777777777777778, \"#fb9f3a\"], [0.8888888888888888, \"#fdca26\"], [1.0, \"#f0f921\"]]}, \"colorway\": [\"#636efa\", \"#EF553B\", \"#00cc96\", \"#ab63fa\", \"#FFA15A\", \"#19d3f3\", \"#FF6692\", \"#B6E880\", \"#FF97FF\", \"#FECB52\"], \"font\": {\"color\": \"#2a3f5f\"}, \"geo\": {\"bgcolor\": \"white\", \"lakecolor\": \"white\", \"landcolor\": \"#E5ECF6\", \"showlakes\": true, \"showland\": true, \"subunitcolor\": \"white\"}, \"hoverlabel\": {\"align\": \"left\"}, \"hovermode\": \"closest\", \"mapbox\": {\"style\": \"light\"}, \"paper_bgcolor\": \"white\", \"plot_bgcolor\": \"#E5ECF6\", \"polar\": {\"angularaxis\": {\"gridcolor\": \"white\", \"linecolor\": \"white\", \"ticks\": \"\"}, \"bgcolor\": \"#E5ECF6\", \"radialaxis\": {\"gridcolor\": \"white\", \"linecolor\": \"white\", \"ticks\": \"\"}}, \"scene\": {\"xaxis\": {\"backgroundcolor\": \"#E5ECF6\", \"gridcolor\": \"white\", \"gridwidth\": 2, \"linecolor\": \"white\", \"showbackground\": true, \"ticks\": \"\", \"zerolinecolor\": \"white\"}, \"yaxis\": {\"backgroundcolor\": \"#E5ECF6\", \"gridcolor\": \"white\", \"gridwidth\": 2, \"linecolor\": \"white\", \"showbackground\": true, \"ticks\": \"\", \"zerolinecolor\": \"white\"}, \"zaxis\": {\"backgroundcolor\": \"#E5ECF6\", \"gridcolor\": \"white\", \"gridwidth\": 2, \"linecolor\": \"white\", \"showbackground\": true, \"ticks\": \"\", \"zerolinecolor\": \"white\"}}, \"shapedefaults\": {\"line\": {\"color\": \"#2a3f5f\"}}, \"ternary\": {\"aaxis\": {\"gridcolor\": \"white\", \"linecolor\": \"white\", \"ticks\": \"\"}, \"baxis\": {\"gridcolor\": \"white\", \"linecolor\": \"white\", \"ticks\": \"\"}, \"bgcolor\": \"#E5ECF6\", \"caxis\": {\"gridcolor\": \"white\", \"linecolor\": \"white\", \"ticks\": \"\"}}, \"title\": {\"x\": 0.05}, \"xaxis\": {\"automargin\": true, \"gridcolor\": \"white\", \"linecolor\": \"white\", \"ticks\": \"\", \"title\": {\"standoff\": 15}, \"zerolinecolor\": \"white\", \"zerolinewidth\": 2}, \"yaxis\": {\"automargin\": true, \"gridcolor\": \"white\", \"linecolor\": \"white\", \"ticks\": \"\", \"title\": {\"standoff\": 15}, \"zerolinecolor\": \"white\", \"zerolinewidth\": 2}}}, \"xaxis\": {\"anchor\": \"y\", \"domain\": [0.0, 1.0], \"title\": {\"text\": \"index\"}}, \"yaxis\": {\"anchor\": \"x\", \"domain\": [0.0, 1.0], \"title\": {\"text\": \"value\"}}},                        {\"responsive\": true}                    ).then(function(){\n",
       "                            \n",
       "var gd = document.getElementById('c7368a95-0674-4399-b7b2-d3c02155dc08');\n",
       "var x = new MutationObserver(function (mutations, observer) {{\n",
       "        var display = window.getComputedStyle(gd).display;\n",
       "        if (!display || display === 'none') {{\n",
       "            console.log([gd, 'removed!']);\n",
       "            Plotly.purge(gd);\n",
       "            observer.disconnect();\n",
       "        }}\n",
       "}});\n",
       "\n",
       "// Listen for the removal of the full notebook cells\n",
       "var notebookContainer = gd.closest('#notebook-container');\n",
       "if (notebookContainer) {{\n",
       "    x.observe(notebookContainer, {childList: true});\n",
       "}}\n",
       "\n",
       "// Listen for the clearing of the current output cell\n",
       "var outputEl = gd.closest('.output');\n",
       "if (outputEl) {{\n",
       "    x.observe(outputEl, {childList: true});\n",
       "}}\n",
       "\n",
       "                        })                };                });            </script>        </div>"
      ]
     },
     "metadata": {},
     "output_type": "display_data"
    }
   ],
   "source": [
    "px.scatter(dispersion_df, labels=[\"a\",\"b\"])\n",
    "# px.a"
   ]
  },
  {
   "cell_type": "code",
   "execution_count": 82,
   "id": "9a6690bd",
   "metadata": {},
   "outputs": [
    {
     "data": {
      "text/plain": [
       "(2, 0, 0, 0, 1, 0, 0, 2, 2, 2, 0, 2, 2, 0, 0, 0, 0, 0, 0, 0, 2, 0, 0, 0, 0)"
      ]
     },
     "execution_count": 82,
     "metadata": {},
     "output_type": "execute_result"
    }
   ],
   "source": [
    "y"
   ]
  },
  {
   "cell_type": "code",
   "execution_count": 88,
   "id": "b6c8927c",
   "metadata": {},
   "outputs": [
    {
     "data": {
      "text/plain": [
       "['data', 'blood', 'health']"
      ]
     },
     "execution_count": 88,
     "metadata": {},
     "output_type": "execute_result"
    }
   ],
   "source": [
    "words"
   ]
  },
  {
   "cell_type": "code",
   "execution_count": 94,
   "id": "79b1c854",
   "metadata": {},
   "outputs": [
    {
     "data": {
      "application/vnd.plotly.v1+json": {
       "config": {
        "plotlyServerURL": "https://plot.ly"
       },
       "data": [
        {
         "mode": "markers",
         "type": "scatter",
         "x": [
          1397,
          1576,
          1782,
          2232,
          2386,
          2690,
          2908,
          3078,
          3160,
          3368,
          3578,
          3740,
          3751,
          3995,
          4031,
          4079,
          4103,
          5127,
          5243,
          5862,
          5879,
          5934,
          5989,
          6171,
          6218
         ],
         "y": [
          2,
          0,
          0,
          0,
          1,
          0,
          0,
          2,
          2,
          2,
          0,
          2,
          2,
          0,
          0,
          0,
          0,
          0,
          0,
          0,
          2,
          0,
          0,
          0,
          0
         ]
        }
       ],
       "layout": {
        "template": {
         "data": {
          "bar": [
           {
            "error_x": {
             "color": "#2a3f5f"
            },
            "error_y": {
             "color": "#2a3f5f"
            },
            "marker": {
             "line": {
              "color": "#E5ECF6",
              "width": 0.5
             }
            },
            "type": "bar"
           }
          ],
          "barpolar": [
           {
            "marker": {
             "line": {
              "color": "#E5ECF6",
              "width": 0.5
             }
            },
            "type": "barpolar"
           }
          ],
          "carpet": [
           {
            "aaxis": {
             "endlinecolor": "#2a3f5f",
             "gridcolor": "white",
             "linecolor": "white",
             "minorgridcolor": "white",
             "startlinecolor": "#2a3f5f"
            },
            "baxis": {
             "endlinecolor": "#2a3f5f",
             "gridcolor": "white",
             "linecolor": "white",
             "minorgridcolor": "white",
             "startlinecolor": "#2a3f5f"
            },
            "type": "carpet"
           }
          ],
          "choropleth": [
           {
            "colorbar": {
             "outlinewidth": 0,
             "ticks": ""
            },
            "type": "choropleth"
           }
          ],
          "contour": [
           {
            "colorbar": {
             "outlinewidth": 0,
             "ticks": ""
            },
            "colorscale": [
             [
              0,
              "#0d0887"
             ],
             [
              0.1111111111111111,
              "#46039f"
             ],
             [
              0.2222222222222222,
              "#7201a8"
             ],
             [
              0.3333333333333333,
              "#9c179e"
             ],
             [
              0.4444444444444444,
              "#bd3786"
             ],
             [
              0.5555555555555556,
              "#d8576b"
             ],
             [
              0.6666666666666666,
              "#ed7953"
             ],
             [
              0.7777777777777778,
              "#fb9f3a"
             ],
             [
              0.8888888888888888,
              "#fdca26"
             ],
             [
              1,
              "#f0f921"
             ]
            ],
            "type": "contour"
           }
          ],
          "contourcarpet": [
           {
            "colorbar": {
             "outlinewidth": 0,
             "ticks": ""
            },
            "type": "contourcarpet"
           }
          ],
          "heatmap": [
           {
            "colorbar": {
             "outlinewidth": 0,
             "ticks": ""
            },
            "colorscale": [
             [
              0,
              "#0d0887"
             ],
             [
              0.1111111111111111,
              "#46039f"
             ],
             [
              0.2222222222222222,
              "#7201a8"
             ],
             [
              0.3333333333333333,
              "#9c179e"
             ],
             [
              0.4444444444444444,
              "#bd3786"
             ],
             [
              0.5555555555555556,
              "#d8576b"
             ],
             [
              0.6666666666666666,
              "#ed7953"
             ],
             [
              0.7777777777777778,
              "#fb9f3a"
             ],
             [
              0.8888888888888888,
              "#fdca26"
             ],
             [
              1,
              "#f0f921"
             ]
            ],
            "type": "heatmap"
           }
          ],
          "heatmapgl": [
           {
            "colorbar": {
             "outlinewidth": 0,
             "ticks": ""
            },
            "colorscale": [
             [
              0,
              "#0d0887"
             ],
             [
              0.1111111111111111,
              "#46039f"
             ],
             [
              0.2222222222222222,
              "#7201a8"
             ],
             [
              0.3333333333333333,
              "#9c179e"
             ],
             [
              0.4444444444444444,
              "#bd3786"
             ],
             [
              0.5555555555555556,
              "#d8576b"
             ],
             [
              0.6666666666666666,
              "#ed7953"
             ],
             [
              0.7777777777777778,
              "#fb9f3a"
             ],
             [
              0.8888888888888888,
              "#fdca26"
             ],
             [
              1,
              "#f0f921"
             ]
            ],
            "type": "heatmapgl"
           }
          ],
          "histogram": [
           {
            "marker": {
             "colorbar": {
              "outlinewidth": 0,
              "ticks": ""
             }
            },
            "type": "histogram"
           }
          ],
          "histogram2d": [
           {
            "colorbar": {
             "outlinewidth": 0,
             "ticks": ""
            },
            "colorscale": [
             [
              0,
              "#0d0887"
             ],
             [
              0.1111111111111111,
              "#46039f"
             ],
             [
              0.2222222222222222,
              "#7201a8"
             ],
             [
              0.3333333333333333,
              "#9c179e"
             ],
             [
              0.4444444444444444,
              "#bd3786"
             ],
             [
              0.5555555555555556,
              "#d8576b"
             ],
             [
              0.6666666666666666,
              "#ed7953"
             ],
             [
              0.7777777777777778,
              "#fb9f3a"
             ],
             [
              0.8888888888888888,
              "#fdca26"
             ],
             [
              1,
              "#f0f921"
             ]
            ],
            "type": "histogram2d"
           }
          ],
          "histogram2dcontour": [
           {
            "colorbar": {
             "outlinewidth": 0,
             "ticks": ""
            },
            "colorscale": [
             [
              0,
              "#0d0887"
             ],
             [
              0.1111111111111111,
              "#46039f"
             ],
             [
              0.2222222222222222,
              "#7201a8"
             ],
             [
              0.3333333333333333,
              "#9c179e"
             ],
             [
              0.4444444444444444,
              "#bd3786"
             ],
             [
              0.5555555555555556,
              "#d8576b"
             ],
             [
              0.6666666666666666,
              "#ed7953"
             ],
             [
              0.7777777777777778,
              "#fb9f3a"
             ],
             [
              0.8888888888888888,
              "#fdca26"
             ],
             [
              1,
              "#f0f921"
             ]
            ],
            "type": "histogram2dcontour"
           }
          ],
          "mesh3d": [
           {
            "colorbar": {
             "outlinewidth": 0,
             "ticks": ""
            },
            "type": "mesh3d"
           }
          ],
          "parcoords": [
           {
            "line": {
             "colorbar": {
              "outlinewidth": 0,
              "ticks": ""
             }
            },
            "type": "parcoords"
           }
          ],
          "pie": [
           {
            "automargin": true,
            "type": "pie"
           }
          ],
          "scatter": [
           {
            "marker": {
             "colorbar": {
              "outlinewidth": 0,
              "ticks": ""
             }
            },
            "type": "scatter"
           }
          ],
          "scatter3d": [
           {
            "line": {
             "colorbar": {
              "outlinewidth": 0,
              "ticks": ""
             }
            },
            "marker": {
             "colorbar": {
              "outlinewidth": 0,
              "ticks": ""
             }
            },
            "type": "scatter3d"
           }
          ],
          "scattercarpet": [
           {
            "marker": {
             "colorbar": {
              "outlinewidth": 0,
              "ticks": ""
             }
            },
            "type": "scattercarpet"
           }
          ],
          "scattergeo": [
           {
            "marker": {
             "colorbar": {
              "outlinewidth": 0,
              "ticks": ""
             }
            },
            "type": "scattergeo"
           }
          ],
          "scattergl": [
           {
            "marker": {
             "colorbar": {
              "outlinewidth": 0,
              "ticks": ""
             }
            },
            "type": "scattergl"
           }
          ],
          "scattermapbox": [
           {
            "marker": {
             "colorbar": {
              "outlinewidth": 0,
              "ticks": ""
             }
            },
            "type": "scattermapbox"
           }
          ],
          "scatterpolar": [
           {
            "marker": {
             "colorbar": {
              "outlinewidth": 0,
              "ticks": ""
             }
            },
            "type": "scatterpolar"
           }
          ],
          "scatterpolargl": [
           {
            "marker": {
             "colorbar": {
              "outlinewidth": 0,
              "ticks": ""
             }
            },
            "type": "scatterpolargl"
           }
          ],
          "scatterternary": [
           {
            "marker": {
             "colorbar": {
              "outlinewidth": 0,
              "ticks": ""
             }
            },
            "type": "scatterternary"
           }
          ],
          "surface": [
           {
            "colorbar": {
             "outlinewidth": 0,
             "ticks": ""
            },
            "colorscale": [
             [
              0,
              "#0d0887"
             ],
             [
              0.1111111111111111,
              "#46039f"
             ],
             [
              0.2222222222222222,
              "#7201a8"
             ],
             [
              0.3333333333333333,
              "#9c179e"
             ],
             [
              0.4444444444444444,
              "#bd3786"
             ],
             [
              0.5555555555555556,
              "#d8576b"
             ],
             [
              0.6666666666666666,
              "#ed7953"
             ],
             [
              0.7777777777777778,
              "#fb9f3a"
             ],
             [
              0.8888888888888888,
              "#fdca26"
             ],
             [
              1,
              "#f0f921"
             ]
            ],
            "type": "surface"
           }
          ],
          "table": [
           {
            "cells": {
             "fill": {
              "color": "#EBF0F8"
             },
             "line": {
              "color": "white"
             }
            },
            "header": {
             "fill": {
              "color": "#C8D4E3"
             },
             "line": {
              "color": "white"
             }
            },
            "type": "table"
           }
          ]
         },
         "layout": {
          "annotationdefaults": {
           "arrowcolor": "#2a3f5f",
           "arrowhead": 0,
           "arrowwidth": 1
          },
          "autotypenumbers": "strict",
          "coloraxis": {
           "colorbar": {
            "outlinewidth": 0,
            "ticks": ""
           }
          },
          "colorscale": {
           "diverging": [
            [
             0,
             "#8e0152"
            ],
            [
             0.1,
             "#c51b7d"
            ],
            [
             0.2,
             "#de77ae"
            ],
            [
             0.3,
             "#f1b6da"
            ],
            [
             0.4,
             "#fde0ef"
            ],
            [
             0.5,
             "#f7f7f7"
            ],
            [
             0.6,
             "#e6f5d0"
            ],
            [
             0.7,
             "#b8e186"
            ],
            [
             0.8,
             "#7fbc41"
            ],
            [
             0.9,
             "#4d9221"
            ],
            [
             1,
             "#276419"
            ]
           ],
           "sequential": [
            [
             0,
             "#0d0887"
            ],
            [
             0.1111111111111111,
             "#46039f"
            ],
            [
             0.2222222222222222,
             "#7201a8"
            ],
            [
             0.3333333333333333,
             "#9c179e"
            ],
            [
             0.4444444444444444,
             "#bd3786"
            ],
            [
             0.5555555555555556,
             "#d8576b"
            ],
            [
             0.6666666666666666,
             "#ed7953"
            ],
            [
             0.7777777777777778,
             "#fb9f3a"
            ],
            [
             0.8888888888888888,
             "#fdca26"
            ],
            [
             1,
             "#f0f921"
            ]
           ],
           "sequentialminus": [
            [
             0,
             "#0d0887"
            ],
            [
             0.1111111111111111,
             "#46039f"
            ],
            [
             0.2222222222222222,
             "#7201a8"
            ],
            [
             0.3333333333333333,
             "#9c179e"
            ],
            [
             0.4444444444444444,
             "#bd3786"
            ],
            [
             0.5555555555555556,
             "#d8576b"
            ],
            [
             0.6666666666666666,
             "#ed7953"
            ],
            [
             0.7777777777777778,
             "#fb9f3a"
            ],
            [
             0.8888888888888888,
             "#fdca26"
            ],
            [
             1,
             "#f0f921"
            ]
           ]
          },
          "colorway": [
           "#636efa",
           "#EF553B",
           "#00cc96",
           "#ab63fa",
           "#FFA15A",
           "#19d3f3",
           "#FF6692",
           "#B6E880",
           "#FF97FF",
           "#FECB52"
          ],
          "font": {
           "color": "#2a3f5f"
          },
          "geo": {
           "bgcolor": "white",
           "lakecolor": "white",
           "landcolor": "#E5ECF6",
           "showlakes": true,
           "showland": true,
           "subunitcolor": "white"
          },
          "hoverlabel": {
           "align": "left"
          },
          "hovermode": "closest",
          "mapbox": {
           "style": "light"
          },
          "paper_bgcolor": "white",
          "plot_bgcolor": "#E5ECF6",
          "polar": {
           "angularaxis": {
            "gridcolor": "white",
            "linecolor": "white",
            "ticks": ""
           },
           "bgcolor": "#E5ECF6",
           "radialaxis": {
            "gridcolor": "white",
            "linecolor": "white",
            "ticks": ""
           }
          },
          "scene": {
           "xaxis": {
            "backgroundcolor": "#E5ECF6",
            "gridcolor": "white",
            "gridwidth": 2,
            "linecolor": "white",
            "showbackground": true,
            "ticks": "",
            "zerolinecolor": "white"
           },
           "yaxis": {
            "backgroundcolor": "#E5ECF6",
            "gridcolor": "white",
            "gridwidth": 2,
            "linecolor": "white",
            "showbackground": true,
            "ticks": "",
            "zerolinecolor": "white"
           },
           "zaxis": {
            "backgroundcolor": "#E5ECF6",
            "gridcolor": "white",
            "gridwidth": 2,
            "linecolor": "white",
            "showbackground": true,
            "ticks": "",
            "zerolinecolor": "white"
           }
          },
          "shapedefaults": {
           "line": {
            "color": "#2a3f5f"
           }
          },
          "ternary": {
           "aaxis": {
            "gridcolor": "white",
            "linecolor": "white",
            "ticks": ""
           },
           "baxis": {
            "gridcolor": "white",
            "linecolor": "white",
            "ticks": ""
           },
           "bgcolor": "#E5ECF6",
           "caxis": {
            "gridcolor": "white",
            "linecolor": "white",
            "ticks": ""
           }
          },
          "title": {
           "x": 0.05
          },
          "xaxis": {
           "automargin": true,
           "gridcolor": "white",
           "linecolor": "white",
           "ticks": "",
           "title": {
            "standoff": 15
           },
           "zerolinecolor": "white",
           "zerolinewidth": 2
          },
          "yaxis": {
           "automargin": true,
           "gridcolor": "white",
           "linecolor": "white",
           "ticks": "",
           "title": {
            "standoff": 15
           },
           "zerolinecolor": "white",
           "zerolinewidth": 2
          }
         }
        },
        "yaxis": {
         "tickmode": "array",
         "ticktext": [
          "data",
          "blood",
          "health"
         ],
         "tickvals": [
          0,
          1,
          2
         ]
        }
       }
      },
      "text/html": [
       "<div>                            <div id=\"e264e493-de85-451a-b3ff-7cf26be4911e\" class=\"plotly-graph-div\" style=\"height:525px; width:100%;\"></div>            <script type=\"text/javascript\">                require([\"plotly\"], function(Plotly) {                    window.PLOTLYENV=window.PLOTLYENV || {};                                    if (document.getElementById(\"e264e493-de85-451a-b3ff-7cf26be4911e\")) {                    Plotly.newPlot(                        \"e264e493-de85-451a-b3ff-7cf26be4911e\",                        [{\"mode\": \"markers\", \"type\": \"scatter\", \"x\": [1397, 1576, 1782, 2232, 2386, 2690, 2908, 3078, 3160, 3368, 3578, 3740, 3751, 3995, 4031, 4079, 4103, 5127, 5243, 5862, 5879, 5934, 5989, 6171, 6218], \"y\": [2, 0, 0, 0, 1, 0, 0, 2, 2, 2, 0, 2, 2, 0, 0, 0, 0, 0, 0, 0, 2, 0, 0, 0, 0]}],                        {\"template\": {\"data\": {\"bar\": [{\"error_x\": {\"color\": \"#2a3f5f\"}, \"error_y\": {\"color\": \"#2a3f5f\"}, \"marker\": {\"line\": {\"color\": \"#E5ECF6\", \"width\": 0.5}}, \"type\": \"bar\"}], \"barpolar\": [{\"marker\": {\"line\": {\"color\": \"#E5ECF6\", \"width\": 0.5}}, \"type\": \"barpolar\"}], \"carpet\": [{\"aaxis\": {\"endlinecolor\": \"#2a3f5f\", \"gridcolor\": \"white\", \"linecolor\": \"white\", \"minorgridcolor\": \"white\", \"startlinecolor\": \"#2a3f5f\"}, \"baxis\": {\"endlinecolor\": \"#2a3f5f\", \"gridcolor\": \"white\", \"linecolor\": \"white\", \"minorgridcolor\": \"white\", \"startlinecolor\": \"#2a3f5f\"}, \"type\": \"carpet\"}], \"choropleth\": [{\"colorbar\": {\"outlinewidth\": 0, \"ticks\": \"\"}, \"type\": \"choropleth\"}], \"contour\": [{\"colorbar\": {\"outlinewidth\": 0, \"ticks\": \"\"}, \"colorscale\": [[0.0, \"#0d0887\"], [0.1111111111111111, \"#46039f\"], [0.2222222222222222, \"#7201a8\"], [0.3333333333333333, \"#9c179e\"], [0.4444444444444444, \"#bd3786\"], [0.5555555555555556, \"#d8576b\"], [0.6666666666666666, \"#ed7953\"], [0.7777777777777778, \"#fb9f3a\"], [0.8888888888888888, \"#fdca26\"], [1.0, \"#f0f921\"]], \"type\": \"contour\"}], \"contourcarpet\": [{\"colorbar\": {\"outlinewidth\": 0, \"ticks\": \"\"}, \"type\": \"contourcarpet\"}], \"heatmap\": [{\"colorbar\": {\"outlinewidth\": 0, \"ticks\": \"\"}, \"colorscale\": [[0.0, \"#0d0887\"], [0.1111111111111111, \"#46039f\"], [0.2222222222222222, \"#7201a8\"], [0.3333333333333333, \"#9c179e\"], [0.4444444444444444, \"#bd3786\"], [0.5555555555555556, \"#d8576b\"], [0.6666666666666666, \"#ed7953\"], [0.7777777777777778, \"#fb9f3a\"], [0.8888888888888888, \"#fdca26\"], [1.0, \"#f0f921\"]], \"type\": \"heatmap\"}], \"heatmapgl\": [{\"colorbar\": {\"outlinewidth\": 0, \"ticks\": \"\"}, \"colorscale\": [[0.0, \"#0d0887\"], [0.1111111111111111, \"#46039f\"], [0.2222222222222222, \"#7201a8\"], [0.3333333333333333, \"#9c179e\"], [0.4444444444444444, \"#bd3786\"], [0.5555555555555556, \"#d8576b\"], [0.6666666666666666, \"#ed7953\"], [0.7777777777777778, \"#fb9f3a\"], [0.8888888888888888, \"#fdca26\"], [1.0, \"#f0f921\"]], \"type\": \"heatmapgl\"}], \"histogram\": [{\"marker\": {\"colorbar\": {\"outlinewidth\": 0, \"ticks\": \"\"}}, \"type\": \"histogram\"}], \"histogram2d\": [{\"colorbar\": {\"outlinewidth\": 0, \"ticks\": \"\"}, \"colorscale\": [[0.0, \"#0d0887\"], [0.1111111111111111, \"#46039f\"], [0.2222222222222222, \"#7201a8\"], [0.3333333333333333, \"#9c179e\"], [0.4444444444444444, \"#bd3786\"], [0.5555555555555556, \"#d8576b\"], [0.6666666666666666, \"#ed7953\"], [0.7777777777777778, \"#fb9f3a\"], [0.8888888888888888, \"#fdca26\"], [1.0, \"#f0f921\"]], \"type\": \"histogram2d\"}], \"histogram2dcontour\": [{\"colorbar\": {\"outlinewidth\": 0, \"ticks\": \"\"}, \"colorscale\": [[0.0, \"#0d0887\"], [0.1111111111111111, \"#46039f\"], [0.2222222222222222, \"#7201a8\"], [0.3333333333333333, \"#9c179e\"], [0.4444444444444444, \"#bd3786\"], [0.5555555555555556, \"#d8576b\"], [0.6666666666666666, \"#ed7953\"], [0.7777777777777778, \"#fb9f3a\"], [0.8888888888888888, \"#fdca26\"], [1.0, \"#f0f921\"]], \"type\": \"histogram2dcontour\"}], \"mesh3d\": [{\"colorbar\": {\"outlinewidth\": 0, \"ticks\": \"\"}, \"type\": \"mesh3d\"}], \"parcoords\": [{\"line\": {\"colorbar\": {\"outlinewidth\": 0, \"ticks\": \"\"}}, \"type\": \"parcoords\"}], \"pie\": [{\"automargin\": true, \"type\": \"pie\"}], \"scatter\": [{\"marker\": {\"colorbar\": {\"outlinewidth\": 0, \"ticks\": \"\"}}, \"type\": \"scatter\"}], \"scatter3d\": [{\"line\": {\"colorbar\": {\"outlinewidth\": 0, \"ticks\": \"\"}}, \"marker\": {\"colorbar\": {\"outlinewidth\": 0, \"ticks\": \"\"}}, \"type\": \"scatter3d\"}], \"scattercarpet\": [{\"marker\": {\"colorbar\": {\"outlinewidth\": 0, \"ticks\": \"\"}}, \"type\": \"scattercarpet\"}], \"scattergeo\": [{\"marker\": {\"colorbar\": {\"outlinewidth\": 0, \"ticks\": \"\"}}, \"type\": \"scattergeo\"}], \"scattergl\": [{\"marker\": {\"colorbar\": {\"outlinewidth\": 0, \"ticks\": \"\"}}, \"type\": \"scattergl\"}], \"scattermapbox\": [{\"marker\": {\"colorbar\": {\"outlinewidth\": 0, \"ticks\": \"\"}}, \"type\": \"scattermapbox\"}], \"scatterpolar\": [{\"marker\": {\"colorbar\": {\"outlinewidth\": 0, \"ticks\": \"\"}}, \"type\": \"scatterpolar\"}], \"scatterpolargl\": [{\"marker\": {\"colorbar\": {\"outlinewidth\": 0, \"ticks\": \"\"}}, \"type\": \"scatterpolargl\"}], \"scatterternary\": [{\"marker\": {\"colorbar\": {\"outlinewidth\": 0, \"ticks\": \"\"}}, \"type\": \"scatterternary\"}], \"surface\": [{\"colorbar\": {\"outlinewidth\": 0, \"ticks\": \"\"}, \"colorscale\": [[0.0, \"#0d0887\"], [0.1111111111111111, \"#46039f\"], [0.2222222222222222, \"#7201a8\"], [0.3333333333333333, \"#9c179e\"], [0.4444444444444444, \"#bd3786\"], [0.5555555555555556, \"#d8576b\"], [0.6666666666666666, \"#ed7953\"], [0.7777777777777778, \"#fb9f3a\"], [0.8888888888888888, \"#fdca26\"], [1.0, \"#f0f921\"]], \"type\": \"surface\"}], \"table\": [{\"cells\": {\"fill\": {\"color\": \"#EBF0F8\"}, \"line\": {\"color\": \"white\"}}, \"header\": {\"fill\": {\"color\": \"#C8D4E3\"}, \"line\": {\"color\": \"white\"}}, \"type\": \"table\"}]}, \"layout\": {\"annotationdefaults\": {\"arrowcolor\": \"#2a3f5f\", \"arrowhead\": 0, \"arrowwidth\": 1}, \"autotypenumbers\": \"strict\", \"coloraxis\": {\"colorbar\": {\"outlinewidth\": 0, \"ticks\": \"\"}}, \"colorscale\": {\"diverging\": [[0, \"#8e0152\"], [0.1, \"#c51b7d\"], [0.2, \"#de77ae\"], [0.3, \"#f1b6da\"], [0.4, \"#fde0ef\"], [0.5, \"#f7f7f7\"], [0.6, \"#e6f5d0\"], [0.7, \"#b8e186\"], [0.8, \"#7fbc41\"], [0.9, \"#4d9221\"], [1, \"#276419\"]], \"sequential\": [[0.0, \"#0d0887\"], [0.1111111111111111, \"#46039f\"], [0.2222222222222222, \"#7201a8\"], [0.3333333333333333, \"#9c179e\"], [0.4444444444444444, \"#bd3786\"], [0.5555555555555556, \"#d8576b\"], [0.6666666666666666, \"#ed7953\"], [0.7777777777777778, \"#fb9f3a\"], [0.8888888888888888, \"#fdca26\"], [1.0, \"#f0f921\"]], \"sequentialminus\": [[0.0, \"#0d0887\"], [0.1111111111111111, \"#46039f\"], [0.2222222222222222, \"#7201a8\"], [0.3333333333333333, \"#9c179e\"], [0.4444444444444444, \"#bd3786\"], [0.5555555555555556, \"#d8576b\"], [0.6666666666666666, \"#ed7953\"], [0.7777777777777778, \"#fb9f3a\"], [0.8888888888888888, \"#fdca26\"], [1.0, \"#f0f921\"]]}, \"colorway\": [\"#636efa\", \"#EF553B\", \"#00cc96\", \"#ab63fa\", \"#FFA15A\", \"#19d3f3\", \"#FF6692\", \"#B6E880\", \"#FF97FF\", \"#FECB52\"], \"font\": {\"color\": \"#2a3f5f\"}, \"geo\": {\"bgcolor\": \"white\", \"lakecolor\": \"white\", \"landcolor\": \"#E5ECF6\", \"showlakes\": true, \"showland\": true, \"subunitcolor\": \"white\"}, \"hoverlabel\": {\"align\": \"left\"}, \"hovermode\": \"closest\", \"mapbox\": {\"style\": \"light\"}, \"paper_bgcolor\": \"white\", \"plot_bgcolor\": \"#E5ECF6\", \"polar\": {\"angularaxis\": {\"gridcolor\": \"white\", \"linecolor\": \"white\", \"ticks\": \"\"}, \"bgcolor\": \"#E5ECF6\", \"radialaxis\": {\"gridcolor\": \"white\", \"linecolor\": \"white\", \"ticks\": \"\"}}, \"scene\": {\"xaxis\": {\"backgroundcolor\": \"#E5ECF6\", \"gridcolor\": \"white\", \"gridwidth\": 2, \"linecolor\": \"white\", \"showbackground\": true, \"ticks\": \"\", \"zerolinecolor\": \"white\"}, \"yaxis\": {\"backgroundcolor\": \"#E5ECF6\", \"gridcolor\": \"white\", \"gridwidth\": 2, \"linecolor\": \"white\", \"showbackground\": true, \"ticks\": \"\", \"zerolinecolor\": \"white\"}, \"zaxis\": {\"backgroundcolor\": \"#E5ECF6\", \"gridcolor\": \"white\", \"gridwidth\": 2, \"linecolor\": \"white\", \"showbackground\": true, \"ticks\": \"\", \"zerolinecolor\": \"white\"}}, \"shapedefaults\": {\"line\": {\"color\": \"#2a3f5f\"}}, \"ternary\": {\"aaxis\": {\"gridcolor\": \"white\", \"linecolor\": \"white\", \"ticks\": \"\"}, \"baxis\": {\"gridcolor\": \"white\", \"linecolor\": \"white\", \"ticks\": \"\"}, \"bgcolor\": \"#E5ECF6\", \"caxis\": {\"gridcolor\": \"white\", \"linecolor\": \"white\", \"ticks\": \"\"}}, \"title\": {\"x\": 0.05}, \"xaxis\": {\"automargin\": true, \"gridcolor\": \"white\", \"linecolor\": \"white\", \"ticks\": \"\", \"title\": {\"standoff\": 15}, \"zerolinecolor\": \"white\", \"zerolinewidth\": 2}, \"yaxis\": {\"automargin\": true, \"gridcolor\": \"white\", \"linecolor\": \"white\", \"ticks\": \"\", \"title\": {\"standoff\": 15}, \"zerolinecolor\": \"white\", \"zerolinewidth\": 2}}}, \"yaxis\": {\"tickmode\": \"array\", \"ticktext\": [\"data\", \"blood\", \"health\"], \"tickvals\": [0, 1, 2]}},                        {\"responsive\": true}                    ).then(function(){\n",
       "                            \n",
       "var gd = document.getElementById('e264e493-de85-451a-b3ff-7cf26be4911e');\n",
       "var x = new MutationObserver(function (mutations, observer) {{\n",
       "        var display = window.getComputedStyle(gd).display;\n",
       "        if (!display || display === 'none') {{\n",
       "            console.log([gd, 'removed!']);\n",
       "            Plotly.purge(gd);\n",
       "            observer.disconnect();\n",
       "        }}\n",
       "}});\n",
       "\n",
       "// Listen for the removal of the full notebook cells\n",
       "var notebookContainer = gd.closest('#notebook-container');\n",
       "if (notebookContainer) {{\n",
       "    x.observe(notebookContainer, {childList: true});\n",
       "}}\n",
       "\n",
       "// Listen for the clearing of the current output cell\n",
       "var outputEl = gd.closest('.output');\n",
       "if (outputEl) {{\n",
       "    x.observe(outputEl, {childList: true});\n",
       "}}\n",
       "\n",
       "                        })                };                });            </script>        </div>"
      ]
     },
     "metadata": {},
     "output_type": "display_data"
    }
   ],
   "source": [
    "import plotly.graph_objects as go\n",
    "\n",
    "fig = go.Figure(data=go.Scatter(\n",
    "    x = x,\n",
    "    y = y,\n",
    "    mode=\"markers\"\n",
    "))\n",
    "\n",
    "fig.update_layout(\n",
    "    yaxis = dict(\n",
    "        tickmode = 'array',\n",
    "        tickvals = list(range(max(y)+1)),\n",
    "        ticktext = words\n",
    "    )\n",
    ")\n",
    "\n",
    "fig.show()"
   ]
  },
  {
   "cell_type": "code",
   "execution_count": null,
   "id": "e1a49343",
   "metadata": {},
   "outputs": [],
   "source": [
    "import matplotlib.pyplot as plt\n",
    "from sklearn.feature_extraction.text import TfidfVectorizer\n",
    "from sklearn.cluster import KMeans\n",
    "from sklearn.decomposition import PCA\n",
    "from sklearn.manifold import TSNE\n",
    "\n",
    "num_clusters = 10\n",
    "num_seeds = 10\n",
    "max_iterations = 300\n",
    "labels_color_map = {\n",
    "    0: '#20b2aa', 1: '#ff7373', 2: '#ffe4e1', 3: '#005073', 4: '#4d0404',\n",
    "    5: '#ccc0ba', 6: '#4700f9', 7: '#f6f900', 8: '#00f91d', 9: '#da8c49'\n",
    "}\n",
    "pca_num_components = 2\n",
    "tsne_num_components = 2\n",
    "\n",
    "# # texts_list = some array of strings for which TF-IDF is being computed\n",
    "\n",
    "# # calculate tf-idf of texts\n",
    "# tf_idf_vectorizer = TfidfVectorizer(analyzer=\"word\", use_idf=True, smooth_idf=True, ngram_range=(2, 3))\n",
    "# tf_idf_matrix = tf_idf_vectorizer.fit_transform(texts_list)\n",
    "\n",
    "# # create k-means model with custom config\n",
    "clustering_model = KMeans(\n",
    "    n_clusters=num_clusters,\n",
    "    max_iter=max_iterations,\n",
    "    precompute_distances=\"auto\",\n",
    "    n_jobs=-1\n",
    ")\n",
    "\n",
    "labels = clustering_model.fit_predict(tfidf_matrix)\n",
    "# print labels\n",
    "\n",
    "X = tfidf_matrix#.todense()\n",
    "\n",
    "# ----------------------------------------------------------------------------------------------------------------------\n",
    "\n",
    "reduced_data = PCA(n_components=pca_num_components).fit_transform(X)\n",
    "# print reduced_data\n",
    "\n",
    "fig, ax = plt.subplots()\n",
    "for index, instance in enumerate(reduced_data):\n",
    "    # print instance, index, labels[index]\n",
    "    pca_comp_1, pca_comp_2 = reduced_data[index]\n",
    "    color = labels_color_map[labels[index]]\n",
    "    ax.scatter(pca_comp_1, pca_comp_2, c=color)\n",
    "plt.show()\n",
    "\n",
    "\n",
    "\n",
    "# t-SNE plot\n",
    "embeddings = TSNE(n_components=tsne_num_components)\n",
    "Y = embeddings.fit_transform(X)\n",
    "plt.scatter(Y[:, 0], Y[:, 1], cmap=plt.cm.Spectral)\n",
    "plt.show()"
   ]
  },
  {
   "cell_type": "code",
   "execution_count": null,
   "id": "fe59569f",
   "metadata": {},
   "outputs": [],
   "source": [
    "pip install yellowbrick"
   ]
  },
  {
   "cell_type": "code",
   "execution_count": null,
   "id": "84b8bcee",
   "metadata": {
    "scrolled": true
   },
   "outputs": [],
   "source": [
    "from yellowbrick.text.tsne import tsne\n",
    "from sklearn.feature_extraction.text import TfidfVectorizer\n",
    "from yellowbrick.datasets import load_hobbies\n",
    "\n",
    "# Load the data and create document vectors\n",
    "corpus = load_hobbies()\n",
    "tfidf = TfidfVectorizer()\n",
    "\n",
    "X = tfidf.fit_transform(corpus.data)\n",
    "y = corpus.target\n",
    "\n",
    "tsne(X, y)"
   ]
  },
  {
   "cell_type": "code",
   "execution_count": null,
   "id": "6a304721",
   "metadata": {},
   "outputs": [],
   "source": [
    "\n",
    "from yellowbrick.text import TSNEVisualizer\n",
    "from sklearn.feature_extraction.text import TfidfVectorizer\n",
    "\n",
    "tfidf  = TfidfVectorizer()\n",
    "with open('text_blob.txt') as raw:\n",
    "    file = raw\n",
    "    docs   = tfidf.fit_transform(file)\n",
    "\n",
    "# Create the visualizer and draw the vectors\n",
    "tsne = TSNEVisualizer()\n",
    "tsne.fit(docs)\n",
    "tsne.poof()"
   ]
  },
  {
   "cell_type": "code",
   "execution_count": null,
   "id": "29cadb16",
   "metadata": {},
   "outputs": [],
   "source": [
    "text_blob.split()"
   ]
  },
  {
   "cell_type": "code",
   "execution_count": 98,
   "id": "a7deee83",
   "metadata": {},
   "outputs": [],
   "source": [
    "word_list = text_blob.split()"
   ]
  },
  {
   "cell_type": "code",
   "execution_count": null,
   "id": "fc0d304e",
   "metadata": {},
   "outputs": [],
   "source": [
    "def find_ngrams(input_list, n):\n",
    "    return zip(*(input_list[i:] for i in range(n)))\n",
    "\n",
    "trigrams = find_ngrams(word_list, 2)"
   ]
  },
  {
   "cell_type": "code",
   "execution_count": null,
   "id": "f2fe2669",
   "metadata": {},
   "outputs": [],
   "source": [
    "list(trigrams)"
   ]
  },
  {
   "cell_type": "code",
   "execution_count": 96,
   "id": "d4924cf4",
   "metadata": {},
   "outputs": [
    {
     "name": "stdout",
     "output_type": "stream",
     "text": [
      "[((' ', ' '), 1782), (('e', ' '), 937), (('i', 'n'), 866), (('s', ' '), 709), (('t', 'i'), 698), ((' ', 'a'), 641), (('r', 'e'), 638), (('o', 'n'), 627), ((' ', 't'), 616), (('t', 'h'), 614), (('d', ' '), 587), (('e', 'n'), 575), (('a', 'n'), 566), (('n', 't'), 552), (('e', 's'), 520), ((',', ' '), 510), (('h', 'e'), 509), (('o', 'r'), 485), (('e', 'd'), 474), (('a', 't'), 468), (('i', 'o'), 446), ((' ', 'i'), 444), (('n', ' '), 405), (('n', 'g'), 403), (('e', 'r'), 394), (('t', 'e'), 390), ((' ', 'o'), 381), (('i', 's'), 364), (('a', 'l'), 357), (('t', ' '), 347), (('s', 'e'), 347), ((' ', 'c'), 340), (('n', 'd'), 337), (('a', 'r'), 332), (('s', 'i'), 296), (('r', ' '), 289), (('d', 'i'), 283), (('m', 'e'), 278), ((' ', 'f'), 277), ((' ', 'p'), 274), (('i', 't'), 272), (('u', 'r'), 269), ((' ', 'd'), 265), (('d', 'e'), 262), (('r', 'i'), 261), (('o', 'f'), 260), (('g', ' '), 257), (('t', 'o'), 253), (('r', 'o'), 252), (('i', 'c'), 248), (('s', 's'), 246), (('l', 'i'), 246), (('c', 't'), 245), (('r', 's'), 245), (('c', 'e'), 244), (('f', ' '), 244), (('y', ' '), 242), (('n', 'e'), 239), ((' ', 'r'), 239), (('v', 'e'), 237), (('s', 't'), 236), (('f', 'o'), 233), (('c', 'o'), 231), (('p', 'r'), 220), (('e', 'c'), 219), (('l', 'e'), 215), ((' ', 's'), 214), (('n', 'c'), 213), (('e', 'a'), 212), (('n', 's'), 210), (('c', 'a'), 205), (('h', 'a'), 201), (('l', ' '), 200), (('o', ' '), 193), (('a', 's'), 185), (('.', ' '), 182), (('i', 'a'), 179), ((' ', 'n'), 179), (('r', 'a'), 177), (('a', 'c'), 177), (('i', 'e'), 176), ((' ', 'T'), 175), (('t', 'a'), 174), (('e', 'l'), 170), (('l', 'a'), 170), (('i', 'v'), 167), ((' ', 'b'), 167), (('o', 'm'), 165), (('v', 'i'), 152), (('p', 'e'), 151), (('u', 's'), 142), (('i', 'd'), 140), (('n', 'u'), 140), (('n', 'o'), 138), ((' ', 'w'), 138), ((':', '\\n'), 137), (('n', 'a'), 133), (('o', 's'), 132), (('c', 'i'), 129), (('h', ' '), 126), ((' ', 'e'), 126), (('n', 'i'), 126), (('e', ','), 123), (('e', 'f'), 122), (('a', 'g'), 122), ((' ', 'N'), 122), (('o', 'u'), 119), (('i', 'l'), 117), ((' ', 'C'), 117), ((' ', 'I'), 117), (('b', 'e'), 116), (('c', 'l'), 116), (('i', 'm'), 113), (('e', 'e'), 113), (('i', 'r'), 113), (('m', 'p'), 112), (('o', 'c'), 110), (('p', 'a'), 110), ((' ', 'P'), 108), ((' ', 'm'), 108), (('c', 'h'), 108), (('h', 'i'), 107), ((' ', 'S'), 107), (('o', 'l'), 106), (('s', ','), 104), (('g', 'n'), 103), (('e', 'm'), 102), (('f', 'e'), 101), (('u', 't'), 101), ((' ', 'h'), 101), (('m', 'a'), 100), ((' ', 'E'), 99), (('a', 'i'), 98), (('k', ' '), 98), (('l', 'l'), 96), (('u', 'a'), 96), (('a', ' '), 95), (('e', 't'), 95), ((':', ' '), 92), ((' ', '('), 92), (('a', 'd'), 91), (('E', ' '), 91), (('g', 'e'), 89), (('f', 'i'), 89), (('t', 'y'), 88), (('e', '\\n'), 88), (('.', '.'), 88), (('s', 'p'), 87), (('c', 'u'), 86), (('T', ' '), 85), (('T', 'h'), 85), (('i', 'f'), 85), (('h', 'o'), 85), (('s', 'k'), 84), (('t', 'r'), 82), (('-', '\\n'), 82), (('p', 'l'), 81), (('p', 'o'), 81), (('m', 'i'), 80), ((' ', 'R'), 76), (('a', 'p'), 75), (('c', ' '), 75), (('o', 'p'), 74), ((' ', 'D'), 74), ((' ', 'A'), 74), (('l', 'y'), 73), ((' ', 'l'), 73), (('l', 'u'), 73), ((' ', 'O'), 72), (('t', 'u'), 70), ((' ', '1'), 70), (('w', 'i'), 70), (('l', 't'), 69), (('u', 'n'), 69), (('r', 'y'), 68), (('d', 'a'), 68), (('o', 't'), 67), (('s', 'o'), 67), (('e', 'v'), 67), (('a', 'm'), 66), (('n', ','), 66), (('I', 'n'), 65), (('l', 'o'), 65), (('u', 'm'), 64), (('s', '.'), 64), ((' ', 'u'), 63), (('s', '\\n'), 63), (('o', 'v'), 63), (('I', ' '), 63), ((' ', 'U'), 62), ((' ', '2'), 60), (('r', 'm'), 60), (('r', 't'), 60), (('n', 'f'), 59), (('s', ':'), 59), (('f', 'f'), 58), (('\\n', 'S'), 58), (('t', 's'), 58), (('f', 'a'), 57), (('p', 't'), 57), (('o', 'w'), 57), (('e', 'p'), 57), (('\\n', 't'), 57), (('O', ' '), 57), (('C', 'o'), 56), (('S', ' '), 56), (('C', ' '), 55), (('N', ' '), 55), ((' ', '3'), 54), (('U', ' '), 54), (('s', 'u'), 53), (('b', 'l'), 53), (('P', ' '), 52), ((' ', '4'), 51), (('–', '1'), 51), (('\\n', 'C'), 51), (('r', 'd'), 51), (('a', 'b'), 50), (('o', 'o'), 50), (('m', 'o'), 49), (('e', 'x'), 49), (('u', 'l'), 49), ((')', ' '), 48), (('–', '3'), 48), (('t', 't'), 48), (('r', 'v'), 48), (('R', ' '), 48), (('p', 'p'), 47), (('a', 'v'), 46), (('–', '4'), 46), (('d', 'u'), 46), (('e', 'g'), 45), (('y', ','), 45), (('m', 'u'), 45), (('\\n', 'P'), 45), (('\\n', 'a'), 45), (('r', 'n'), 44), (('g', ','), 43), (('u', 'i'), 43), ((' ', 'G'), 42), (('–', '2'), 41), (('g', 'i'), 40), (('–', '5'), 40), (('o', 'd'), 40), (('b', 'a'), 39), (('r', 'r'), 39), (('i', 'g'), 39), (('c', 'c'), 39), (('w', 'h'), 39), ((' ', '5'), 38), (('\\n', 'A'), 38), (('y', 's'), 38), (('N', 'D'), 38), (('t', '\\n'), 37), (('r', 'g'), 37), (('N', 'u'), 37), (('D', 'i'), 37), (('v', 'a'), 37), (('\\n', 'c'), 37), (('\\n', 'd'), 37), (('a', 'u'), 36), (('i', 'z'), 36), (('o', 'b'), 36), (('a', 'y'), 36), (('d', '\\n'), 36), (('\\n', 'i'), 36), (('1', '9'), 35), (('q', 'u'), 35), (('R', 'e'), 35), (('m', ' '), 35), (('7', '–'), 34), (('f', 'y'), 34), (('\\n', 'F'), 34), (('p', 'i'), 34), (('w', 'e'), 34), (('d', 's'), 34), (('e', '.'), 34), ((' ', 'M'), 33), (('m', 'm'), 33), (('\\n', 'D'), 33), (('g', 'r'), 33), (('d', 'o'), 33), (('g', 'h'), 33), (('e', ':'), 33), ((' ', 'F'), 33), (('\\n', 'p'), 33), (('G', ' '), 33), (('n', ':'), 32), (('\\n', 'I'), 32), (('s', 'y'), 32), (('b', 'o'), 32), (('S', 'e'), 32), (('b', 'y'), 32), (('7', '\\n'), 31), (('u', 'd'), 31), (('u', 'g'), 31), ((' ', 'H'), 31), (('A', ' '), 31), (('n', 'h'), 30), (('r', '\\n'), 30), (('d', 'r'), 30), (('5', '\\n'), 30), (('t', ','), 30), ((' ', 'g'), 30), (('\\n', 'T'), 29), (('u', 'e'), 29), (('f', 'r'), 29), (('N', 'A'), 28), (('0', '–'), 28), (('u', 'c'), 28), (('f', 'u'), 28), (('k', 'e'), 28), (('m', 's'), 28), (('A', 'N'), 27), (('\\n', 'H'), 27), (('1', '–'), 27), (('2', '–'), 27), (('i', 'p'), 27), (('g', '\\n'), 27), (('t', 'c'), 27), (('2', '\\n'), 26), (('3', '–'), 26), (('3', '\\n'), 26), (('D', 'e'), 26), (('3', '3'), 26), (('z', 'e'), 26), (('s', 'c'), 26), (('e', 'w'), 26), (('\\n', 'n'), 26), (('s', '/'), 26), (('5', '–'), 25), (('l', 's'), 25), (('1', '0'), 25), (('r', 'c'), 25), (('d', '.'), 25), (('b', 'i'), 25), (('l', 'f'), 25), (('C', 'a'), 25), (('p', 'h'), 25), (('P', 'r'), 24), ((' ', 'v'), 24), (('l', '\\n'), 24), (('f', 'l'), 24), (('g', 'a'), 24), (('y', ':'), 24), (('s', 'm'), 24), (('.', '\\n'), 24), (('s', 'h'), 24), (('n', '\\n'), 24), (('t', ':'), 24), (('D', ' '), 24), (('H', ' '), 23), (('1', '7'), 23), (('A', 's'), 23), (('f', '-'), 23), (('w', ' '), 23), (('\\n', 'R'), 23), (('y', '\\n'), 23), (('o', 'g'), 23), (('’', 's'), 23), (('2', '0'), 22), (('(', 's'), 22), (('\\n', 'B'), 22), (('0', '\\n'), 22), (('r', 'u'), 22), (('w', 'a'), 22), (('\\n', 's'), 22), (('k', 'i'), 21), (('1', '\\n'), 21), (('d', 'd'), 21), (('m', 'b'), 21), (('u', 'p'), 21), (('4', '–'), 21), (('c', 'r'), 21), (('\\n', 'r'), 21), (('w', 'o'), 21), (('D', 'A'), 21), (('9', '\\n'), 20), (('\\n', 'N'), 20), (('8', '–'), 20), (('F', 'a'), 20), (('d', 'y'), 20), (('e', 'q'), 20), (('6', '–'), 20), (('1', '5'), 20), (('g', 'u'), 20), (('h', 'r'), 20), (('e', 'i'), 20), (('\\n', 'U'), 20), (('p', ' '), 20), (('C', 'h'), 20), (('n', '.'), 20), ((' ', 'K'), 20), (('3', '9'), 19), (('y', 'n'), 19), (('C', 'l'), 19), (('s', ')'), 19), (('’', ' '), 19), (('2', '5'), 18), (('2', '2'), 18), (('d', ','), 18), (('6', '\\n'), 18), (('1', '6'), 18), (('3', '7'), 18), (('h', 'y'), 18), (('p', 'u'), 18), (('n', 'y'), 18), ((' ', '’'), 18), (('K', ' '), 18), (('H', 'e'), 17), (('2', '1'), 17), (('1', '3'), 17), (('4', '\\n'), 17), (('U', 'r'), 17), (('M', 'a'), 17), (('s', 'a'), 17), (('g', 's'), 17), (('o', '\\n'), 17), (('n', 'n'), 17), (('e', 'y'), 17), (('\\n', 'o'), 17), (('r', 'b'), 16), (('3', '1'), 16), (('5', '0'), 16), (('0', '0'), 16), (('9', '–'), 16), (('y', 'p'), 16), (('5', '7'), 16), (('h', 't'), 16), (('r', ','), 16), (('3', '0'), 16), (('x', 'i'), 16), (('4', '8'), 16), (('P', 'a'), 16), (('a', 'k'), 16), (('i', 'b'), 16), (('T', 'o'), 16), (('r', 'k'), 16), (('A', 'T'), 15), (('4', '3'), 15), (('j', 'u'), 15), ((')', ','), 15), (('5', '6'), 15), (('b', 'r'), 15), (('\\n', 'm'), 15), (('u', 'b'), 15), (('g', 'o'), 15), (('c', 'k'), 15), (('f', '\\n'), 15), ((' ', 'B'), 15), (('a', 'x'), 15), (('8', '\\n'), 14), (('y', ')'), 14), (('4', '7'), 14), (('4', '1'), 14), (('P', 'o'), 14), (('4', '4'), 14), (('2', '6'), 14), (('3', '2'), 14), (('l', 'p'), 14), (('y', '.'), 14), (('g', '.'), 14), ((',', '\\n'), 14), (('D', 'o'), 14), (('d', '/'), 14), ((')', ':'), 14), (('E', 'R'), 13), (('2', '7'), 13), (('e', 'u'), 13), (('e', 'h'), 13), (('2', '8'), 13), (('l', 'd'), 13), (('1', '1'), 13), (('1', '2'), 13), (('P', 'e'), 13), (('5', '9'), 13), (('9', '1'), 13), (('F', 'l'), 13), (('4', '2'), 13), (('7', '2'), 13), (('B', 'e'), 13), (('s', 'f'), 13), (('M', 'e'), 13), (('r', 'l'), 13), (('S', 't'), 13), (('A', 'l'), 13), (('o', 'k'), 13), (('F', 'o'), 13), (('j', 'e'), 13), ((' ', '“'), 13), (('”', ' '), 13), (('P', 'l'), 13), (('p', 's'), 13), (('/', 'N'), 13), (('P', 'A'), 12), (('7', '5'), 12), (('5', '2'), 12), (('o', 'i'), 12), (('S', 'u'), 12), (('0', '3'), 12), (('5', '8'), 12), (('a', '\\n'), 12), (('v', 'o'), 12), (('4', '6'), 12), (('\\n', 'L'), 12), (('d', 'g'), 12), (('\\n', 'M'), 12), (('4', '0'), 12), (('l', ','), 12), (('w', 'r'), 12), (('x', 'p'), 12), (('t', 'l'), 12), (('h', 'u'), 12), ((' ', 'Y'), 12), (('n', '/'), 12), (('\\n', 'f'), 12), ((' ', '['), 12), ((' ', 'W'), 12), ((' ', 'y'), 12), (('\\n', 'b'), 12), (('D', 's'), 12), (('3', '5'), 11), (('x', 'c'), 11), (('6', '6'), 11), (('6', '9'), 11), (('A', 'c'), 11), (('y', 'e'), 11), (('3', '8'), 11), (('s', 'n'), 11), (('x', 'a'), 11), (('N', 'e'), 11), (('t', '’'), 11), (('R', 'N'), 10), (('7', '8'), 10), (('5', '1'), 10), (('8', '1'), 10), (('\\n', 'E'), 10), (('g', 'y'), 10), (('1', '8'), 10), (('B', 'r'), 10), (('2', '3'), 10), (('5', '4'), 10), (('e', ')'), 10), (('5', '3'), 10), (('0', '2'), 10), (('9', '7'), 10), (('p', 'y'), 10), (('A', 'd'), 10), (('9', '9'), 10), (('r', 'p'), 10), (('A', 'n'), 10), (('S', 'o'), 10), (('e', '-'), 10), (('y', 'c'), 10), (('5', ' '), 10), (('t', '.'), 10), ((' ', 'L'), 10), (('n', '-'), 10), (('i', '-'), 10), (('l', '/'), 10), ((')', '.'), 10), (('/', 'o'), 10), (('\\n', '*'), 10), (('N', 'N'), 10), (('Y', ' '), 10), (('T', 'T'), 9), (('T', 'E'), 9), (('N', '\\n'), 9), (('N', 'o'), 9), (('n', 'j'), 9), (('8', '5'), 9), (('8', '9'), 9), (('I', 'C'), 9), (('3', '6'), 9), (('L', 'a'), 9), (('9', '5'), 9), (('1', '4'), 9), ((' ', '6'), 9), (('p', 'm'), 9), (('e', 'o'), 9), (('8', '7'), 9), (('w', 'l'), 9), (('9', '8'), 9), (('t', '/'), 9), (('/', 'c'), 9), ((' ', 'V'), 9), (('S', 'p'), 9), (('\\n', 'e'), 9), (('O', 'u'), 9), ((' ', 'q'), 9), (('d', ':'), 9), (('b', 'j'), 9), (('e', '/'), 9), (('h', 'c'), 9), (('a', '-'), 9), (('b', 'u'), 9), (('S', 'y'), 9), (('b', 's'), 9), (('o', 'a'), 9), (('(', 'N'), 9), (('y', 'o'), 9), (('T', 'I'), 8), (('5', '5'), 8), ((' ', '8'), 8), (('6', '5'), 8), (('4', '9'), 8), (('B', 'o'), 8), (('r', 'h'), 8), (('\\n', 'W'), 8), (('T', 'r'), 8), (('/', 'h'), 8), (('H', 'o'), 8), (('\\n', 'V'), 8), (('\\n', 'G'), 8), (('9', '0'), 8), (('7', '7'), 8), (('4', '5'), 8), (('I', 'm'), 8), (('t', 'm'), 8), (('t', '-'), 8), (('D', 'a'), 8), (('\\n', 'w'), 8), (('2', ' '), 8), (('s', '-'), 8), (('y', 'i'), 8), (('r', ':'), 8), (('E', 'x'), 8), (('x', 'o'), 8), (('c', 'y'), 8), ((' ', 'k'), 8), (('h', '\\n'), 8), (('y', '/'), 8), (('M', 'o'), 8), (('c', 's'), 8), (('I', 't'), 8), (('c', '\\n'), 8), (('/', 'n'), 8), (('A', 'L'), 7), (('9', '6'), 7), (('t', 'f'), 7), (('9', '4'), 7), (('0', '4'), 7), (('x', ' '), 7), (('.', ','), 7), (('1', ' '), 7), (('0', '1'), 7), ((' ', '9'), 7), (('g', '/'), 7), (('D', 'y'), 7), (('r', 'f'), 7), (('G', 'r'), 7), (('8', '0'), 7), (('0', ' '), 7), (('N', 'I'), 7), (('n', 'v'), 7), (('-', 'e'), 7), (('m', ','), 7), (('6', ' '), 7), (('R', 'o'), 7), (('o', '-'), 7), (('r', '-'), 7), (('z', 'a'), 7), (('\\n', 'u'), 7), (('T', 'a'), 7), (('n', 'l'), 7), (('l', 'n'), 7), (('N', 'O'), 7), (('(', 'a'), 7), (('l', 'v'), 7), (('U', 's'), 7), (('N', ')'), 7), ((']', ' '), 7), (('0', '8'), 6), (('T', 'i'), 6), (('2', '9'), 6), ((' ', '*'), 6), (('6', '0'), 6), (('W', 'h'), 6), (('l', 'c'), 6), (('–', '9'), 6), (('0', '7'), 6), (('S', 'l'), 6), (('g', 'l'), 6), (('/', 'i'), 6), (('x', 'u'), 6), (('R', 'a'), 6), (('-', 't'), 6), (('3', ' '), 6), (('g', ':'), 6), (('l', '-'), 6), (('C', 'C'), 6), (('\\n', 'h'), 6), (('.', '”'), 6), (('k', 'n'), 6), (('A', 'm'), 6), (('n', ')'), 6), (('/', 'p'), 6), ((';', ' '), 6), (('(', 'e'), 6), (('V', 'o'), 6), (('O', 'C'), 6), (('d', '-'), 6), (('/', 's'), 6), (('[', 's'), 6), (('F', 'e'), 6), (('H', 'i'), 6), (('I', 'O'), 5), (('O', 'N'), 5), (('3', '4'), 5), (('9', '3'), 5), (('9', ' '), 5), (('8', '6'), 5), (('\\n', 'O'), 5), (('O', 'r'), 5), (('6', '1'), 5), (('7', ' '), 5), (('y', 'r'), 5), (('6', '4'), 5), (('-', 'E'), 5), (('6', '3'), 5), (('A', 'u'), 5), (('9', '2'), 5), (('a', ','), 5), (('0', '5'), 5), (('w', 't'), 5), (('h', ','), 5), (('-', 'R'), 5), (('L', ' '), 5), (('K', 'n'), 5), (('V', 'i'), 5), (('o', 'h'), 5), (('F', ' '), 5), (('F', '.'), 5), (('.', 'A'), 5), (('A', '.'), 5), (('\\n', 'l'), 5), (('y', 'm'), 5), (('a', 'w'), 5), (('m', 'y'), 5), (('E', 'v'), 5), (('u', '-'), 5), (('2', ')'), 5), (('.', 'g'), 5), (('F', 'i'), 5), (('h', 'n'), 5), (('l', ':'), 5), (('g', 't'), 5), (('/', 'f'), 5), (('/', 'r'), 5), ((']', '\\n'), 5), (('*', 'N'), 5), (('2', 'n'), 5), (('A', '/'), 5), (('C', '/'), 5), (('-', 'C'), 5), (('/', 'm'), 5), (('/', 'd'), 5), (('u', ' '), 5), (('E', 'P'), 4), (('h', '-'), 4), (('I', 'T'), 4), (('-', 'M'), 4), (('L', 'I'), 4), (('–', '8'), 4), (('2', '4'), 4), (('S', 'k'), 4), (('6', '8'), 4), (('–', '7'), 4), (('H', 'y'), 4), (('\\n', '1'), 4), (('8', ' '), 4), (('–', '6'), 4), (('s', 'r'), 4), (('-', 'c'), 4), (('/', 'g'), 4), (('8', '3'), 4), (('V', 'e'), 4), (('7', '1'), 4), (('R', 'E'), 4), (('n', 'x'), 4), (('L', 'o'), 4), (('S', 'i'), 4), (('-', 'd'), 4), (('8', '4'), 4), (('R', 'i'), 4), (('d', 'j'), 4), (('i', 'k'), 4), (('A', 'r'), 4), ((' ', '7'), 4), (('S', 'h'), 4), (('P', 'u'), 4), (('o', 'j'), 4), (('G', 'u'), 4), ((' ', 'J'), 4), (('S', 'a'), 4), (('O', 'b'), 4), ((' ', '&'), 4), (('(', 'f'), 4), (('m', '-'), 4), (('(', 'D'), 4), (('M', 'u'), 4), (('w', 'n'), 4), (('g', 'g'), 4), (('l', '.'), 4), (('(', 'S'), 4), (('(', '1'), 4), (('1', ')'), 4), ((')', '\\n'), 4), (('O', 's'), 4), (('x', 't'), 4), (('C', 'u'), 4), (('/', 't'), 4), (('n', 'k'), 4), (('S', 'O'), 4), (('a', '.'), 4), (('E', 's'), 4), (('F', 'r'), 4), (('f', ':'), 4), (('T', 'y'), 4), (('?', '\\n'), 4), (('P', 'E'), 3), (('R', 'C'), 3), (('C', 'E'), 3), (('P', 'T'), 3), (('M', 'E'), 3), (('e', 'k'), 3), (('E', 'n'), 3), (('u', 'f'), 3), (('O', 'L'), 3), (('6', '2'), 3), (('N', 'a'), 3), (('7', '3'), 3), (('E', 'L'), 3), (('6', '7'), 3), (('7', '6'), 3), (('C', 'T'), 3), (('I', 'V'), 3), (('S', 'E'), 3), (('P', 'h'), 3), (('W', 'a'), 3), (('r', 'w'), 3), (('L', 'E'), 3), (('E', 'S'), 3), (('S', 'T'), 3), (('-', 'p'), 3), (('E', '-'), 3), (('7', '0'), 3), (('7', '4'), 3), (('U', 'n'), 3), (('h', 'm'), 3), (('-', 'S'), 3), (('8', '2'), 3), (('\\n', '5'), 3), (('-', 'm'), 3), (('P', 's'), 3), (('E', 'l'), 3), (('3', ','), 3), (('c', ','), 3), (('r', '.'), 3), (('k', ','), 3), (('k', '\\n'), 3), (('d', 'v'), 3), (('(', 'p'), 3), (('d', 'm'), 3), (('\\n', '('), 3), (('.', '1'), 3), (('A', '\\n'), 3), (('x', 'e'), 3), (('c', '.'), 3), (('k', 's'), 3), (('a', 'f'), 3), (('d', 'l'), 3), (('h', '.'), 3), (('g', 'm'), 3), (('I', 'I'), 3), (('C', 'r'), 3), (('&', ' '), 3), (('(', 'A'), 3), (('\\n', 'g'), 3), (('t', 'w'), 3), (('o', 'e'), 3), (('s', 'l'), 3), (('W', 'o'), 3), (('L', 'i'), 3), (('W', ' '), 3), (('d', ')'), 3), (('J', 'o'), 3), (('W', 'e'), 3), (('o', ','), 3), (('m', '\\n'), 3), (('•', ' '), 3), (('(', 'i'), 3), ((' ', 'j'), 3), (('c', '-'), 3), (('l', '’'), 3), (('l', ']'), 3), (('c', ']'), 3), (('L', 'e'), 3), (('-', 'T'), 3), (('[', 'a'), 3), (('e', '’'), 3), (('a', ':'), 3), (('m', ':'), 3), (('H', 'E'), 2), (('E', 'A'), 2), (('L', 'T'), 2), (('T', 'H'), 2), (('M', 'A'), 2), (('N', 'T'), 2), (('(', 't'), 2), (('a', ')'), 2), (('T', 'R'), 2), (('S', 'w'), 2), (('I', 'N'), 2), (('T', 'Y'), 2), (('Y', '-'), 2), (('E', 'X'), 2), (('l', ')'), 2), (('y', 'g'), 2), (('A', 'i'), 2), (('G', 'a'), 2), (('t', 'p'), 2), (('p', '-'), 2), (('p', ','), 2), (('C', 'O'), 2), (('V', 'E'), 2), (('U', 'A'), 2), (('\\n', 'K'), 2), (('R', 'O'), 2), (('G', '-'), 2), (('\\n', '4'), 2), (('-', 'b'), 2), (('w', 'w'), 2), (('.', 'c'), 2), (('8', '8'), 2), (('8', ','), 2), (('0', ','), 2), (('4', ' '), 2), (('r', '('), 2), (('y', 't'), 2), (('i', 'q'), 2), (('(', 'C'), 2), ((' ', '$'), 2), (('$', '.'), 2), (('C', ','), 2), (('\\n', '0'), 2), (('3', '.'), 2), (('0', '.'), 2), (('/', 'C'), 2), (('b', ' '), 2), (('n', '’'), 2), ((' ', '.'), 2), (('Y', 'e'), 2), (('b', 'm'), 2), (('/', 'E'), 2), (('/', 'I'), 2), (('A', ')'), 2), (('w', '\\n'), 2), (('(', 'w'), 2), (('G', 'e'), 2), ((')', ';'), 2), ((';', '\\n'), 2), (('8', ')'), 2), (('g', '-'), 2), (('A', '’'), 2), (('s', ';'), 2), (('A', 'p'), 2), (('C', 'D'), 2), (('D', ')'), 2), (('3', ')'), 2), (('c', ')'), 2), (('y', '-'), 2), (('A', 't'), 2), (('(', 'h'), 2), (('M', 'c'), 2), (('c', 'C'), 2), (('e', 'b'), 2), (('“', 'r'), 2), (('“', 'e'), 2), (('m', '/'), 2), (('z', 'i'), 2), (('5', ')'), 2), ((' ', '•'), 2), (('/', '1'), 2), (('/', 'l'), 2), (('(', 'o'), 2), (('T', 'e'), 2), (('*', 'C'), 2), (('*', 'F'), 2), (('B', 'a'), 2), (('e', ']'), 2), (('*', 'S'), 2), (('I', 's'), 2), (('/', ']'), 2), (('“', 'C'), 2), ((',', '”'), 2), (('h', '/'), 2), (('b', 'n'), 2), (('y', 'l'), 2), (('/', 'w'), 2), (('B', 'l'), 2), (('V', 'a'), 2), (('M', 'i'), 2), (('(', 'd'), 2), (('A', 'b'), 2), (('(', 'Y'), 2), (('Y', '/'), 2), (('N', '-'), 1), (('-', 'H'), 1), (('A', 'G'), 1), (('G', 'E'), 1), (('E', 'M'), 1), (('E', 'N'), 1), (('-', 's'), 1), (('N', 'U'), 1), (('U', 'T'), 1), (('R', 'I'), 1), (('L', '-'), 1), (('E', 'T'), 1), (('T', 'A'), 1), (('A', 'B'), 1), (('B', 'O'), 1), (('\\n', '7'), 1), (('I', 'M'), 1), (('M', 'I'), 1), (('*', 'R'), 1), (('0', 't'), 1), (('M', '.'), 1), (('G', 'o'), 1), (('2', ','), 1), (('A', 'C'), 1), (('V', 'I'), 1), (('X', 'E'), 1), (('C', 'I'), 1), (('I', 'S'), 1), (('l', 'k'), 1), (('g', ')'), 1), (('S', 'L'), 1), (('E', 'E'), 1), (('P', '-'), 1), (('O', 'G'), 1), (('G', 'N'), 1), (('-', 'P'), 1), (('T', 'U'), 1), (('n', 'm'), 1), (('L', 'A'), 1), (('N', 'S'), 1), (('S', 'H'), 1), (('H', 'I'), 1), (('I', 'P'), 1), (('\\n', '3'), 1), (('X', 'U'), 1), (('P', 'R'), 1), (('O', 'D'), 1), (('D', 'U'), 1), (('U', 'C'), 1), (('E', '\\n'), 1), (('O', 'P'), 1), (('P', 'I'), 1), (('N', 'G'), 1), (('S', 'S'), 1), (('T', 'O'), 1), (('R', 'A'), 1), (('N', 'C'), 1), (('V', 'A'), 1), (('L', 'U'), 1), (('U', 'E'), 1), (('-', 'B'), 1), (('B', 'E'), 1), (('I', 'E'), 1), (('E', 'F'), 1), (('t', '—'), 1), (('—', 'A'), 1), (('c', '/'), 1), (('/', 'M'), 1), (('S', 'c'), 1), (('C', 'U'), 1), (('U', '-'), 1), (('T', 'N'), 1), (('T', '-'), 1), (('P', 'i'), 1), (('w', '.'), 1), ((' ', '©'), 1), (('©', ' '), 1), (('5', ','), 1), (('1', ','), 1), (('6', ','), 1), (('k', '.'), 1), (('l', 'w'), 1), (('k', 'a'), 1), (('C', 'e'), 1), (('C', ')'), 1), (('D', 'r'), 1), (('6', '-'), 1), (('0', '9'), 1), (('8', '/'), 1), (('/', '0'), 1), ((' ', '0'), 1), ((' ', '+'), 1), (('+', ' '), 1), (('r', 'q'), 1), (('e', 'z'), 1), (('z', '\\n'), 1), (('O', 'p'), 1), (('O', 'f'), 1), (('S', 'I'), 1), (('I', 'D'), 1), (('D', 'S'), 1), (('f', ','), 1), (('n', 'r'), 1), (('p', 'f'), 1), (('“', 'N'), 1), (('J', 'e'), 1), (('3', '-'), 1), (('-', '7'), 1), (('/', 'S'), 1), (('E', 'C'), 1), (('.', '3'), 1), (('I', ','), 1), (('/', 'O'), 1), (('w', 'b'), 1), (('9', ')'), 1), (('E', 'a'), 1), (('/', 'R'), 1), ((' ', '\\n'), 1), (('[', ' '), 1), ((' ', ']'), 1), ((']', '.'), 1), (('W', 'i'), 1), (('I', '\\n'), 1), (('H', 'u'), 1), (('k', 'l'), 1), (('i', 'x'), 1), (('A', 'x'), 1), (('A', ','), 1), (('(', 'I'), 1), (('\\n', '“'), 1), (('“', 'F'), 1), (('S', 'N'), 1), (('O', 'M'), 1), (('E', 'D'), 1), (('D', '.'), 1), (('-', 'o'), 1), (('e', ';'), 1), (('d', ';'), 1), (('I', 'o'), 1), (('(', 'B'), 1), (('B', 'u'), 1), (('y', ';'), 1), (('\\n', 'J'), 1), (('&', '\\n'), 1), (('C', '.'), 1), (('o', '”'), 1), (('y', '”'), 1), (('7', ','), 1), (('U', 'S'), 1), (('S', 'A'), 1), (('A', ';'), 1), (('a', '@'), 1), (('@', 'r'), 1), (('m', '.'), 1), (('“', 'c'), 1), (('d', '”'), 1), (('0', 's'), 1), (('(', '2'), 1), (('(', '3'), 1), (('(', '4'), 1), (('4', ')'), 1), (('(', '5'), 1), (('u', 'o'), 1), (('p', '.'), 1), (('\\n', '•'), 1), (('f', '.'), 1), (('(', 'H'), 1), (('H', 'M'), 1), (('M', 'O'), 1), (('/', 'a'), 1), (('f', 't'), 1), (('0', '/'), 1), (('3', '/'), 1), (('h', 's'), 1), (('O', '['), 1), (('s', ']'), 1), ((']', ')'), 1), (('g', '’'), 1), (('m', 'f'), 1), (('A', '-'), 1), (('-', 'a'), 1), (('“', 'b'), 1), (('k', '”'), 1), (('t', ')'), 1), (('(', 'T'), 1), (('t', '”'), 1), (('(', 'q'), 1), (('\\n', 'q'), 1), (('v', '-'), 1), (('\\n', '['), 1), (('[', 'F'), 1), (('r', '/'), 1), (('[', 'i'), 1), (('0', '6'), 1), (('[', 'L'), 1), (('d', ']'), 1), (('*', 'K'), 1), (('[', 'A'), 1), (('d', 'h'), 1), (('y', ']'), 1), (('*', 'P'), 1), (('I', 'd'), 1), (('w', ','), 1), (('*', 'T'), 1), (('-', ' '), 1), (('*', 'U'), 1), (('“', 'V'), 1), (('p', '\\n'), 1), (('\\n', '2'), 1), (('s', '”'), 1), (('b', '-'), 1), (('W', 'r'), 1), (('w', '’'), 1), (('n', '—'), 1), (('—', 't'), 1), (('s', '—'), 1), (('—', 'a'), 1), (('“', 's'), 1), (('(', 'P'), 1), (('S', ')'), 1), (('“', 'd'), 1), (('w', '-'), 1), (('”', '\\n'), 1), (('4', ','), 1), (('“', 'D'), 1), (('k', '/'), 1), (('i', '.'), 1), (('.', 'e'), 1), (('h', 'd'), 1), (('o', '/'), 1), (('s', '’'), 1), (('/', 'q'), 1), (('/', 'e'), 1), (('d', 'n'), 1), (('y', 'd'), 1), (('o', '.'), 1), (('B', ':'), 1), (('t', 'b'), 1), (('J', 'u'), 1), (('z', 'z'), 1), (('(', 'l'), 1), (('/', 'b'), 1), (('(', 'r'), 1), (('z', 'u'), 1), (('G', 'l'), 1), (('p', ':'), 1), (('H', 'a'), 1), (('p', '/'), 1), (('R', '/'), 1), (('/', 'L'), 1), (('L', ':'), 1), (('C', 'y'), 1), (('y', 'a'), 1), (('/', 'v'), 1), (('l', 'm'), 1), (('k', 'p'), 1), (('/', 'u'), 1), (('j', 'o'), 1), (('B', 'i'), 1), (('i', 'u'), 1), (('/', '\\n'), 1), (('p', ')'), 1), (('D', 'R'), 1), (('R', 'G'), 1), (('b', 't'), 1), (('.', ')'), 1), ((')', '?'), 1), (('y', '?'), 1), (('n', '?'), 1), (('t', '?'), 1), (('f', '/'), 1), (('(', 'n'), 1), (('w', ':'), 1), (('O', 'B'), 1), (('B', ' '), 1), (('(', 'G'), 1), (('G', 'P'), 1), (('T', 'P'), 1), (('L', ')'), 1), (('U', 't'), 1), (('s', 'v'), 1), (('y', 'x'), 1), (('x', ':'), 1), (('T', 'D'), 1), (('F', 'u'), 1)]\n"
     ]
    }
   ],
   "source": [
    "\n",
    "\n",
    "from collections import Counter\n",
    "\n",
    "bigrams = zip(list(text_blob), list(text_blob)[1:])\n",
    "counts = Counter(bigrams)\n",
    "print(counts.most_common())\n"
   ]
  },
  {
   "cell_type": "code",
   "execution_count": null,
   "id": "dd96aac5",
   "metadata": {},
   "outputs": [],
   "source": [
    "counts"
   ]
  },
  {
   "cell_type": "code",
   "execution_count": null,
   "id": "a894b9f9",
   "metadata": {},
   "outputs": [],
   "source": [
    "text_blob"
   ]
  },
  {
   "cell_type": "code",
   "execution_count": null,
   "id": "0e65b7c3",
   "metadata": {},
   "outputs": [],
   "source": [
    "g = ['1','2','3',' ','a','b']"
   ]
  },
  {
   "cell_type": "code",
   "execution_count": null,
   "id": "127c0cb7",
   "metadata": {},
   "outputs": [],
   "source": [
    "(''.join(g)).split()"
   ]
  },
  {
   "cell_type": "code",
   "execution_count": 99,
   "id": "49d496b5",
   "metadata": {},
   "outputs": [
    {
     "data": {
      "text/plain": [
       "['HEALTH',\n",
       " 'PERCEPTION-HEALTH',\n",
       " 'MANAGEMENT',\n",
       " 'PATTERN',\n",
       " 'Health',\n",
       " 'maintenance,',\n",
       " 'ineffective',\n",
       " '275–278',\n",
       " 'Therapeutic',\n",
       " 'regimen:',\n",
       " 'effective',\n",
       " 'management',\n",
       " '517–519',\n",
       " 'Therapeutic',\n",
       " 'regimen:',\n",
       " 'ineffective',\n",
       " 'management',\n",
       " 'Therapeutic',\n",
       " 'regimen:',\n",
       " 'readiness',\n",
       " 'for',\n",
       " 'enhanced',\n",
       " 'management',\n",
       " '525–527',\n",
       " 'Therapeutic',\n",
       " 'regimen:',\n",
       " 'family,',\n",
       " 'ineffective',\n",
       " 'management',\n",
       " '520–522',\n",
       " 'Therapeutic',\n",
       " 'regimen:',\n",
       " 'community,',\n",
       " 'ineffective',\n",
       " 'management',\n",
       " 'Noncompliance',\n",
       " '(specify)',\n",
       " '343–347',\n",
       " 'Health-seeking',\n",
       " 'behaviors',\n",
       " '(specify)',\n",
       " '278–281',\n",
       " 'Energy',\n",
       " 'field,',\n",
       " 'disturbed',\n",
       " '208–211',\n",
       " 'Falls,',\n",
       " 'risk',\n",
       " 'for',\n",
       " 'Infection,',\n",
       " 'risk',\n",
       " 'for',\n",
       " 'Injury',\n",
       " '(trauma),',\n",
       " 'risk',\n",
       " 'for',\n",
       " '310–313',\n",
       " 'Protection,',\n",
       " 'ineffective',\n",
       " '411–412',\n",
       " 'Poisoning,',\n",
       " 'risk',\n",
       " 'for',\n",
       " '393–396',\n",
       " 'Suffocation,',\n",
       " 'risk',\n",
       " 'for',\n",
       " '500–503',\n",
       " 'Perioperative',\n",
       " 'positioning',\n",
       " 'injury,',\n",
       " 'risk',\n",
       " 'for',\n",
       " '313–316',\n",
       " 'Sudden',\n",
       " 'infant',\n",
       " 'death',\n",
       " 'syndrome',\n",
       " '185–189',\n",
       " 'NUTRITIONAL-METABOLIC',\n",
       " 'PATTERN',\n",
       " 'Nutrition:',\n",
       " 'more',\n",
       " 'than',\n",
       " 'body',\n",
       " 'requirements,',\n",
       " 'imbalanced',\n",
       " '352–355',\n",
       " 'Nutrition:',\n",
       " 'more',\n",
       " 'than',\n",
       " 'body',\n",
       " 'requirements,',\n",
       " 'risk',\n",
       " 'for',\n",
       " 'imbalanced',\n",
       " '356–358',\n",
       " 'Nutrition:',\n",
       " 'less',\n",
       " 'than',\n",
       " 'body',\n",
       " 'requirements,',\n",
       " 'imbalanced',\n",
       " '347–352',\n",
       " 'Nutrition,',\n",
       " 'readiness',\n",
       " 'for',\n",
       " 'enhanced',\n",
       " '359–362',\n",
       " 'Breastfeeding,',\n",
       " 'ineffective',\n",
       " 'Breastfeeding,',\n",
       " 'effective',\n",
       " '108–110',\n",
       " 'Breastfeeding,',\n",
       " 'interrupted',\n",
       " '115–117',\n",
       " 'Infant',\n",
       " 'feeding',\n",
       " 'pattern,',\n",
       " 'ineffective',\n",
       " 'Aspiration,',\n",
       " 'risk',\n",
       " 'for',\n",
       " '86–89',\n",
       " 'Swallowing,',\n",
       " 'impaired',\n",
       " '510–515',\n",
       " 'Nausea',\n",
       " 'Oral',\n",
       " 'mucous',\n",
       " 'membrane,',\n",
       " 'impaired',\n",
       " '362–365',\n",
       " 'Dentition,',\n",
       " 'impaired',\n",
       " '191–194',\n",
       " 'Fluid',\n",
       " 'balance,',\n",
       " 'readiness',\n",
       " 'for',\n",
       " 'enhanced',\n",
       " '239–242',\n",
       " 'Fluid',\n",
       " 'volume',\n",
       " 'imbalance,',\n",
       " 'risk',\n",
       " 'for',\n",
       " '254–256',\n",
       " 'Fluid',\n",
       " 'volume,',\n",
       " 'risk',\n",
       " 'for',\n",
       " 'deficient',\n",
       " 'Fluid',\n",
       " 'volume,',\n",
       " 'deficient',\n",
       " 'Fluid',\n",
       " 'volume,',\n",
       " 'excess',\n",
       " '249–252',\n",
       " 'Skin',\n",
       " 'integrity,',\n",
       " 'impaired',\n",
       " '461–465',\n",
       " 'Skin',\n",
       " 'integrity,',\n",
       " 'risk',\n",
       " 'for',\n",
       " 'impaired',\n",
       " '465–468',\n",
       " 'Tissue',\n",
       " 'integrity',\n",
       " '(specify',\n",
       " 'type),',\n",
       " 'impaired',\n",
       " '533–537',\n",
       " 'Body',\n",
       " 'temperature,',\n",
       " 'risk',\n",
       " 'for',\n",
       " 'imbalanced',\n",
       " '102–104',\n",
       " 'Latex',\n",
       " 'allergy',\n",
       " 'response',\n",
       " '73–75',\n",
       " 'Latex',\n",
       " 'allergy',\n",
       " 'response,',\n",
       " 'risk',\n",
       " 'for',\n",
       " 'Thermoregulation,',\n",
       " 'ineffective',\n",
       " 'Hyperthermia',\n",
       " 'Hypothermia',\n",
       " '291–295',\n",
       " 'Failure',\n",
       " 'to',\n",
       " 'thrive,',\n",
       " 'adult',\n",
       " '214–217',\n",
       " 'ELIMINATION',\n",
       " 'PATTERN',\n",
       " 'Constipation',\n",
       " '153–157',\n",
       " 'Constipation,',\n",
       " 'risk',\n",
       " 'for',\n",
       " 'Constipation,',\n",
       " 'perceived',\n",
       " '157–159',\n",
       " 'Diarrhea',\n",
       " '197–200',\n",
       " 'Bowel',\n",
       " 'incontinence',\n",
       " 'Urinary',\n",
       " 'elimination,',\n",
       " 'impaired',\n",
       " '554–558',\n",
       " '*Reprinted',\n",
       " 'from',\n",
       " 'Manual',\n",
       " 'of',\n",
       " 'Nursing',\n",
       " 'Diagnosis,',\n",
       " '10th',\n",
       " 'ed.,',\n",
       " 'M.',\n",
       " 'Gordon,',\n",
       " 'Copyright',\n",
       " '2002,',\n",
       " 'with',\n",
       " 'Urinary',\n",
       " 'elimination,',\n",
       " 'readiness',\n",
       " 'for',\n",
       " 'enhanced',\n",
       " '558–561',\n",
       " 'Urinary',\n",
       " 'incontinence,',\n",
       " 'functional',\n",
       " 'Urinary',\n",
       " 'incontinence,',\n",
       " 'reflex',\n",
       " '564–566',\n",
       " 'Urinary',\n",
       " 'incontinence,',\n",
       " 'stress',\n",
       " '567–569',\n",
       " 'Urinary',\n",
       " 'incontinence,',\n",
       " 'urge',\n",
       " '572–575',\n",
       " 'Urinary',\n",
       " 'urge',\n",
       " 'incontinence,',\n",
       " 'risk',\n",
       " 'for',\n",
       " '576–578',\n",
       " 'Incontinence,',\n",
       " 'total',\n",
       " 'Urinary',\n",
       " 'retention',\n",
       " '578–581',\n",
       " 'ACTIVITY-EXERCISE',\n",
       " 'PATTERN',\n",
       " 'Activity',\n",
       " 'intolerance,',\n",
       " 'risk',\n",
       " 'for',\n",
       " '60–63',\n",
       " 'Activity',\n",
       " 'intolerance',\n",
       " '(specify',\n",
       " 'level)',\n",
       " '63–65',\n",
       " 'Adaptive',\n",
       " 'capacity,',\n",
       " 'decreased,',\n",
       " 'intracranial',\n",
       " '316–319',\n",
       " 'Infant',\n",
       " 'behavior,',\n",
       " 'disorganized',\n",
       " '295–301',\n",
       " 'Infant',\n",
       " 'behavior,',\n",
       " 'risk',\n",
       " 'for',\n",
       " 'disorganized',\n",
       " '303–304',\n",
       " 'Infant',\n",
       " 'behavior,',\n",
       " 'readiness',\n",
       " 'for',\n",
       " 'enhanced',\n",
       " 'organized',\n",
       " '301–303',\n",
       " 'Fatigue',\n",
       " 'Physical',\n",
       " 'mobility,',\n",
       " 'impaired',\n",
       " '333–337',\n",
       " 'Bed',\n",
       " 'mobility,',\n",
       " 'impaired',\n",
       " '331–333',\n",
       " 'Walking,',\n",
       " 'impaired',\n",
       " '597–599',\n",
       " 'Wheelchair',\n",
       " 'mobility,',\n",
       " 'impaired',\n",
       " '337–339',\n",
       " 'Transfer',\n",
       " 'ability,',\n",
       " 'impaired',\n",
       " '544–546',\n",
       " 'Development,',\n",
       " 'risk',\n",
       " 'for',\n",
       " 'delayed',\n",
       " '194–197',\n",
       " 'Autonomic',\n",
       " 'dysreflexia',\n",
       " '92–95',\n",
       " 'Autonomic',\n",
       " 'dysreflexia,',\n",
       " 'risk',\n",
       " 'for',\n",
       " '95–97',\n",
       " 'Disuse',\n",
       " 'syndrome,',\n",
       " 'risk',\n",
       " 'for',\n",
       " '200–205',\n",
       " 'Self-care',\n",
       " 'deficit',\n",
       " '(specify:',\n",
       " 'bathing/hygiene,',\n",
       " 'dressing/grooming,',\n",
       " 'feeding,',\n",
       " 'toileting)',\n",
       " 'Diversional',\n",
       " 'activity',\n",
       " 'deficient',\n",
       " '205–208',\n",
       " 'Home',\n",
       " 'maintenance,',\n",
       " 'impaired',\n",
       " '281–283',\n",
       " 'Dysfunctional',\n",
       " 'ventilatory',\n",
       " 'weaning',\n",
       " 'response',\n",
       " 'Ventilation,',\n",
       " 'impaired',\n",
       " 'spontaneous',\n",
       " 'Airway',\n",
       " 'clearance,',\n",
       " 'ineffective',\n",
       " 'Breathing',\n",
       " 'pattern,',\n",
       " 'ineffective',\n",
       " '117–121',\n",
       " 'Gas',\n",
       " 'exchange,',\n",
       " 'impaired',\n",
       " '256–260',\n",
       " 'Cardiac',\n",
       " 'output,',\n",
       " 'decreased',\n",
       " '121–126',\n",
       " 'Tissue',\n",
       " 'perfusion,',\n",
       " 'alteration',\n",
       " '(specify)',\n",
       " '537–544',\n",
       " 'Peripheral',\n",
       " 'neurovascular',\n",
       " 'dysfunction,',\n",
       " 'risk',\n",
       " 'for',\n",
       " '387–390',\n",
       " 'Surgical',\n",
       " 'recovery,',\n",
       " 'delayed',\n",
       " '507–510',\n",
       " 'Growth',\n",
       " 'and',\n",
       " 'development,',\n",
       " 'delayed',\n",
       " '266–271',\n",
       " 'Growth,',\n",
       " 'risk',\n",
       " 'for',\n",
       " 'disproportionate',\n",
       " '271–275',\n",
       " 'Wandering',\n",
       " 'SLEEP-REST',\n",
       " 'PATTERN',\n",
       " 'Sleep-pattern',\n",
       " 'disturbed',\n",
       " '472–477',\n",
       " 'Sleep',\n",
       " 'deprivation',\n",
       " '468–472',\n",
       " 'Sleep,',\n",
       " 'readiness',\n",
       " 'for',\n",
       " 'enhanced',\n",
       " '477–480',\n",
       " 'COGNITIVE-PERCEPTUAL',\n",
       " 'PATTERN',\n",
       " 'Acute',\n",
       " 'pain',\n",
       " '365–369',\n",
       " 'Chronic',\n",
       " 'pain',\n",
       " '370–374',\n",
       " 'Sensory',\n",
       " 'perception,',\n",
       " 'disturbed',\n",
       " '(specify)',\n",
       " '449–454',\n",
       " 'Unilateral',\n",
       " 'neglect',\n",
       " 'Knowledge',\n",
       " 'deficit',\n",
       " '(specify)',\n",
       " '319–323',\n",
       " 'Knowledge,',\n",
       " 'readiness',\n",
       " 'for',\n",
       " 'enhanced',\n",
       " '323–325',\n",
       " 'Memory,',\n",
       " 'impaired',\n",
       " '328–331',\n",
       " 'Thought',\n",
       " 'processes,',\n",
       " 'disturbed',\n",
       " '529–533',\n",
       " 'Acute',\n",
       " 'confusion',\n",
       " '147–150',\n",
       " 'Chronic',\n",
       " 'confusion',\n",
       " '150–153',\n",
       " 'Environmental',\n",
       " 'interpretation',\n",
       " 'syndrome,',\n",
       " 'impaired',\n",
       " '211–214',\n",
       " 'Decisional',\n",
       " 'conflict',\n",
       " '(specify)',\n",
       " 'Anxiety,',\n",
       " 'death',\n",
       " '83–86',\n",
       " 'Hopelessness',\n",
       " 'Powerlessness',\n",
       " 'Powerlessness,',\n",
       " 'risk',\n",
       " 'for',\n",
       " 'Loneliness,',\n",
       " 'risk',\n",
       " 'for',\n",
       " 'Self-concept,',\n",
       " 'readiness',\n",
       " 'for',\n",
       " 'enhanced',\n",
       " '430–433',\n",
       " 'Chronic',\n",
       " 'low',\n",
       " 'self-esteem',\n",
       " '433–437',\n",
       " 'Situational',\n",
       " 'low',\n",
       " 'self-esteem',\n",
       " '437–440',\n",
       " 'Situational',\n",
       " 'low',\n",
       " 'self-esteem,',\n",
       " 'risk',\n",
       " 'for',\n",
       " '440–441',\n",
       " 'Body',\n",
       " 'image',\n",
       " 'disturbed',\n",
       " '98–102',\n",
       " 'Personal',\n",
       " 'identity',\n",
       " 'disturbed',\n",
       " '390–393',\n",
       " 'Violence,',\n",
       " 'risk',\n",
       " 'for',\n",
       " 'self-directed',\n",
       " '591–596',\n",
       " 'ROLE-RELATIONSHIP',\n",
       " 'PATTERN',\n",
       " 'Anticipatory',\n",
       " 'grieving',\n",
       " '260–263',\n",
       " 'Dysfunctional',\n",
       " 'grieving',\n",
       " '263–266',\n",
       " 'Chronic',\n",
       " 'sorrow',\n",
       " '487–489',\n",
       " 'Role',\n",
       " 'performance,',\n",
       " 'ineffective',\n",
       " '422–425',\n",
       " 'Social',\n",
       " 'isolation',\n",
       " '484–487',\n",
       " 'Impaired',\n",
       " 'social',\n",
       " 'interaction',\n",
       " '480–484',\n",
       " 'Relocation',\n",
       " 'stress',\n",
       " 'syndrome',\n",
       " '417–420',\n",
       " 'Relocation',\n",
       " 'stress',\n",
       " 'syndrome,',\n",
       " 'risk',\n",
       " 'for',\n",
       " 'Family',\n",
       " 'processes,',\n",
       " 'interrupted',\n",
       " '225–228',\n",
       " 'Family',\n",
       " 'processes,',\n",
       " 'readiness',\n",
       " 'for',\n",
       " 'enhanced',\n",
       " '228–232',\n",
       " 'Dysfunctional',\n",
       " 'family',\n",
       " 'processes:',\n",
       " 'alcoholism',\n",
       " '221–225',\n",
       " 'Impaired',\n",
       " 'parenting,',\n",
       " 'risk',\n",
       " 'for',\n",
       " '385–387',\n",
       " 'Impaired',\n",
       " 'parenting',\n",
       " 'Parenting,',\n",
       " 'readiness',\n",
       " 'for',\n",
       " 'enhanced',\n",
       " '381–385',\n",
       " 'Impaired',\n",
       " 'parent/infant/child',\n",
       " 'attachment,',\n",
       " 'risk',\n",
       " 'for',\n",
       " '89–92',\n",
       " 'Parental',\n",
       " 'role',\n",
       " 'conflict',\n",
       " '374–377',\n",
       " 'Caregiver',\n",
       " 'role',\n",
       " 'strain',\n",
       " '126–132',\n",
       " 'Caregiver',\n",
       " 'role',\n",
       " 'strain,',\n",
       " 'risk',\n",
       " 'for',\n",
       " '132–135',\n",
       " 'Impaired',\n",
       " 'verbal',\n",
       " 'communication',\n",
       " '135–139',\n",
       " 'Communication,',\n",
       " 'readiness',\n",
       " 'for',\n",
       " 'enhanced',\n",
       " '139–143',\n",
       " 'Risk',\n",
       " 'for',\n",
       " 'violence,',\n",
       " 'directed',\n",
       " 'at',\n",
       " 'others',\n",
       " '590–591',\n",
       " 'SEXUALITY-REPRODUCTIVE',\n",
       " 'Sexual',\n",
       " 'dysfunction',\n",
       " '454–458',\n",
       " 'Ineffective',\n",
       " 'sexuality',\n",
       " 'patterns',\n",
       " 'Rape-trauma',\n",
       " 'syndrome',\n",
       " '412–417',\n",
       " 'Rape-trauma',\n",
       " 'syndrome:',\n",
       " 'compound',\n",
       " 'reaction',\n",
       " '413',\n",
       " 'Rape-trauma',\n",
       " 'syndrome:',\n",
       " 'silent',\n",
       " 'reaction',\n",
       " '413',\n",
       " 'COPING-STRESS',\n",
       " 'TOLERANCE',\n",
       " 'PATTERN',\n",
       " 'Ineffective',\n",
       " 'coping',\n",
       " 'Coping,',\n",
       " 'readiness',\n",
       " 'for',\n",
       " 'enhanced',\n",
       " '182–185',\n",
       " 'Defensive',\n",
       " 'coping',\n",
       " '166–169',\n",
       " 'Community',\n",
       " 'coping,',\n",
       " 'ineffective',\n",
       " '162–164',\n",
       " 'Community',\n",
       " 'coping,',\n",
       " 'readiness',\n",
       " 'for',\n",
       " 'enhanced',\n",
       " '164–166',\n",
       " 'Ineffective',\n",
       " 'denial',\n",
       " 'Impaired',\n",
       " 'adjustment',\n",
       " '66–69',\n",
       " 'Post-trauma',\n",
       " 'syndrome',\n",
       " '396–401',\n",
       " 'Post-trauma',\n",
       " 'syndrome,',\n",
       " 'risk',\n",
       " 'for',\n",
       " '402–404',\n",
       " 'Family',\n",
       " 'coping:',\n",
       " 'readiness',\n",
       " 'for',\n",
       " 'enhanced',\n",
       " '175–177',\n",
       " 'Ineffective',\n",
       " 'family',\n",
       " 'coping:',\n",
       " 'compromised',\n",
       " '169–172',\n",
       " 'Ineffective',\n",
       " 'family',\n",
       " 'coping:',\n",
       " 'disabling',\n",
       " '172–175',\n",
       " '503–507',\n",
       " 'Risk',\n",
       " 'for',\n",
       " 'suicide',\n",
       " 'Self-mutilation',\n",
       " '442–445',\n",
       " 'Self-mutilation,',\n",
       " 'risk',\n",
       " 'for',\n",
       " 'VALUE-BELIEF',\n",
       " 'PATTERN',\n",
       " 'Spiritual',\n",
       " 'distress',\n",
       " '490–494',\n",
       " 'Spiritual',\n",
       " 'distress,',\n",
       " 'risk',\n",
       " 'for',\n",
       " '494–497',\n",
       " 'Spiritual',\n",
       " 'well-being,',\n",
       " 'readiness',\n",
       " 'for',\n",
       " 'enhanced',\n",
       " '497–500',\n",
       " 'Clinical',\n",
       " 'Specialist—Adult',\n",
       " 'Psychiatric/Mental',\n",
       " 'Health,',\n",
       " 'Retired',\n",
       " 'Adjunct',\n",
       " 'Faculty',\n",
       " 'Beth-El',\n",
       " 'College',\n",
       " 'of',\n",
       " 'Nursing',\n",
       " 'and',\n",
       " 'Health',\n",
       " 'Sciences',\n",
       " 'CU-Springs',\n",
       " 'Colorado',\n",
       " 'Springs,',\n",
       " 'Colorado',\n",
       " 'Nurse',\n",
       " 'Consultant',\n",
       " 'TNT-RN',\n",
       " 'Enterprises',\n",
       " 'Adjunct',\n",
       " 'Faculty',\n",
       " 'Pikes',\n",
       " 'Peak',\n",
       " 'Community',\n",
       " 'College',\n",
       " 'Colorado',\n",
       " 'Springs,',\n",
       " 'Colorado',\n",
       " 'F.A.',\n",
       " 'Davis',\n",
       " 'Company',\n",
       " '1915',\n",
       " 'Arch',\n",
       " 'Street',\n",
       " 'Philadelphia,',\n",
       " 'PA',\n",
       " '19103',\n",
       " 'www.',\n",
       " 'fadavis.com',\n",
       " 'Copyright',\n",
       " '©',\n",
       " '1985,',\n",
       " '1988,',\n",
       " '1991,',\n",
       " '1993,',\n",
       " '1996,',\n",
       " '1998,',\n",
       " '2000,',\n",
       " '2002',\n",
       " 'by',\n",
       " 'F.A.',\n",
       " 'Davis',\n",
       " 'Company.',\n",
       " 'All',\n",
       " 'rights',\n",
       " 'reserved.',\n",
       " 'This',\n",
       " 'book',\n",
       " 'is',\n",
       " 'protected',\n",
       " 'by',\n",
       " 'copyright.',\n",
       " 'No',\n",
       " 'part',\n",
       " 'of',\n",
       " 'it',\n",
       " 'may',\n",
       " 'be',\n",
       " 'reproduced,',\n",
       " 'stored',\n",
       " 'in',\n",
       " 'a',\n",
       " 'retrieval',\n",
       " 'system,',\n",
       " 'or',\n",
       " 'trans-',\n",
       " 'mitted',\n",
       " 'in',\n",
       " 'any',\n",
       " 'form',\n",
       " 'or',\n",
       " 'by',\n",
       " 'any',\n",
       " 'means,',\n",
       " 'electronic,',\n",
       " 'mechanical,',\n",
       " 'photo-',\n",
       " 'copying,',\n",
       " 'recording,',\n",
       " 'or',\n",
       " 'otherwise,',\n",
       " 'without',\n",
       " 'written',\n",
       " 'permission',\n",
       " 'from',\n",
       " 'the',\n",
       " 'publisher.',\n",
       " 'Last',\n",
       " 'digit',\n",
       " 'indicates',\n",
       " 'print',\n",
       " 'number:',\n",
       " '10',\n",
       " '9',\n",
       " '8',\n",
       " '7',\n",
       " '6',\n",
       " '5',\n",
       " '4',\n",
       " '3',\n",
       " '2',\n",
       " '1',\n",
       " 'As',\n",
       " 'new',\n",
       " 'scientific',\n",
       " 'information',\n",
       " 'becomes',\n",
       " 'available',\n",
       " 'through',\n",
       " 'basic',\n",
       " 'and',\n",
       " 'clin-',\n",
       " 'ical',\n",
       " 'research,',\n",
       " 'recommended',\n",
       " 'treatments',\n",
       " 'and',\n",
       " 'drug',\n",
       " 'therapies',\n",
       " 'undergo',\n",
       " 'changes.',\n",
       " 'The',\n",
       " 'author(s)',\n",
       " 'and',\n",
       " 'publisher',\n",
       " 'have',\n",
       " 'done',\n",
       " 'everything',\n",
       " 'possible',\n",
       " 'to',\n",
       " 'make',\n",
       " 'this',\n",
       " 'book',\n",
       " 'accurate,',\n",
       " 'up',\n",
       " 'to',\n",
       " 'date,',\n",
       " 'and',\n",
       " 'in',\n",
       " 'accord',\n",
       " 'with',\n",
       " 'accepted',\n",
       " 'stan-',\n",
       " 'dards',\n",
       " 'at',\n",
       " 'the',\n",
       " 'time',\n",
       " 'of',\n",
       " 'publication.',\n",
       " 'The',\n",
       " 'authors,',\n",
       " 'editors,',\n",
       " 'and',\n",
       " 'publisher',\n",
       " 'are',\n",
       " 'not',\n",
       " 'responsible',\n",
       " 'for',\n",
       " 'errors',\n",
       " 'or',\n",
       " 'omissions',\n",
       " 'or',\n",
       " 'for',\n",
       " 'consequences',\n",
       " 'from',\n",
       " 'appli-',\n",
       " 'cation',\n",
       " 'of',\n",
       " 'the',\n",
       " 'book,',\n",
       " 'and',\n",
       " 'make',\n",
       " 'no',\n",
       " 'warranty,',\n",
       " 'expressed',\n",
       " 'or',\n",
       " 'implied,',\n",
       " 'in',\n",
       " 'regard',\n",
       " 'to',\n",
       " 'the',\n",
       " 'contents',\n",
       " 'of',\n",
       " 'the',\n",
       " 'book.',\n",
       " 'Any',\n",
       " 'practice',\n",
       " 'described',\n",
       " 'in',\n",
       " 'this',\n",
       " 'book',\n",
       " 'should',\n",
       " 'be',\n",
       " 'applied',\n",
       " 'by',\n",
       " 'the',\n",
       " 'reader',\n",
       " 'in',\n",
       " 'accordance',\n",
       " 'with',\n",
       " 'professional',\n",
       " 'stan-',\n",
       " 'dards',\n",
       " 'of',\n",
       " 'care',\n",
       " 'used',\n",
       " 'in',\n",
       " 'regard',\n",
       " 'to',\n",
       " 'the',\n",
       " 'unique',\n",
       " 'circumstances',\n",
       " 'that',\n",
       " 'may',\n",
       " 'apply',\n",
       " 'in',\n",
       " 'each',\n",
       " 'situation.',\n",
       " 'The',\n",
       " 'reader',\n",
       " 'is',\n",
       " 'advised',\n",
       " 'always',\n",
       " 'to',\n",
       " 'check',\n",
       " 'product',\n",
       " 'infor-',\n",
       " 'mation',\n",
       " '(package',\n",
       " 'inserts)',\n",
       " 'for',\n",
       " 'changes',\n",
       " 'and',\n",
       " 'new',\n",
       " 'information',\n",
       " 'regarding',\n",
       " 'dose',\n",
       " 'and',\n",
       " 'contraindications',\n",
       " 'before',\n",
       " 'administering',\n",
       " 'any',\n",
       " 'drug.',\n",
       " 'Caution',\n",
       " 'is',\n",
       " 'especially',\n",
       " 'urged',\n",
       " 'when',\n",
       " 'using',\n",
       " 'new',\n",
       " 'or',\n",
       " 'infrequently',\n",
       " 'ordered',\n",
       " 'drugs.',\n",
       " 'Authorization',\n",
       " 'to',\n",
       " 'photocopy',\n",
       " 'items',\n",
       " 'for',\n",
       " 'internal',\n",
       " 'or',\n",
       " 'personal',\n",
       " 'use,',\n",
       " 'or',\n",
       " 'the',\n",
       " 'internal',\n",
       " 'or',\n",
       " 'personal',\n",
       " 'use',\n",
       " 'of',\n",
       " 'specific',\n",
       " 'clients,',\n",
       " 'is',\n",
       " 'granted',\n",
       " 'by',\n",
       " 'F.A.',\n",
       " 'Davis',\n",
       " 'Company',\n",
       " 'for',\n",
       " 'users',\n",
       " 'registered',\n",
       " 'with',\n",
       " 'the',\n",
       " 'Copyright',\n",
       " 'Clearance',\n",
       " 'Center',\n",
       " '(CCC)',\n",
       " 'Transactional',\n",
       " 'Reporting',\n",
       " 'Service,',\n",
       " 'provided',\n",
       " 'that',\n",
       " 'the',\n",
       " 'fee',\n",
       " 'of',\n",
       " ...]"
      ]
     },
     "execution_count": 99,
     "metadata": {},
     "output_type": "execute_result"
    }
   ],
   "source": [
    "word_list"
   ]
  },
  {
   "cell_type": "code",
   "execution_count": 100,
   "id": "01fbb47c",
   "metadata": {},
   "outputs": [
    {
     "name": "stdout",
     "output_type": "stream",
     "text": [
      "[(('risk', 'for'), 69), (('of', 'the'), 42), (('readiness', 'for'), 28), (('for', 'enhanced'), 28), (('of', 'care'), 26), (('I', 'N'), 25), (('N', 'U'), 23), (('U', 'R'), 23), (('R', 'S'), 23), (('O', 'C'), 23), (('S', 'E'), 21), (('E', 'T'), 21), (('the', 'nurse'), 20), (('T', 'I'), 20), (('to', 'the'), 19), (('in', 'the'), 19), (('T', 'H'), 18), (('H', 'E'), 18), (('E', '’'), 18), (('’', 'S'), 18), (('S', 'P'), 18), (('P', 'O'), 18), (('C', 'K'), 18), (('K', 'E'), 18), (('T', 'G'), 18), (('G', 'U'), 18), (('U', 'I'), 18), (('I', 'D'), 18), (('D', 'E'), 18), (('with', 'the'), 17), (('the', 'client'), 15), (('N', 'G'), 15), (('P', 'R'), 15), (('C', 'E'), 15), (('the', 'nursing'), 14), (('plan', 'of'), 14), (('I', 'C'), 14), (('of', 'nursing'), 13), (('T', 'O'), 13), (('by', 'the'), 11), (('nursing', 'diagnoses'), 10), (('can', 'be'), 10), (('nursing', 'diagnosis'), 10), (('the', 'client’s'), 10), (('P', 'U'), 10), (('U', 'T'), 10), (('T', 'T'), 10), (('G', 'T'), 10), (('E', 'O'), 10), (('O', 'R'), 10), (('R', 'Y'), 10), (('Y', 'I'), 10), (('N', 'T'), 10), (('O', 'P'), 10), (('R', 'A'), 10), (('A', 'C'), 10), (('C', 'T'), 10), (('have', 'been'), 9), (('for', 'the'), 9), (('E', 'N'), 9), (('has', 'been'), 8), (('as', 'the'), 8), (('and', 'the'), 8), (('to', 'be'), 8), (('need', 'to'), 8), (('more', 'than'), 7), (('to', 'provide'), 7), (('is', 'the'), 7), (('included', 'in'), 7), (('nursing', 'process'), 7), (('the', 'plan'), 7), (('than', 'body'), 6), (('part', 'of'), 6), (('use', 'of'), 6), (('and', 'to'), 6), (('designed', 'to'), 6), (('nurse', 'to'), 6), (('as', 'well'), 6), (('well', 'as'), 6), (('Urinary', 'Incontinence,'), 6), (('Therapeutic', 'regimen:'), 5), (('F.A.', 'Davis'), 5), (('may', 'be'), 5), (('in', 'a'), 5), (('in', 'any'), 5), (('at', 'the'), 5), (('in', 'this'), 5), (('each', 'nursing'), 5), (('is', 'a'), 5), (('of', 'this'), 5), (('plans', 'of'), 5), (('nurse', 'is'), 5), (('within', 'the'), 5), (('according', 'to'), 5), (('Fluid', 'Volume,'), 5), (('the', 'authors'), 5), (('the', 'current'), 5), (('based', 'on'), 5), (('as', 'to'), 5), (('S', 'I'), 5), (('G', 'P'), 5), (('R', 'O'), 5), (('E', 'S'), 5), (('S', 'S'), 5), (('*New', 'to'), 5), (('the', '2nd'), 5), (('2nd', 'NANDA/NIC/NOC'), 5), (('NANDA/NIC/NOC', '(NNN)'), 5), (('(NNN)', 'Conference.'), 5), (('Regimen', 'Management:'), 5), (('History', 'of'), 5), (('for', 'imbalanced'), 4), (('deficient', 'Fluid'), 4), (('for', 'impaired'), 4), (('Urinary', 'incontinence,'), 4), (('this', 'book'), 4), (('that', 'the'), 4), (('nursing', 'care'), 4), (('Assessment', 'Tool'), 4), (('to', 'a'), 4), (('the', 'following'), 4), (('the', 'use'), 4), (('client', 'care'), 4), (('continuity', 'of'), 4), (('care', 'for'), 4), (('North', 'American'), 4), (('American', 'Nursing'), 4), (('the', 'individual'), 4), (('individual', 'client'), 4), (('the', 'diagnoses'), 4), (('the', 'NANDA'), 4), (('diagnosis', 'is'), 4), (('and', 'are'), 4), (('It', 'is'), 4), (('and', 'is'), 4), (('the', 'diagnostic'), 4), (('such', 'as'), 4), (('assessment', 'tool'), 4), (('Infant', 'Behavior,'), 4), (('of', 'a'), 4), (('nurs-', 'ing'), 4), (('it', 'is'), 4), (('the', 'most'), 4), (('Use', 'of'), 4), (('they', 'are'), 4), (('The', 'client'), 4), (('client', 'is'), 4), (('must', 'be'), 4), (('the', 'care'), 4), (('desired', 'outcomes'), 4), (('Conference.', 'Information'), 4), (('Information', 'that'), 4), (('that', 'appears'), 4), (('appears', 'in'), 4), (('in', 'brackets'), 4), (('brackets', 'has'), 4), (('been', 'added'), 4), (('added', 'by'), 4), (('A', 'P'), 4), (('P', 'P'), 4), (('P', 'L'), 4), (('L', 'I'), 4), (('C', 'AT'), 4), (('AT', 'I'), 4), (('I', 'O'), 4), (('O', 'N'), 4), (('N', 'O'), 4), (('O', 'F'), 4), (('F', 'T'), 4), (('Syndrome,', 'risk'), 4), (('Self-Care', 'Deficit:'), 4), (('Therapeutic', 'Regimen'), 4), (('needs', 'to'), 4), (('ineffective', 'management'), 3), (('body', 'requirements,'), 3), (('Fluid', 'volume,'), 3), (('Infant', 'behavior,'), 3), (('mobility,', 'impaired'), 3), (('syndrome,', 'risk'), 3), (('reaction', '413'), 3), (('from', 'the'), 3), (('quality', 'nursing'), 3), (('care,', 'and'), 3), (('to', 'nursing'), 3), (('nursing', 'with'), 3), (('Nursing', 'Diagnoses'), 3), (('Plan', 'of'), 3), (('Excerpt', 'from'), 3), (('to', 'define'), 3), (('human', 'responses'), 3), (('responses', 'to'), 3), (('to', 'actual'), 3), (('actual', 'and'), 3), (('support', 'for'), 3), (('for', 'a'), 3), (('to', 'ensure'), 3), (('documentation', 'of'), 3), (('is', 'designed'), 3), (('specific', 'nursing'), 3), (('(formerly', 'the'), 3), (('the', 'North'), 3), (('Nursing', 'Diagnosis'), 3), (('are', 'the'), 3), (('and', 'document'), 3), (('care', 'provided'), 3), (('client', 'and'), 3), (('nursing', 'process,'), 3), (('Guidelines', 'for'), 3), (('for', 'Planning'), 3), (('Planning', 'and'), 3), (('and', 'Documenting'), 3), (('Care,', 'ed.'), 3), (('diagnoses', 'are'), 3), (('are', 'listed'), 3), (('a', 'particular'), 3), (('choosing', 'appropriate'), 3), (('authors', 'have'), 3), (('added', 'to'), 3), (('the', 'development'), 3), (('the', 'desired'), 3), (('axis', 'may'), 3), (('which', 'the'), 3), (('not', 'be'), 3), (('For', 'example,'), 3), (('under', 'each'), 3), (('is', 'included'), 3), (('H', 'O'), 3), (('O', 'W'), 3), (('W', 'T'), 3), (('O', 'U'), 3), (('U', 'S'), 3), (('list', 'of'), 3), (('the', 'framework'), 3), (('an', 'assessment'), 3), (('to', 'assist'), 3), (('assist', 'the'), 3), (('the', 'assessment'), 3), (('client', 'outcomes'), 3), (('that', 'are'), 3), (('steps', 'of'), 3), (('nursing', 'process.'), 3), (('interventions', 'and'), 3), (('client', 'diagnostic'), 3), (('and', 'researchers'), 3), (('is', 'important'), 3), (('the', 'basis'), 3), (('of', 'all'), 3), (('process', 'is'), 3), (('choice', 'of'), 3), (('process,', 'the'), 3), (('if', 'the'), 3), (('and', 'a'), 3), (('NANDA', 'International'), 3), (('International', '(formerly'), 3), (('specific', 'client'), 3), (('for', 'nursing'), 3), (('client', 'care.'), 3), (('and', 'other'), 3), (('a', 'plan'), 3), (('on', 'the'), 3), (('data', 'are'), 3), (('the', 'client,'), 3), (('diagnostic', 'statement'), 3), (('[specify', 'level]'), 3), (('Pattern,', 'ineffective'), 3), (('Coping,', 'family:'), 3), (('authors', 'A'), 3), (('Mobility,', 'impaired'), 3), (('Nutrition:', 'imbalanced,'), 3), (('body', 'requirements'), 3), (('the', 'nurse’s'), 3), (('a', 'nursing'), 3), (('outcomes', 'are'), 3), (('serve', 'as'), 3), (('the', 'planning'), 3), (('appropriate', 'interventions'), 3), (('of', 'what'), 3), (('care', 'and'), 3), (('Feelings', 'of:'), 3), (('Type', 'of'), 3), (('ineffective', '275–278'), 2), (('517–519', 'Therapeutic'), 2), (('family,', 'ineffective'), 2), (('520–522', 'Therapeutic'), 2), (('community,', 'ineffective'), 2), (('(specify)', '278–281'), 2), (('Falls,', 'risk'), 2), (('Infection,', 'risk'), 2), (('Protection,', 'ineffective'), 2), (('ineffective', '411–412'), 2), (('Poisoning,', 'risk'), 2), (('for', '393–396'), 2), (('Suffocation,', 'risk'), 2), (('for', '500–503'), 2), (('Nutrition:', 'more'), 2), (('requirements,', 'imbalanced'), 2), (('352–355', 'Nutrition:'), 2), (('less', 'than'), 2), (('Breastfeeding,', 'ineffective'), 2), (('ineffective', 'Breastfeeding,'), 2), (('Breastfeeding,', 'effective'), 2), (('effective', '108–110'), 2), (('108–110', 'Breastfeeding,'), 2), (('Breastfeeding,', 'interrupted'), 2), (('interrupted', '115–117'), 2), (('pattern,', 'ineffective'), 2), (('Aspiration,', 'risk'), 2), (('for', '86–89'), 2), (('Swallowing,', 'impaired'), 2), (('impaired', '510–515'), 2), (('Dentition,', 'impaired'), 2), (('impaired', '191–194'), 2), (('enhanced', '239–242'), 2), (('for', 'deficient'), 2), (('excess', '249–252'), 2), (('Skin', 'integrity,'), 2), (('impaired', '461–465'), 2), (('461–465', 'Skin'), 2), (('impaired', '465–468'), 2), (('impaired', '533–537'), 2), (('imbalanced', '102–104'), 2), (('Latex', 'allergy'), 2), (('Failure', 'to'), 2), (('adult', '214–217'), 2), (('Constipation', '153–157'), 2), (('153–157', 'Constipation,'), 2), (('Constipation,', 'risk'), 2), (('Constipation,', 'perceived'), 2), (('perceived', '157–159'), 2), (('Diarrhea', '197–200'), 2), (('Urinary', 'elimination,'), 2), (('impaired', '554–558'), 2), (('of', 'Nursing'), 2), (('enhanced', '558–561'), 2), (('558–561', 'Urinary'), 2), (('functional', 'Urinary'), 2), (('reflex', '564–566'), 2), (('564–566', 'Urinary'), 2), (('stress', '567–569'), 2), (('567–569', 'Urinary'), 2), (('urge', '572–575'), 2), (('572–575', 'Urinary'), 2), (('Incontinence,', 'total'), 2), (('disorganized', '295–301'), 2), (('295–301', 'Infant'), 2), (('for', 'disorganized'), 2), (('disorganized', '303–304'), 2), (('303–304', 'Infant'), 2), (('enhanced', 'organized'), 2), (('organized', '301–303'), 2), (('Development,', 'risk'), 2), (('for', 'delayed'), 2), (('delayed', '194–197'), 2), (('92–95', 'Autonomic'), 2), (('for', '95–97'), 2), (('for', '200–205'), 2), (('deficient', '205–208'), 2), (('impaired', '281–283'), 2), (('Ventilation,', 'impaired'), 2), (('impaired', 'spontaneous'), 2), (('ineffective', '117–121'), 2), (('impaired', '256–260'), 2), (('decreased', '121–126'), 2), (('for', '387–390'), 2), (('delayed', '507–510'), 2), (('Growth', 'and'), 2), (('delayed', '266–271'), 2), (('266–271', 'Growth,'), 2), (('Growth,', 'risk'), 2), (('for', 'disproportionate'), 2), (('disproportionate', '271–275'), 2), (('disturbed', '472–477'), 2), (('enhanced', '477–480'), 2), (('enhanced', '323–325'), 2), (('323–325', 'Memory,'), 2), (('Memory,', 'impaired'), 2), (('impaired', '328–331'), 2), (('Anxiety,', 'death'), 2), (('death', '83–86'), 2), (('Powerlessness,', 'risk'), 2), (('enhanced', '430–433'), 2), (('low', 'self-esteem'), 2), (('Situational', 'low'), 2), (('disturbed', '98–102'), 2), (('disturbed', '390–393'), 2), (('for', 'self-directed'), 2), (('self-directed', '591–596'), 2), (('ineffective', '422–425'), 2), (('Relocation', 'stress'), 2), (('417–420', 'Relocation'), 2), (('Family', 'processes,'), 2), (('interrupted', '225–228'), 2), (('enhanced', '228–232'), 2), (('alcoholism', '221–225'), 2), (('enhanced', '381–385'), 2), (('Caregiver', 'role'), 2), (('126–132', 'Caregiver'), 2), (('for', '132–135'), 2), (('enhanced', '139–143'), 2), (('Risk', 'for'), 2), (('Rape-trauma', 'syndrome:'), 2), (('silent', 'reaction'), 2), (('enhanced', '182–185'), 2), (('Community', 'coping,'), 2), (('enhanced', '164–166'), 2), (('for', '402–404'), 2), (('enhanced', '175–177'), 2), (('Ineffective', 'family'), 2), (('family', 'coping:'), 2), (('compromised', '169–172'), 2), (('Adjunct', 'Faculty'), 2), (('Nursing', 'and'), 2), (('Colorado', 'Springs,'), 2), (('Springs,', 'Colorado'), 2), (('Davis', 'Company'), 2), (('Philadelphia,', 'PA'), 2), (('by', 'F.A.'), 2), (('This', 'book'), 2), (('book', 'is'), 2), (('As', 'new'), 2), (('and', 'publisher'), 2), (('to', 'make'), 2), (('and', 'in'), 2), (('stan-', 'dards'), 2), (('the', 'time'), 2), (('are', 'not'), 2), (('responsible', 'for'), 2), (('in', 'regard'), 2), (('regard', 'to'), 2), (('be', 'applied'), 2), (('used', 'in'), 2), (('in', 'each'), 2), (('situation.', 'The'), 2), (('The', 'reader'), 2), (('reader', 'is'), 2), (('and', 'new'), 2), (('internal', 'or'), 2), (('or', 'personal'), 2), (('or', 'the'), 2), (('of', 'specific'), 2), (('for', 'users'), 2), (('Transactional', 'Reporting'), 2), (('that', 'have'), 2), (('users', 'of'), 2), (('us', 'to'), 2), (('and', 'who'), 2), (('us', 'with'), 2), (('thought', 'and'), 2), (('through', 'the'), 2), (('help', 'to'), 2), (('care', 'in'), 2), (('continues', 'to'), 2), (('about', 'the'), 2), (('the', 'importance'), 2), (('of', 'quality'), 2), (('nursing', 'care,'), 2), (('nursing', 'diagnosis.'), 2), (('continue', 'to'), 2), (('and', 'refine'), 2), (('to', 'enhance'), 2), (('promote', 'the'), 2), (('the', 'profession.'), 2), (('Putting', 'Theory'), 2), (('Theory', 'into'), 2), (('into', 'Practice:'), 2), (('Practice:', 'Sample'), 2), (('Sample', 'Assessment'), 2), (('Assessment', 'Tools,'), 2), (('Tools,', 'Plan'), 2), (('of', 'Care,'), 2), (('Care,', 'and'), 2), (('and', 'Documentation'), 2), (('Tool', 'Excerpt'), 2), (('Divisions:', 'Nursing'), 2), (('Diagnoses', 'Organized'), 2), (('Organized', 'According'), 2), (('According', 'to'), 2), (('a', 'Nursing'), 2), (('nursing', 'diagnosis,'), 2), (('diagnosis,', 'the'), 2), (('Desired', 'Outcomes/Evaluation'), 2), (('Outcomes/Evaluation', 'Criteria'), 2), (('Documentation', 'Focus'), 2), (('Sample', 'Nursing'), 2), (('The', 'American'), 2), (('American', 'Nurses'), 2), (('Nurses', 'Association'), 2), (('Association', '(ANA)'), 2), (('(ANA)', 'Social'), 2), (('Social', 'Policy'), 2), (('define', 'nursing'), 2), (('diagno-', 'sis'), 2), (('sis', 'and'), 2), (('of', 'human'), 2), (('and', 'potential'), 2), (('potential', 'health'), 2), (('combined', 'with'), 2), (('the', 'ANA'), 2), (('ANA', 'Standards'), 2), (('Standards', 'of'), 2), (('provided', 'impetus'), 2), (('impetus', 'and'), 2), (('and', 'support'), 2), (('and', 'its'), 2), (('care', 'is'), 2), (('in', 'healthcare'), 2), (('healthcare', 'delivery'), 2), (('the', 'need'), 2), (('need', 'for'), 2), (('a', 'common'), 2), (('framework', 'of'), 2), (('tion', 'to'), 2), (('ensure', 'continuity'), 2), (('healthcare', 'settings'), 2), (('Evaluation', 'and'), 2), (('care', 'are'), 2), (('are', 'important'), 2), (('the', 'practitioner'), 2), (('nurse', 'in'), 2), (('with', 'specific'), 2), (('diagnoses', 'as'), 2), (('by', 'NANDA'), 2), (('Inter-', 'national'), 2), (('interventions', 'are'), 2), (('be', 'used'), 2), (('data', 'collection,'), 2), (('the', 'Diagnostic'), 2), (('Diagnostic', 'Divisions,'), 2), (('a', 'sample'), 2), (('sample', 'plan'), 2), (('of', 'care,'), 2), (('related', 'to'), 2), (('to', 'specific'), 2), (('is', 'referred'), 2), (('referred', 'to'), 2), (('Care', 'Plans:'), 2), (('Plans:', 'Guidelines'), 2), (('(Doenges,', 'Moorhouse,'), 2), (('Documenting', 'Client'), 2), (('Client', 'Care,'), 2), (('ed.', '3'), 2), (('3', '(Doenges,'), 2), (('Plans', 'of'), 2), (('Nursing', 'diagnoses'), 2), (('for', 'ease'), 2), (('ease', 'of'), 2), (('and', 'include'), 2), (('include', 'the'), 2), (('and', 'information'), 2), (('that', 'can'), 2), (('particular', 'client.'), 2), (('and', 'symptoms'), 2), (('are', 'used'), 2), (('used', 'to'), 2), (('in', 'formulating'), 2), (('interventions.', 'The'), 2), (('The', 'authors'), 2), (('or', 'altered'), 2), (('Taxonomy', 'II'), 2), (('following', 'the'), 2), (('use', 'the'), 2), (('help', 'the'), 2), (('as', 'a'), 2), (('Sometimes', 'an'), 2), (('an', 'axis'), 2), (('be', 'included'), 2), (('in', 'which'), 2), (('the', 'unit'), 2), (('unit', 'of'), 2), (('of', 'care.'), 2), (('may', 'not'), 2), (('pertinent', 'to'), 2), (('a', 'part'), 2), (('example,', 'the'), 2), (('to', 'each'), 2), (('diagnosis', 'heading.'), 2), (('lack', 'of'), 2), (('of', 'documentation'), 2), (('NANDA', 'list'), 2), (('ing', 'nursing'), 2), (('for', 'clinical'), 2), (('framework', 'for'), 2), (('data', 'collected'), 2), (('process.', 'The'), 2), (('label', 'is'), 2), (('are', 'identified'), 2), (('identified', 'to'), 2), (('outcomes', 'and'), 2), (('support', 'the'), 2), (('directed', 'to'), 2), (('the', 'appropriate'), 2), (('defining', 'characteristics'), 2), (('interven-', 'tions'), 2), (('the', 'scope'), 2), (('scope', 'of'), 2), (('Attachment,', 'risk'), 2), (('is', 'not'), 2), (('the', 'steps'), 2), (('Nursing', 'Interventions'), 2), (('nursing', 'interventions'), 2), (('the', 'needs'), 2), (('needs', 'of'), 2), (('and', 'reimbursement'), 2), (('to', 'this'), 2), (('the', 'various'), 2), (('for', 'more'), 2), (('that', 'include'), 2), (('assessment', 'and'), 2), (('identifica-', 'tion'), 2), (('we', 'have'), 2), (('nurses', 'and'), 2), (('important', 'that'), 2), (('the', 'data'), 2), (('clinicians,', 'educators,'), 2), (('educators,', 'and'), 2), (('encouraged', 'to'), 2), (('nursing', 'profession'), 2), (('identified', 'a'), 2), (('elements', 'of'), 2), (('using', 'the'), 2), (('basis', 'for'), 2), (('providing', 'effective'), 2), (('nursing', 'care.'), 2), (('nursing', 'actions'), 2), (('decision', 'making'), 2), (('collection', 'of'), 2), (('of', 'data'), 2), (('the', 'effectiveness'), 2), (('effectiveness', 'of'), 2), (('plan', 'and'), 2), (('plan', 'as'), 2), (('skills', 'are'), 2), (('are', 'presented'), 2), (('are', 'interrelated'), 2), (('interrelated', 'and'), 2), (('this', 'process,'), 2), (('In', 'addition,'), 2), (('•', 'The'), 2), (('and', 'if'), 2), (('responsibility', 'for'), 2), (('has', 'a'), 2), (('prevention', 'of'), 2), (('the', 'parameters'), 2), (('parameters', 'of'), 2), (('both', 'the'), 2), (('to', 'identify'), 2), (('Changes', 'in'), 2), (('of', 'health'), 2), (('and', 'alternative'), 2), (('are', 'an'), 2), (('the', 'choice'), 2), (('communication', 'among'), 2), (('provides', 'a'), 2), (('base', 'for'), 2), (('diagnosis', 'in'), 2), (('Diagnosis', 'Association)'), 2), (('provide', 'the'), 2), (('interventions', 'to'), 2), (('to', 'achieve'), 2), (('current', 'NANDA'), 2), (('to', 'become'), 2), (('familiar', 'with'), 2), (('NDs', 'can'), 2), (('because', 'they'), 2), (('are', 'a'), 2), (('signs', 'and'), 2), (('medical', 'diagnoses,'), 2), (('diagnoses,', 'NDs'), 2), (('a', 'client'), 2), (('and', 'have'), 2), (('includes', 'the'), 2), (('development', 'of'), 2), (('include', 'all'), 2), (('the', 'individual/family.'), 2), (('the', 'medical'), 2), (('phenomena', 'of'), 2), (('patterns', 'of'), 2), (('nursing', 'activities'), 2), (('written', 'plan'), 2), (('contains', 'a'), 2), (('The', 'nurse'), 2), (('an', 'integral'), 2), (('Because', 'the'), 2), (('process', 'to'), 2), (('related/risk', 'factors'), 2), (('and', 'defining'), 2), (('care', 'must'), 2), (('care', 'by'), 2), (('care', 'provided.'), 2), (('are', 'based'), 2), (('diagnoses', '(NDs)'), 2), (('are', 'those'), 2), (('those', 'that'), 2), (('the', 'individual’s'), 2), (('he', 'or'), 2), (('or', 'she'), 2), (('because', 'the'), 2), (('problems', 'or'), 2), (('areas', 'of'), 2), (('management.', 'The'), 2), (('focuses', 'attention'), 2), (('attention', 'on'), 2), (('or', 'a'), 2), (('at', 'risk'), 2), (('the', 'ND'), 2), (('ND', 'label'), 2), (('Allergy', 'Response,'), 2), (('Caregiver', 'Role'), 2), (('Coping,', 'community:'), 2), (('Family', 'Processes,'), 2), (('Volume,', 'deficient'), 2), (('Volume,', 'risk'), 2), (('Injury,', 'risk'), 2), (('Relocation', 'Stress'), 2), (('situational', 'low'), 2), (('Skin', 'Integrity,'), 2), (('Integrity,', 'impaired'), 2), (('Violence,', '[actual/]'), 2), (('[actual/]', 'risk'), 2), (('expectations', 'of'), 2), (('toward', 'the'), 2), (('the', 'client.'), 2), (('and', 'an'), 2), (('resolution', 'of'), 2), (('These', 'outcomes'), 2), (('progress', 'toward'), 2), (('stated', 'in'), 2), (('to', 'individualize'), 2), (('Interventions', 'are'), 2), (('the', 'action'), 2), (('care.', 'The'), 2), (('To', 'facilitate'), 2), (('facilitate', 'the'), 2), (('of', 'individual'), 2), (('The', 'plan'), 2), (('nurse', 'needs'), 2), (('have', 'a'), 2), (('goals,', 'and'), 2), (('process', 'and'), 2), (('of', 'assessment'), 2), (('Diagnostic', 'Divisions'), 2), (('recorded', 'in'), 2), (('client’s', 'situation.'), 2), (('situation.', 'For'), 2), (('failure', 'to'), 2), (('client', 'in'), 2), (('length', 'of'), 2), (('are', 'included'), 2), (('of', 'interventions'), 2), (('the', 'treatment'), 2), (('a', 'clear'), 2), (('picture', 'of'), 2), (('response', 'to'), 2), (('outcomes', 'or'), 2), (('implementation', 'of'), 2), (('to', 'meet'), 2), (('Mental', 'status'), 2), (('of', 'handling'), 2), (('handling', 'stress:'), 2), (('stress:', 'Financial'), 2), (('Financial', 'concerns:'), 2), (('concerns:', 'Relationship'), 2), (('Relationship', 'status:'), 2), (('Religion:', 'Lifestyle:'), 2), (('of:', 'Helplessness:'), 2), (('of', 'accidental'), 2), (('accidental', 'injuries:'), 2), (('Practices', 'breast'), 2), (('date', 'of'), 2), (('Ability', 'to'), 2), (('of', 'previous'), 2), (('previous', 'delivery:'), 2), (('delivery:', 'Health'), 2), (('Health', 'status'), 2), (('status', 'of'), 2), (('of', 'living'), 2), (('living', 'children:'), 2), (('of', 'delivery:'), 2), (('Length', 'of'), 2), (('HEALTH', 'PERCEPTION-HEALTH'), 1), (('PERCEPTION-HEALTH', 'MANAGEMENT'), 1), (('MANAGEMENT', 'PATTERN'), 1), (('PATTERN', 'Health'), 1), (('Health', 'maintenance,'), 1), (('maintenance,', 'ineffective'), 1), (('275–278', 'Therapeutic'), 1), (('regimen:', 'effective'), 1), (('effective', 'management'), 1), (('management', '517–519'), 1), (('regimen:', 'ineffective'), 1), (('management', 'Therapeutic'), 1), (('regimen:', 'readiness'), 1), (('enhanced', 'management'), 1), (('management', '525–527'), 1), (('525–527', 'Therapeutic'), 1), (('regimen:', 'family,'), 1), (('management', '520–522'), 1), (('regimen:', 'community,'), 1), (('management', 'Noncompliance'), 1), (('Noncompliance', '(specify)'), 1), (('(specify)', '343–347'), 1), (('343–347', 'Health-seeking'), 1), (('Health-seeking', 'behaviors'), 1), (('behaviors', '(specify)'), 1), (('278–281', 'Energy'), 1), (('Energy', 'field,'), 1), (('field,', 'disturbed'), 1), (('disturbed', '208–211'), 1), (('208–211', 'Falls,'), 1), (('for', 'Infection,'), 1), (('for', 'Injury'), 1), (('Injury', '(trauma),'), 1), (('(trauma),', 'risk'), 1), (('for', '310–313'), 1), (('310–313', 'Protection,'), 1), (('411–412', 'Poisoning,'), 1), (('393–396', 'Suffocation,'), 1), (('500–503', 'Perioperative'), 1), (('Perioperative', 'positioning'), 1), (('positioning', 'injury,'), 1), (('injury,', 'risk'), 1), (('for', '313–316'), 1), (('313–316', 'Sudden'), 1), (('Sudden', 'infant'), 1), (('infant', 'death'), 1), (('death', 'syndrome'), 1), (('syndrome', '185–189'), 1), (('185–189', 'NUTRITIONAL-METABOLIC'), 1), (('NUTRITIONAL-METABOLIC', 'PATTERN'), 1), (('PATTERN', 'Nutrition:'), 1), (('imbalanced', '352–355'), 1), (('requirements,', 'risk'), 1), (('imbalanced', '356–358'), 1), (('356–358', 'Nutrition:'), 1), (('Nutrition:', 'less'), 1), (('imbalanced', '347–352'), 1), (('347–352', 'Nutrition,'), 1), (('Nutrition,', 'readiness'), 1), (('enhanced', '359–362'), 1), (('359–362', 'Breastfeeding,'), 1), (('115–117', 'Infant'), 1), (('Infant', 'feeding'), 1), (('feeding', 'pattern,'), 1), (('ineffective', 'Aspiration,'), 1), (('86–89', 'Swallowing,'), 1), (('510–515', 'Nausea'), 1), (('Nausea', 'Oral'), 1), (('Oral', 'mucous'), 1), (('mucous', 'membrane,'), 1), (('membrane,', 'impaired'), 1), (('impaired', '362–365'), 1), (('362–365', 'Dentition,'), 1), (('191–194', 'Fluid'), 1), (('Fluid', 'balance,'), 1), (('balance,', 'readiness'), 1), (('239–242', 'Fluid'), 1), (('Fluid', 'volume'), 1), (('volume', 'imbalance,'), 1), (('imbalance,', 'risk'), 1), (('for', '254–256'), 1), (('254–256', 'Fluid'), 1), (('volume,', 'risk'), 1), (('volume,', 'deficient'), 1), (('volume,', 'excess'), 1), (('249–252', 'Skin'), 1), (('integrity,', 'impaired'), 1), (('integrity,', 'risk'), 1), (('465–468', 'Tissue'), 1), (('Tissue', 'integrity'), 1), (('integrity', '(specify'), 1), (('(specify', 'type),'), 1), (('type),', 'impaired'), 1), (('533–537', 'Body'), 1), (('Body', 'temperature,'), 1), (('temperature,', 'risk'), 1), (('102–104', 'Latex'), 1), (('allergy', 'response'), 1), (('response', '73–75'), 1), (('73–75', 'Latex'), 1), (('allergy', 'response,'), 1), (('response,', 'risk'), 1), (('for', 'Thermoregulation,'), 1), (('Thermoregulation,', 'ineffective'), 1), (('ineffective', 'Hyperthermia'), 1), (('Hyperthermia', 'Hypothermia'), 1), (('Hypothermia', '291–295'), 1), (('291–295', 'Failure'), 1), (('to', 'thrive,'), 1), (('thrive,', 'adult'), 1), (('214–217', 'ELIMINATION'), 1), (('ELIMINATION', 'PATTERN'), 1), (('PATTERN', 'Constipation'), 1), (('for', 'Constipation,'), 1), (('157–159', 'Diarrhea'), 1), (('197–200', 'Bowel'), 1), (('Bowel', 'incontinence'), 1), (('incontinence', 'Urinary'), 1), (('elimination,', 'impaired'), 1), (('554–558', '*Reprinted'), 1), (('*Reprinted', 'from'), 1), (('from', 'Manual'), 1), (('Manual', 'of'), 1), (('Nursing', 'Diagnosis,'), 1), (('Diagnosis,', '10th'), 1), (('10th', 'ed.,'), 1), (('ed.,', 'M.'), 1), (('M.', 'Gordon,'), 1), (('Gordon,', 'Copyright'), 1), (('Copyright', '2002,'), 1), (('2002,', 'with'), 1), (('with', 'Urinary'), 1), (('elimination,', 'readiness'), 1), (('incontinence,', 'functional'), 1), (('incontinence,', 'reflex'), 1), (('incontinence,', 'stress'), 1), (('incontinence,', 'urge'), 1), (('Urinary', 'urge'), 1), (('urge', 'incontinence,'), 1), (('incontinence,', 'risk'), 1), (('for', '576–578'), 1), (('576–578', 'Incontinence,'), 1), (('total', 'Urinary'), 1), (('Urinary', 'retention'), 1), (('retention', '578–581'), 1), (('578–581', 'ACTIVITY-EXERCISE'), 1), (('ACTIVITY-EXERCISE', 'PATTERN'), 1), (('PATTERN', 'Activity'), 1), (('Activity', 'intolerance,'), 1), (('intolerance,', 'risk'), 1), (('for', '60–63'), 1), (('60–63', 'Activity'), 1), (('Activity', 'intolerance'), 1), (('intolerance', '(specify'), 1), (('(specify', 'level)'), 1), (('level)', '63–65'), 1), (('63–65', 'Adaptive'), 1), (('Adaptive', 'capacity,'), 1), (('capacity,', 'decreased,'), 1), (('decreased,', 'intracranial'), 1), (('intracranial', '316–319'), 1), (('316–319', 'Infant'), 1), (('behavior,', 'disorganized'), 1), (('behavior,', 'risk'), 1), (('behavior,', 'readiness'), 1), (('301–303', 'Fatigue'), 1), (('Fatigue', 'Physical'), 1), (('Physical', 'mobility,'), 1), (('impaired', '333–337'), 1), (('333–337', 'Bed'), 1), (('Bed', 'mobility,'), 1), (('impaired', '331–333'), 1), (('331–333', 'Walking,'), 1), (('Walking,', 'impaired'), 1), (('impaired', '597–599'), 1), (('597–599', 'Wheelchair'), 1), (('Wheelchair', 'mobility,'), 1), (('impaired', '337–339'), 1), (('337–339', 'Transfer'), 1), (('Transfer', 'ability,'), 1), (('ability,', 'impaired'), 1), (('impaired', '544–546'), 1), (('544–546', 'Development,'), 1), (('194–197', 'Autonomic'), 1), (('Autonomic', 'dysreflexia'), 1), (('dysreflexia', '92–95'), 1), (('Autonomic', 'dysreflexia,'), 1), (('dysreflexia,', 'risk'), 1), (('95–97', 'Disuse'), 1), (('Disuse', 'syndrome,'), 1), (('200–205', 'Self-care'), 1), (('Self-care', 'deficit'), 1), (('deficit', '(specify:'), 1), (('(specify:', 'bathing/hygiene,'), 1), (('bathing/hygiene,', 'dressing/grooming,'), 1), (('dressing/grooming,', 'feeding,'), 1), (('feeding,', 'toileting)'), 1), (('toileting)', 'Diversional'), 1), (('Diversional', 'activity'), 1), (('activity', 'deficient'), 1), (('205–208', 'Home'), 1), (('Home', 'maintenance,'), 1), (('maintenance,', 'impaired'), 1), (('281–283', 'Dysfunctional'), 1), (('Dysfunctional', 'ventilatory'), 1), (('ventilatory', 'weaning'), 1), (('weaning', 'response'), 1), (('response', 'Ventilation,'), 1), (('spontaneous', 'Airway'), 1), (('Airway', 'clearance,'), 1), (('clearance,', 'ineffective'), 1), (('ineffective', 'Breathing'), 1), (('Breathing', 'pattern,'), 1), (('117–121', 'Gas'), 1), (('Gas', 'exchange,'), 1), (('exchange,', 'impaired'), 1), (('256–260', 'Cardiac'), 1), (('Cardiac', 'output,'), 1), (('output,', 'decreased'), 1), (('121–126', 'Tissue'), 1), (('Tissue', 'perfusion,'), 1), (('perfusion,', 'alteration'), 1), (('alteration', '(specify)'), 1), (('(specify)', '537–544'), 1), (('537–544', 'Peripheral'), 1), (('Peripheral', 'neurovascular'), 1), (('neurovascular', 'dysfunction,'), 1), (('dysfunction,', 'risk'), 1), (('387–390', 'Surgical'), 1), (('Surgical', 'recovery,'), 1), (('recovery,', 'delayed'), 1), (('507–510', 'Growth'), 1), (('and', 'development,'), 1), (('development,', 'delayed'), 1), (('271–275', 'Wandering'), 1), (('Wandering', 'SLEEP-REST'), 1), (('SLEEP-REST', 'PATTERN'), 1), (('PATTERN', 'Sleep-pattern'), 1), (('Sleep-pattern', 'disturbed'), 1), (('472–477', 'Sleep'), 1), (('Sleep', 'deprivation'), 1), (('deprivation', '468–472'), 1), (('468–472', 'Sleep,'), 1), (('Sleep,', 'readiness'), 1), (('477–480', 'COGNITIVE-PERCEPTUAL'), 1), (('COGNITIVE-PERCEPTUAL', 'PATTERN'), 1), (('PATTERN', 'Acute'), 1), (('Acute', 'pain'), 1), (('pain', '365–369'), 1), (('365–369', 'Chronic'), 1), (('Chronic', 'pain'), 1), (('pain', '370–374'), 1), (('370–374', 'Sensory'), 1), (('Sensory', 'perception,'), 1), (('perception,', 'disturbed'), 1), (('disturbed', '(specify)'), 1), (('(specify)', '449–454'), 1), (('449–454', 'Unilateral'), 1), (('Unilateral', 'neglect'), 1), (('neglect', 'Knowledge'), 1), (('Knowledge', 'deficit'), 1), (('deficit', '(specify)'), 1), (('(specify)', '319–323'), 1), (('319–323', 'Knowledge,'), 1), (('Knowledge,', 'readiness'), 1), (('328–331', 'Thought'), 1), (('Thought', 'processes,'), 1), (('processes,', 'disturbed'), 1), (('disturbed', '529–533'), 1), (('529–533', 'Acute'), 1), (('Acute', 'confusion'), 1), (('confusion', '147–150'), 1), (('147–150', 'Chronic'), 1), (('Chronic', 'confusion'), 1), (('confusion', '150–153'), 1), (('150–153', 'Environmental'), 1), (('Environmental', 'interpretation'), 1), (('interpretation', 'syndrome,'), 1), (('syndrome,', 'impaired'), 1), (('impaired', '211–214'), 1), (('211–214', 'Decisional'), 1), (('Decisional', 'conflict'), 1), (('conflict', '(specify)'), 1), (('(specify)', 'Anxiety,'), 1), (('83–86', 'Hopelessness'), 1), (('Hopelessness', 'Powerlessness'), 1), (('Powerlessness', 'Powerlessness,'), 1), (('for', 'Loneliness,'), 1), (('Loneliness,', 'risk'), 1), (('for', 'Self-concept,'), 1), (('Self-concept,', 'readiness'), 1), (('430–433', 'Chronic'), 1), (('Chronic', 'low'), 1), (('self-esteem', '433–437'), 1), (('433–437', 'Situational'), 1), (('self-esteem', '437–440'), 1), (('437–440', 'Situational'), 1), (('low', 'self-esteem,'), 1), (('self-esteem,', 'risk'), 1), (('for', '440–441'), 1), (('440–441', 'Body'), 1), (('Body', 'image'), 1), (('image', 'disturbed'), 1), (('98–102', 'Personal'), 1), (('Personal', 'identity'), 1), (('identity', 'disturbed'), 1), (('390–393', 'Violence,'), 1), (('Violence,', 'risk'), 1), (('591–596', 'ROLE-RELATIONSHIP'), 1), (('ROLE-RELATIONSHIP', 'PATTERN'), 1), (('PATTERN', 'Anticipatory'), 1), (('Anticipatory', 'grieving'), 1), (('grieving', '260–263'), 1), (('260–263', 'Dysfunctional'), 1), (('Dysfunctional', 'grieving'), 1), (('grieving', '263–266'), 1), (('263–266', 'Chronic'), 1), (('Chronic', 'sorrow'), 1), (('sorrow', '487–489'), 1), (('487–489', 'Role'), 1), (('Role', 'performance,'), 1), (('performance,', 'ineffective'), 1), (('422–425', 'Social'), 1), (('Social', 'isolation'), 1), (('isolation', '484–487'), 1), (('484–487', 'Impaired'), 1), (('Impaired', 'social'), 1), (('social', 'interaction'), 1), (('interaction', '480–484'), 1), (('480–484', 'Relocation'), 1), (('stress', 'syndrome'), 1), (('syndrome', '417–420'), 1), (('stress', 'syndrome,'), 1), (('for', 'Family'), 1), (('processes,', 'interrupted'), 1), (('225–228', 'Family'), 1), (('processes,', 'readiness'), 1), (('228–232', 'Dysfunctional'), 1), (('Dysfunctional', 'family'), 1), (('family', 'processes:'), 1), (('processes:', 'alcoholism'), 1), (('221–225', 'Impaired'), 1), (('Impaired', 'parenting,'), 1), (('parenting,', 'risk'), 1), (('for', '385–387'), 1), (('385–387', 'Impaired'), 1), (('Impaired', 'parenting'), 1), (('parenting', 'Parenting,'), 1), (('Parenting,', 'readiness'), 1), (('381–385', 'Impaired'), 1), (('Impaired', 'parent/infant/child'), 1), (('parent/infant/child', 'attachment,'), 1), (('attachment,', 'risk'), 1), (('for', '89–92'), 1), (('89–92', 'Parental'), 1), (('Parental', 'role'), 1), (('role', 'conflict'), 1), (('conflict', '374–377'), 1), (('374–377', 'Caregiver'), 1), (('role', 'strain'), 1), (('strain', '126–132'), 1), (('role', 'strain,'), 1), (('strain,', 'risk'), 1), (('132–135', 'Impaired'), 1), (('Impaired', 'verbal'), 1), (('verbal', 'communication'), 1), (('communication', '135–139'), 1), (('135–139', 'Communication,'), 1), (('Communication,', 'readiness'), 1), (('139–143', 'Risk'), 1), (('for', 'violence,'), 1), (('violence,', 'directed'), 1), (('directed', 'at'), 1), (('at', 'others'), 1), (('others', '590–591'), 1), (('590–591', 'SEXUALITY-REPRODUCTIVE'), 1), (('SEXUALITY-REPRODUCTIVE', 'Sexual'), 1), (('Sexual', 'dysfunction'), 1), (('dysfunction', '454–458'), 1), (('454–458', 'Ineffective'), 1), (('Ineffective', 'sexuality'), 1), (('sexuality', 'patterns'), 1), (('patterns', 'Rape-trauma'), 1), (('Rape-trauma', 'syndrome'), 1), (('syndrome', '412–417'), 1), (('412–417', 'Rape-trauma'), 1), (('syndrome:', 'compound'), 1), (('compound', 'reaction'), 1), (('413', 'Rape-trauma'), 1), (('syndrome:', 'silent'), 1), (('413', 'COPING-STRESS'), 1), (('COPING-STRESS', 'TOLERANCE'), 1), (('TOLERANCE', 'PATTERN'), 1), (('PATTERN', 'Ineffective'), 1), (('Ineffective', 'coping'), 1), (('coping', 'Coping,'), 1), (('Coping,', 'readiness'), 1), (('182–185', 'Defensive'), 1), (('Defensive', 'coping'), 1), (('coping', '166–169'), 1), (('166–169', 'Community'), 1), (('coping,', 'ineffective'), 1), (('ineffective', '162–164'), 1), (('162–164', 'Community'), 1), (('coping,', 'readiness'), 1), (('164–166', 'Ineffective'), 1), (('Ineffective', 'denial'), 1), (('denial', 'Impaired'), 1), (('Impaired', 'adjustment'), 1), (('adjustment', '66–69'), 1), (('66–69', 'Post-trauma'), 1), (('Post-trauma', 'syndrome'), 1), (('syndrome', '396–401'), 1), (('396–401', 'Post-trauma'), 1), (('Post-trauma', 'syndrome,'), 1), (('402–404', 'Family'), 1), (('Family', 'coping:'), 1), (('coping:', 'readiness'), 1), (('175–177', 'Ineffective'), 1), (('coping:', 'compromised'), 1), (('169–172', 'Ineffective'), 1), (('coping:', 'disabling'), 1), (('disabling', '172–175'), 1), (('172–175', '503–507'), 1), (('503–507', 'Risk'), 1), (('for', 'suicide'), 1), (('suicide', 'Self-mutilation'), 1), (('Self-mutilation', '442–445'), 1), (('442–445', 'Self-mutilation,'), 1), (('Self-mutilation,', 'risk'), 1), (('for', 'VALUE-BELIEF'), 1), (('VALUE-BELIEF', 'PATTERN'), 1), (('PATTERN', 'Spiritual'), 1), (('Spiritual', 'distress'), 1), (('distress', '490–494'), 1), (('490–494', 'Spiritual'), 1), (('Spiritual', 'distress,'), 1), (('distress,', 'risk'), 1), (('for', '494–497'), 1), (('494–497', 'Spiritual'), 1), (('Spiritual', 'well-being,'), 1), (('well-being,', 'readiness'), 1), (('enhanced', '497–500'), 1), (('497–500', 'Clinical'), 1), (('Clinical', 'Specialist—Adult'), 1), (('Specialist—Adult', 'Psychiatric/Mental'), 1), (('Psychiatric/Mental', 'Health,'), 1), (('Health,', 'Retired'), 1), (('Retired', 'Adjunct'), 1), (('Faculty', 'Beth-El'), 1), (('Beth-El', 'College'), 1), (('College', 'of'), 1), (('and', 'Health'), 1), (('Health', 'Sciences'), 1), (('Sciences', 'CU-Springs'), 1), (('CU-Springs', 'Colorado'), 1), (('Colorado', 'Nurse'), 1), (('Nurse', 'Consultant'), 1), (('Consultant', 'TNT-RN'), 1), (('TNT-RN', 'Enterprises'), 1), (('Enterprises', 'Adjunct'), 1), (('Faculty', 'Pikes'), 1), (('Pikes', 'Peak'), 1), (('Peak', 'Community'), 1), (('Community', 'College'), 1), (('College', 'Colorado'), 1), (('Colorado', 'F.A.'), 1), (('Company', '1915'), 1), (('1915', 'Arch'), 1), (('Arch', 'Street'), 1), (('Street', 'Philadelphia,'), 1), (('PA', '19103'), 1), (('19103', 'www.'), 1), (('www.', 'fadavis.com'), 1), (('fadavis.com', 'Copyright'), 1), (('Copyright', '©'), 1), (('©', '1985,'), 1), (('1985,', '1988,'), 1), (('1988,', '1991,'), 1), (('1991,', '1993,'), 1), (('1993,', '1996,'), 1), (('1996,', '1998,'), 1), (('1998,', '2000,'), 1), (('2000,', '2002'), 1), (('2002', 'by'), 1), (('Davis', 'Company.'), 1), (('Company.', 'All'), 1), (('All', 'rights'), 1), (('rights', 'reserved.'), 1), (('reserved.', 'This'), 1), (('is', 'protected'), 1), (('protected', 'by'), 1), (('by', 'copyright.'), 1), (('copyright.', 'No'), 1), (('No', 'part'), 1), (('of', 'it'), 1), (('it', 'may'), 1), (('be', 'reproduced,'), 1), (('reproduced,', 'stored'), 1), (('stored', 'in'), 1), (('a', 'retrieval'), 1), (('retrieval', 'system,'), 1), (('system,', 'or'), 1), (('or', 'trans-'), 1), (('trans-', 'mitted'), 1), (('mitted', 'in'), 1), (('any', 'form'), 1), (('form', 'or'), 1), (('or', 'by'), 1), (('by', 'any'), 1), (('any', 'means,'), 1), (('means,', 'electronic,'), 1), (('electronic,', 'mechanical,'), 1), (('mechanical,', 'photo-'), 1), (('photo-', 'copying,'), 1), (('copying,', 'recording,'), 1), (('recording,', 'or'), 1), (('or', 'otherwise,'), 1), (('otherwise,', 'without'), 1), (('without', 'written'), 1), (('written', 'permission'), 1), (('permission', 'from'), 1), (('the', 'publisher.'), 1), (('publisher.', 'Last'), 1), (('Last', 'digit'), 1), (('digit', 'indicates'), 1), (('indicates', 'print'), 1), (('print', 'number:'), 1), (('number:', '10'), 1), (('10', '9'), 1), (('9', '8'), 1), (('8', '7'), 1), (('7', '6'), 1), (('6', '5'), 1), (('5', '4'), 1), (('4', '3'), 1), (('3', '2'), 1), (('2', '1'), 1), (('1', 'As'), 1), (('new', 'scientific'), 1), (('scientific', 'information'), 1), (('information', 'becomes'), 1), (('becomes', 'available'), 1), (('available', 'through'), 1), (('through', 'basic'), 1), (('basic', 'and'), 1), (('and', 'clin-'), 1), (('clin-', 'ical'), 1), (('ical', 'research,'), 1), (('research,', 'recommended'), 1), (('recommended', 'treatments'), 1), (('treatments', 'and'), 1), (('and', 'drug'), 1), (('drug', 'therapies'), 1), (('therapies', 'undergo'), 1), (('undergo', 'changes.'), 1), (('changes.', 'The'), 1), (('The', 'author(s)'), 1), (('author(s)', 'and'), 1), (('publisher', 'have'), 1), (('have', 'done'), 1), (('done', 'everything'), 1), (('everything', 'possible'), 1), (('possible', 'to'), 1), (('make', 'this'), 1), (('book', 'accurate,'), 1), (('accurate,', 'up'), 1), (('up', 'to'), 1), (('to', 'date,'), 1), (('date,', 'and'), 1), (('in', 'accord'), 1), (('accord', 'with'), 1), (('with', 'accepted'), 1), (('accepted', 'stan-'), 1), (('dards', 'at'), 1), (('time', 'of'), 1), (('of', 'publication.'), 1), (('publication.', 'The'), 1), (('The', 'authors,'), 1), (('authors,', 'editors,'), 1), (('editors,', 'and'), 1), (('publisher', 'are'), 1), (('not', 'responsible'), 1), (('for', 'errors'), 1), (('errors', 'or'), 1), (('or', 'omissions'), 1), (('omissions', 'or'), 1), (('or', 'for'), 1), (('for', 'consequences'), 1), (('consequences', 'from'), 1), (('from', 'appli-'), 1), (('appli-', 'cation'), 1), (('cation', 'of'), 1), (('the', 'book,'), 1), (('book,', 'and'), 1), (('and', 'make'), 1), (('make', 'no'), 1), (('no', 'warranty,'), 1), (('warranty,', 'expressed'), 1), (('expressed', 'or'), 1), (('or', 'implied,'), 1), (('implied,', 'in'), 1), (('the', 'contents'), 1), (('contents', 'of'), 1), (('the', 'book.'), 1), (('book.', 'Any'), 1), (('Any', 'practice'), 1), (('practice', 'described'), 1), (('described', 'in'), 1), (('book', 'should'), 1), (('should', 'be'), 1), (('applied', 'by'), 1), (('the', 'reader'), 1), (('reader', 'in'), 1), (('in', 'accordance'), 1), (('accordance', 'with'), 1), (('with', 'professional'), 1), (('professional', 'stan-'), 1), (('dards', 'of'), 1), (('care', 'used'), 1), (('the', 'unique'), 1), (('unique', 'circumstances'), 1), (('circumstances', 'that'), 1), (('that', 'may'), 1), (('may', 'apply'), 1), (('apply', 'in'), 1), (('each', 'situation.'), 1), (('is', 'advised'), 1), (('advised', 'always'), 1), (('always', 'to'), 1), (('to', 'check'), 1), (('check', 'product'), 1), (('product', 'infor-'), 1), (('infor-', 'mation'), 1), (('mation', '(package'), 1), (('(package', 'inserts)'), 1), (('inserts)', 'for'), 1), (('for', 'changes'), 1), (('changes', 'and'), 1), (('new', 'information'), 1), (('information', 'regarding'), 1), (('regarding', 'dose'), 1), (('dose', 'and'), 1), (('and', 'contraindications'), 1), (('contraindications', 'before'), 1), (('before', 'administering'), 1), (('administering', 'any'), 1), (('any', 'drug.'), 1), (('drug.', 'Caution'), 1), (('Caution', 'is'), 1), (('is', 'especially'), 1), (('especially', 'urged'), 1), (('urged', 'when'), 1), (('when', 'using'), 1), (('using', 'new'), 1), (('new', 'or'), 1), (('or', 'infrequently'), 1), (('infrequently', 'ordered'), 1), (('ordered', 'drugs.'), 1), (('drugs.', 'Authorization'), 1), (('Authorization', 'to'), 1), (('to', 'photocopy'), 1), (('photocopy', 'items'), 1), (('items', 'for'), 1), (('for', 'internal'), 1), (('personal', 'use,'), 1), (('use,', 'or'), 1), (('the', 'internal'), 1), (('personal', 'use'), 1), (('specific', 'clients,'), 1), (('clients,', 'is'), 1), (('is', 'granted'), 1), (('granted', 'by'), 1), (('Company', 'for'), 1), (('users', 'registered'), 1), (('registered', 'with'), 1), (('the', 'Copyright'), 1), (('Copyright', 'Clearance'), 1), (('Clearance', 'Center'), 1), (('Center', '(CCC)'), 1), (('(CCC)', 'Transactional'), 1), (('Reporting', 'Service,'), 1), (('Service,', 'provided'), 1), (('provided', 'that'), 1), (('the', 'fee'), 1), (('fee', 'of'), 1), (('of', '$.10'), 1), (('$.10', 'per'), 1), (('per', 'copy'), 1), (('copy', 'is'), 1), (('is', 'paid'), 1), (('paid', 'directly'), 1), (('directly', 'to'), 1), (('to', 'CCC,'), 1), (('CCC,', '222'), 1), (('222', 'Rosewood'), 1), (('Rosewood', 'Drive,'), 1), (('Drive,', 'Danvers,'), 1), (('Danvers,', 'MA'), 1), (('MA', '01923.'), 1), (('01923.', 'For'), 1), (('For', 'those'), 1), (('those', 'organizations'), 1), (('organizations', 'that'), 1), (('been', 'granted'), 1), (('granted', 'a'), 1), (('a', 'photocopy'), 1), (('photocopy', 'license'), 1), (('license', 'by'), 1), (('by', 'CCC,'), 1), (('CCC,', 'a'), 1), (('a', 'separate'), 1), (('separate', 'system'), 1), (('system', 'of'), 1), (('of', 'payment'), 1), (('payment', 'has'), 1), (('been', 'arranged.'), 1), (('arranged.', 'The'), 1), (('The', 'fee'), 1), (('fee', 'code'), 1), (('code', 'for'), 1), (('the', 'Transactional'), 1), (('Reporting', 'Service'), 1), (('Service', 'is:'), 1), (('is:', '8036-'), 1), (('8036-', '0948/02'), 1), (('0948/02', '0'), 1), (('0', '+'), 1), (('+', '$.10.'), 1), (('$.10.', 'Sheila'), 1), (('Sheila', 'Marquez'), 1), (('Marquez', 'Executive'), 1), (('Executive', 'Director'), 1), (('Director', 'Vice'), 1), (('Vice', 'President/Chief'), 1), (('President/Chief', 'Operating'), 1), (('Operating', 'Officer'), 1), (('Officer', 'The'), 1), (('The', 'Colorado'), 1), (('Colorado', 'SIDS'), 1), (('SIDS', 'Program,'), 1), (('Program,', 'Inc.'), 1), (('Inc.', 'Denver,'), 1), (('Denver,', 'Colorado'), 1), (('Colorado', 'Our'), 1), (('Our', 'families,'), 1), (('families,', 'who'), 1), (('who', 'helped'), 1), (('helped', 'with'), 1), (('the', 'mundane'), 1), (('mundane', 'activities'), 1), (('activities', 'of'), 1), (('of', 'daily'), 1), (('daily', 'living'), 1), (('living', 'that'), 1), (('that', 'allowed'), 1), (('allowed', 'us'), 1), (('to', 'write'), 1), (('write', 'this'), 1), (('book', 'and'), 1), (('who', 'provide'), 1), (('provide', 'us'), 1), (('with', 'love'), 1), (('love', 'and'), 1), (('and', 'encouragement'), 1), (('encouragement', 'in'), 1), (('in', 'all'), 1), (('all', 'our'), 1), (('our', 'endeavors.'), 1), (('endeavors.', 'Our'), 1), (('Our', 'friends,'), 1), (('friends,', 'who'), 1), (('who', 'support'), 1), (('support', 'us'), 1), (('us', 'in'), 1), (('in', 'our'), 1), (('our', 'writing,'), 1), (('writing,', 'put'), 1), (('put', 'up'), 1), (('up', 'with'), 1), (('with', 'our'), 1), (('our', 'Bob'), 1), (('Bob', 'Martone,'), 1), (('Martone,', 'Publisher,'), 1), (('Publisher,', 'Nursing,'), 1), (('Nursing,', 'who'), 1), (('who', 'asks'), 1), (('asks', 'questions'), 1), (('questions', 'that'), 1), (('that', 'stimulate'), 1), (('stimulate', 'thought'), 1), (('and', 'discussion,'), 1), (('discussion,', 'and'), 1), (('who', 'maintains'), 1), (('maintains', 'good'), 1), (('good', 'humor'), 1), (('humor', 'throughout.'), 1), (('throughout.', 'The'), 1), (('The', 'F.A.'), 1), (('Davis', 'production'), 1), (('production', 'staff,'), 1), (('staff,', 'who'), 1), (('who', 'coordinated'), 1), (('coordinated', 'and'), 1), (('and', 'expe-'), 1), (('expe-', 'dited'), 1), (('dited', 'the'), 1), (('the', 'project'), 1), (('project', 'through'), 1), (('the', 'printing'), 1), (('printing', 'process,'), 1), (('process,', 'meeting'), 1), (('meeting', 'unreal'), 1), (('unreal', 'deadlines,'), 1), (('deadlines,', 'and'), 1), (('and', 'sending'), 1), (('sending', 'pages'), 1), (('pages', 'to'), 1), (('to', 'us'), 1), (('with', 'bated'), 1), (('bated', 'breath.'), 1), (('breath.', 'And'), 1), (('And', 'last'), 1), (('last', 'and'), 1), (('and', 'most'), 1), (('most', 'important:'), 1), (('important:', 'The'), 1), (('The', 'nurses'), 1), (('nurses', 'we'), 1), (('we', 'are'), 1), (('are', 'writing'), 1), (('writing', 'for,'), 1), (('for,', 'to'), 1), (('to', 'those'), 1), (('those', 'who'), 1), (('who', 'have'), 1), (('have', 'found'), 1), (('found', 'the'), 1), (('the', 'previous'), 1), (('previous', 'editions'), 1), (('editions', 'of'), 1), (('the', 'Pocket'), 1), (('Pocket', 'Guide'), 1), (('Guide', 'helpful,'), 1), (('helpful,', 'and'), 1), (('to', 'other'), 1), (('other', 'nurses'), 1), (('nurses', 'who'), 1), (('who', 'are'), 1), (('are', 'looking'), 1), (('looking', 'for'), 1), (('for', 'help'), 1), (('provide', 'quality'), 1), (('a', 'period'), 1), (('period', 'of'), 1), (('of', 'transition'), 1), (('transition', 'and'), 1), (('and', 'change,'), 1), (('change,', 'we'), 1), (('we', 'say,'), 1), (('say,', '“Nursing'), 1), (('“Nursing', 'Diagnosis'), 1), (('Diagnosis', 'is'), 1), (('the', 'way.”'), 1), (('way.”', 'A'), 1), (('A', 'special'), 1), (('special', 'acknowledgment'), 1), (('acknowledgment', 'to'), 1), (('to', 'Marilynn’s'), 1), (('Marilynn’s', 'friend,'), 1), (('friend,', 'the'), 1), (('the', 'late'), 1), (('late', 'Diane'), 1), (('Diane', 'Camillone,'), 1), (('Camillone,', 'who'), 1), (('who', 'provoked'), 1), (('provoked', 'an'), 1), (('an', 'awareness'), 1), (('awareness', 'of'), 1), (('the', 'role'), 1), (('role', 'of'), 1), (('the', 'patient'), 1), (('patient', 'and'), 1), (('and', 'continues'), 1), (('to', 'influence'), 1), (('influence', 'our'), 1), (('our', 'thoughts'), 1), (('thoughts', 'about'), 1), (('importance', 'of'), 1), (('to', 'our'), 1), (('our', 'late'), 1), (('late', 'colleague,'), 1), (('colleague,', 'Mary'), 1), (('Mary', 'Jeffries,'), 1), (('Jeffries,', 'who'), 1), (('who', 'introduced'), 1), (('introduced', 'us'), 1), (('diagnosis.', 'To'), 1), (('To', 'our'), 1), (('our', 'colleagues'), 1), (('colleagues', 'in'), 1), (('in', 'NANDA'), 1), (('NANDA', 'who'), 1), (('who', 'continue'), 1), (('to', 'formulate'), 1), (('formulate', 'and'), 1), (('refine', 'nursing'), 1), (('diagnoses', 'to'), 1), (('provide', 'nursing'), 1), (('the', 'tools'), 1), (('tools', 'to'), 1), (('enhance', 'and'), 1), (('and', 'promote'), 1), (('the', 'growth'), 1), (('growth', 'of'), 1), (('profession.', 'Health'), 1), (('Health', 'Conditions'), 1), (('Conditions', 'and'), 1), (('and', 'Client'), 1), (('Client', 'Concerns'), 1), (('Concerns', 'with'), 1), (('with', 'Associated'), 1), (('Associated', 'Nursing'), 1), (('Diagnoses', 'appear'), 1), (('appear', 'on'), 1), (('on', 'pages'), 1), (('pages', '603-720.'), 1), (('603-720.', 'Putting'), 1), (('Documentation', '................................................................12'), 1), (('................................................................12', 'Adult'), 1), (('Adult', 'Medical/Surgical'), 1), (('Medical/Surgical', 'Assessment'), 1), (('Tool', '16'), 1), (('16', 'Excerpt'), 1), (('from', 'Psychiatric'), 1), (('Psychiatric', 'Assessment'), 1), (('from', 'Prenatal'), 1), (('Prenatal', 'Assessment'), 1), (('from', 'Intrapartal'), 1), (('Intrapartal', 'Assessment'), 1), (('Tool', 'SECTION'), 1), (('SECTION', '2'), 1), (('2', 'Diagnostic'), 1), (('Diagnostic', 'Divisions:'), 1), (('Nursing', 'Focus'), 1), (('Focus', '..........................33'), 1), (('..........................33', 'For'), 1), (('For', 'each'), 1), (('following', 'information'), 1), (('information', 'is'), 1), (('is', 'provided:'), 1), (('provided:', 'Taxonomy'), 1), (('Taxonomy', 'II,'), 1), (('II,', 'Domain,'), 1), (('Domain,', 'Class,'), 1), (('Class,', 'Code,'), 1), (('Code,', 'Year'), 1), (('Year', 'Submitted'), 1), (('Submitted', 'Subjective/Objective'), 1), (('Subjective/Objective', 'Desired'), 1), (('Criteria', 'Actions/Interventions'), 1), (('Actions/Interventions', 'Nursing'), 1), (('Nursing', 'Priorities'), 1), (('Priorities', 'Documentation'), 1), (('Focus', 'Sample'), 1), (('Nursing', 'Outcomes'), 1), (('Outcomes', '&'), 1), (('&', 'Interventions'), 1), (('Interventions', 'Classifications'), 1), (('Classifications', 'The'), 1), (('Policy', 'Statement'), 1), (('Statement', 'of'), 1), (('of', '1980'), 1), (('1980', 'was'), 1), (('was', 'the'), 1), (('the', 'first'), 1), (('first', 'to'), 1), (('nursing', 'as'), 1), (('the', 'diagno-'), 1), (('and', 'treatment'), 1), (('treatment', 'of'), 1), (('health', 'problems.'), 1), (('problems.', 'This'), 1), (('This', 'definition,'), 1), (('definition,', 'when'), 1), (('when', 'combined'), 1), (('of', 'Practice,'), 1), (('Practice,', 'has'), 1), (('has', 'provided'), 1), (('diagnosis.', 'Defining'), 1), (('Defining', 'nursing'), 1), (('nursing', 'and'), 1), (('its', 'effect'), 1), (('effect', 'on'), 1), (('on', 'client'), 1), (('care', 'supports'), 1), (('supports', 'the'), 1), (('the', 'growing'), 1), (('growing', 'awareness'), 1), (('awareness', 'that'), 1), (('that', 'nursing'), 1), (('a', 'key'), 1), (('key', 'factor'), 1), (('factor', 'in'), 1), (('in', 'client'), 1), (('client', 'survival'), 1), (('survival', 'and'), 1), (('the', 'maintenance,'), 1), (('maintenance,', 'rehabili-'), 1), (('rehabili-', 'tative,'), 1), (('tative,', 'and'), 1), (('and', 'preventive'), 1), (('preventive', 'aspects'), 1), (('aspects', 'of'), 1), (('of', 'healthcare.'), 1), (('healthcare.', 'Changes'), 1), (('Changes', 'and'), 1), (('new', 'developments'), 1), (('developments', 'in'), 1), (('delivery', 'in'), 1), (('the', 'last'), 1), (('last', 'decade'), 1), (('decade', 'have'), 1), (('have', 'given'), 1), (('given', 'rise'), 1), (('rise', 'to'), 1), (('common', 'framework'), 1), (('of', 'communica-'), 1), (('communica-', 'tion'), 1), (('client', 'moving'), 1), (('moving', 'between'), 1), (('between', 'multiple'), 1), (('multiple', 'healthcare'), 1), (('settings', 'and'), 1), (('and', 'providers.'), 1), (('providers.', 'Evaluation'), 1), (('and', 'documentation'), 1), (('important', 'parts'), 1), (('parts', 'of'), 1), (('this', 'process.'), 1), (('process.', 'This'), 1), (('to', 'aid'), 1), (('aid', 'the'), 1), (('practitioner', 'and'), 1), (('and', 'student'), 1), (('student', 'nurse'), 1), (('in', 'identifying'), 1), (('identifying', 'interventions'), 1), (('interventions', 'commonly'), 1), (('commonly', 'associated'), 1), (('associated', 'with'), 1), (('as', 'proposed'), 1), (('proposed', 'by'), 1), (('NANDA', 'Inter-'), 1), (('national', '(formerly'), 1), (('Diagnosis', 'Association).'), 1), (('Association).', 'These'), 1), (('These', 'interventions'), 1), (('the', 'activities'), 1), (('activities', 'needed'), 1), (('needed', 'to'), 1), (('to', 'implement'), 1), (('implement', 'and'), 1), (('document', 'care'), 1), (('provided', 'to'), 1), (('and', 'can'), 1), (('in', 'varied'), 1), (('varied', 'settings'), 1), (('settings', 'from'), 1), (('from', 'acute'), 1), (('acute', 'to'), 1), (('to', 'commu-'), 1), (('commu-', 'nity/home'), 1), (('nity/home', 'care.'), 1), (('care.', 'Chapters'), 1), (('Chapters', '1'), 1), (('1', 'and'), 1), (('and', '2'), 1), (('2', 'present'), 1), (('present', 'brief'), 1), (('brief', 'discussions'), 1), (('discussions', 'of'), 1), (('process,', 'data'), 1), (('collection,', 'and'), 1), (('and', 'care'), 1), (('care', 'plan'), 1), (('plan', 'construction.'), 1), (('construction.', 'Chapter'), 1), (('Chapter', '3'), 1), (('3', 'contains'), 1), (('contains', 'the'), 1), (('Divisions,', 'Assessment'), 1), (('Assessment', 'Tool,'), 1), (('Tool,', 'a'), 1), (('and', 'corresponding'), 1), (('corresponding', 'documentation/charting'), 1), (('documentation/charting', 'exam-'), 1), (('exam-', 'ples.'), 1), (('ples.', 'For'), 1), (('For', 'more'), 1), (('more', 'in-depth'), 1), (('in-depth', 'information'), 1), (('information', 'and'), 1), (('and', 'inclusive'), 1), (('inclusive', 'plans'), 1), (('care', 'related'), 1), (('specific', 'medical/psychiatric'), 1), (('medical/psychiatric', 'conditions'), 1), (('conditions', '(with'), 1), (('(with', 'ration-'), 1), (('ration-', 'ale'), 1), (('ale', 'and'), 1), (('the', 'application'), 1), (('application', 'of'), 1), (('the', 'diagnoses),'), 1), (('diagnoses),', 'the'), 1), (('the', 'larger'), 1), (('larger', 'works,'), 1), (('works,', 'all'), 1), (('all', 'published'), 1), (('published', 'by'), 1), (('the', 'F.A.'), 1), (('Davis', 'Company:'), 1), (('Company:', 'Nursing'), 1), (('Nursing', 'Care'), 1), (('Documenting', 'Patient'), 1), (('Patient', 'Care,'), 1), (('ed.', '6'), 1), (('6', '(Doenges,'), 1), (('Moorhouse,', 'Geissler-Murr,'), 1), (('Geissler-Murr,', '2002);'), 1), (('2002);', 'Psychiatric'), 1), (('Psychiatric', 'Care'), 1), (('(Doenges,', 'Townsend,'), 1), (('Townsend,', 'Moorhouse,'), 1), (('Moorhouse,', '1998);'), 1), (('1998);', 'and'), 1), (('and', 'Maternal/Newborn'), 1), (('Maternal/Newborn', 'Plans'), 1), (('of', 'Care:'), 1), (('Care:', 'Guidelines'), 1), (('Moorhouse,', '1999).'), 1), (('1999).', 'Nursing'), 1), (('listed', 'alphabetically'), 1), (('alphabetically', 'in'), 1), (('in', 'Chapter'), 1), (('Chapter', '4'), 1), (('4', 'for'), 1), (('of', 'reference'), 1), (('reference', 'and'), 1), (('diagnoses', 'accepted'), 1), (('accepted', 'for'), 1), (('for', 'use'), 1), (('use', 'by'), 1), (('NANDA', 'through'), 1), (('through', '2003.'), 1), (('2003.', 'Each'), 1), (('Each', 'approved'), 1), (('approved', 'diagnosis'), 1), (('diagnosis', 'includes'), 1), (('includes', 'its'), 1), (('its', 'definition'), 1), (('definition', 'and'), 1), (('information', 'divided'), 1), (('divided', 'into'), 1), (('into', 'the'), 1), (('NANDA', 'categories'), 1), (('categories', 'of'), 1), (('of', 'Related'), 1), (('Related', 'or'), 1), (('or', 'Risk'), 1), (('Risk', 'Factors'), 1), (('Factors', 'and'), 1), (('and', 'Defining'), 1), (('Defining', 'Characteristics.'), 1), (('Characteristics.', 'information'), 1), (('information', 'reflects'), 1), (('reflects', 'causative'), 1), (('causative', 'or'), 1), (('or', 'Related/Risk'), 1), (('Related/Risk', 'Factors'), 1), (('Factors', 'contributing'), 1), (('contributing', 'factors'), 1), (('factors', 'that'), 1), (('be', 'useful'), 1), (('useful', 'for'), 1), (('for', 'determining'), 1), (('determining', 'whether'), 1), (('whether', 'the'), 1), (('the', 'diagnosis'), 1), (('is', 'applicable'), 1), (('applicable', 'to'), 1), (('client.', 'Defining'), 1), (('Defining', 'Characteristics'), 1), (('Characteristics', '(signs'), 1), (('(signs', 'and'), 1), (('symptoms', 'or'), 1), (('or', 'cues)'), 1), (('cues)', 'are'), 1), (('listed', 'as'), 1), (('as', 'subjective'), 1), (('subjective', 'and/or'), 1), (('and/or', 'objective'), 1), (('objective', 'and'), 1), (('to', 'confirm'), 1), (('confirm', 'actual'), 1), (('actual', 'diag-'), 1), (('diag-', 'noses,'), 1), (('noses,', 'aid'), 1), (('aid', 'in'), 1), (('formulating', 'outcomes,'), 1), (('outcomes,', 'and'), 1), (('and', 'provide'), 1), (('provide', 'additional'), 1), (('additional', 'data'), 1), (('data', 'for'), 1), (('for', 'choosing'), 1), (('appropriate', 'interventions.'), 1), (('have', 'not'), 1), (('not', 'deleted'), 1), (('deleted', 'or'), 1), (('altered', 'NANDA’s'), 1), (('NANDA’s', 'listings;'), 1), (('listings;', 'however,'), 1), (('however,', 'on'), 1), (('on', 'occasion,'), 1), (('occasion,', 'they'), 1), (('they', 'have'), 1), (('have', 'added'), 1), (('to', 'their'), 1), (('their', 'definitions'), 1), (('definitions', 'and'), 1), (('and', 'suggested'), 1), (('suggested', 'additional'), 1), (('additional', 'criteria'), 1), (('criteria', 'to'), 1), (('provide', 'clarification'), 1), (('clarification', 'and'), 1), (('and', 'direction.'), 1), (('direction.', 'These'), 1), (('These', 'additions'), 1), (('additions', 'are'), 1), (('are', 'denoted'), 1), (('denoted', 'with'), 1), (('with', 'brackets'), 1), (('brackets', '['), 1), (('[', '].'), 1), (('].', 'With'), 1), (('With', 'the'), 1), (('development', 'and'), 1), (('and', 'acceptance'), 1), (('acceptance', 'of'), 1), (('of', 'Taxonomy'), 1), (('II', 'following'), 1), (('the', 'biennial'), 1), (('biennial', 'conference'), 1), (('conference', 'in'), 1), (('in', '2000,'), 1), (('2000,', 'significant'), 1), (('significant', 'changes'), 1), (('changes', 'were'), 1), (('were', 'made'), 1), (('made', 'to'), 1), (('to', 'better'), 1), (('better', 'reflect'), 1), (('reflect', 'the'), 1), (('the', 'content'), 1), (('content', 'of'), 1), (('diagnoses', 'within'), 1), (('the', 'taxonomy.'), 1), (('taxonomy.', 'It'), 1), (('to', 'reduce'), 1), (('reduce', 'miscalculations,'), 1), (('miscalculations,', 'errors,'), 1), (('errors,', 'and'), 1), (('and', 'redundancies.'), 1), (('redundancies.', 'The'), 1), (('The', 'framework'), 1), (('framework', 'has'), 1), (('been', 'changed'), 1), (('changed', 'from'), 1), (('the', 'Human'), 1), (('Human', 'Response'), 1), (('Response', 'Patterns'), 1), (('Patterns', 'and'), 1), (('is', 'organized'), 1), (('organized', 'in'), 1), (('in', 'Domains'), 1), (('Domains', 'only'), 1), (('only', 'and'), 1), (('and', 'Classes,'), 1), (('Classes,', 'with'), 1), (('with', '13'), 1), (('13', 'domains,'), 1), (('domains,', '105'), 1), (('105', 'classes,'), 1), (('classes,', 'and'), 1), (('and', '167'), 1), (('167', 'diagnoses.'), 1), (('diagnoses.', 'Although'), 1), (('Although', 'clinicians'), 1), (('clinicians', 'will'), 1), (('will', 'use'), 1), (('the', 'actual'), 1), (('actual', 'diagnoses,'), 1), (('diagnoses,', 'understanding'), 1), (('understanding', 'the'), 1), (('the', 'taxonomic'), 1), (('taxonomic', 'structure'), 1), (('structure', 'will'), 1), (('will', 'help'), 1), (('to', 'find'), 1), (('find', 'the'), 1), (('desired', 'information'), 1), (('information', 'quickly.'), 1), (('quickly.', 'Taxonomy'), 1), (('II', 'is'), 1), (('be', 'multiaxial'), 1), (('multiaxial', 'with'), 1), (('with', '7'), 1), (('7', 'axes'), 1), (('axes', '(see'), 1), (('(see', 'Appendix'), 1), (('Appendix', '2).'), 1), (('2).', 'An'), 1), (('An', 'axis'), 1), (('axis', 'is'), 1), (('is', 'defined'), 1), (('defined', 'as'), 1), (('a', 'dimension'), 1), (('dimension', 'of'), 1), (('the', 'human'), 1), (('human', 'response'), 1), (('response', 'that'), 1), (('that', 'is'), 1), (('is', 'considered'), 1), (('considered', 'in'), 1), (('diagnostic', 'process.'), 1), (('process.', 'Sometimes'), 1), (('diagnostic', 'concept,'), 1), (('concept,', 'such'), 1), (('as', 'ineffective'), 1), (('ineffective', 'community'), 1), (('community', 'coping'), 1), (('coping', 'in'), 1), (('care', '(e.g.,'), 1), (('(e.g.,', 'community)'), 1), (('community)', 'is'), 1), (('is', 'named.'), 1), (('named.', 'Some'), 1), (('Some', 'are'), 1), (('are', 'implicit,'), 1), (('implicit,', 'such'), 1), (('as', 'activity'), 1), (('activity', 'intolerance'), 1), (('intolerance', 'in'), 1), (('individual', 'is'), 1), (('care.', 'Sometimes'), 1), (('be', 'pertinent'), 1), (('particular', 'diagno-'), 1), (('and', 'will'), 1), (('will', 'not'), 1), (('be', 'a'), 1), (('diagnosis', 'label'), 1), (('label', 'or'), 1), (('or', 'code.'), 1), (('code.', 'For'), 1), (('time', 'axis'), 1), (('be', 'relevant'), 1), (('relevant', 'to'), 1), (('each', 'diagnos-'), 1), (('diagnos-', 'tic'), 1), (('tic', 'situation.'), 1), (('The', 'Taxonomic'), 1), (('Taxonomic', 'Domain'), 1), (('Domain', 'and'), 1), (('and', 'Class'), 1), (('Class', 'are'), 1), (('are', 'noted'), 1), (('noted', 'under'), 1), (('heading.', 'An'), 1), (('An', 'Axis'), 1), (('Axis', '6'), 1), (('6', 'descriptor'), 1), (('descriptor', 'is'), 1), (('diagnosis', 'label.'), 1), (('label.', 'in'), 1), (('in', 'conjunction'), 1), (('conjunction', 'with'), 1), (('with', 'NANDA,'), 1), (('NANDA,', 'proposed'), 1), (('proposed', 'that'), 1), (('that', 'specific'), 1), (('diagnoses', 'currently'), 1), (('currently', 'approved'), 1), (('approved', 'and'), 1), (('and', 'structured'), 1), (('structured', 'according'), 1), (('to', 'Taxonomy'), 1), (('Taxonomy', 'I'), 1), (('I', 'Revised'), 1), (('Revised', 'be'), 1), (('the', 'Inter-'), 1), (('national', 'Classification'), 1), (('Classification', 'of'), 1), (('of', 'Diseases'), 1), (('Diseases', '(ICD)'), 1), (('(ICD)', 'within'), 1), (('the', 'section'), 1), (('section', '“Family'), 1), (('“Family', 'of'), 1), (('of', 'Health-Related'), 1), (('Health-Related', 'Classifications.”'), 1), (('Classifications.”', 'While'), 1), (('While', 'the'), 1), (('the', 'World'), 1), (('World', 'Health'), 1), (('Health', 'Organization'), 1), (('Organization', 'did'), 1), (('did', 'not'), 1), (('not', 'accept'), 1), (('accept', 'this'), 1), (('this', 'initial'), 1), (('initial', 'proposal'), 1), (('proposal', 'because'), 1), (('because', 'of'), 1), (('of', 'lack'), 1), (('the', 'usefulness'), 1), (('usefulness', 'of'), 1), (('diagnoses', 'at'), 1), (('the', 'international'), 1), (('international', 'level,'), 1), (('level,', 'the'), 1), (('list', 'has'), 1), (('been', 'accepted'), 1), (('accepted', 'by'), 1), (('by', 'SNOMED'), 1), (('SNOMED', '(Systemized'), 1), (('(Systemized', 'Nomenclature'), 1), (('Nomenclature', 'of'), 1), (('of', 'Medicine)'), 1), (('Medicine)', 'for'), 1), (('for', 'inclu-'), 1), (('inclu-', 'sion'), 1), (('sion', 'in'), 1), (('in', 'its'), 1), (('its', 'international'), 1), (('international', 'coding'), 1), (('coding', 'system'), 1), (('system', 'and'), 1), (('the', 'Unified'), 1), (('Unified', 'Medical'), 1), (('Medical', 'Language'), 1), (('Language', 'System'), 1), (('System', 'of'), 1), (('the', 'National'), 1), (('National', 'Library'), 1), (('Library', 'of'), 1), (('of', 'H'), 1), (('E', 'Medicine.'), 1), (('Medicine.', 'Today,'), 1), (('Today,', 'researchers'), 1), (('researchers', 'from'), 1), (('from', 'around'), 1), (('around', 'the'), 1), (('the', 'world'), 1), (('world', 'are'), 1), (('are', 'validat-'), 1), (('validat-', 'ing'), 1), (('diagnoses', 'in'), 1), (('in', 'support'), 1), (('for', 'resubmission'), 1), (('resubmission', 'and'), 1), (('and', 'accep-'), 1), (('accep-', 'tance'), 1), (('tance', 'in'), 1), (('in', 'future'), 1), (('future', 'additions'), 1), (('additions', 'of'), 1), (('of', 'ICD.'), 1), (('ICD.', 'The'), 1), (('have', 'chosen'), 1), (('chosen', 'to'), 1), (('to', 'categorize'), 1), (('categorize', 'the'), 1), (('the', 'list'), 1), (('diagnoses', 'approved'), 1), (('approved', 'for'), 1), (('clinical', 'use'), 1), (('use', 'and'), 1), (('and', 'testing'), 1), (('testing', 'into'), 1), (('into', 'Diagnostic'), 1), (('Divisions,', 'which'), 1), (('which', 'is'), 1), (('for', 'an'), 1), (('tool', '(Chapter'), 1), (('(Chapter', '3)'), 1), (('3)', 'designed'), 1), (('to', 'readily'), 1), (('readily', 'identify'), 1), (('identify', 'an'), 1), (('an', 'appropriate'), 1), (('appropriate', 'nursing'), 1), (('diagnosis', 'from'), 1), (('from', 'data'), 1), (('collected', 'during'), 1), (('during', 'the'), 1), (('assessment', 'process.'), 1), (('The', 'Diagnostic'), 1), (('Diagnostic', 'Division'), 1), (('Division', 'label'), 1), (('included', 'following'), 1), (('the', 'Taxonomic'), 1), (('Taxonomic', 'label'), 1), (('label', 'under'), 1), (('heading.', 'Desired'), 1), (('Criteria', 'are'), 1), (('formulating', 'individual'), 1), (('to', 'support'), 1), (('the', 'evaluation'), 1), (('evaluation', 'process.'), 1), (('process.', 'Interventions'), 1), (('Interventions', 'in'), 1), (('this', 'pocket'), 1), (('pocket', 'guide'), 1), (('guide', 'are'), 1), (('are', 'primarily'), 1), (('primarily', 'directed'), 1), (('to', 'adult'), 1), (('adult', 'care'), 1), (('care', 'settings'), 1), (('settings', '(although'), 1), (('(although', 'general'), 1), (('general', 'age'), 1), (('age', 'span'), 1), (('span', 'considerations'), 1), (('considerations', 'are'), 1), (('are', 'included)'), 1), (('included)', 'and'), 1), (('listed', 'according'), 1), (('nursing', 'priorities.'), 1), (('priorities.', 'Some'), 1), (('Some', 'interventions'), 1), (('interventions', 'require'), 1), (('require', 'collaborative'), 1), (('collaborative', 'or'), 1), (('or', 'interdependent'), 1), (('interdependent', 'orders'), 1), (('orders', '(e.g.,'), 1), (('(e.g.,', 'medical,'), 1), (('medical,', 'psychiatric),'), 1), (('psychiatric),', 'and'), 1), (('nurse', 'will'), 1), (('will', 'need'), 1), (('to', 'determine'), 1), (('determine', 'when'), 1), (('when', 'this'), 1), (('this', 'is'), 1), (('is', 'necessary'), 1), (('necessary', 'and'), 1), (('and', 'take'), 1), (('take', 'the'), 1), (('appropriate', 'action.'), 1), (('action.', 'Although'), 1), (('Although', 'all'), 1), (('all', 'defining'), 1), (('characteristics', 'are'), 1), (('are', 'listed,'), 1), (('listed,', 'interven-'), 1), (('tions', 'that'), 1), (('that', 'address'), 1), (('address', 'specialty'), 1), (('specialty', 'areas'), 1), (('areas', 'outside'), 1), (('outside', 'the'), 1), (('book', 'are'), 1), (('not', 'routinely'), 1), (('routinely', 'presented'), 1), (('presented', '(e.g.,'), 1), (('(e.g.,', 'obstetrics/gynecology/pedi-'), 1), (('obstetrics/gynecology/pedi-', 'atrics)'), 1), (('atrics)', 'except'), 1), (('except', 'for'), 1), (('for', 'diagnoses'), 1), (('diagnoses', 'that'), 1), (('are', 'infancy-oriented,'), 1), (('infancy-oriented,', 'such'), 1), (('as', 'Breastfeeding,'), 1), (('Breastfeeding,', 'ineffective;'), 1), (('ineffective;', 'Infant'), 1), (('Behavior,', 'disorganized;'), 1), (('disorganized;', 'and'), 1), (('and', 'Parent/Infant/Child'), 1), (('Parent/Infant/Child', 'Attachment,'), 1), (('for', 'impaired.'), 1), (('impaired.', 'For'), 1), (('For', 'exam-'), 1), (('exam-', 'ple,'), 1), (('ple,', 'when'), 1), (('when', 'addressing'), 1), (('addressing', 'deficient'), 1), (('Volume,', 'isotonic'), 1), (('isotonic', '(hemor-'), 1), (('(hemor-', 'rhage),'), 1), (('rhage),', 'the'), 1), (('is', 'directed'), 1), (('to', 'stop'), 1), (('stop', 'blood'), 1), (('blood', 'loss;'), 1), (('loss;', 'however,'), 1), (('however,', 'specific'), 1), (('specific', 'direction'), 1), (('direction', 'to'), 1), (('to', 'perform'), 1), (('perform', 'fundal'), 1), (('fundal', 'massage'), 1), (('massage', 'is'), 1), (('not', 'listed.'), 1), (('listed.', 'The'), 1), (('The', 'inclusion'), 1), (('inclusion', 'of'), 1), (('of', 'Documentation'), 1), (('Focus', 'suggestions'), 1), (('suggestions', 'is'), 1), (('is', 'to'), 1), (('to', 'remind'), 1), (('remind', 'the'), 1), (('nurse', 'of'), 1), (('importance', 'and'), 1), (('and', 'necessity'), 1), (('necessity', 'of'), 1), (('of', 'recording'), 1), (('recording', 'the'), 1), (('process.', 'Finally,'), 1), (('Finally,', 'in'), 1), (('in', 'recognition'), 1), (('recognition', 'of'), 1), (('the', 'ongoing'), 1), (('ongoing', 'work'), 1), (('work', 'of'), 1), (('of', 'numerous'), 1), (('numerous', 'researchers'), 1), (('researchers', 'over'), 1), (('over', 'the'), 1), (('the', 'past'), 1), (('past', '15'), 1), (('15', 'years,'), 1), (('years,', 'the'), 1), (('have', 'referenced'), 1), (('referenced', 'the'), 1), (('the', 'Nursing'), 1), (('Interventions', 'and'), 1), (('and', 'Outcomes'), 1), (('Outcomes', 'labels'), 1), (('labels', 'developed'), 1), (('developed', 'by'), 1), (('the', 'Iowa'), 1), (('Iowa', 'Intervention'), 1), (('Intervention', 'Projects'), 1), (('Projects', '(Bulechek'), 1), (('(Bulechek', '&'), 1), (('&', 'McCloskey;'), 1), (('McCloskey;', 'Johnson,'), 1), (('Johnson,', 'Mass,'), 1), (('Mass,', '&'), 1), (('&', 'Moorhead).'), 1), (('Moorhead).', 'These'), 1), (('These', 'groups'), 1), (('groups', 'have'), 1), (('been', 'classify-'), 1), (('classify-', 'ing'), 1), (('and', 'outcomes'), 1), (('outcomes', 'to'), 1), (('to', 'predict'), 1), (('predict', 'resource'), 1), (('resource', 'requirements'), 1), (('requirements', 'and'), 1), (('and', 'measure'), 1), (('measure', 'outcomes,'), 1), (('outcomes,', 'thereby'), 1), (('thereby', 'meeting'), 1), (('meeting', 'the'), 1), (('a', 'standardized'), 1), (('standardized', 'language'), 1), (('language', 'that'), 1), (('be', 'coded'), 1), (('coded', 'for'), 1), (('for', 'computer'), 1), (('computer', 'and'), 1), (('reimbursement', 'purposes.'), 1), (('purposes.', 'As'), 1), (('As', 'an'), 1), (('an', 'introduction'), 1), (('introduction', 'to'), 1), (('this', 'work'), 1), (('work', 'in'), 1), (('in', 'progress,'), 1), (('progress,', 'sample'), 1), (('sample', 'NIC'), 1), (('NIC', 'and'), 1), (('and', 'NOC'), 1), (('NOC', 'labels'), 1), (('labels', 'have'), 1), (('been', 'included'), 1), (('included', 'under'), 1), (('under', 'the'), 1), (('the', 'heading'), 1), (('heading', 'Sample'), 1), (('Interventions', '&'), 1), (('&', 'Outcomes'), 1), (('Outcomes', 'Classifications'), 1), (('Classifications', 'at'), 1), (('the', 'conclusion'), 1), (('conclusion', 'of'), 1), (('of', 'each'), 1), (('diagnosis', 'section.'), 1), (('section.', 'The'), 1), (('various', 'publica-'), 1), (('publica-', 'tions'), 1), (('tions', 'by'), 1), (('by', 'Joanne'), 1), (('Joanne', 'C.'), 1), (('C.', 'McCloskey'), 1), (('McCloskey', 'and'), 1), (('and', 'Marion'), 1), (('Marion', 'Johnson'), 1), (('Johnson', 'for'), 1), (('more', 'in-'), 1), (('in-', 'depth'), 1), (('depth', 'information.'), 1), (('information.', 'H'), 1), (('E', 'Chapter'), 1), (('Chapter', '5'), 1), (('5', 'presents'), 1), (('presents', 'over'), 1), (('over', '400'), 1), (('400', 'disorders/health'), 1), (('disorders/health', 'conditions'), 1), (('conditions', 'reflecting'), 1), (('reflecting', 'all'), 1), (('all', 'specialty'), 1), (('specialty', 'areas,'), 1), (('areas,', 'with'), 1), (('with', 'associated'), 1), (('associated', 'nursing'), 1), (('diagnoses', 'written'), 1), (('written', 'as'), 1), (('as', 'client'), 1), (('diagnostic', 'statements'), 1), (('statements', 'that'), 1), (('the', '“related'), 1), (('“related', 'to”'), 1), (('to”', 'and'), 1), (('and', '“evidenced'), 1), (('“evidenced', 'by”'), 1), (('by”', 'components.'), 1), (('components.', 'This'), 1), (('This', 'section'), 1), (('section', 'will'), 1), (('will', 'facilitate'), 1), (('facilitate', 'and'), 1), (('and', 'help'), 1), (('help', 'validate'), 1), (('validate', 'the'), 1), (('and', 'problem/need'), 1), (('problem/need', 'identifica-'), 1), (('tion', 'steps'), 1), (('process.', 'As'), 1), (('As', 'noted,'), 1), (('noted,', 'with'), 1), (('with', 'few'), 1), (('few', 'exceptions,'), 1), (('exceptions,', 'we'), 1), (('have', 'presented'), 1), (('presented', 'NANDA’s'), 1), (('NANDA’s', 'recommendations'), 1), (('recommendations', 'as'), 1), (('as', 'formulated.'), 1), (('formulated.', 'We'), 1), (('We', 'support'), 1), (('the', 'belief'), 1), (('belief', 'that'), 1), (('that', 'practicing'), 1), (('practicing', 'nurses'), 1), (('researchers', 'need'), 1), (('to', 'study,'), 1), (('study,', 'use,'), 1), (('use,', 'and'), 1), (('and', 'evalu-'), 1), (('evalu-', 'ate'), 1), (('ate', 'the'), 1), (('as', 'presented.'), 1), (('presented.', 'Nurses'), 1), (('Nurses', 'can'), 1), (('be', 'creative'), 1), (('creative', 'as'), 1), (('as', 'they'), 1), (('they', 'use'), 1), (('the', 'standardized'), 1), (('standardized', 'language,'), 1), (('language,', 'redefining'), 1), (('redefining', 'and'), 1), (('and', 'sharing'), 1), (('sharing', 'information'), 1), (('information', 'as'), 1), (('used', 'with'), 1), (('with', 'individual'), 1), (('individual', 'patients.'), 1), (('patients.', 'As'), 1), (('new', 'nurs-'), 1), (('ing', 'diagnoses'), 1), (('are', 'developed,'), 1), (('developed,', 'it'), 1), (('data', 'they'), 1), (('they', 'encompass'), 1), (('encompass', 'are'), 1), (('are', 'added'), 1), (('current', 'database.'), 1), (('database.', 'As'), 1), (('As', 'part'), 1), (('the', 'process'), 1), (('process', 'by'), 1), (('by', 'clinicians,'), 1), (('researchers', 'across'), 1), (('across', 'practice'), 1), (('practice', 'specialties'), 1), (('specialties', 'and'), 1), (('and', 'academic'), 1), (('academic', 'settings'), 1), (('settings', 'to'), 1), (('to', 'define,'), 1), (('define,', 'test,'), 1), (('test,', 'and'), 1), (('refine', 'nurs-'), 1), (('ing', 'diagnosis,'), 1), (('diagnosis,', 'nurses'), 1), (('nurses', 'are'), 1), (('are', 'encouraged'), 1), (('to', 'share'), 1), (('share', 'insights'), 1), (('insights', 'and'), 1), (('and', 'ideas'), 1), (('ideas', 'with'), 1), (('with', 'NANDA'), 1), (('NANDA', 'at'), 1), (('following', 'address:'), 1), (('address:', 'NANDA'), 1), (('NANDA', 'International,'), 1), (('International,', '1211'), 1), (('1211', 'Locust'), 1), (('Locust', 'Street,'), 1), (('Street,', 'Philadelphia,'), 1), (('PA', '19107,'), 1), (('19107,', 'USA;'), 1), (('USA;', 'e-mail:'), 1), (('e-mail:', 'nanda@rmpinc.com.'), 1), (('nanda@rmpinc.com.', 'H'), 1), (('E', 'Many'), 1), (('Many', 'years'), 1), (('years', 'ago,'), 1), (('ago,', 'the'), 1), (('profession', 'identified'), 1), (('a', 'problem-'), 1), (('problem-', 'solving'), 1), (('solving', 'process'), 1), (('process', 'that'), 1), (('that', '“combines'), 1), (('“combines', 'the'), 1), (('most', 'desirable'), 1), (('desirable', 'elements'), 1), (('the', 'art'), 1), (('art', 'of'), 1), (('most', 'relevant'), 1), (('relevant', 'elements'), 1), (('of', 'systems'), 1), (('systems', 'theory,'), 1), (('theory,', 'using'), 1), (('the', 'scientific'), 1), (('scientific', 'method”'), 1), (('method”', '(Shore,'), 1), (('(Shore,', '1988).'), 1), (('1988).', 'The'), 1), (('The', 'term'), 1), (('term', 'nursing'), 1), (('process', 'was'), 1), (('was', 'introduced'), 1), (('introduced', 'in'), 1), (('the', '1950s'), 1), (('1950s', 'and'), 1), (('and', 'has'), 1), (('has', 'gained'), 1), (('gained', 'national'), 1), (('national', 'acceptance'), 1), (('acceptance', 'as'), 1), (('for', 'providing'), 1), (('effective', 'nursing'), 1), (('care.', 'It'), 1), (('is', 'now'), 1), (('now', 'included'), 1), (('the', 'conceptual'), 1), (('conceptual', 'framework'), 1), (('all', 'nurs-'), 1), (('ing', 'curricula'), 1), (('curricula', 'and'), 1), (('is', 'accepted'), 1), (('accepted', 'in'), 1), (('the', 'legal'), 1), (('legal', 'definition'), 1), (('definition', 'of'), 1), (('nursing', 'in'), 1), (('nurse', 'practice'), 1), (('practice', 'acts'), 1), (('acts', 'of'), 1), (('of', 'most'), 1), (('most', 'states.'), 1), (('states.', 'This'), 1), (('This', 'nursing'), 1), (('is', 'central'), 1), (('central', 'to'), 1), (('actions', 'in'), 1), (('any', 'setting,'), 1), (('setting,', 'because'), 1), (('because', 'it'), 1), (('is', 'an'), 1), (('an', 'efficient'), 1), (('efficient', 'method'), 1), (('method', 'of'), 1), (('of', 'organizing'), 1), (('organizing', 'thought'), 1), (('thought', 'processes'), 1), (('processes', 'for'), 1), (('clinical', 'decision'), 1), (('making', 'and'), 1), (('and', 'problem'), 1), (('problem', 'solving.'), 1), (('solving.', 'Use'), 1), (('process', 'requires'), 1), (('requires', 'the'), 1), (('the', 'skills'), 1), (('skills', 'of'), 1), (('of', '(1)'), 1), (('(1)', 'assess-'), 1), (('assess-', 'ment'), 1), (('ment', '(systematic'), 1), (('(systematic', 'collection'), 1), (('data', 'relating'), 1), (('relating', 'to'), 1), (('to', 'clients'), 1), (('clients', 'and'), 1), (('and', 'their'), 1), (('their', 'needs),'), 1), (('needs),', '(2)'), 1), (('(2)', 'problem/need'), 1), (('problem/need', 'identification'), 1), (('identification', '(analysis'), 1), (('(analysis', 'of'), 1), (('of', 'data),'), 1), (('data),', '(3)'), 1), (('(3)', 'planning'), 1), (('planning', '(setting'), 1), (('(setting', 'goals,'), 1), (('goals,', 'choice'), 1), (('of', 'solutions),'), 1), (('solutions),', '(4)'), 1), (('(4)', 'implementa-'), 1), (('implementa-', 'tion'), 1), (('tion', '(putting'), 1), (('(putting', 'the'), 1), (('plan', 'into'), 1), (('into', 'action),'), 1), (('action),', 'and'), 1), (('and', '(5)'), 1), (('(5)', 'evaluation'), 1), (('evaluation', '(assess-'), 1), (('(assess-', 'ing'), 1), (('ing', 'the'), 1), (('and', 'changing'), 1), (('changing', 'the'), 1), (('as', 'indicated'), 1), (('indicated', 'by'), 1), (('current', 'needs).'), 1), (('needs).', 'Although'), 1), (('Although', 'these'), 1), (('these', 'skills'), 1), (('presented', 'as'), 1), (('as', 'separate,'), 1), (('separate,', 'individual'), 1), (('individual', 'activities,'), 1), (('activities,', 'they'), 1), (('and', 'form'), 1), (('form', 'a'), 1), (('a', 'continuous'), 1), (('continuous', 'circle'), 1), (('circle', 'of'), 1), (('of', 'thought'), 1), (('and', 'action.'), 1), (('action.', 'To'), 1), (('To', 'use'), 1), (('use', 'this'), 1), (('nurse', 'must'), 1), (('must', 'demonstrate'), 1), (('demonstrate', 'fundamental'), 1), (('fundamental', 'abilities'), 1), (('abilities', 'of'), 1), (('of', 'knowledge,'), 1), (('knowledge,', 'creativity,'), 1), (('creativity,', 'adaptability,'), 1), (('adaptability,', 'commitment,'), 1), (('commitment,', 'trust,'), 1), (('trust,', 'and'), 1), (('and', 'leadership.'), 1), (('leadership.', 'In'), 1), (('addition,', 'intelligence'), 1), (('intelligence', 'and'), 1), (('and', 'interpersonal'), 1), (('interpersonal', 'and'), 1), (('and', 'technical'), 1), (('technical', 'skills'), 1), (('are', 'important.'), 1), (('important.', 'Because'), 1), (('Because', 'decision'), 1), (('making', 'is'), 1), (('is', 'crucial'), 1), (('crucial', 'to'), 1), (('each', 'step'), 1), (('step', 'of'), 1), (('the', 'process,'), 1), (('following', 'assumptions'), 1), (('assumptions', 'are'), 1), (('important', 'for'), 1), (('to', 'consider:'), 1), (('consider:', '•'), 1), (('a', 'human'), 1), (('human', 'being'), 1), (('being', 'who'), 1), (('who', 'has'), 1), (('has', 'worth'), 1), (('worth', 'and'), 1), (('and', 'dignity.'), 1), (('dignity.', '•'), 1), (('•', 'There'), 1), (('There', 'are'), 1), (('are', 'basic'), 1), (('basic', 'human'), 1), (('human', 'needs'), 1), (('needs', 'that'), 1), (('that', 'must'), 1), (('be', 'met,'), 1), (('met,', 'and'), 1), (('and', 'when'), 1), (('when', 'they'), 1), (('are', 'not,'), 1), (('not,', 'problems'), 1), (('problems', 'arise,'), 1), (('arise,', 'requiring'), 1), (('requiring', 'interventions'), 1), (('interventions', 'by'), 1), (('by', 'another'), 1), (('another', 'person'), 1), (('person', 'until'), 1), (('until', 'and'), 1), (('individual', 'can'), 1), (('can', 'resume'), 1), (('resume', 'responsibility'), 1), (('for', 'self.'), 1), (('self.', '•'), 1), (('client', 'has'), 1), (('a', 'right'), 1), (('right', 'to'), 1), (('to', 'quality'), 1), (('quality', 'health'), 1), (('health', 'and'), 1), (('and', 'nursing'), 1), (('care', 'delivered'), 1), (('delivered', 'with'), 1), (('with', 'interest,'), 1), (('interest,', 'compassion,'), 1), (('compassion,', 'competence,'), 1), (('competence,', 'and'), 1), (('a', 'focus'), 1), (('focus', 'on'), 1), (('on', 'wellness'), 1), (('wellness', 'and'), 1), (('and', 'prevention'), 1), (('of', 'illness.'), 1), (('illness.', 'Nurses'), 1), (('Nurses', 'have'), 1), (('have', 'struggled'), 1), (('struggled', 'for'), 1), (('for', 'years'), 1), (('years', 'to'), 1), (('nursing', 'by'), 1), (('by', 'identi-'), 1), (('identi-', 'fying'), 1), (('fying', 'the'), 1), (('the', 'goal'), 1), (('goal', 'of'), 1), (('of', 'attaining'), 1), (('attaining', 'professional'), 1), (('professional', 'status.'), 1), (('status.', 'To'), 1), (('To', 'this'), 1), (('this', 'end,'), 1), (('end,', 'nurses'), 1), (('nurses', 'meet,'), 1), (('meet,', 'discuss,'), 1), (('discuss,', 'and'), 1), (('and', 'conduct'), 1), (('conduct', 'research'), 1), (('research', '(in'), 1), (('(in', 'both'), 1), (('the', 'national'), 1), (('national', 'and'), 1), (('and', 'international'), 1), (('international', 'arenas)'), 1), (('arenas)', 'to'), 1), (('identify', 'and'), 1), (('and', 'label'), 1), (('label', 'client'), 1), (('client', 'problems'), 1), (('problems', 'and'), 1), (('and', 'responses'), 1), (('responses', 'that'), 1), (('that', 'fall'), 1), (('fall', 'within'), 1), (('nursing', 'practice.'), 1), (('practice.', 'Changes'), 1), (('delivery', 'and'), 1), (('reimbursement', 'methods,'), 1), (('methods,', 'the'), 1), (('the', 'advent'), 1), (('advent', 'of'), 1), (('health', 'maintenance'), 1), (('maintenance', 'organizations'), 1), (('organizations', '(HMOs),'), 1), (('(HMOs),', 'and'), 1), (('alternative', 'healthcare'), 1), (('settings', '(home'), 1), (('(home', 'health,'), 1), (('health,', 'extended-care'), 1), (('extended-care', 'facilities,'), 1), (('facilities,', 'and'), 1), (('the', 'like)'), 1), (('like)', 'continue'), 1), (('to', 'increase'), 1), (('increase', 'the'), 1), (('a', 'commonality'), 1), (('commonality', 'of'), 1), (('of', 'communi-'), 1), (('communi-', 'cation'), 1), (('cation', 'to'), 1), (('client', 'who'), 1), (('who', 'moves'), 1), (('moves', 'from'), 1), (('from', 'one'), 1), (('one', 'setting/area'), 1), (('setting/area', 'to'), 1), (('to', 'another.'), 1), (('another.', 'Evaluation'), 1), (('and', 'improvement'), 1), (('improvement', 'of'), 1), (('of', 'provided'), 1), (('provided', 'services'), 1), (('services', 'are'), 1), (('an', 'important'), 1), (('important', 'part'), 1), (('process,', 'and'), 1), (('and', 'both'), 1), (('both', 'providers'), 1), (('providers', 'and'), 1), (('and', 'users'), 1), (('care', 'benefit'), 1), (('benefit', 'from'), 1), (('from', 'accurate'), 1), (('accurate', 'docu-'), 1), (('docu-', 'mentation'), 1), (('mentation', 'of'), 1), (('provided', 'and'), 1), (('client’s', 'response.'), 1), (('response.', 'The'), 1), (('The', 'use'), 1), (('diagnosis', '(ND)'), 1), (('(ND)', 'provides'), 1), (('provides', 'nurses'), 1), (('nurses', 'with'), 1), (('with', 'a'), 1), (('common', 'language'), 1), (('language', 'for'), 1), (('for', 'identifying'), 1), (('identifying', 'client'), 1), (('client', 'needs,'), 1), (('needs,', 'aids'), 1), (('aids', 'in'), 1), (('nursing', 'interventions,'), 1), (('interventions,', 'and'), 1), (('and', 'provides'), 1), (('provides', 'guidance'), 1), (('guidance', 'for'), 1), (('for', 'eval-'), 1), (('eval-', 'uation.'), 1), (('uation.', 'It'), 1), (('It', 'promotes'), 1), (('promotes', 'improved'), 1), (('improved', 'communication'), 1), (('among', 'nurses,'), 1), (('nurses,', 'shifts,'), 1), (('shifts,', 'units,'), 1), (('units,', 'other'), 1), (('other', 'healthcare'), 1), (('healthcare', 'providers,'), 1), (('providers,', 'and'), 1), (('alternative', 'care'), 1), (('care', 'settings.'), 1), (('settings.', 'This'), 1), (('This', 'language'), 1), (('language', 'further'), 1), (('further', 'provides'), 1), (('a', 'base'), 1), (('for', 'clinicians,'), 1), (('researchers', 'to'), 1), (('to', 'document,'), 1), (('document,', 'validate,'), 1), (('validate,', 'and/or'), 1), (('and/or', 'alter'), 1), (('alter', 'the'), 1), (('the', 'process.'), 1), (('Policy', 'Statements'), 1), (('Statements', '(1980/1995)'), 1), (('(1980/1995)', 'and'), 1), (('of', 'Practice'), 1), (('Practice', '(1973/1991)'), 1), (('(1973/1991)', 'have'), 1), (('have', 'provided'), 1), (('the', 'practice'), 1), (('practice', 'setting.'), 1), (('setting.', 'Currently,'), 1), (('Currently,', 'there'), 1), (('there', 'are'), 1), (('are', 'differing'), 1), (('differing', 'definitions'), 1), (('definitions', 'of'), 1), (('nursing', 'diagno-'), 1), (('diagno-', 'sis.'), 1), (('sis.', 'NANDA'), 1), (('(formerly', 'The'), 1), (('The', 'North'), 1), (('Association)', 'has'), 1), (('has', 'accepted'), 1), (('accepted', 'the'), 1), (('following', 'definition:'), 1), (('definition:', 'Nursing'), 1), (('Nursing', 'diagnosis'), 1), (('a', 'clinical'), 1), (('clinical', 'judgment'), 1), (('judgment', 'about'), 1), (('about', 'individ-'), 1), (('individ-', 'ual,'), 1), (('ual,', 'family,'), 1), (('family,', 'or'), 1), (('or', 'community'), 1), (('community', 'responses'), 1), (('and', 'poten-'), 1), (('poten-', 'tial'), 1), (('tial', 'health'), 1), (('health', 'problems/life'), 1), (('problems/life', 'processes.'), 1), (('processes.', 'Nursing'), 1), (('diagnoses', 'provide'), 1), (('for', 'selection'), 1), (('selection', 'of'), 1), (('achieve', 'outcomes'), 1), (('outcomes', 'for'), 1), (('for', 'which'), 1), (('is', 'accountable.'), 1), (('accountable.', 'Although'), 1), (('Although', 'it'), 1), (('it', 'continues'), 1), (('to', 'evolve,'), 1), (('evolve,', 'the'), 1), (('list', 'provides'), 1), (('provides', 'diagnostic'), 1), (('diagnostic', 'labels'), 1), (('labels', 'and'), 1), (('information', 'for'), 1), (('for', 'appropriate'), 1), (('appropriate', 'use.'), 1), (('use.', 'Nurses'), 1), (('Nurses', 'need'), 1), (('become', 'familiar'), 1), (('the', 'diagnoses,'), 1), (('diagnoses,', 'identifying'), 1), (('identifying', 'strengths'), 1), (('strengths', 'and'), 1), (('and', 'weaknesses,'), 1), (('weaknesses,', 'thus'), 1), (('thus', 'promot-'), 1), (('promot-', 'ing'), 1), (('ing', 'research'), 1), (('research', 'and'), 1), (('and', 'further'), 1), (('further', 'development.'), 1), (('development.', 'Although'), 1), (('Although', 'nursing'), 1), (('nursing', 'prac-'), 1), (('prac-', 'tice'), 1), (('tice', 'is'), 1), (('is', 'more'), 1), (('than', 'nursing'), 1), (('of', 'standardized'), 1), (('standardized', 'nursing'), 1), (('nursing', 'language'), 1), (('language', 'can'), 1), (('can', 'help'), 1), (('define', 'and'), 1), (('to', 'refine'), 1), (('refine', 'the'), 1), (('profession.', 'Also,'), 1), (('Also,', 'NDs'), 1), (('used', 'within'), 1), (('within', 'many'), 1), (('many', 'existing'), 1), (('existing', 'conceptual'), 1), (('conceptual', 'frame-'), 1), (('frame-', 'works'), 1), (('works', 'because'), 1), (('a', 'generic'), 1), (('generic', 'approach'), 1), (('approach', 'adaptable'), 1), (('adaptable', 'to'), 1), (('to', 'all.'), 1), (('all.', 'Whereas'), 1), (('Whereas', 'nursing'), 1), (('actions', 'were'), 1), (('were', 'once'), 1), (('once', 'based'), 1), (('on', 'variables'), 1), (('variables', 'such'), 1), (('as', 'signs'), 1), (('and', 'symptoms,'), 1), (('symptoms,', 'diagnostic'), 1), (('diagnostic', 'tests,'), 1), (('tests,', 'and'), 1), (('and', 'medical'), 1), (('NDs', 'are'), 1), (('a', 'uniform'), 1), (('uniform', 'way'), 1), (('way', 'of'), 1), (('of', 'identifying,'), 1), (('identifying,', 'focusing'), 1), (('focusing', 'on,'), 1), (('on,', 'and'), 1), (('and', 'deal-'), 1), (('deal-', 'ing'), 1), (('ing', 'with'), 1), (('client', 'problems/needs.'), 1), (('problems/needs.', 'The'), 1), (('The', 'accurate'), 1), (('accurate', 'nursing'), 1), (('nursing', 'N'), 1), (('E', 'diagnosis'), 1), (('diagnosis', 'of'), 1), (('client', 'need'), 1), (('need', 'can'), 1), (('can', 'set'), 1), (('set', 'a'), 1), (('a', 'standard'), 1), (('standard', 'for'), 1), (('nursing', 'practice,'), 1), (('practice,', 'thus'), 1), (('thus', 'leading'), 1), (('leading', 'to'), 1), (('to', 'improved'), 1), (('improved', 'care'), 1), (('care', 'delivery.'), 1), (('delivery.', 'Nursing'), 1), (('and', 'medicine'), 1), (('medicine', 'are'), 1), (('have', 'implications'), 1), (('implications', 'for'), 1), (('for', 'each'), 1), (('each', 'other.'), 1), (('other.', 'This'), 1), (('This', 'interrelationship'), 1), (('interrelationship', 'includes'), 1), (('the', 'exchange'), 1), (('exchange', 'of'), 1), (('of', 'data,'), 1), (('data,', 'the'), 1), (('the', 'sharing'), 1), (('sharing', 'of'), 1), (('of', 'ideas/thinking,'), 1), (('ideas/thinking,', 'and'), 1), (('of', 'plans'), 1), (('care', 'that'), 1), (('all', 'data'), 1), (('data', 'pertinent'), 1), (('client', 'as'), 1), (('the', 'family/significant'), 1), (('family/significant', 'other(s)'), 1), (('other(s)', '(SO[s]).'), 1), (('(SO[s]).', 'This'), 1), (('This', 'relationship'), 1), (('relationship', 'also'), 1), (('also', 'extends'), 1), (('extends', 'to'), 1), (('to', 'all'), 1), (('all', 'disciplines'), 1), (('disciplines', 'that'), 1), (('have', 'contact'), 1), (('contact', 'with'), 1), (('individual/family.', 'Although'), 1), (('Although', 'nurses'), 1), (('nurses', 'work'), 1), (('work', 'within'), 1), (('medical', 'and'), 1), (('and', 'psychosocial'), 1), (('psychosocial', 'domains,'), 1), (('domains,', 'nursing’s'), 1), (('nursing’s', 'phenomena'), 1), (('of', 'concern'), 1), (('concern', 'are'), 1), (('the', 'patterns'), 1), (('human', 'response,'), 1), (('response,', 'not'), 1), (('not', 'disease'), 1), (('disease', 'processes.'), 1), (('processes.', 'Therefore,'), 1), (('Therefore,', 'nursing'), 1), (('diagnoses', 'usually'), 1), (('usually', 'do'), 1), (('do', 'not'), 1), (('not', 'parallel'), 1), (('parallel', 'or'), 1), (('or', 'mimic'), 1), (('mimic', 'medical/psychiatric'), 1), (('medical/psychiatric', 'diagnoses'), 1), (('diagnoses', 'but'), 1), (('but', 'do'), 1), (('do', 'involve'), 1), (('involve', 'independent'), 1), (('independent', 'nursing'), 1), (('activities', 'as'), 1), (('as', 'collaborative'), 1), (('collaborative', 'roles'), 1), (('roles', 'and'), 1), (('and', 'actions.'), 1), (('actions.', 'Thus,'), 1), (('Thus,', 'the'), 1), (('the', 'written'), 1), (('care', 'contains'), 1), (('contains', 'more'), 1), (('than', 'actions'), 1), (('actions', 'initiated'), 1), (('initiated', 'by'), 1), (('by', 'medical'), 1), (('medical', 'orders.'), 1), (('orders.', 'It'), 1), (('It', 'contains'), 1), (('a', 'combination'), 1), (('combination', 'of'), 1), (('the', 'orders'), 1), (('orders', 'and'), 1), (('and', 'plans'), 1), (('care', 'of'), 1), (('all', 'involved'), 1), (('involved', 'disciplines.'), 1), (('disciplines.', 'The'), 1), (('is', 'responsible'), 1), (('for', 'seeing'), 1), (('seeing', 'that'), 1), (('that', 'these'), 1), (('these', 'different'), 1), (('different', 'activities'), 1), (('activities', 'are'), 1), (('are', 'pulled'), 1), (('pulled', 'together'), 1), (('together', 'into'), 1), (('into', 'a'), 1), (('a', 'functional'), 1), (('functional', 'plan'), 1), (('plan', 'to'), 1), (('provide', 'holistic'), 1), (('holistic', 'care'), 1), (('individual/family.', 'In'), 1), (('In', 'using'), 1), (('using', 'ND'), 1), (('ND', 'as'), 1), (('as', 'an'), 1), (('integral', 'part'), 1), (('profession', 'has'), 1), (('has', 'identified'), 1), (('a', 'body'), 1), (('body', 'of'), 1), (('of', 'knowledge'), 1), (('knowledge', 'that'), 1), (('that', 'contributes'), 1), (('contributes', 'to'), 1), (('the', 'prevention'), 1), (('of', 'illness'), 1), (('illness', 'as'), 1), (('the', 'mainte-'), 1), (('mainte-', 'nance'), 1), (('nance', 'and/or'), 1), (('and/or', 'restoration'), 1), (('restoration', 'of'), 1), (('health', '(or'), 1), (('(or', 'relief'), 1), (('relief', 'of'), 1), (('of', 'pain'), 1), (('pain', 'and'), 1), (('and', 'discomfort'), 1), (('discomfort', 'when'), 1), (('when', 'a'), 1), (('a', 'return'), 1), (('return', 'to'), 1), (('to', 'health'), 1), (('health', 'is'), 1), (('not', 'possible).'), 1), (('possible).', 'Because'), 1), (('basis', 'of'), 1), (('all', 'nursing'), 1), (('nursing', 'actions,'), 1), (('actions,', 'it'), 1), (('the', 'essence'), 1), (('essence', 'of'), 1), (('of', 'nursing.'), 1), (('nursing.', 'The'), 1), (('The', 'process'), 1), (('is', 'flexible'), 1), (('flexible', 'and'), 1), (('and', 'yet'), 1), (('yet', 'sufficiently'), 1), (('sufficiently', 'structured'), 1), (('structured', 'so'), 1), (('so', 'as'), 1), (('the', 'base'), 1), (('nursing', 'actions.'), 1), (('actions.', 'It'), 1), (('It', 'can'), 1), (('applied', 'in'), 1), (('any', 'healthcare'), 1), (('healthcare', 'or'), 1), (('or', 'educational'), 1), (('educational', 'setting,'), 1), (('setting,', 'in'), 1), (('any', 'theo-'), 1), (('theo-', 'retical'), 1), (('retical', 'or'), 1), (('or', 'conceptual'), 1), (('conceptual', 'framework,'), 1), (('framework,', 'and'), 1), (('and', 'within'), 1), (('the', 'context'), 1), (('context', 'of'), 1), (('of', 'any'), 1), (('any', 'nursing'), 1), (('nursing', 'philosophy.'), 1), (('philosophy.', 'Subsequent'), 1), (('Subsequent', 'chapters'), 1), (('chapters', 'help'), 1), (('nurse', 'apply'), 1), (('apply', 'the'), 1), (('become', 'more'), 1), (('more', 'familiar'), 1), (('current', 'NANDA-approved'), 1), (('NANDA-approved', 'list'), 1), (('of', 'NDs,'), 1), (('NDs,', 'their'), 1), (('their', 'definitions,'), 1), (('definitions,', 'related/risk'), 1), (('factors', '(etiology),'), 1), (('(etiology),', 'and'), 1), (('defining', 'characteristics.'), 1), (('characteristics.', 'Coupled'), 1), (('Coupled', 'with'), 1), (('with', 'desired'), 1), (('most', 'commonly'), 1), (('commonly', 'used'), 1), (('used', 'interventions,'), 1), (('interventions,', 'the'), 1), (('nurse', 'can'), 1), (('can', 'write,'), 1), (('write,', 'imple-'), 1), (('imple-', 'ment,'), 1), (('ment,', 'and'), 1), (('document', 'an'), 1), (('an', 'individualized'), 1), (('individualized', 'plan'), 1), (('care.', 'T'), 1), (('S', 'Because'), 1), (('Because', 'of'), 1), (('of', 'their'), 1), (('their', 'hectic'), 1), (('hectic', 'schedules,'), 1), (('schedules,', 'many'), 1), (('many', 'nurses'), 1), (('nurses', 'believe'), 1), (('believe', 'that'), 1), (('that', 'time'), 1), (('time', 'spent'), 1), (('spent', 'writing'), 1), (('writing', 'plans'), 1), (('is', 'time'), 1), (('time', 'taken'), 1), (('taken', 'away'), 1), (('away', 'from'), 1), (('from', 'client'), 1), (('care.', 'Plans'), 1), (('care', 'have'), 1), (('been', 'viewed'), 1), (('viewed', 'as'), 1), (('as', '“busy'), 1), (('“busy', 'work”'), 1), (('work”', 'to'), 1), (('to', 'satisfy'), 1), (('satisfy', 'accreditation'), 1), (('accreditation', 'requirements'), 1), (('requirements', 'or'), 1), (('the', 'whims'), 1), (('whims', 'of'), 1), (('of', 'supervisors.'), 1), (('supervisors.', 'In'), 1), (('In', 'real-'), 1), (('real-', 'ity,'), 1), (('ity,', 'however,'), 1), (('however,', 'quality'), 1), (('quality', 'client'), 1), (('be', 'planned'), 1), (('planned', 'and'), 1), (('and', 'coordi-'), 1), (('coordi-', 'nated.'), 1), (('nated.', 'Properly'), 1), (('Properly', 'written'), 1), (('written', 'and'), 1), (('and', 'used'), 1), (('used', 'plans'), 1), (('care', 'can'), 1), (('can', 'provide'), 1), (('provide', 'direction'), 1), (('direction', 'and'), 1), (('and', 'continuity'), 1), (('by', 'facilitating'), 1), (('facilitating', 'communication'), 1), (('among', 'nurses'), 1), (('other', 'caregivers.'), 1), (('caregivers.', 'They'), 1), (('They', 'also'), 1), (('also', 'provide'), 1), (('provide', 'guide-'), 1), (('guide-', 'lines'), 1), (('lines', 'for'), 1), (('for', 'documentation'), 1), (('documentation', 'and'), 1), (('a', 'tool'), 1), (('tool', 'for'), 1), (('for', 'evaluating'), 1), (('evaluating', 'the'), 1), (('provided.', 'The'), 1), (('The', 'components'), 1), (('components', 'of'), 1), (('process.', 'Creating'), 1), (('Creating', 'a'), 1), (('care', 'begins'), 1), (('begins', 'with'), 1), (('the', 'collection'), 1), (('data', '(assessment).'), 1), (('(assessment).', 'The'), 1), (('client', 'database'), 1), (('database', 'consists'), 1), (('consists', 'of'), 1), (('of', 'subjective'), 1), (('subjective', 'and'), 1), (('and', 'objective'), 1), (('objective', 'information'), 1), (('information', 'encompassing'), 1), (('encompassing', 'the'), 1), (('various', 'concerns'), 1), (('concerns', 'reflected'), 1), (('reflected', 'in'), 1), (('Association)', 'list'), 1), (('(NDs)', '(Table'), 1), (('(Table', '2–1).'), 1), (('2–1).', 'Subjective'), 1), (('Subjective', 'data'), 1), (('are', 'reported'), 1), (('reported', 'by'), 1), (('client', '(and'), 1), (('(and', 'SOs)'), 1), (('SOs)', 'in'), 1), (('individual’s', 'own'), 1), (('own', 'words.'), 1), (('words.', 'This'), 1), (('This', 'information'), 1), (('information', 'includes'), 1), (('individual’s', 'perceptions'), 1), (('perceptions', 'and'), 1), (('and', 'what'), 1), (('what', 'he'), 1), (('she', 'wants'), 1), (('wants', 'to'), 1), (('to', 'share.'), 1), (('share.', 'It'), 1), (('important', 'to'), 1), (('to', 'accept'), 1), (('accept', 'what'), 1), (('what', 'is'), 1), (('is', 'reported'), 1), (('reported', 'because'), 1), (('the', '“expert”'), 1), (('“expert”', 'in'), 1), (('this', 'area.'), 1), (('area.', 'Objective'), 1), (('Objective', 'data'), 1), (('are', 'observed'), 1), (('observed', 'or'), 1), (('or', 'described'), 1), (('described', '(quantitatively'), 1), (('(quantitatively', 'or'), 1), (('or', 'qualitatively)'), 1), (('qualitatively)', 'and'), 1), (('include', 'diagnostic'), 1), (('diagnostic', 'testing'), 1), (('testing', 'and'), 1), (('and', 'physical'), 1), (('physical', 'exam-'), 1), (('exam-', 'ination'), 1), (('ination', 'findings.'), 1), (('findings.', 'Analysis'), 1), (('Analysis', 'of'), 1), (('the', 'collected'), 1), (('collected', 'data'), 1), (('data', 'leads'), 1), (('leads', 'to'), 1), (('the', 'iden-'), 1), (('iden-', 'tification'), 1), (('tification', 'of'), 1), (('of', 'problems'), 1), (('or', 'areas'), 1), (('of', 'concern/need.'), 1), (('concern/need.', 'These'), 1), (('These', 'problems'), 1), (('or', 'needs'), 1), (('needs', 'are'), 1), (('are', 'expressed'), 1), (('expressed', 'as'), 1), (('as', 'NDs.'), 1), (('NDs.', 'A'), 1), (('A', 'nursing'), 1), (('a', 'decision'), 1), (('decision', 'about'), 1), (('about', 'a'), 1), (('a', 'need/problem'), 1), (('need/problem', 'that'), 1), (('that', 'requires'), 1), (('requires', 'nursing'), 1), (('nursing', 'intervention'), 1), (('intervention', 'and'), 1), (('and', 'management.'), 1), (('The', 'need'), 1), (('need', 'may'), 1), (('be', 'anything'), 1), (('anything', 'that'), 1), (('that', 'interferes'), 1), (('interferes', 'with'), 1), (('the', 'quality'), 1), (('quality', 'of'), 1), (('of', 'life'), 1), (('life', 'the'), 1), (('is', 'used'), 1), (('to', 'and/or'), 1), (('and/or', 'desires.'), 1), (('desires.', 'It'), 1), (('It', 'includes'), 1), (('includes', 'concerns'), 1), (('concerns', 'of'), 1), (('client,', 'SOs,'), 1), (('SOs,', 'and/or'), 1), (('and/or', 'nurse.'), 1), (('nurse.', 'The'), 1), (('The', 'ND'), 1), (('ND', 'focuses'), 1), (('on', 'a'), 1), (('a', 'physical'), 1), (('physical', 'or'), 1), (('or', 'behav-'), 1), (('behav-', 'ioral'), 1), (('ioral', 'response,'), 1), (('response,', 'either'), 1), (('either', 'a'), 1), (('a', 'current'), 1), (('current', 'need'), 1), (('need', 'or'), 1), (('a', 'problem'), 1), (('problem', 'at'), 1), (('for', 'developing.'), 1), (('developing.', 'When'), 1), (('When', 'the'), 1), (('is', 'combined'), 1), (('the', 'individ-'), 1), (('individ-', 'ual’s'), 1), (('ual’s', 'specific'), 1), (('specific', 'related/risk'), 1), (('factors', 'and'), 1), (('characteristics', '(as'), 1), (('(as', 'appropriate),'), 1), (('appropriate),', 'a'), 1), (('statement', 'is'), 1), (('is', 'created.'), 1), (('created.', 'This'), 1), (('This', 'provides'), 1), (('provides', 'direction'), 1), (('direction', 'for'), 1), (('its', 'affective'), 1), (('affective', 'tone'), 1), (('tone', 'can'), 1), (('can', 'Activity'), 1), (('Activity', 'Intolerance'), 1), (('Intolerance', '[specify'), 1), (('level]', 'Activity'), 1), (('Activity', 'Intolerance,'), 1), (('Intolerance,', 'risk'), 1), (('for', 'Adjustment,'), 1), (('Adjustment,', 'impaired'), 1), (('impaired', '66–69'), 1), (('66–69', 'Airway'), 1), (('Airway', 'Clearance,'), 1), (('Clearance,', 'ineffective'), 1), (('ineffective', '69–72'), 1), (('69–72', 'Allergy'), 1), (('Response,', 'latex'), 1), (('latex', '73–75'), 1), (('73–75', 'Allergy'), 1), (('Response,', 'risk'), 1), (('for', 'latex'), 1), (('latex', '76–78'), 1), (('76–78', 'Anxiety'), 1), (('Anxiety', '[specify'), 1), (('level]', 'Anxiety,'), 1), (('83–86', 'Aspiration,'), 1), (('86–89', 'Attachment,'), 1), (('impaired', 'parent/infant/child'), 1), (('parent/infant/child', '89–92'), 1), (('89–92', 'Autonomic'), 1), (('Autonomic', 'Dysreflexia'), 1), (('Dysreflexia', '92–95'), 1), (('Autonomic', 'Dysreflexia,'), 1), (('Dysreflexia,', 'risk'), 1), (('95–97', 'Body'), 1), (('Body', 'Image,'), 1), (('Image,', 'disturbed'), 1), (('98–102', 'Body'), 1), (('Body', 'Temperature,'), 1), (('Temperature,', 'risk'), 1), (('102–104', 'Bowel'), 1), (('Bowel', 'Incontinence'), 1), (('Incontinence', 'Breastfeeding,'), 1), (('115–117', 'Breathing'), 1), (('Breathing', 'Pattern,'), 1), (('117–121', 'Cardiac'), 1), (('Cardiac', 'Output,'), 1), (('Output,', 'decreased'), 1), (('121–126', 'Caregiver'), 1), (('Role', 'Strain'), 1), (('Strain', '126–132'), 1), (('Role', 'Strain,'), 1), (('Strain,', 'risk'), 1), (('132–135', 'Communication,'), 1), (('Communication,', 'impaired'), 1), (('impaired', 'verbal'), 1), (('verbal', '*Communication,'), 1), (('*Communication,', 'readiness'), 1), (('139–143', 'Conflict,'), 1), (('Conflict,', 'decisional'), 1), (('decisional', '(specify)'), 1), (('(specify)', '144–147'), 1), (('144–147', 'Confusion,'), 1), (('Confusion,', 'acute'), 1), (('acute', '147–150'), 1), (('147–150', 'Confusion,'), 1), (('Confusion,', 'chronic'), 1), (('chronic', '150–153'), 1), (('150–153', 'Constipation'), 1), (('157–159', 'Constipation,'), 1), (('for', 'Coping,'), 1), (('community:', 'ineffective'), 1), (('ineffective', 'Coping,'), 1), (('community:', 'readiness'), 1), (('164–166', 'Coping,'), 1), (('Coping,', 'defensive'), 1), (('defensive', '166–169'), 1), (('166–169', 'Coping,'), 1), (('family:', 'compromised'), 1), (('169–172', 'Coping,'), 1), (('family:', 'disabled'), 1), (('disabled', '172–175'), 1), (('172–175', 'Coping,'), 1), (('family:', 'readiness'), 1), (('175–177', 'Coping,'), 1), (('Coping,', 'ineffective'), 1), (('ineffective', '178–182'), 1), (('178–182', '*Coping,'), 1), (('*Coping,', 'readiness'), 1), (('182–185', '*New'), 1), (('S', 'Death'), 1), (('Death', 'Syndrome,'), 1), (('for', 'sudden'), 1), (('sudden', 'infant'), 1), (('infant', '185–189'), 1), (('185–189', 'Denial,'), 1), (('Denial,', 'ineffective'), 1), (('ineffective', '189–191'), 1), (('189–191', 'Dentition,'), 1), (('191–194', 'Development,'), 1), (('194–197', 'Diarrhea'), 1), (('197–200', 'Disuse'), 1), (('Disuse', 'Syndrome,'), 1), (('200–205', 'Diversional'), 1), (('Diversional', 'Activity,'), 1), (('Activity,', 'deficient'), 1), (('205–208', 'Failure'), 1), (('to', 'Thrive,'), 1), (('Thrive,', 'adult'), 1), (('214–217', 'Falls,'), 1), (('for', '217–221'), 1), (('217–221', 'Family'), 1), (('Processes,', 'dysfunctional:'), 1), (('dysfunctional:', 'alcoholism'), 1), (('221–225', 'Family'), 1), (('Processes,', 'interrupted'), 1), (('225–228', '*Family'), 1), (('*Family', 'Processes,'), 1), (('Processes,', 'readiness'), 1), (('228–232', 'Fatigue'), 1), (('Fatigue', '232–236'), 1), (('232–236', 'Fear'), 1), (('Fear', '*Fluid'), 1), (('*Fluid', 'Balance,'), 1), (('Balance,', 'readiness'), 1), (('239–242', '[Fluid'), 1), (('[Fluid', 'Volume,'), 1), (('deficient', 'hyper/hypotonic]'), 1), (('hyper/hypotonic]', 'Fluid'), 1), (('deficient', '[isotonic]'), 1), (('[isotonic]', 'Fluid'), 1), (('Volume,', 'excess'), 1), (('249–252', 'Fluid'), 1), (('imbalanced', '254–256'), 1), (('254–256', 'Gas'), 1), (('Gas', 'Exchange,'), 1), (('Exchange,', 'impaired'), 1), (('256–260', 'Grieving,'), 1), (('Grieving,', 'anticipatory'), 1), (('anticipatory', '260–263'), 1), (('260–263', 'Grieving,'), 1), (('Grieving,', 'dysfunctional'), 1), (('dysfunctional', 'Growth'), 1), (('and', 'Development,'), 1), (('Development,', 'delayed'), 1), (('271–275', 'Health'), 1), (('Health', 'Maintenance,'), 1), (('Maintenance,', 'ineffective'), 1), (('275–278', 'Health-Seeking'), 1), (('Health-Seeking', 'Behaviors'), 1), (('Behaviors', '(specify)'), 1), (('278–281', 'Home'), 1), (('Home', 'Maintenance,'), 1), (('Maintenance,', 'impaired'), 1), (('281–283', 'Hopelessness'), 1), (('Hopelessness', 'Hyperthermia'), 1), (('Hyperthermia', '287–290'), 1), (('287–290', 'Hypothermia'), 1), (('Hypothermia', 'Infant'), 1), (('Behavior,', 'disorganized'), 1), (('Behavior,', 'readiness'), 1), (('301–303', 'Infant'), 1), (('Behavior,', 'risk'), 1), (('Infant', 'Feeding'), 1), (('Feeding', 'Pattern,'), 1), (('ineffective', '304–306'), 1), (('304–306', '*New'), 1), (('authors', 'N'), 1), (('E', 'Infection,'), 1), (('for', '307–310'), 1), (('307–310', 'Injury,'), 1), (('for', 'Injury,'), 1), (('for', 'perioperative'), 1), (('perioperative', 'positioning'), 1), (('positioning', '313–316'), 1), (('313–316', 'Intracranial'), 1), (('Intracranial', 'Adaptive'), 1), (('Adaptive', 'Capacity,'), 1), (('Capacity,', 'decreased'), 1), (('decreased', '316–319'), 1), (('316–319', 'Knowledge,'), 1), (('Knowledge,', 'deficient'), 1), (('deficient', '[Learning'), 1), (('[Learning', 'Need]'), 1), (('Need]', '(specify)'), 1), (('(specify)', '*Knowledge'), 1), (('*Knowledge', '(specify),'), 1), (('(specify),', 'readiness'), 1), (('328–331', 'Mobility,'), 1), (('impaired', 'bed'), 1), (('bed', '331–333'), 1), (('331–333', 'Mobility,'), 1), (('impaired', 'physical'), 1), (('physical', '333–337'), 1), (('333–337', 'Mobility,'), 1), (('impaired', 'wheelchair'), 1), (('wheelchair', '337–339'), 1), (('337–339', 'Noncompliance'), 1), (('Noncompliance', '[Adherence,'), 1), (('[Adherence,', 'ineffective]'), 1), (('ineffective]', '[specify]'), 1), (('[specify]', '343–347'), 1), (('343–347', 'Nutrition:'), 1), (('imbalanced,', 'less'), 1), (('requirements', 'Nutrition:'), 1), (('imbalanced,', 'more'), 1), (('requirements', '352–355'), 1), (('imbalanced,', 'risk'), 1), (('requirements', 'Pain,'), 1), (('Pain,', 'acute'), 1), (('acute', '365–369'), 1), (('365–369', 'Pain,'), 1), (('Pain,', 'chronic'), 1), (('chronic', '370–374'), 1), (('370–374', 'Parental'), 1), (('Parental', 'Role'), 1), (('Role', 'Conflict'), 1), (('Conflict', 'Parenting,'), 1), (('Parenting,', 'impaired'), 1), (('impaired', '377–381'), 1), (('377–381', '*Parenting,'), 1), (('*Parenting,', 'readiness'), 1), (('381–385', 'Parenting,'), 1), (('Parenting,', 'risk'), 1), (('impaired', '385–387'), 1), (('385–387', 'Peripheral'), 1), (('Peripheral', 'Neurovascular'), 1), (('Neurovascular', 'Dysfunction,'), 1), (('Dysfunction,', 'risk'), 1), (('387–390', 'Personal'), 1), (('Personal', 'Identity,'), 1), (('Identity,', 'disturbed'), 1), (('390–393', 'Poisoning,'), 1), (('393–396', 'Post-Trauma'), 1), (('Post-Trauma', 'Syndrome'), 1), (('Syndrome', '[specify'), 1), (('[specify', 'stage]'), 1), (('stage]', '396–401'), 1), (('396–401', 'Post-Trauma'), 1), (('Post-Trauma', 'Syndrome,'), 1), (('402–404', 'Powerlessness'), 1), (('Powerlessness', '[specify'), 1), (('level]', 'Powerlessness,'), 1), (('for', '408–410'), 1), (('408–410', 'Protection,'), 1), (('411–412', '*New'), 1), (('S', 'Rape-Trauma'), 1), (('Rape-Trauma', 'Syndrome:'), 1), (('Syndrome:', 'silent'), 1), (('413', 'Relocation'), 1), (('Stress', 'Syndrome'), 1), (('Syndrome', '417–420'), 1), (('Stress', 'Syndrome,'), 1), (('for', '421–422'), 1), (('421–422', 'Role'), 1), (('Role', 'Performance,'), 1), (('Performance,', 'ineffective'), 1), (('422–425', 'Self-Care'), 1), (('Deficit:', 'bathing/hygiene'), 1), (('bathing/hygiene', '425–430'), 1), (('425–430', 'Self-Care'), 1), (('Deficit:', 'dressing/grooming'), 1), (('dressing/grooming', 'Self-Care'), 1), (('Deficit:', 'feeding'), 1), (('feeding', 'Self-Care'), 1), (('Deficit:', 'toileting'), 1), (('toileting', '*Self-Concept,'), 1), (('*Self-Concept,', 'readiness'), 1), (('430–433', 'Self-Esteem,'), 1), (('Self-Esteem,', 'chronic'), 1), (('chronic', 'low'), 1), (('low', '433–437'), 1), (('433–437', 'Self-Esteem,'), 1), (('Self-Esteem,', 'situational'), 1), (('low', '437–440'), 1), (('437–440', 'Self-Esteem,'), 1), (('Self-Esteem,', 'risk'), 1), (('for', 'situational'), 1), (('low', '440–441'), 1), (('440–441', 'Self-Mutilation'), 1), (('Self-Mutilation', '442–445'), 1), (('442–445', 'Self-Mutilation,'), 1), (('Self-Mutilation,', 'risk'), 1), (('for', 'Sensory'), 1), (('Sensory', 'Perception,'), 1), (('Perception,', 'disturbed'), 1), (('disturbed', '(specify:'), 1), (('(specify:', 'visual,'), 1), (('visual,', 'auditory,'), 1), (('auditory,', 'kinesthetic,'), 1), (('kinesthetic,', 'Sexual'), 1), (('Sexual', 'Dysfunction'), 1), (('Dysfunction', '454–458'), 1), (('454–458', 'Sexuality'), 1), (('Sexuality', 'Pattern,'), 1), (('ineffective', '458–461'), 1), (('458–461', 'Skin'), 1), (('Integrity,', 'risk'), 1), (('465–468', 'Sleep'), 1), (('Sleep', 'Deprivation'), 1), (('Deprivation', '468–472'), 1), (('468–472', 'Sleep'), 1), (('Sleep', 'Pattern,'), 1), (('Pattern,', 'disturbed'), 1), (('472–477', '*Sleep,'), 1), (('*Sleep,', 'readiness'), 1), (('477–480', 'Social'), 1), (('Social', 'Interaction,'), 1), (('Interaction,', 'impaired'), 1), (('impaired', '480–484'), 1), (('480–484', 'Social'), 1), (('Social', 'Isolation'), 1), (('Isolation', '484–487'), 1), (('484–487', 'Sorrow,'), 1), (('Sorrow,', 'chronic'), 1), (('chronic', '487–489'), 1), (('487–489', 'Suffocation,'), 1), (('500–503', 'Suicide,'), 1), (('Suicide,', 'risk'), 1), (('for', '503–507'), 1), (('503–507', 'Surgical'), 1), (('Surgical', 'Recovery,'), 1), (('Recovery,', 'delayed'), 1), (('507–510', 'Swallowing,'), 1), (('510–515', 'Therapeutic'), 1), (('Management:', 'community,'), 1), (('ineffective', 'Therapeutic'), 1), (('Management:', 'effective'), 1), (('effective', '517–519'), 1), (('Management:', 'family,'), 1), (('ineffective', '520–522'), 1), (('Management:', 'ineffective'), 1), (('ineffective', '*Therapeutic'), 1), (('*Therapeutic', 'Regimen'), 1), (('Management:', 'readiness'), 1), (('enhanced', '*New'), 1), (('Conference.', 'Please'), 1), (('Please', 'also'), 1), (('also', 'see'), 1), (('see', 'the'), 1), (('NANDA', 'diagnoses'), 1), (('diagnoses', 'grouped'), 1), (('grouped', 'according'), 1), (('to', 'N'), 1), (('E', 'Tissue'), 1), (('Tissue', 'Integrity,'), 1), (('533–537', 'Tissue'), 1), (('Tissue', 'Perfusion,'), 1), (('Perfusion,', 'ineffective'), 1), (('ineffective', '(specify'), 1), (('(specify', 'type:'), 1), (('type:', 'renal,'), 1), (('renal,', 'cerebral,'), 1), (('cerebral,', 'cardiopul-'), 1), (('cardiopul-', 'Unilateral'), 1), (('Unilateral', 'Neglect'), 1), (('Neglect', 'Urinary'), 1), (('Urinary', 'Elimination,'), 1), (('Elimination,', 'impaired'), 1), (('554–558', '*Urinary'), 1), (('*Urinary', 'Elimination,'), 1), (('Elimination,', 'readiness'), 1), (('Incontinence,', 'functional'), 1), (('Incontinence,', 'reflex'), 1), (('Incontinence,', 'stress'), 1), (('total', '570–572'), 1), (('570–572', 'Urinary'), 1), (('Incontinence,', 'urge'), 1), (('Incontinence,', 'risk'), 1), (('for', 'urge'), 1), (('urge', '576–578'), 1), (('576–578', 'Urinary'), 1), (('Urinary', 'Retention'), 1), (('Retention', '[acute/chronic]'), 1), (('[acute/chronic]', '578–581'), 1), (('578–581', 'Ventilation,'), 1), (('spontaneous', '581–586'), 1), (('581–586', 'Ventilatory'), 1), (('Ventilatory', 'Weaning'), 1), (('Weaning', 'Response,'), 1), (('Response,', 'dysfunctional'), 1), (('dysfunctional', 'Violence,'), 1), (('for', 'other-directed'), 1), (('other-directed', '590–591'), 1), (('590–591', 'Violence,'), 1), (('591–596', '*New'), 1), (('S', 'shape'), 1), (('shape', 'expectations'), 1), (('client’s', 'response'), 1), (('response', 'and/or'), 1), (('and/or', 'influence'), 1), (('influence', 'the'), 1), (('nurse’s', 'behavior'), 1), (('behavior', 'toward'), 1), (('client.', 'The'), 1), (('The', 'key'), 1), (('key', 'to'), 1), (('to', 'accurate'), 1), (('accurate', 'diagnosis'), 1), (('is', 'collection'), 1), (('collection', 'and'), 1), (('and', 'analysis'), 1), (('analysis', 'of'), 1), (('of', 'data.'), 1), (('data.', 'In'), 1), (('In', 'Chapter'), 1), (('Chapter', '3,'), 1), (('3,', 'the'), 1), (('the', 'NDs'), 1), (('NDs', 'have'), 1), (('been', 'categorized'), 1), (('categorized', 'into'), 1), (('into', 'divisions'), 1), (('divisions', '(Diagnostic'), 1), (('(Diagnostic', 'Divisions:'), 1), (('Nursing', 'Focus,'), 1), (('Focus,', 'Section'), 1), (('Section', '2)'), 1), (('2)', 'and'), 1), (('tool', 'designed'), 1), (('identify', 'appropriate'), 1), (('appropriate', 'NDs'), 1), (('NDs', 'as'), 1), (('are', 'collected.'), 1), (('collected.', 'Nurses'), 1), (('Nurses', 'may'), 1), (('may', 'feel'), 1), (('feel', 'at'), 1), (('risk', 'in'), 1), (('in', 'committing'), 1), (('committing', 'themselves'), 1), (('themselves', 'to'), 1), (('to', 'documenting'), 1), (('documenting', 'a'), 1), (('diagnosis', 'for'), 1), (('for', 'fear'), 1), (('fear', 'they'), 1), (('they', 'might'), 1), (('might', 'be'), 1), (('be', 'wrong.'), 1), (('wrong.', 'However,'), 1), (('However,', 'unlike'), 1), (('unlike', 'medical'), 1), (('can', 'change'), 1), (('change', 'as'), 1), (('client', 'progresses'), 1), (('progresses', 'through'), 1), (('through', 'various'), 1), (('various', 'stages'), 1), (('stages', 'of'), 1), (('of', 'illness/maladapta-'), 1), (('illness/maladapta-', 'tion'), 1), (('to', 'resolution'), 1), (('the', 'condition/situation.'), 1), (('condition/situation.', 'Desired'), 1), (('Desired', 'outcomes'), 1), (('are', 'formulated'), 1), (('formulated', 'to'), 1), (('to', 'give'), 1), (('give', 'direction'), 1), (('direction', 'to,'), 1), (('to,', 'as'), 1), (('to', 'evaluate,'), 1), (('evaluate,', 'the'), 1), (('provided.', 'These'), 1), (('outcomes', 'emerge'), 1), (('emerge', 'from'), 1), (('statement', 'and'), 1), (('are', 'what'), 1), (('what', 'the'), 1), (('client', 'hopes'), 1), (('hopes', 'to'), 1), (('to', 'achieve.'), 1), (('achieve.', 'They'), 1), (('They', 'serve'), 1), (('the', 'guidelines'), 1), (('guidelines', 'to'), 1), (('to', 'evaluate'), 1), (('evaluate', 'progress'), 1), (('toward', 'resolution'), 1), (('of', 'needs/problems,'), 1), (('needs/problems,', 'providing'), 1), (('providing', 'impetus'), 1), (('impetus', 'for'), 1), (('for', 'revising'), 1), (('revising', 'the'), 1), (('as', 'appropriate.'), 1), (('appropriate.', 'In'), 1), (('In', 'this'), 1), (('this', 'book,'), 1), (('book,', 'outcomes'), 1), (('are', 'stated'), 1), (('in', 'general'), 1), (('general', 'terms'), 1), (('terms', 'to'), 1), (('to', 'permit'), 1), (('permit', 'the'), 1), (('practitioner', 'to'), 1), (('individualize', 'them'), 1), (('them', 'by'), 1), (('by', 'adding'), 1), (('adding', 'timelines'), 1), (('timelines', 'and'), 1), (('other', 'data'), 1), (('data', 'according'), 1), (('client', 'circumstances.'), 1), (('circumstances.', 'Outcome'), 1), (('Outcome', 'terminology'), 1), (('terminology', 'needs'), 1), (('be', 'concise,'), 1), (('concise,', 'real-'), 1), (('real-', 'istic,'), 1), (('istic,', 'measurable,'), 1), (('measurable,', 'and'), 1), (('and', 'stated'), 1), (('in', 'words'), 1), (('words', 'the'), 1), (('client', 'can'), 1), (('can', 'understand.'), 1), (('understand.', 'Beginning'), 1), (('Beginning', 'the'), 1), (('the', 'outcome'), 1), (('outcome', 'statement'), 1), (('statement', 'with'), 1), (('with', 'an'), 1), (('an', 'action'), 1), (('action', 'verb'), 1), (('verb', 'provides'), 1), (('provides', 'measurable'), 1), (('measurable', 'direction,'), 1), (('direction,', 'for'), 1), (('for', 'example,'), 1), (('example,', '“Verbalizes'), 1), (('“Verbalizes', 'relationship'), 1), (('relationship', 'between'), 1), (('between', 'diabetes'), 1), (('diabetes', 'mellitus'), 1), (('mellitus', 'and'), 1), (('and', 'circulatory'), 1), (('circulatory', 'changes'), 1), (('changes', 'in'), 1), (('in', 'feet'), 1), (('feet', 'within'), 1), (('within', '2'), 1), (('2', 'days”'), 1), (('days”', 'or'), 1), (('or', '“Correctly'), 1), (('“Correctly', 'performs'), 1), (('performs', 'procedure'), 1), (('procedure', 'of'), 1), (('of', 'home'), 1), (('home', 'glucose'), 1), (('glucose', 'monitoring'), 1), (('monitoring', 'within'), 1), (('within', '48'), 1), (('48', 'hours.”'), 1), (('hours.”', 'Interventions'), 1), (('action', 'steps'), 1), (('steps', 'taken'), 1), (('taken', 'to'), 1), (('achieve', 'desired'), 1), (('outcomes', 'and,'), 1), (('and,', 'because'), 1), (('are', 'communicated'), 1), (('communicated', 'to'), 1), (('to', 'others,'), 1), (('others,', 'they'), 1), (('they', 'must'), 1), (('be', 'clearly'), 1), (('clearly', 'stated.'), 1), (('stated.', 'A'), 1), (('A', 'solid'), 1), (('solid', 'nursing'), 1), (('nursing', 'knowledge'), 1), (('knowledge', 'base'), 1), (('base', 'is'), 1), (('is', 'vital'), 1), (('vital', 'to'), 1), (('this', 'process'), 1), (('process', 'because'), 1), (('the', 'rationale'), 1), (('rationale', 'for'), 1), (('for', 'interventions'), 1), (('interventions', 'needs'), 1), (('be', 'sound'), 1), (('sound', 'and'), 1), (('and', 'feasible'), 1), (('feasible', 'with'), 1), (('the', 'intention'), 1), (('intention', 'of'), 1), (('of', 'providing'), 1), (('effective', 'individualized'), 1), (('individualized', 'care.'), 1), (('The', 'actions'), 1), (('actions', 'may'), 1), (('be', 'independent'), 1), (('independent', 'or'), 1), (('or', 'collab-'), 1), (('collab-', 'orative'), 1), (('orative', 'and'), 1), (('and', 'may'), 1), (('may', 'encompass'), 1), (('encompass', 'specific'), 1), (('specific', 'orders'), 1), (('orders', 'from'), 1), (('from', 'nursing,'), 1), (('nursing,', 'medi-'), 1), (('medi-', 'cine,'), 1), (('cine,', 'and'), 1), (('other', 'disciplines.'), 1), (('disciplines.', 'Written'), 1), (('Written', 'interventions'), 1), (('interventions', 'that'), 1), (('that', 'guide'), 1), (('guide', 'ongoing'), 1), (('ongoing', 'client'), 1), (('care', 'need'), 1), (('be', 'dated'), 1), (('dated', 'and'), 1), (('and', 'signed.'), 1), (('signed.', 'To'), 1), (('planning', 'process,'), 1), (('process,', 'specific'), 1), (('nursing', 'priorities'), 1), (('priorities', 'have'), 1), (('been', 'identi-'), 1), (('identi-', 'fied'), 1), (('fied', 'in'), 1), (('this', 'text'), 1), (('text', 'to'), 1), (('provide', 'a'), 1), (('a', 'general'), 1), (('general', 'ranking'), 1), (('ranking', 'of'), 1), (('of', 'interventions.'), 1), (('interventions.', 'This'), 1), (('This', 'ranking'), 1), (('ranking', 'would'), 1), (('would', 'be'), 1), (('be', 'altered'), 1), (('altered', 'according'), 1), (('to', 'individual'), 1), (('client', 'situations.'), 1), (('situations.', 'The'), 1), (('The', 'seasoned'), 1), (('seasoned', 'practitioner'), 1), (('practitioner', 'may'), 1), (('may', 'choose'), 1), (('choose', 'to'), 1), (('to', 'use'), 1), (('use', 'these'), 1), (('these', 'as'), 1), (('as', 'broad-based'), 1), (('broad-based', 'interventions.'), 1), (('The', 'student'), 1), (('student', 'or'), 1), (('or', 'beginning'), 1), (('beginning', 'practi-'), 1), (('practi-', 'tioner'), 1), (('tioner', 'may'), 1), (('may', 'need'), 1), (('to', 'develop'), 1), (('develop', 'a'), 1), (('a', 'more'), 1), (('more', 'detailed'), 1), (('detailed', 'plan'), 1), (('by', 'including'), 1), (('including', 'the'), 1), (('interventions', 'listed'), 1), (('listed', 'under'), 1), (('each', 'nurs-'), 1), (('ing', 'priority.'), 1), (('priority.', 'Finally,'), 1), (('Finally,', 'as'), 1), (('as', 'each'), 1), (('each', 'client'), 1), (('client', 'usually'), 1), (('usually', 'has'), 1), (('a', 'perception'), 1), (('perception', 'of'), 1), (('individual', 'needs'), 1), (('needs', 'or'), 1), (('or', 'problems'), 1), (('problems', 'he'), 1), (('she', 'faces'), 1), (('faces', 'and'), 1), (('an', 'expectation'), 1), (('expectation', 'of'), 1), (('what', 'could'), 1), (('could', 'be'), 1), (('be', 'done'), 1), (('done', 'about'), 1), (('the', 'situation,'), 1), (('situation,', 'the'), 1), (('be', 'congruent'), 1), (('congruent', 'with'), 1), (('client’s', 'reality'), 1), (('reality', 'or'), 1), (('or', 'it'), 1), (('it', 'will'), 1), (('will', 'fail.'), 1), (('fail.', 'N'), 1), (('E', 'The'), 1), (('care', 'documents'), 1), (('documents', 'client'), 1), (('in', 'areas'), 1), (('of', 'accounta-'), 1), (('accounta-', 'bility,'), 1), (('bility,', 'quality'), 1), (('quality', 'assurance,'), 1), (('assurance,', 'and'), 1), (('and', 'liability.'), 1), (('liability.', 'The'), 1), (('to', 'plan'), 1), (('plan', 'care'), 1), (('care', 'with'), 1), (('client,', 'because'), 1), (('because', 'both'), 1), (('both', 'are'), 1), (('are', 'accountable'), 1), (('accountable', 'for'), 1), (('for', 'that'), 1), (('that', 'care'), 1), (('and', 'for'), 1), (('for', 'achieving'), 1), (('achieving', 'the'), 1), (('desired', 'outcomes.'), 1), (('outcomes.', 'Healthcare'), 1), (('Healthcare', 'providers'), 1), (('providers', 'have'), 1), (('a', 'responsibility'), 1), (('for', 'planning'), 1), (('planning', 'with'), 1), (('and', 'family'), 1), (('family', 'for'), 1), (('for', 'continuation'), 1), (('continuation', 'of'), 1), (('care', 'to'), 1), (('the', 'eventual'), 1), (('eventual', 'outcome'), 1), (('outcome', 'of'), 1), (('of', 'an'), 1), (('an', 'optimal'), 1), (('optimal', 'state'), 1), (('state', 'of'), 1), (('of', 'wellness'), 1), (('wellness', 'or'), 1), (('a', 'dignified'), 1), (('dignified', 'death.'), 1), (('death.', 'Planning,'), 1), (('Planning,', 'setting'), 1), (('setting', 'goals,'), 1), (('and', 'choosing'), 1), (('are', 'essential'), 1), (('essential', 'to'), 1), (('the', 'construction'), 1), (('construction', 'of'), 1), (('care', 'as'), 1), (('to', 'delivery'), 1), (('delivery', 'of'), 1), (('care.', 'These'), 1), (('These', 'nursing'), 1), (('activities', 'comprise'), 1), (('comprise', 'the'), 1), (('planning', 'phase'), 1), (('phase', 'of'), 1), (('are', 'documented'), 1), (('documented', 'in'), 1), (('client.', 'As'), 1), (('As', 'a'), 1), (('client’s', 'permanent'), 1), (('permanent', 'record,'), 1), (('record,', 'the'), 1), (('care', 'not'), 1), (('not', 'only'), 1), (('only', 'provides'), 1), (('a', 'means'), 1), (('means', 'for'), 1), (('nurse', 'who'), 1), (('who', 'is'), 1), (('is', 'actively'), 1), (('actively', 'caring'), 1), (('caring', 'for'), 1), (('client', 'to'), 1), (('be', 'aware'), 1), (('aware', 'of'), 1), (('client’s', 'needs'), 1), (('needs', '(NDs),'), 1), (('(NDs),', 'goals,'), 1), (('and', 'actions'), 1), (('actions', 'to'), 1), (('be', 'taken,'), 1), (('taken,', 'but'), 1), (('but', 'it'), 1), (('it', 'also'), 1), (('also', 'substantiates'), 1), (('substantiates', 'the'), 1), (('provided', 'for'), 1), (('for', 'review'), 1), (('review', 'by'), 1), (('by', 'third-party'), 1), (('third-party', 'payors'), 1), (('payors', 'and'), 1), (('and', 'accreditation'), 1), (('accreditation', 'agencies,'), 1), (('agencies,', 'while'), 1), (('while', 'meeting'), 1), (('meeting', 'legal'), 1), (('legal', 'requirements.'), 1), (('requirements.', 'A'), 1), (('S', 'Putting'), 1), (('Documentation', 'The'), 1), (('client', 'assessment'), 1), (('assessment', 'is'), 1), (('the', 'foundation'), 1), (('foundation', 'on'), 1), (('on', 'which'), 1), (('which', 'identifica-'), 1), (('tion', 'of'), 1), (('individual', 'needs,'), 1), (('needs,', 'responses,'), 1), (('responses,', 'and'), 1), (('and', 'problems'), 1), (('problems', 'is'), 1), (('is', 'based.'), 1), (('based.', 'To'), 1), (('and', 'diagnosis'), 1), (('process,', 'an'), 1), (('tool', '(Assessment'), 1), (('(Assessment', 'Tools'), 1), (('Tools', 'for'), 1), (('for', 'Choosing'), 1), (('Choosing', 'Nursing'), 1), (('Nursing', 'Diagnoses,'), 1), (('Diagnoses,', 'Section'), 1), (('Section', '1)'), 1), (('1)', 'has'), 1), (('been', 'constructed'), 1), (('constructed', 'using'), 1), (('using', 'a'), 1), (('nursing', 'focus'), 1), (('focus', 'instead'), 1), (('instead', 'of'), 1), (('medical', 'approach'), 1), (('approach', 'of'), 1), (('of', '“review'), 1), (('“review', 'of'), 1), (('of', 'systems.”'), 1), (('systems.”', 'This'), 1), (('This', 'has'), 1), (('has', 'the'), 1), (('the', 'advantage'), 1), (('advantage', 'of'), 1), (('of', 'identifying'), 1), (('identifying', 'and'), 1), (('and', 'validating'), 1), (('validating', 'nursing'), 1), (('(NDs)', 'as'), 1), (('as', 'opposed'), 1), (('opposed', 'to'), 1), (('to', 'medical'), 1), (('medical', 'diagnoses.'), 1), (('diagnoses.', 'To'), 1), (('To', 'achieve'), 1), (('achieve', 'this'), 1), (('this', 'nursing'), 1), (('nursing', 'focus,'), 1), (('focus,', 'we'), 1), (('have', 'grouped'), 1), (('grouped', 'the'), 1), (('Nursing', 'Diagno-'), 1), (('Diagno-', 'sis'), 1), (('sis', 'Association)'), 1), (('Association)', 'NDs'), 1), (('NDs', 'into'), 1), (('into', 'related'), 1), (('related', 'categories'), 1), (('categories', 'titled'), 1), (('titled', 'Diagnostic'), 1), (('Divisions', '(Section'), 1), (('(Section', '2),'), 1), (('2),', 'which'), 1), (('which', 'reflect'), 1), (('reflect', 'a'), 1), (('a', 'blending'), 1), (('blending', 'of'), 1), (('of', 'theories,'), 1), (('theories,', 'primarily'), 1), (('primarily', 'Maslow’s'), 1), (('Maslow’s', 'Hierarchy'), 1), (('Hierarchy', 'of'), 1), (('of', 'Needs'), 1), (('Needs', 'and'), 1), (('a', 'self-care'), 1), (('self-care', 'philoso-'), 1), (('philoso-', 'phy.'), 1), (('phy.', 'These'), 1), (('These', 'divisions'), 1), (('divisions', 'serve'), 1), (('framework', 'or'), 1), (('or', 'outline'), 1), (('outline', 'for'), 1), (('for', 'data'), 1), (('data', 'collection/clustering'), 1), (('collection/clustering', 'that'), 1), (('that', 'focuses'), 1), (('nurse’s', 'phenomena'), 1), (('of', 'concern—the'), 1), (('concern—the', 'human'), 1), (('health', 'problems—and'), 1), (('problems—and', 'directs'), 1), (('directs', 'the'), 1), (('most', 'likely'), 1), (('likely', 'corresponding'), 1), (('corresponding', 'NDs.'), 1), (('NDs.', 'Because'), 1), (('the', 'divisions'), 1), (('divisions', 'are'), 1), (('on', 'human'), 1), (('responses', 'and'), 1), (('and', 'needs'), 1), (('needs', 'and'), 1), (('and', 'not'), 1), (('not', 'specific'), 1), (('specific', '“systems,”'), 1), (('“systems,”', 'information'), 1), (('information', 'may'), 1), (('be', 'recorded'), 1), (('in', 'more'), 1), (('than', 'one'), 1), (('one', 'area.'), 1), (('area.', 'For'), 1), (('For', 'this'), 1), (('this', 'reason,'), 1), (('reason,', 'the'), 1), (('is', 'encouraged'), 1), (('to', 'keep'), 1), (('keep', 'an'), 1), (('an', 'open'), 1), (('open', 'mind,'), 1), (('mind,', 'to'), 1), (('to', 'pursue'), 1), (('pursue', 'all'), 1), (('all', 'leads,'), 1), (('leads,', 'and'), 1), (('to', 'collect'), 1), (('collect', 'as'), 1), (('as', 'much'), 1), (('much', 'data'), 1), (('data', 'as'), 1), (('as', 'possible'), 1), (('possible', 'before'), 1), (('before', 'choosing'), 1), (('choosing', 'the'), 1), (('label', 'that'), 1), (('that', 'best'), 1), (('best', 'reflects'), 1), (('reflects', 'the'), 1), (('example,', 'when'), 1), (('when', 'the'), 1), (('nurse', 'identifies'), 1), (('identifies', 'the'), 1), (('the', 'cue'), 1), (('cue', 'of'), 1), (('of', 'restlessness'), 1), (('restlessness', 'in'), 1), (('a', 'client,'), 1), (('client,', 'the'), 1), (('nurse', 'may'), 1), (('may', 'infer'), 1), (('infer', 'that'), 1), (('is', 'anxious,'), 1), (('anxious,', 'assuming'), 1), (('assuming', 'that'), 1), (('the', 'restlessness'), 1), (('restlessness', 'is'), 1), (('is', 'psychologically'), 1), (('psychologically', 'based'), 1), (('based', 'and'), 1), (('and', 'overlooking'), 1), (('overlooking', 'the'), 1), (('the', 'possibility'), 1), (('possibility', 'that'), 1), (('that', 'it'), 1), (('is', 'physiologically'), 1), (('physiologically', 'based.'), 1), (('based.', 'From'), 1), (('From', 'the'), 1), (('the', 'specific'), 1), (('specific', 'data'), 1), (('data', 'recorded'), 1), (('the', 'database,'), 1), (('database,', 'an'), 1), (('an', 'individu-'), 1), (('individu-', 'alized'), 1), (('alized', 'client'), 1), (('statement', 'can'), 1), (('be', 'formulated'), 1), (('formulated', 'using'), 1), (('the', 'problem,'), 1), (('problem,', 'etiology,'), 1), (('etiology,', 'signs/symptoms'), 1), (('signs/symptoms', '(PES)'), 1), (('(PES)', 'format'), 1), (('format', 'to'), 1), (('to', 'accurately'), 1), (('accurately', 'represent'), 1), (('represent', 'the'), 1), (('diagnostic', 'N'), 1), (('E', 'statement'), 1), (('statement', 'may'), 1), (('may', 'read,'), 1), (('read,', '“deficient'), 1), (('“deficient', 'Knowledge'), 1), (('Knowledge', 'regarding'), 1), (('regarding', 'diabetic'), 1), (('diabetic', 'care,'), 1), (('care,', 'related'), 1), (('to', 'misinterpretation'), 1), (('misinterpretation', 'of'), 1), (('of', 'information'), 1), (('information', 'and/or'), 1), (('and/or', 'lack'), 1), (('of', 'recall,'), 1), (('recall,', 'evidenced'), 1), (('evidenced', 'by'), 1), (('by', 'inaccurate'), 1), (('inaccurate', 'follow-through'), 1), (('follow-through', 'of'), 1), (('of', 'instruc-'), 1), (('instruc-', 'tions'), 1), (('tions', 'and'), 1), (('and', 'failure'), 1), (('to', 'recognize'), 1), (('recognize', 'signs'), 1), (('symptoms', 'of'), 1), (('of', 'hyper-'), 1), (('hyper-', 'glycemia.”'), 1), (('glycemia.”', 'Desired'), 1), (('Desired', 'client'), 1), (('to', 'facilitate'), 1), (('facilitate', 'choosing'), 1), (('to', 'serve'), 1), (('as', 'evaluators'), 1), (('evaluators', 'of'), 1), (('of', 'both'), 1), (('both', 'nursing'), 1), (('and', 'client'), 1), (('client', 'response.'), 1), (('response.', 'These'), 1), (('outcomes', 'also'), 1), (('also', 'form'), 1), (('form', 'the'), 1), (('for', 'documentation.'), 1), (('documentation.', 'Interventions'), 1), (('are', 'designed'), 1), (('to', 'specify'), 1), (('specify', 'the'), 1), (('action', 'of'), 1), (('the', 'nurse,'), 1), (('nurse,', 'the'), 1), (('client,', 'and/or'), 1), (('and/or', 'SOs.'), 1), (('SOs.', 'Interventions'), 1), (('Interventions', 'need'), 1), (('to', 'promote'), 1), (('client’s', 'movement'), 1), (('movement', 'toward'), 1), (('toward', 'health/independence'), 1), (('health/independence', 'in'), 1), (('in', 'addition'), 1), (('addition', 'to'), 1), (('to', 'achievement'), 1), (('achievement', 'of'), 1), (('of', 'physiologic'), 1), (('physiologic', 'stability.'), 1), (('stability.', 'This'), 1), (('This', 'requires'), 1), (('requires', 'involvement'), 1), (('involvement', 'of'), 1), (('in', 'his'), 1), (('his', 'or'), 1), (('or', 'her'), 1), (('her', 'own'), 1), (('own', 'care,'), 1), (('care,', 'including'), 1), (('including', 'participation'), 1), (('participation', 'in'), 1), (('in', 'decisions'), 1), (('decisions', 'about'), 1), (('about', 'care'), 1), (('care', 'activities'), 1), (('activities', 'and'), 1), (('and', 'projected'), 1), (('projected', 'outcomes.'), 1), (('outcomes.', 'Section'), 1), (('Section', '3,'), 1), (('3,', '“Client'), 1), (('“Client', 'Situation'), 1), (('Situation', 'and'), 1), (('and', 'Prototype'), 1), (('Prototype', 'Plan'), 1), (('of', 'Care,”'), 1), (('Care,”', 'contains'), 1), (('care', 'formulated'), 1), (('formulated', 'on'), 1), (('on', 'data'), 1), (('collected', 'in'), 1), (('nursing', 'model'), 1), (('model', 'assessment'), 1), (('assessment', 'tool.'), 1), (('tool.', 'Individualized'), 1), (('Individualized', 'client'), 1), (('client', 'diag-'), 1), (('diag-', 'nostic'), 1), (('nostic', 'statements'), 1), (('statements', 'and'), 1), (('and', 'desired'), 1), (('desired', 'client'), 1), (('outcomes', '(with'), 1), (('(with', 'timelines'), 1), (('timelines', 'added'), 1), (('to', 'reflect'), 1), (('reflect', 'anticipated'), 1), (('anticipated', 'length'), 1), (('of', 'stay'), 1), (('stay', 'and'), 1), (('and', 'individual'), 1), (('individual', 'client/nurse'), 1), (('client/nurse', 'expectations)'), 1), (('expectations)', 'have'), 1), (('been', 'identified.'), 1), (('identified.', 'Interventions'), 1), (('Interventions', 'have'), 1), (('been', 'chosen'), 1), (('chosen', 'based'), 1), (('on', 'concerns/needs'), 1), (('concerns/needs', 'identified'), 1), (('identified', 'by'), 1), (('and', 'nurse'), 1), (('nurse', 'during'), 1), (('during', 'data'), 1), (('collection,', 'as'), 1), (('as', 'by'), 1), (('by', 'physician'), 1), (('physician', 'orders.'), 1), (('orders.', 'Although'), 1), (('Although', 'not'), 1), (('not', 'normally'), 1), (('normally', 'included'), 1), (('a', 'written'), 1), (('care,', 'rationales'), 1), (('rationales', 'are'), 1), (('this', 'sample'), 1), (('sample', 'for'), 1), (('the', 'purpose'), 1), (('purpose', 'of'), 1), (('of', 'explaining'), 1), (('explaining', 'or'), 1), (('or', 'clarifying'), 1), (('clarifying', 'the'), 1), (('enhance', 'the'), 1), (('nurse’s', 'learning.'), 1), (('learning.', 'Finally,'), 1), (('Finally,', 'to'), 1), (('to', 'complete'), 1), (('complete', 'the'), 1), (('the', 'learning'), 1), (('learning', 'experience,'), 1), (('experience,', 'samples'), 1), (('samples', 'of'), 1), (('documentation', 'based'), 1), (('client', 'situation'), 1), (('situation', 'are'), 1), (('presented', 'in'), 1), (('in', 'Section'), 1), (('Section', '4,'), 1), (('4,', '“Documentation'), 1), (('“Documentation', 'Techniques.”'), 1), (('Techniques.”', 'The'), 1), (('care', 'provides'), 1), (('provides', 'documentation'), 1), (('planning', 'process'), 1), (('and', 'serves'), 1), (('serves', 'as'), 1), (('a', 'framework/outline'), 1), (('framework/outline', 'for'), 1), (('for', 'charting'), 1), (('charting', 'of'), 1), (('of', 'administered'), 1), (('administered', 'care.'), 1), (('The', 'primary'), 1), (('primary', 'nurse'), 1), (('to', 'periodically'), 1), (('periodically', 'review'), 1), (('review', 'the'), 1), (('client’s', 'progress'), 1), (('progress', 'and'), 1), (('treatment', 'plan.'), 1), (('plan.', 'Persons'), 1), (('Persons', 'then'), 1), (('then', 'are'), 1), (('are', 'able'), 1), (('able', 'to'), 1), (('to', 'read'), 1), (('read', 'the'), 1), (('the', 'notes'), 1), (('notes', 'and'), 1), (('clear', 'picture'), 1), (('what', 'occurred'), 1), (('occurred', 'with'), 1), (('in', 'order'), 1), (('order', 'to'), 1), (('make', 'appropriate'), 1), (('appropriate', 'judgments'), 1), (('judgments', 'regard-'), 1), (('regard-', 'ing'), 1), (('ing', 'client'), 1), (('client', 'management.'), 1), (('The', 'best'), 1), (('best', 'way'), 1), (('way', 'to'), 1), (('ensure', 'the'), 1), (('the', 'clarity'), 1), (('clarity', 'of'), 1), (('of', 'progress'), 1), (('progress', 'notes'), 1), (('notes', 'is'), 1), (('is', 'through'), 1), (('of', 'descriptive'), 1), (('descriptive', '(or'), 1), (('(or', 'observa-'), 1), (('observa-', 'tional)'), 1), (('tional)', 'statements.'), 1), (('statements.', 'Observations'), 1), (('Observations', 'of'), 1), (('of', 'client'), 1), (('client', 'behavior'), 1), (('behavior', 'and'), 1), (('and', 'response'), 1), (('to', 'therapy'), 1), (('therapy', 'provide'), 1), (('provide', 'invaluable'), 1), (('invaluable', 'information.'), 1), (('information.', 'Through'), 1), (('Through', 'this'), 1), (('this', 'communication,'), 1), (('communication,', 'it'), 1), (('it', 'can'), 1), (('be', 'determined'), 1), (('determined', 'if'), 1), (('client’s', 'current'), 1), (('current', 'desired'), 1), (('or', 'interventions'), 1), (('interventions', 'need'), 1), (('be', 'eliminated'), 1), (('eliminated', 'or'), 1), (('altered', 'and'), 1), (('of', 'new'), 1), (('new', 'outcomes'), 1), (('or', 'interven-'), 1), (('tions', 'is'), 1), (('is', 'warranted.'), 1), (('warranted.', 'Progress'), 1), (('Progress', 'notes'), 1), (('notes', 'are'), 1), (('integral', 'component'), 1), (('component', 'of'), 1), (('the', 'overall'), 1), (('overall', 'medical'), 1), (('medical', 'record'), 1), (('record', 'and'), 1), (('and', 'should'), 1), (('should', 'include'), 1), (('all', 'significant'), 1), (('significant', 'events'), 1), (('events', 'that'), 1), (('that', 'occur'), 1), (('occur', 'in'), 1), (('the', 'daily'), 1), (('daily', 'life'), 1), (('life', 'of'), 1), (('client.', 'They'), 1), (('They', 'reflect'), 1), (('reflect', 'P'), 1), (('E', 'implementation'), 1), (('treatment', 'plan'), 1), (('document', 'that'), 1), (('that', 'appropriate'), 1), (('appropriate', 'actions'), 1), (('actions', 'have'), 1), (('been', 'carried'), 1), (('carried', 'out,'), 1), (('out,', 'precautions'), 1), (('precautions', 'taken,'), 1), (('taken,', 'and'), 1), (('and', 'so'), 1), (('so', 'forth.'), 1), (('forth.', 'It'), 1), (('that', 'both'), 1), (('the', 'implementation'), 1), (('and', 'progress'), 1), (('outcomes', 'be'), 1), (('be', 'documented.'), 1), (('documented.', 'The'), 1), (('The', 'notes'), 1), (('notes', 'need'), 1), (('be', 'written'), 1), (('written', 'in'), 1), (('clear', 'and'), 1), (('and', 'objec-'), 1), (('objec-', 'tive'), 1), (('tive', 'fashion,'), 1), (('fashion,', 'specific'), 1), (('specific', 'as'), 1), (('to', 'date'), 1), (('date', 'and'), 1), (('and', 'time,'), 1), (('time,', 'and'), 1), (('and', 'signed'), 1), (('signed', 'by'), 1), (('the', 'person'), 1), (('person', 'making'), 1), (('making', 'the'), 1), (('the', 'entry.'), 1), (('entry.', 'Use'), 1), (('of', 'clear'), 1), (('clear', 'documentation'), 1), (('documentation', 'helps'), 1), (('helps', 'the'), 1), (('individualize', 'client'), 1), (('care.', 'Providing'), 1), (('Providing', 'a'), 1), (('a', 'picture'), 1), (('what', 'has'), 1), (('has', 'happened'), 1), (('happened', 'and'), 1), (('is', 'happening'), 1), (('happening', 'promotes'), 1), (('promotes', 'continuity'), 1), (('and', 'facilitates'), 1), (('facilitates', 'evalua-'), 1), (('evalua-', 'tion.'), 1), (('tion.', 'This'), 1), (('This', 'reinforces'), 1), (('reinforces', 'each'), 1), (('each', 'person’s'), 1), (('person’s', 'accountability'), 1), (('accountability', 'and'), 1), (('and', 'responsi-'), 1), (('responsi-', 'bility'), 1), (('bility', 'for'), 1), (('for', 'using'), 1), (('using', 'nursing'), 1), (('provide', 'individually'), 1), (('individually', 'appropriate'), 1), (('appropriate', 'and'), 1), (('and', 'cost-effective'), 1), (('cost-effective', 'client'), 1), (('care.', 'N'), 1), (('E', 'This'), 1), (('This', 'is'), 1), (('a', 'suggested'), 1), (('suggested', 'guide/tool'), 1), (('guide/tool', 'to'), 1), (('to', 'create'), 1), (('create', 'a'), 1), (('a', 'database'), 1), (('database', 'reflecting'), 1), (('reflecting', 'a'), 1), (('nursing', 'focus.'), 1), (('focus.', 'Although'), 1), (('Although', 'the'), 1), (('Divisions', 'are'), 1), (('are', 'alphabet-'), 1), (('alphabet-', 'ized'), 1), (('ized', 'here'), 1), (('here', 'for'), 1), (('of', 'presentation,'), 1), (('presentation,', 'they'), 1), (('they', 'can'), 1), (('be', 'prioritized'), 1), (('prioritized', 'or'), 1), (('or', 'rearranged'), 1), (('rearranged', 'in'), 1), (('any', 'manner'), 1), (('manner', 'to'), 1), (('meet', 'individual'), 1), (('individual', 'needs.'), 1), (('needs.', 'In'), 1), (('addition,', 'the'), 1), (('tool', 'can'), 1), (('be', 'adapted'), 1), (('adapted', 'to'), 1), (('meet', 'the'), 1), (('client', 'populations.'), 1), (('populations.', 'Excerpts'), 1), (('Excerpts', 'of'), 1), (('assessment', 'tools'), 1), (('tools', 'adapted'), 1), (('adapted', 'for'), 1), (('for', 'psychiatric'), 1), (('psychiatric', 'and'), 1), (('and', 'obstetric'), 1), (('obstetric', 'settings'), 1), (('settings', 'are'), 1), (('included', 'at'), 1), (('the', 'end'), 1), (('end', 'of'), 1), (('this', 'section.'), 1), (('section.', 'P'), 1), (('E', 'Observed'), 1), (('Observed', 'response'), 1), (('to', 'activity:'), 1), (('activity:', 'Cardiovascular:'), 1), (('Cardiovascular:', 'Respiratory:'), 1), (('Respiratory:', 'Mental'), 1), (('status', '(i.e.,'), 1), (('(i.e.,', 'withdrawn/lethargic)'), 1), (('withdrawn/lethargic)', 'Neuro/muscular'), 1), (('Neuro/muscular', 'assessment:'), 1), (('assessment:', 'N'), 1), (('E', 'Capillary'), 1), (('Capillary', 'refill:'), 1), (('refill:', 'Homans’'), 1), (('Homans’', 'sign:'), 1), (('sign:', 'Nail'), 1), (('Nail', 'abnormalities:'), 1), (('abnormalities:', 'Distribution/quality'), 1), (('Distribution/quality', 'of'), 1), (('of', 'hair:'), 1), (('hair:', 'Trophic'), 1), (('Trophic', 'skin'), 1), (('skin', 'changes:'), 1), (('changes:', 'Stress'), 1), (('Stress', 'factors:'), 1), (('factors:', 'Ways'), 1), (('Ways', 'of'), 1), (('status:', 'Cultural'), 1), (('Cultural', 'factors/ethnic'), 1), (('factors/ethnic', 'ties:'), 1), (('ties:', 'Religion:'), 1), (('Lifestyle:', 'Sense'), 1), (('Sense', 'of'), 1), (('of', 'connectedness/harmony'), 1), (('connectedness/harmony', 'with'), 1), (('with', 'self:'), 1), (('self:', 'Feelings'), 1), (('Helplessness:', 'P'), 1), (('E', 'Usual'), 1), (('Usual', 'bowel'), 1), (('bowel', 'pattern:'), 1), (('pattern:', 'Laxative'), 1), (('Laxative', 'use:'), 1), (('use:', 'Character'), 1), (('Character', 'of'), 1), (('of', 'stool:'), 1), (('stool:', 'Diarrhea:'), 1), (('Diarrhea:', 'History'), 1), (('of', 'bleeding:'), 1), (('bleeding:', 'Usual'), 1), (('Usual', 'voiding'), 1), (('voiding', 'pattern:'), 1), (('pattern:', 'Incontinence/when:'), 1), (('Incontinence/when:', 'Frequency:'), 1), (('Frequency:', 'Usual'), 1), (('Usual', 'diet'), 1), (('diet', '(type):'), 1), (('(type):', 'Cultural/religious'), 1), (('Cultural/religious', 'restrictions:'), 1), (('restrictions:', 'Carbohydrate/protein/fat'), 1), (('Carbohydrate/protein/fat', 'intake:'), 1), (('intake:', 'g/d'), 1), (('g/d', 'Vitamin/food'), 1), (('Vitamin/food', 'supplement'), 1), (('supplement', 'use:'), 1), (('use:', 'Food'), 1), (('Food', 'preferences:'), 1), (('preferences:', 'No.'), 1), (('No.', 'of'), 1), (('of', 'meals'), 1), (('meals', 'daily:'), 1), (('daily:', 'Dietary'), 1), (('Dietary', 'pattern/content:'), 1), (('pattern/content:', 'B:'), 1), (('B:', 'Last'), 1), (('Last', 'meal/intake:'), 1), (('meal/intake:', 'Loss'), 1), (('Loss', 'of'), 1), (('of', 'appetite:'), 1), (('appetite:', 'Heartburn/indigestion:'), 1), (('Heartburn/indigestion:', 'N'), 1), (('E', 'Jugular'), 1), (('Jugular', 'vein'), 1), (('vein', 'distention:'), 1), (('distention:', 'Thyroid'), 1), (('Thyroid', 'enlarged:'), 1), (('enlarged:', 'Condition'), 1), (('Condition', 'of'), 1), (('of', 'teeth/gums:'), 1), (('teeth/gums:', 'Appearance'), 1), (('Appearance', 'of'), 1), (('of', 'tongue:'), 1), (('tongue:', 'Mucous'), 1), (('Mucous', 'membranes:'), 1), (('membranes:', 'Fainting'), 1), (('Fainting', 'spells/dizziness:'), 1), (('spells/dizziness:', 'Headaches:'), 1), (('Headaches:', 'Location:'), 1), (('Location:', 'Tingling/numbness/weakness'), 1), (('Tingling/numbness/weakness', '(location):'), 1), (('(location):', 'Stroke/brain'), 1), (('Stroke/brain', 'injury'), 1), (('injury', '(residual'), 1), (('(residual', 'effects):'), 1), (('effects):', 'Seizures:'), 1), (('Seizures:', 'Type:'), 1), (('Type:', 'P'), 1), (('E', 'Memory:'), 1), (('Memory:', 'Recent:'), 1), (('Recent:', 'Glasses:'), 1), (('Glasses:', 'Pupil:'), 1), (('Pupil:', 'Shape:'), 1), (('Shape:', 'Facial'), 1), (('Facial', 'droop:'), 1), (('droop:', 'Handgrasp/release,'), 1), (('Handgrasp/release,', 'R/L:'), 1), (('R/L:', 'Posturing:'), 1), (('Posturing:', 'Deep'), 1), (('Deep', 'tendon'), 1), (('tendon', 'reflexes:'), 1), (('reflexes:', 'N'), 1), (('E', 'Respiratory:'), 1), (('Respiratory:', 'Rate:'), 1), (('Rate:', 'Use'), 1), (('of', 'accessory'), 1), (('accessory', 'muscles:'), 1), (('muscles:', 'Fremitus:'), 1), (('Fremitus:', 'Breath'), 1), (('Breath', 'sounds:'), 1), (('sounds:', 'Cyanosis:'), 1), (('Cyanosis:', 'Sputum'), 1), (('Sputum', 'characteristics:'), 1), (('characteristics:', 'Mentation/restlessness:'), 1), (('Mentation/restlessness:', 'Allergies/sensitivity:'), 1), (('Allergies/sensitivity:', 'Exposure'), 1), (('Exposure', 'to'), 1), (('to', 'infectious'), 1), (('infectious', 'diseases:'), 1), (('diseases:', 'Immunization'), 1), (('Immunization', 'history:'), 1), (('history:', 'Previous'), 1), (('Previous', 'alteration'), 1), (('alteration', 'of'), 1), (('of', 'immune'), 1), (('immune', 'system:'), 1), (('system:', 'Geographic'), 1), (('Geographic', 'areas'), 1), (('areas', 'lived'), 1), (('lived', 'in/visited:'), 1), (('in/visited:', 'Seat'), 1), (('Seat', 'belt/helmet'), 1), (('belt/helmet', 'use:'), 1), (('use:', 'Workplace'), 1), (('Workplace', 'safety/health'), 1), (('safety/health', 'issues:'), 1), (('issues:', 'History'), 1), (('injuries:', 'Fractures/dislocations:'), 1), (('Fractures/dislocations:', 'Arthritis/unstable'), 1), (('Arthritis/unstable', 'joints:'), 1), (('joints:', 'Back'), 1), (('Back', 'problems:'), 1), (('problems:', 'Changes'), 1), (('in', 'moles:'), 1), (('moles:', 'Delayed'), 1), (('Delayed', 'healing:'), 1), (('healing:', 'Cognitive'), 1), (('Cognitive', 'limitations:'), 1), (('limitations:', 'P'), 1), (('E', 'Sexually'), 1), (('Sexually', 'active:'), 1), (('active:', 'Birth'), 1), (('Birth', 'control'), 1), (('control', 'method:'), 1), (('method:', 'Sexual'), 1), (('Sexual', 'concerns/difficulties:'), 1), (('concerns/difficulties:', 'Recent'), 1), (('Recent', 'change'), 1), (('change', 'in'), 1), (('in', 'frequency/interest:'), 1), (('frequency/interest:', 'Bleeding'), 1), (('Bleeding', 'between'), 1), (('between', 'periods:'), 1), (('periods:', 'Menopause:'), 1), (('Menopause:', 'Vaginal'), 1), (('Vaginal', 'discharge:'), 1), (('discharge:', 'Surgeries:'), 1), (('Surgeries:', 'Hormonal'), 1), (('Hormonal', 'therapy/calcium'), 1), (('therapy/calcium', 'use:'), 1), (('use:', 'Practices'), 1), (('breast', 'self-examination:'), 1), (('self-examination:', 'Last'), 1), (('Last', 'mammogram:'), 1), (('mammogram:', 'N'), 1), (('E', 'Role'), 1), (('Role', 'within'), 1), (('within', 'family'), 1), (('family', 'structure:'), 1), (('structure:', 'Perception'), 1), (('Perception', 'of'), 1), (('of', 'relationships'), 1), (('relationships', 'with'), 1), (('with', 'family'), 1), (('family', 'members:'), 1), (('members:', 'Feelings'), 1), (('of:', 'Mistrust:'), 1), (('Mistrust:', 'P'), 1), (('E', 'Special'), 1), (('Special', 'healthcare'), 1), (('healthcare', 'concerns'), 1), (('concerns', '(e.g.,'), 1), (('(e.g.,', 'impact'), 1), (('impact', 'of'), 1), (('of', 'religious/'), 1), (('religious/', 'cultural'), 1), (('cultural', 'practices):'), 1), (('practices):', 'Health'), 1), (('Health', 'goals:'), 1), (('goals:', 'Familial'), 1), (('Familial', 'risk'), 1), (('risk', 'factors'), 1), (('factors', '(indicate'), 1), (('(indicate', 'relationship):'), 1), (('relationship):', 'Use'), 1), (('of', 'herbal'), 1), (('herbal', 'supplements'), 1), (('supplements', '(specify):'), 1), (('(specify):', 'Admitting'), 1), (('Admitting', 'diagnosis'), 1), (('diagnosis', 'per'), 1), (('per', 'provider:'), 1), (('provider:', 'Reason'), 1), (('Reason', 'per'), 1), (('per', 'client:'), 1), (('client:', 'History'), 1), (('of', 'current'), 1), (('current', 'complaint:'), 1), (('complaint:', 'Client'), 1), (('Client', 'expectations'), 1), (('this', 'hospitalization:'), 1), (('hospitalization:', 'Previous'), 1), (('Previous', 'illnesses'), 1), (('illnesses', 'and/or'), 1), (('and/or', 'hospitalizations/surgeries:'), 1), (('hospitalizations/surgeries:', 'Evidence'), 1), (('Evidence', 'of'), 1), (('of', 'failure'), 1), (('to', 'improve:'), 1), (('improve:', 'Last'), 1), (('Last', 'complete'), 1), (('complete', 'physical'), 1), (('physical', 'examination:'), 1), (('examination:', 'DRG-projected'), 1), (('DRG-projected', 'mean'), 1), (('mean', 'length'), 1), (('of', 'stay:'), 1), (('stay:', 'Date'), 1), (('Date', 'information'), 1), (('information', 'obtained:'), 1), (('obtained:', 'Anticipated'), 1), (('Anticipated', 'date'), 1), (('of', 'discharge:'), 1), (('discharge:', 'Resources'), 1), (('Resources', 'available:'), 1), (('available:', 'Persons:'), 1), (('Persons:', 'N'), 1), (('E', 'P'), 1), (('E', 'What'), 1), (('What', 'kind'), 1), (('kind', 'of'), 1), (('of', 'person'), 1), (('person', 'are'), 1), (('are', 'you'), 1), (('you', '(positive/negative,'), 1), (('(positive/negative,', 'etc.)?'), 1), (('etc.)?', 'What'), 1), (('What', 'do'), 1), (('do', 'you'), 1), (('you', 'think'), 1), (('think', 'of'), 1), (('of', 'your'), 1), (('your', 'body?'), 1), (('body?', 'How'), 1), (('How', 'would'), 1), (('would', 'you'), 1), (('you', 'rate'), 1), (('rate', 'your'), 1), (('your', 'self-esteem'), 1), (('self-esteem', '(1–10'), 1), (('(1–10', 'with'), 1), (('with', 'Are'), 1), (('Are', 'you'), 1), (('you', 'a'), 1), (('a', 'nervous'), 1), (('nervous', 'person?'), 1), (('person?', 'Are'), 1), (('Are', 'your'), 1), (('your', 'feelings'), 1), (('feelings', 'easily'), 1), (('easily', 'hurt?'), 1), (('hurt?', 'Report'), 1), (('Report', 'of'), 1), (('of', 'stress'), 1), (('stress', 'factors:'), 1), (('factors:', 'Previous'), 1), (('Previous', 'patterns'), 1), (('status:', 'Work'), 1), (('Work', 'history/military'), 1), (('history/military', 'service:'), 1), (('service:', 'Cultural'), 1), (('Cultural', 'factors:'), 1), (('factors:', 'Religion:'), 1), (('Lifestyle:', 'Significant'), 1), (('Significant', 'losses/changes'), 1), (('losses/changes', '(date):'), 1), (('(date):', 'Stages'), 1), (('Stages', 'of'), 1), (('of', 'grief/manifestations'), 1), (('grief/manifestations', 'of'), 1), (('of', 'loss:'), 1), (('loss:', 'Feelings'), 1), (('Helplessness:', 'N'), 1), (('E', 'Believe/feel'), 1), (('Believe/feel', 'you'), 1), (('you', 'are'), 1), (('are', 'another'), 1), (('another', 'person:'), 1), (('person:', 'Perception'), 1), (('Perception', 'different'), 1), (('different', 'than'), 1), (('than', 'others:'), 1), (('others:', 'Ability'), 1), (('to', 'follow'), 1), (('follow', 'directions:'), 1), (('directions:', 'Mental'), 1), (('status', '(note'), 1), (('(note', 'duration'), 1), (('duration', 'of'), 1), (('of', 'change):'), 1), (('change):', 'Oriented/disoriented:'), 1), (('Oriented/disoriented:', 'Time:'), 1), (('Time:', 'Place:'), 1), (('Place:', 'Check'), 1), (('Check', 'all'), 1), (('all', 'that'), 1), (('that', 'apply:'), 1), (('apply:', 'speech'), 1), (('speech', '(e.g.,'), 1), (('(e.g.,', 'spontaneous/sudden'), 1), (('spontaneous/sudden', 'silences):'), 1), (('silences):', 'Content:'), 1), (('Content:', 'Delusions:'), 1), (('Delusions:', 'Rate'), 1), (('Rate', 'or'), 1), (('or', 'flow:'), 1), (('flow:', 'Clear,'), 1), (('Clear,', 'logical'), 1), (('logical', 'progression:'), 1), (('progression:', 'Expression:'), 1), (('Expression:', 'Flight'), 1), (('Flight', 'of'), 1), (('of', 'ideas:'), 1), (('ideas:', 'Ability'), 1), (('to', 'concentrate:'), 1), (('concentrate:', 'P'), 1), (('E', 'Type'), 1), (('children:', 'History'), 1), (('injuries:', 'P'), 1), (('E', 'Client’s'), 1), (('Client’s', 'belief'), 1), (('belief', 'of'), 1), (('of', 'when'), 1), (('when', 'conception'), 1), (('conception', 'occurred:'), 1), (('occurred:', 'Estimated'), 1), (('Estimated', 'date'), 1), (('delivery:', 'Practices'), 1), (('breast', 'self-examination'), 1), (('self-examination', '(Y/N):'), 1), (('(Y/N):', 'Last'), 1), (('Last', 'Pap'), 1), (('Pap', 'smear:'), 1), (('smear:', 'Recent'), 1), (('Recent', 'contraceptive'), 1), (('contraceptive', 'method:'), 1), (('method:', 'OB'), 1), (('OB', 'history'), 1), (('history', '(GPTPAL):'), 1), (('(GPTPAL):', 'Gravida:'), 1), (('Gravida:', 'Delivery'), 1), (('Delivery', 'history:'), 1), (('history:', 'Year:'), 1), (('Year:', 'Length'), 1), (('of', 'gestation:'), 1), (('gestation:', 'Type'), 1), (('delivery:', 'Born'), 1), (('Born', '(alive'), 1), (('(alive', 'or'), 1), (('or', 'dead):'), 1), (('dead):', 'Weight:'), 1), (('Weight:', 'Vagina:'), 1), (('Vagina:', 'Uterus:'), 1), (('Uterus:', 'Diagonal'), 1), (('Diagonal', 'conjugate:'), 1), (('conjugate:', 'Transverse'), 1), (('Transverse', 'diameter:'), 1), (('diameter:', 'Shape'), 1), (('Shape', 'of'), 1), (('of', 'sacrum:'), 1), (('sacrum:', 'Coccyx:'), 1), (('Coccyx:', 'Ischial'), 1), (('Ischial', 'spines:'), 1), (('spines:', 'Adequacy'), 1), (('Adequacy', 'of'), 1), (('of', 'inlet:'), 1), (('inlet:', 'Mid:'), 1), (('Mid:', 'N'), 1), (('E', 'History'), 1), (('of', 'STD'), 1), (('STD', '(date/type):'), 1), (('(date/type):', 'Month'), 1), (('Month', 'of'), 1), (('of', 'first'), 1), (('first', 'prenatal'), 1), (('prenatal', 'visit:'), 1), (('visit:', 'Previous/current'), 1), (('Previous/current', 'obstetric'), 1), (('obstetric', 'problems/treatment:'), 1), (('problems/treatment:', 'Length'), 1), (('of', 'time'), 1), (('time', 'since'), 1), (('since', 'last'), 1), (('last', 'pregnancy:'), 1), (('pregnancy:', 'Type'), 1), (('children:', 'Blood'), 1), (('Blood', 'transfusion:'), 1), (('transfusion:', 'P'), 1), (('E', 'Method'), 1), (('Method', 'of'), 1), (('of', 'auscultation:'), 1), (('auscultation:', 'Fundal'), 1), (('Fundal', 'height:'), 1), (('height:', 'Activity/movement:'), 1), (('Activity/movement:', 'Fetal'), 1), (('Fetal', 'assessment'), 1), (('assessment', 'testing'), 1), (('testing', '(Y/N):'), 1), (('(Y/N):', 'Date:'), 1), (('Date:', 'N'), 1)]\n"
     ]
    }
   ],
   "source": [
    "bigrams = zip(word_list, word_list[1:])\n",
    "counts = Counter(bigrams)"
   ]
  },
  {
   "cell_type": "code",
   "execution_count": 108,
   "id": "050fa947",
   "metadata": {},
   "outputs": [
    {
     "data": {
      "text/plain": [
       "[69,\n",
       " 42,\n",
       " 28,\n",
       " 28,\n",
       " 26,\n",
       " 25,\n",
       " 23,\n",
       " 23,\n",
       " 23,\n",
       " 23,\n",
       " 21,\n",
       " 21,\n",
       " 20,\n",
       " 20,\n",
       " 19,\n",
       " 19,\n",
       " 18,\n",
       " 18,\n",
       " 18,\n",
       " 18,\n",
       " 18,\n",
       " 18,\n",
       " 18,\n",
       " 18,\n",
       " 18,\n",
       " 18,\n",
       " 18,\n",
       " 18,\n",
       " 18,\n",
       " 17,\n",
       " 15,\n",
       " 15,\n",
       " 15,\n",
       " 15,\n",
       " 14,\n",
       " 14,\n",
       " 14,\n",
       " 13,\n",
       " 13,\n",
       " 11,\n",
       " 10,\n",
       " 10,\n",
       " 10,\n",
       " 10,\n",
       " 10,\n",
       " 10,\n",
       " 10,\n",
       " 10,\n",
       " 10,\n",
       " 10,\n",
       " 10,\n",
       " 10,\n",
       " 10,\n",
       " 10,\n",
       " 10,\n",
       " 10,\n",
       " 10,\n",
       " 9,\n",
       " 9,\n",
       " 9,\n",
       " 8,\n",
       " 8,\n",
       " 8,\n",
       " 8,\n",
       " 8,\n",
       " 7,\n",
       " 7,\n",
       " 7,\n",
       " 7,\n",
       " 7,\n",
       " 7,\n",
       " 6,\n",
       " 6,\n",
       " 6,\n",
       " 6,\n",
       " 6,\n",
       " 6,\n",
       " 6,\n",
       " 6,\n",
       " 6,\n",
       " 5,\n",
       " 5,\n",
       " 5,\n",
       " 5,\n",
       " 5,\n",
       " 5,\n",
       " 5,\n",
       " 5,\n",
       " 5,\n",
       " 5,\n",
       " 5,\n",
       " 5,\n",
       " 5,\n",
       " 5,\n",
       " 5,\n",
       " 5,\n",
       " 5,\n",
       " 5,\n",
       " 5,\n",
       " 5,\n",
       " 5,\n",
       " 5,\n",
       " 5,\n",
       " 5,\n",
       " 5,\n",
       " 5,\n",
       " 5,\n",
       " 5,\n",
       " 5,\n",
       " 5,\n",
       " 5,\n",
       " 4,\n",
       " 4,\n",
       " 4,\n",
       " 4,\n",
       " 4,\n",
       " 4,\n",
       " 4,\n",
       " 4,\n",
       " 4,\n",
       " 4,\n",
       " 4,\n",
       " 4,\n",
       " 4,\n",
       " 4,\n",
       " 4,\n",
       " 4,\n",
       " 4,\n",
       " 4,\n",
       " 4,\n",
       " 4,\n",
       " 4,\n",
       " 4,\n",
       " 4,\n",
       " 4,\n",
       " 4,\n",
       " 4,\n",
       " 4,\n",
       " 4,\n",
       " 4,\n",
       " 4,\n",
       " 4,\n",
       " 4,\n",
       " 4,\n",
       " 4,\n",
       " 4,\n",
       " 4,\n",
       " 4,\n",
       " 4,\n",
       " 4,\n",
       " 4,\n",
       " 4,\n",
       " 4,\n",
       " 4,\n",
       " 4,\n",
       " 4,\n",
       " 4,\n",
       " 4,\n",
       " 4,\n",
       " 4,\n",
       " 4,\n",
       " 4,\n",
       " 4,\n",
       " 4,\n",
       " 4,\n",
       " 4,\n",
       " 4,\n",
       " 4,\n",
       " 4,\n",
       " 4,\n",
       " 4,\n",
       " 4,\n",
       " 4,\n",
       " 3,\n",
       " 3,\n",
       " 3,\n",
       " 3,\n",
       " 3,\n",
       " 3,\n",
       " 3,\n",
       " 3,\n",
       " 3,\n",
       " 3,\n",
       " 3,\n",
       " 3,\n",
       " 3,\n",
       " 3,\n",
       " 3,\n",
       " 3,\n",
       " 3,\n",
       " 3,\n",
       " 3,\n",
       " 3,\n",
       " 3,\n",
       " 3,\n",
       " 3,\n",
       " 3,\n",
       " 3,\n",
       " 3,\n",
       " 3,\n",
       " 3,\n",
       " 3,\n",
       " 3,\n",
       " 3,\n",
       " 3,\n",
       " 3,\n",
       " 3,\n",
       " 3,\n",
       " 3,\n",
       " 3,\n",
       " 3,\n",
       " 3,\n",
       " 3,\n",
       " 3,\n",
       " 3,\n",
       " 3,\n",
       " 3,\n",
       " 3,\n",
       " 3,\n",
       " 3,\n",
       " 3,\n",
       " 3,\n",
       " 3,\n",
       " 3,\n",
       " 3,\n",
       " 3,\n",
       " 3,\n",
       " 3,\n",
       " 3,\n",
       " 3,\n",
       " 3,\n",
       " 3,\n",
       " 3,\n",
       " 3,\n",
       " 3,\n",
       " 3,\n",
       " 3,\n",
       " 3,\n",
       " 3,\n",
       " 3,\n",
       " 3,\n",
       " 3,\n",
       " 3,\n",
       " 3,\n",
       " 3,\n",
       " 3,\n",
       " 3,\n",
       " 3,\n",
       " 3,\n",
       " 3,\n",
       " 3,\n",
       " 3,\n",
       " 3,\n",
       " 3,\n",
       " 3,\n",
       " 3,\n",
       " 3,\n",
       " 3,\n",
       " 3,\n",
       " 3,\n",
       " 3,\n",
       " 3,\n",
       " 3,\n",
       " 3,\n",
       " 3,\n",
       " 3,\n",
       " 3,\n",
       " 3,\n",
       " 3,\n",
       " 3,\n",
       " 3,\n",
       " 3,\n",
       " 3,\n",
       " 3,\n",
       " 3,\n",
       " 3,\n",
       " 3,\n",
       " 3,\n",
       " 3,\n",
       " 3,\n",
       " 2,\n",
       " 2,\n",
       " 2,\n",
       " 2,\n",
       " 2,\n",
       " 2,\n",
       " 2,\n",
       " 2,\n",
       " 2,\n",
       " 2,\n",
       " 2,\n",
       " 2,\n",
       " 2,\n",
       " 2,\n",
       " 2,\n",
       " 2,\n",
       " 2,\n",
       " 2,\n",
       " 2,\n",
       " 2,\n",
       " 2,\n",
       " 2,\n",
       " 2,\n",
       " 2,\n",
       " 2,\n",
       " 2,\n",
       " 2,\n",
       " 2,\n",
       " 2,\n",
       " 2,\n",
       " 2,\n",
       " 2,\n",
       " 2,\n",
       " 2,\n",
       " 2,\n",
       " 2,\n",
       " 2,\n",
       " 2,\n",
       " 2,\n",
       " 2,\n",
       " 2,\n",
       " 2,\n",
       " 2,\n",
       " 2,\n",
       " 2,\n",
       " 2,\n",
       " 2,\n",
       " 2,\n",
       " 2,\n",
       " 2,\n",
       " 2,\n",
       " 2,\n",
       " 2,\n",
       " 2,\n",
       " 2,\n",
       " 2,\n",
       " 2,\n",
       " 2,\n",
       " 2,\n",
       " 2,\n",
       " 2,\n",
       " 2,\n",
       " 2,\n",
       " 2,\n",
       " 2,\n",
       " 2,\n",
       " 2,\n",
       " 2,\n",
       " 2,\n",
       " 2,\n",
       " 2,\n",
       " 2,\n",
       " 2,\n",
       " 2,\n",
       " 2,\n",
       " 2,\n",
       " 2,\n",
       " 2,\n",
       " 2,\n",
       " 2,\n",
       " 2,\n",
       " 2,\n",
       " 2,\n",
       " 2,\n",
       " 2,\n",
       " 2,\n",
       " 2,\n",
       " 2,\n",
       " 2,\n",
       " 2,\n",
       " 2,\n",
       " 2,\n",
       " 2,\n",
       " 2,\n",
       " 2,\n",
       " 2,\n",
       " 2,\n",
       " 2,\n",
       " 2,\n",
       " 2,\n",
       " 2,\n",
       " 2,\n",
       " 2,\n",
       " 2,\n",
       " 2,\n",
       " 2,\n",
       " 2,\n",
       " 2,\n",
       " 2,\n",
       " 2,\n",
       " 2,\n",
       " 2,\n",
       " 2,\n",
       " 2,\n",
       " 2,\n",
       " 2,\n",
       " 2,\n",
       " 2,\n",
       " 2,\n",
       " 2,\n",
       " 2,\n",
       " 2,\n",
       " 2,\n",
       " 2,\n",
       " 2,\n",
       " 2,\n",
       " 2,\n",
       " 2,\n",
       " 2,\n",
       " 2,\n",
       " 2,\n",
       " 2,\n",
       " 2,\n",
       " 2,\n",
       " 2,\n",
       " 2,\n",
       " 2,\n",
       " 2,\n",
       " 2,\n",
       " 2,\n",
       " 2,\n",
       " 2,\n",
       " 2,\n",
       " 2,\n",
       " 2,\n",
       " 2,\n",
       " 2,\n",
       " 2,\n",
       " 2,\n",
       " 2,\n",
       " 2,\n",
       " 2,\n",
       " 2,\n",
       " 2,\n",
       " 2,\n",
       " 2,\n",
       " 2,\n",
       " 2,\n",
       " 2,\n",
       " 2,\n",
       " 2,\n",
       " 2,\n",
       " 2,\n",
       " 2,\n",
       " 2,\n",
       " 2,\n",
       " 2,\n",
       " 2,\n",
       " 2,\n",
       " 2,\n",
       " 2,\n",
       " 2,\n",
       " 2,\n",
       " 2,\n",
       " 2,\n",
       " 2,\n",
       " 2,\n",
       " 2,\n",
       " 2,\n",
       " 2,\n",
       " 2,\n",
       " 2,\n",
       " 2,\n",
       " 2,\n",
       " 2,\n",
       " 2,\n",
       " 2,\n",
       " 2,\n",
       " 2,\n",
       " 2,\n",
       " 2,\n",
       " 2,\n",
       " 2,\n",
       " 2,\n",
       " 2,\n",
       " 2,\n",
       " 2,\n",
       " 2,\n",
       " 2,\n",
       " 2,\n",
       " 2,\n",
       " 2,\n",
       " 2,\n",
       " 2,\n",
       " 2,\n",
       " 2,\n",
       " 2,\n",
       " 2,\n",
       " 2,\n",
       " 2,\n",
       " 2,\n",
       " 2,\n",
       " 2,\n",
       " 2,\n",
       " 2,\n",
       " 2,\n",
       " 2,\n",
       " 2,\n",
       " 2,\n",
       " 2,\n",
       " 2,\n",
       " 2,\n",
       " 2,\n",
       " 2,\n",
       " 2,\n",
       " 2,\n",
       " 2,\n",
       " 2,\n",
       " 2,\n",
       " 2,\n",
       " 2,\n",
       " 2,\n",
       " 2,\n",
       " 2,\n",
       " 2,\n",
       " 2,\n",
       " 2,\n",
       " 2,\n",
       " 2,\n",
       " 2,\n",
       " 2,\n",
       " 2,\n",
       " 2,\n",
       " 2,\n",
       " 2,\n",
       " 2,\n",
       " 2,\n",
       " 2,\n",
       " 2,\n",
       " 2,\n",
       " 2,\n",
       " 2,\n",
       " 2,\n",
       " 2,\n",
       " 2,\n",
       " 2,\n",
       " 2,\n",
       " 2,\n",
       " 2,\n",
       " 2,\n",
       " 2,\n",
       " 2,\n",
       " 2,\n",
       " 2,\n",
       " 2,\n",
       " 2,\n",
       " 2,\n",
       " 2,\n",
       " 2,\n",
       " 2,\n",
       " 2,\n",
       " 2,\n",
       " 2,\n",
       " 2,\n",
       " 2,\n",
       " 2,\n",
       " 2,\n",
       " 2,\n",
       " 2,\n",
       " 2,\n",
       " 2,\n",
       " 2,\n",
       " 2,\n",
       " 2,\n",
       " 2,\n",
       " 2,\n",
       " 2,\n",
       " 2,\n",
       " 2,\n",
       " 2,\n",
       " 2,\n",
       " 2,\n",
       " 2,\n",
       " 2,\n",
       " 2,\n",
       " 2,\n",
       " 2,\n",
       " 2,\n",
       " 2,\n",
       " 2,\n",
       " 2,\n",
       " 2,\n",
       " 2,\n",
       " 2,\n",
       " 2,\n",
       " 2,\n",
       " 2,\n",
       " 2,\n",
       " 2,\n",
       " 2,\n",
       " 2,\n",
       " 2,\n",
       " 2,\n",
       " 2,\n",
       " 2,\n",
       " 2,\n",
       " 2,\n",
       " 2,\n",
       " 2,\n",
       " 2,\n",
       " 2,\n",
       " 2,\n",
       " 2,\n",
       " 2,\n",
       " 2,\n",
       " 2,\n",
       " 2,\n",
       " 2,\n",
       " 2,\n",
       " 2,\n",
       " 2,\n",
       " 2,\n",
       " 2,\n",
       " 2,\n",
       " 2,\n",
       " 2,\n",
       " 2,\n",
       " 2,\n",
       " 2,\n",
       " 2,\n",
       " 2,\n",
       " 2,\n",
       " 2,\n",
       " 2,\n",
       " 2,\n",
       " 2,\n",
       " 2,\n",
       " 2,\n",
       " 2,\n",
       " 2,\n",
       " 2,\n",
       " 2,\n",
       " 2,\n",
       " 2,\n",
       " 2,\n",
       " 2,\n",
       " 2,\n",
       " 2,\n",
       " 2,\n",
       " 2,\n",
       " 2,\n",
       " 2,\n",
       " 2,\n",
       " 2,\n",
       " 2,\n",
       " 2,\n",
       " 2,\n",
       " 2,\n",
       " 2,\n",
       " 2,\n",
       " 2,\n",
       " 2,\n",
       " 2,\n",
       " 2,\n",
       " 2,\n",
       " 2,\n",
       " 2,\n",
       " 2,\n",
       " 2,\n",
       " 2,\n",
       " 2,\n",
       " 2,\n",
       " 2,\n",
       " 2,\n",
       " 2,\n",
       " 2,\n",
       " 2,\n",
       " 2,\n",
       " 2,\n",
       " 2,\n",
       " 2,\n",
       " 2,\n",
       " 2,\n",
       " 2,\n",
       " 2,\n",
       " 2,\n",
       " 2,\n",
       " 2,\n",
       " 2,\n",
       " 2,\n",
       " 2,\n",
       " 2,\n",
       " 2,\n",
       " 2,\n",
       " 2,\n",
       " 2,\n",
       " 2,\n",
       " 2,\n",
       " 2,\n",
       " 2,\n",
       " 2,\n",
       " 2,\n",
       " 2,\n",
       " 2,\n",
       " 2,\n",
       " 2,\n",
       " 2,\n",
       " 2,\n",
       " 2,\n",
       " 2,\n",
       " 2,\n",
       " 2,\n",
       " 2,\n",
       " 2,\n",
       " 2,\n",
       " 2,\n",
       " 2,\n",
       " 2,\n",
       " 2,\n",
       " 2,\n",
       " 2,\n",
       " 2,\n",
       " 2,\n",
       " 2,\n",
       " 2,\n",
       " 2,\n",
       " 2,\n",
       " 2,\n",
       " 2,\n",
       " 2,\n",
       " 2,\n",
       " 2,\n",
       " 2,\n",
       " 2,\n",
       " 2,\n",
       " 2,\n",
       " 2,\n",
       " 2,\n",
       " 2,\n",
       " 2,\n",
       " 2,\n",
       " 2,\n",
       " 2,\n",
       " 2,\n",
       " 2,\n",
       " 2,\n",
       " 2,\n",
       " 2,\n",
       " 2,\n",
       " 2,\n",
       " 2,\n",
       " 2,\n",
       " 2,\n",
       " 2,\n",
       " 2,\n",
       " 2,\n",
       " 2,\n",
       " 2,\n",
       " 2,\n",
       " 2,\n",
       " 2,\n",
       " 2,\n",
       " 2,\n",
       " 2,\n",
       " 2,\n",
       " 2,\n",
       " 2,\n",
       " 2,\n",
       " 2,\n",
       " 2,\n",
       " 2,\n",
       " 2,\n",
       " 2,\n",
       " 2,\n",
       " 2,\n",
       " 2,\n",
       " 2,\n",
       " 2,\n",
       " 2,\n",
       " 2,\n",
       " 2,\n",
       " 2,\n",
       " 2,\n",
       " 2,\n",
       " 2,\n",
       " 2,\n",
       " 2,\n",
       " 2,\n",
       " 2,\n",
       " 1,\n",
       " 1,\n",
       " 1,\n",
       " 1,\n",
       " 1,\n",
       " 1,\n",
       " 1,\n",
       " 1,\n",
       " 1,\n",
       " 1,\n",
       " 1,\n",
       " 1,\n",
       " 1,\n",
       " 1,\n",
       " 1,\n",
       " 1,\n",
       " 1,\n",
       " 1,\n",
       " 1,\n",
       " 1,\n",
       " 1,\n",
       " 1,\n",
       " 1,\n",
       " 1,\n",
       " 1,\n",
       " 1,\n",
       " 1,\n",
       " 1,\n",
       " 1,\n",
       " 1,\n",
       " 1,\n",
       " 1,\n",
       " 1,\n",
       " 1,\n",
       " 1,\n",
       " 1,\n",
       " 1,\n",
       " 1,\n",
       " 1,\n",
       " 1,\n",
       " 1,\n",
       " 1,\n",
       " 1,\n",
       " 1,\n",
       " 1,\n",
       " 1,\n",
       " 1,\n",
       " 1,\n",
       " 1,\n",
       " 1,\n",
       " 1,\n",
       " 1,\n",
       " 1,\n",
       " 1,\n",
       " 1,\n",
       " 1,\n",
       " 1,\n",
       " 1,\n",
       " 1,\n",
       " 1,\n",
       " 1,\n",
       " 1,\n",
       " 1,\n",
       " 1,\n",
       " 1,\n",
       " 1,\n",
       " 1,\n",
       " 1,\n",
       " 1,\n",
       " 1,\n",
       " 1,\n",
       " 1,\n",
       " 1,\n",
       " 1,\n",
       " 1,\n",
       " 1,\n",
       " 1,\n",
       " 1,\n",
       " 1,\n",
       " 1,\n",
       " 1,\n",
       " 1,\n",
       " 1,\n",
       " 1,\n",
       " 1,\n",
       " 1,\n",
       " 1,\n",
       " 1,\n",
       " 1,\n",
       " 1,\n",
       " 1,\n",
       " 1,\n",
       " 1,\n",
       " 1,\n",
       " 1,\n",
       " 1,\n",
       " 1,\n",
       " 1,\n",
       " 1,\n",
       " 1,\n",
       " 1,\n",
       " 1,\n",
       " 1,\n",
       " 1,\n",
       " 1,\n",
       " 1,\n",
       " 1,\n",
       " 1,\n",
       " 1,\n",
       " 1,\n",
       " 1,\n",
       " 1,\n",
       " 1,\n",
       " 1,\n",
       " 1,\n",
       " 1,\n",
       " 1,\n",
       " 1,\n",
       " 1,\n",
       " 1,\n",
       " 1,\n",
       " 1,\n",
       " 1,\n",
       " 1,\n",
       " 1,\n",
       " 1,\n",
       " 1,\n",
       " 1,\n",
       " 1,\n",
       " 1,\n",
       " 1,\n",
       " 1,\n",
       " 1,\n",
       " 1,\n",
       " 1,\n",
       " 1,\n",
       " 1,\n",
       " 1,\n",
       " 1,\n",
       " 1,\n",
       " 1,\n",
       " 1,\n",
       " 1,\n",
       " 1,\n",
       " 1,\n",
       " 1,\n",
       " 1,\n",
       " 1,\n",
       " 1,\n",
       " 1,\n",
       " 1,\n",
       " 1,\n",
       " 1,\n",
       " 1,\n",
       " 1,\n",
       " 1,\n",
       " 1,\n",
       " 1,\n",
       " 1,\n",
       " 1,\n",
       " 1,\n",
       " 1,\n",
       " 1,\n",
       " 1,\n",
       " 1,\n",
       " 1,\n",
       " 1,\n",
       " 1,\n",
       " 1,\n",
       " 1,\n",
       " 1,\n",
       " 1,\n",
       " 1,\n",
       " 1,\n",
       " 1,\n",
       " 1,\n",
       " 1,\n",
       " 1,\n",
       " 1,\n",
       " 1,\n",
       " 1,\n",
       " 1,\n",
       " 1,\n",
       " 1,\n",
       " 1,\n",
       " 1,\n",
       " 1,\n",
       " 1,\n",
       " 1,\n",
       " 1,\n",
       " 1,\n",
       " 1,\n",
       " 1,\n",
       " 1,\n",
       " 1,\n",
       " 1,\n",
       " 1,\n",
       " 1,\n",
       " 1,\n",
       " 1,\n",
       " 1,\n",
       " 1,\n",
       " 1,\n",
       " 1,\n",
       " 1,\n",
       " 1,\n",
       " 1,\n",
       " 1,\n",
       " 1,\n",
       " 1,\n",
       " 1,\n",
       " 1,\n",
       " 1,\n",
       " 1,\n",
       " 1,\n",
       " 1,\n",
       " 1,\n",
       " 1,\n",
       " 1,\n",
       " 1,\n",
       " 1,\n",
       " ...]"
      ]
     },
     "execution_count": 108,
     "metadata": {},
     "output_type": "execute_result"
    }
   ],
   "source": [
    "list(np.vstack(counts.most_common())[:,1])"
   ]
  },
  {
   "cell_type": "code",
   "execution_count": null,
   "id": "f29ecd59",
   "metadata": {},
   "outputs": [],
   "source": []
  }
 ],
 "metadata": {
  "kernelspec": {
   "display_name": "Python 3",
   "language": "python",
   "name": "python3"
  },
  "language_info": {
   "codemirror_mode": {
    "name": "ipython",
    "version": 3
   },
   "file_extension": ".py",
   "mimetype": "text/x-python",
   "name": "python",
   "nbconvert_exporter": "python",
   "pygments_lexer": "ipython3",
   "version": "3.8.5"
  }
 },
 "nbformat": 4,
 "nbformat_minor": 5
}
