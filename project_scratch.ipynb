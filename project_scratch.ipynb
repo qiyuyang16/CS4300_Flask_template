{
 "cells": [
  {
   "cell_type": "code",
   "execution_count": 1,
   "id": "latin-salem",
   "metadata": {},
   "outputs": [],
   "source": [
    "%config Completer.use_jedi = False"
   ]
  },
  {
   "cell_type": "code",
   "execution_count": 2,
   "id": "02c23942",
   "metadata": {},
   "outputs": [],
   "source": [
    "import numpy as np\n",
    "import pandas as pd\n",
    "import preprocessing2\n",
    "import cosine2\n",
    "import plotly.express as px\n",
    "\n",
    "from pdfstructure.hierarchy.parser import HierarchyParser\n",
    "from pdfstructure.source import FileSource\n",
    "from pdfstructure.printer import JsonFilePrinter\n",
    "import pathlib\n",
    "import json"
   ]
  },
  {
   "cell_type": "code",
   "execution_count": 3,
   "id": "1d00e14e",
   "metadata": {},
   "outputs": [],
   "source": [
    "def text_on_page(dict_var, id_json, list_res, page):\n",
    "    if type(dict_var) is dict:\n",
    "        for k, v in dict_var.items():\n",
    "            if k == id_json and v == page:\n",
    "                if v > page: return list_res\n",
    "                list_res.append(dict_var[\"text\"])\n",
    "            elif isinstance(v, dict):\n",
    "                text_on_page(v, id_json, list_res, page)   \n",
    "            elif isinstance(v, list):\n",
    "                for item in v:\n",
    "                    text_on_page(item, id_json, list_res, page)\n",
    "    return list_res"
   ]
  },
  {
   "cell_type": "code",
   "execution_count": 4,
   "id": "1bc42433",
   "metadata": {},
   "outputs": [],
   "source": [
    "def get_page(data, page):\n",
    "    lines = []\n",
    "    for chunk in data[\"elements\"]:\n",
    "        lines.extend(text_on_page(chunk, \"page\", [], page))             \n",
    "    return lines"
   ]
  },
  {
   "cell_type": "code",
   "execution_count": 5,
   "id": "b4f31034",
   "metadata": {},
   "outputs": [],
   "source": [
    "def get_histogram(docs, top = 20):\n",
    "    tokens = []\n",
    "    for s in docs.values():\n",
    "        tokens += s.split()\n",
    "    uniques, counts = np.unique(tokens, return_counts = True)\n",
    "    sorted_inds = np.argsort(counts)\n",
    "    uniques_sorted = uniques[sorted_inds[-top:]][::-1]\n",
    "    counts_sorted = counts[sorted_inds[-top:]][::-1]\n",
    "    return (uniques_sorted, counts_sorted)"
   ]
  },
  {
   "cell_type": "code",
   "execution_count": 6,
   "id": "01e5583e",
   "metadata": {},
   "outputs": [],
   "source": [
    "file = '/home/vince/Documents/Code/microgoogle/CS4300_microGoogle/pdfs/Nurse.pdf'\n",
    "start = 1\n",
    "end = 50"
   ]
  },
  {
   "cell_type": "code",
   "execution_count": 7,
   "id": "93b73e68",
   "metadata": {},
   "outputs": [],
   "source": [
    "parser = HierarchyParser()\n",
    "source = FileSource(file, page_numbers=list(range(start-1, end)))"
   ]
  },
  {
   "cell_type": "code",
   "execution_count": 8,
   "id": "3bac9fff",
   "metadata": {},
   "outputs": [],
   "source": [
    "# @st.cache(suppress_st_warning=True)\n",
    "def fetch_doc(source):\n",
    "    document = parser.parse_pdf(source)\n",
    "    printer = JsonFilePrinter()\n",
    "    file_path = pathlib.Path('pdf.json')\n",
    "    printer.print(document, file_path=str(file_path.absolute()))\n",
    "    with open('pdf.json') as json_file:\n",
    "            data = json.load(json_file)\n",
    "    pages = {i : get_page(data, i) for i in range(start-1, end)}\n",
    "    return pages"
   ]
  },
  {
   "cell_type": "code",
   "execution_count": 9,
   "id": "47029beb",
   "metadata": {},
   "outputs": [],
   "source": [
    "json = fetch_doc(source)"
   ]
  },
  {
   "cell_type": "code",
   "execution_count": null,
   "id": "f6bc2ccb",
   "metadata": {},
   "outputs": [],
   "source": []
  }
 ],
 "metadata": {
  "kernelspec": {
   "display_name": "Python 3",
   "language": "python",
   "name": "python3"
  },
  "language_info": {
   "codemirror_mode": {
    "name": "ipython",
    "version": 3
   },
   "file_extension": ".py",
   "mimetype": "text/x-python",
   "name": "python",
   "nbconvert_exporter": "python",
   "pygments_lexer": "ipython3",
   "version": "3.8.5"
  }
 },
 "nbformat": 4,
 "nbformat_minor": 5
}
