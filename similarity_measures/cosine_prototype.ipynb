{
 "metadata": {
  "language_info": {
   "codemirror_mode": {
    "name": "ipython",
    "version": 3
   },
   "file_extension": ".py",
   "mimetype": "text/x-python",
   "name": "python",
   "nbconvert_exporter": "python",
   "pygments_lexer": "ipython3",
   "version": "3.8.5"
  },
  "orig_nbformat": 2,
  "kernelspec": {
   "name": "python385jvsc74a57bd004ac14935f6ed29b3349ee8f41114d2dfa2ba78ce87cf701ad9b7ca15955b787",
   "display_name": "Python 3.8.5 64-bit ('base': conda)"
  }
 },
 "nbformat": 4,
 "nbformat_minor": 2,
 "cells": [
  {
   "cell_type": "code",
   "execution_count": 1,
   "metadata": {},
   "outputs": [],
   "source": [
    "import numpy as np\n",
    "from sklearn.feature_extraction.text import TfidfVectorizer\n",
    "import matplotlib.pyplot as plt\n",
    "import preprocessing"
   ]
  },
  {
   "cell_type": "code",
   "execution_count": 2,
   "metadata": {},
   "outputs": [],
   "source": [
    "def get_tfidf_vectorizer(max_df = 0.9, min_df = 1, max_features = None):\n",
    "    \"\"\"\n",
    "    return:\n",
    "        tf-idf vectorizer\n",
    "    \"\"\"\n",
    "    return TfidfVectorizer(max_df = max_df, min_df = min_df, max_features = max_features)"
   ]
  },
  {
   "cell_type": "code",
   "execution_count": 8,
   "metadata": {},
   "outputs": [],
   "source": [
    "def get_query_vector(query, tfidf_vectorizer):\n",
    "    \"\"\"\n",
    "    [query]: string\n",
    "    [tfidf_vectorizer]: tfidf vectorizer after fit_transform\n",
    "    return:\n",
    "        1d numpy.array of length = num_features(tfidf_vectorizer) representing the query as binary vector\n",
    "    \"\"\"\n",
    "    # TODO non-binary representation of query vector e.g. using tfidf_vectorizer.idf_\n",
    "    features = tfidf_vectorizer.get_feature_names()\n",
    "    inv_idx = {t:i for (i,t) in enumerate(features)}\n",
    "    query_vec = np.zeros((len(features), ))\n",
    "    for w in preprocessing.preprocess(query).split(' '):\n",
    "        try:\n",
    "            query_vec[inv_idx[w]] = 1\n",
    "        except KeyError:\n",
    "            pass\n",
    "    if not np.any(query_vec): # query vector is all zeros\n",
    "        print('invalid query') # TODO better way to notify user\n",
    "    return query_vec"
   ]
  },
  {
   "cell_type": "code",
   "execution_count": 4,
   "metadata": {},
   "outputs": [],
   "source": [
    "def get_cosine_sim(query_vec, tfidf_matrix):\n",
    "    \"\"\"\n",
    "    [query_vec]: query vector of shape (num_features, )\n",
    "    [tfidf_matrix]: tf-idf matrix of shape (num_docs, num_features)\n",
    "    return:\n",
    "        1d numpy array of shape (num_docs, ) containing cosine similarity scores for query with each doc\n",
    "    note: norm(query) is removed from equation since it's constant for all docs\n",
    "    \"\"\"\n",
    "    norms_docs = np.linalg.norm(tfidf_matrix, axis = 1)\n",
    "    dot_prods = np.dot(tfidf_matrix, query_vec)\n",
    "    return np.divide(dot_prods, norms_docs, out = np.zeros_like(dot_prods), where = (norms_docs != 0))"
   ]
  },
  {
   "cell_type": "code",
   "execution_count": 5,
   "metadata": {},
   "outputs": [],
   "source": [
    "def get_rankings(cos_sims, top = 10):\n",
    "    \"\"\"\n",
    "    [cos_sims]: cosine similarity scores of shape (num_docs, )\n",
    "    [top]: how many top results are returned\n",
    "    return:\n",
    "        [rankings]: ranked list of document indices based on similarity\n",
    "        [scores]: cosine similarity scores\n",
    "    \"\"\"\n",
    "    rankings = np.argsort(cos_sims)[-top:][::-1]\n",
    "    scores = cos_sims[rankings]\n",
    "    return (rankings, scores)\n",
    "\n",
    "def display_rankings(rankings, scores, formatted_docs, paragraph_page_idx):\n",
    "    \"\"\"\n",
    "    [rankings]: ranked list of document indices based on similarity\n",
    "    [scores]: cosine similarity scores\n",
    "    [formatted_docs]: Dict{paragraph_idx: paragraph_text_string}\n",
    "    [paragraph_page_idx]: Dict{paragraph_idx: page_num}\n",
    "    \"\"\"\n",
    "    for i in range(len(rankings)):\n",
    "        idx = rankings[i]\n",
    "        score = scores[i]\n",
    "        print(str(i+1) + ',   cosine score: ' + str(score) + ',   page: ' + str(paragraph_page_idx[idx]))\n",
    "        print(formatted_docs[idx])\n",
    "        print('\\n')"
   ]
  },
  {
   "cell_type": "code",
   "execution_count": 6,
   "metadata": {},
   "outputs": [],
   "source": [
    "pages = preprocessing.get_pages('../streamlit_testing/pdftotext_result.txt')\n",
    "(formatted_docs, paragraph_page_idx) = preprocessing.get_formatted_docs(pages, 0.5)\n",
    "preprocessed_docs = preprocessing.get_preprocessed_docs(formatted_docs)\n",
    "tfidf_vectorizer = get_tfidf_vectorizer()\n",
    "tfidf_matrix = tfidf_vectorizer.fit_transform(list(preprocessed_docs.values())).toarray()"
   ]
  },
  {
   "cell_type": "code",
   "execution_count": 9,
   "metadata": {},
   "outputs": [
    {
     "output_type": "stream",
     "name": "stdout",
     "text": [
      "1,   cosine score: 0.8099417004512505,   page: 19\nCHAPTER 1 The Nursing Process Many years ago, the nursing profession identified a problemsolving process that “combines the most desirable elements of the art of nursing with the most relevant elements of systems theory, using the scientific method” (Shore, 1988). The term nursing process was introduced in the 1950s and has gained national acceptance as the basis for providing effective nursing care. It is now included in the conceptual framework of all nursing curricula and is accepted in the legal definition of nursing in the nurse practice acts of most states. This nursing process is central to nursing actions in any setting, because it is an efficient method of organizing thought processes for clinical decision making and problem solving. Use of the nursing process requires the skills of (1) assessment (systematic collection of data relating to clients and their needs), (2) problem/need identification (analysis of data), (3) planning (setting goals, choice of solutions), (4) implementation (putting the plan into action), and (5) evaluation (assessing the effectiveness of the plan and changing the plan as\n\n\n2,   cosine score: 0.6192948288137109,   page: 20\nhave provided impetus and support for the use of nursing diagnosis in the practice setting. Currently, there are differing definitions of nursing diagnosis. NANDA International (formerly The North American Nursing Diagnosis Association) has accepted the following definition: Nursing diagnosis is a clinical judgment about individual, family, or community responses to actual and potential health problems/life processes. Nursing diagnoses provide the basis for selection of nursing interventions to achieve outcomes for which the nurse is accountable. Although it continues to evolve, the current NANDA list provides diagnostic labels and information for appropriate use. Nurses need to become familiar with the parameters of the diagnoses, identifying strengths and weaknesses, thus promoting research and further development. Although nursing practice is more than nursing diagnosis, the use of standardized nursing language can help to define and to refine the profession. Also, NDs can be used within many existing conceptual frameworks because they are a generic approach adaptable to all. Whereas nursing actions were once based on variables such as signs and symptoms, diagnostic tests, and medical diagnoses, NDs are a uniform way of identifying, focusing on, and dealing with specific client problems/needs. The accurate nursing NURSE’S POCKET\n\n\n3,   cosine score: 0.5036474733624275,   page: 21\nprovide holistic care for the individual/family. Summary In using ND as an integral part of the nursing process, the nursing profession has identified a body of knowledge that contributes to the prevention of illness as well as to the maintenance and/or restoration of health (or relief of pain and discomfort when a return to health is not possible). Because the nursing process is the basis of all nursing actions, it is the essence of nursing. The process is flexible and yet sufficiently structured so as to provide the base for nursing actions. It can be applied in any healthcare or educational setting, in any theoretical or conceptual framework, and within the context of any nursing philosophy. Subsequent chapters help the nurse apply the nursing process to become more familiar with the current NANDA-approved list of NDs, their definitions, related/risk factors (etiology), and defining characteristics. Coupled with desired outcomes and the most commonly used interventions, the nurse can write, implement, and document an individualized plan of care. THE NURSING PROCESS\n\n\n4,   cosine score: 0.43969602163350385,   page: 439\nfeelings and concerns openly and appropriately. • Experience no catastrophic event. Actions/Interventions NURSING PRIORITY NO. 1. To assess causative/contributing factors: • Evaluate client for current and potential losses related to relocation, noting age, developmental level, role in family, and physical/emotional health status. • Ascertain client’s perception about change(s) and expectations for the future, noting client’s age. (Transfer to new school/loss of peers can traumatize children; elderly individuals may be affected by loss of long-term home/neighborhood setting and support persons.) • Note whether relocation will be temporary (e.g., extended care for rehabilitation therapies) or long-term/permanent (e.g., move from home of many years, placement in nursing home). Information that appears in brackets has been added by the authors to clarify and enhance the use of nursing diagnoses. NURSING DIAGNOSES IN ALPHABETICAL ORDER 421\n\n\n5,   cosine score: 0.3552349163878536,   page: 11\nhave found the previous editions of the Pocket Guide helpful, and to other nurses who are looking for help to provide quality nursing care in a period of transition and change, we say, “Nursing Diagnosis is the way.” ACKNOWLEDGMENTS A special acknowledgment to Marilynn’s friend, the late Diane Camillone, who provoked an awareness of the role of the patient and continues to influence our thoughts about the importance of quality nursing care, and to our late colleague, Mary Jeffries, who introduced us to nursing diagnosis. To our colleagues in NANDA who continue to formulate and refine nursing diagnoses to provide nursing with the tools to enhance and promote the growth of the profession. Marilynn E. Doenges Mary Frances Moorhouse Alice C.\n\n\n6,   cosine score: 0.3426052865810166,   page: 19\nindicated by the current needs). Although these skills are presented as separate, individual activities, they are interrelated and form a continuous circle of thought and action. To use this process, the nurse must demonstrate fundamental abilities of knowledge, creativity, adaptability, commitment, trust, and leadership. In addition, intelligence and interpersonal and technical skills are important. Because decision making is crucial to each step of the process, the following assumptions are important for the nurse to consider: • The client is a human being who has worth and dignity. • There are basic human needs that must be met, and when they are not, problems arise, requiring interventions by another person until and if the individual can resume responsibility for self. • The client has a right to quality health and nursing care delivered with interest, compassion, competence, and a focus on wellness and prevention of illness. • The therapeutic nurse-client relationship is important in this process. Nurses have struggled for years to define nursing by identifying the parameters of nursing with the goal of attaining\n\n\n7,   cosine score: 0.33725603342500765,   page: 13\n26 Excerpt from Prenatal Assessment Tool 29 Excerpt from Intrapartal Assessment Tool 31 SECTION 2 Diagnostic Divisions: Nursing Diagnoses Organized According to a Nursing Focus ..........................33 SECTION 3 Client Situation and Prototype Plan of Care ......................39 SECTION 4 Documentation Techniques: SOAP and Focus Charting® ............................................................55 CHAPTER 4 Nursing Diagnoses in Alphabetical Order ............................60 For each nursing diagnosis, the following information is provided: Taxonomy II, Domain, Class, Code, Year Submitted xi\n\n\n8,   cosine score: 0.31533758143040574,   page: 17\nInfant Behavior, disorganized; and Parent/Infant/Child Attachment, risk for impaired. For example, when addressing deficient Fluid Volume, isotonic (hemorrhage), the nurse is directed to stop blood loss; however, specific direction to perform fundal massage is not listed. The inclusion of Documentation Focus suggestions is to remind the nurse of the importance and necessity of recording the steps of the nursing process. Finally, in recognition of the ongoing work of numerous researchers over the past 15 years, the authors have referenced the Nursing Interventions and Outcomes labels developed by the Iowa Intervention Projects (Bulechek & McCloskey; Johnson, Mass, & Moorhead). These groups have been classifying nursing interventions and outcomes to predict resource requirements and measure outcomes, thereby meeting the needs of a standardized language that can be coded for computer and reimbursement purposes. As an introduction to this work in progress, sample NIC and NOC labels have been included under the heading Sample Nursing Interventions & Outcomes Classifications at the conclusion of each nursing diagnosis section. The reader is referred to the various publications by Joanne C. McCloskey and Marion Johnson for more indepth information. HOW TO USE THE NURSE’S POCKET GUIDE xv\n\n\n9,   cosine score: 0.30787539621193577,   page: 64\nphysical examination: complete 1 yr ago, office follow-up 3 mo ago Discharge Considerations (as of 6/28) Anticipated discharge: 7/1/00 (3 days) Resources: self, wife Financial: “If this doesn’t take too long to heal, we got some savings to cover things.” Community supports: diabetic support group (has not participated) Anticipated lifestyle changes: become more involved in management of condition Assistance needed: may require farm help for several days Teaching: learn new medication regimen and wound care; review diet; encourage smoking cessation Referral: Supplies: Downtown Pharmacy or AARP Equipment: Glucometer-AARP Follow-up: primary care provider 1 wk after discharge to evaluate wound healing and potential need for additional changes in diabetic regimen 6 NURSE’S POCKET GUIDE\n\n\n10,   cosine score: 0.29203352663567017,   page: 236\nENVIRONMENT Restraints Weather conditions (e.g., wet floors/ice) Cluttered environment; throw/scatter rugs; no antislip material in bath and/or shower Unfamiliar, dimly lit room CHILDREN 2 years of age; male gender when ⬍1 year of age Lack of gate on stairs; window guards; auto restraints Unattended infant on bed/changing table/sofa; bed located near window Lack of parental supervision NOTE: A risk diagnosis is not evidenced by signs and symptoms, as the problem has not occurred and nursing interventions are directed at prevention. Desired Outcomes/Evaluation Criteria—Client/Caregivers Will: • Verbalize understanding of individual risk factors that contribute to possibility of falls and take steps to correct situation(s). • Demonstrate behaviors, lifestyle changes to reduce risk factors and protect self from injury. • Modify environment as indicated to enhance safety. • Be free of injury. Actions/Interventions NURSING PRIORITY NO. 1.\n\n\n"
     ]
    }
   ],
   "source": [
    "query = 'many years ago the nursing profession'\n",
    "q = get_query_vector(query, tfidf_vectorizer)\n",
    "cos_sims = get_cosine_sim(q, tfidf_matrix)\n",
    "(rankings, scores) = get_rankings(cos_sims)\n",
    "display_rankings(rankings, scores, formatted_docs, paragraph_page_idx)"
   ]
  },
  {
   "cell_type": "code",
   "execution_count": null,
   "metadata": {},
   "outputs": [],
   "source": []
  }
 ]
}