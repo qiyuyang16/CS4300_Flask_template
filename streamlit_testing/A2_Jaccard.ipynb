{
 "cells": [
  {
   "cell_type": "code",
   "execution_count": 312,
   "metadata": {},
   "outputs": [],
   "source": [
    "# https://github.com/ChrizH/pdfstructure"
   ]
  },
  {
   "cell_type": "code",
   "execution_count": 15,
   "metadata": {},
   "outputs": [],
   "source": [
    "import requests\n",
    "\n",
    "data = requests.get(\"https://raw.githubusercontent.com/qiyuyang16/CS4300_microGoogle/master/streamlit_testing/test-pdf.json\").json()"
   ]
  },
  {
   "cell_type": "code",
   "execution_count": 313,
   "metadata": {},
   "outputs": [
    {
     "name": "stdout",
     "output_type": "stream",
     "text": [
      "Enter a queryhi\n"
     ]
    }
   ],
   "source": [
    "query = input(\"Enter a query\")"
   ]
  },
  {
   "cell_type": "code",
   "execution_count": 25,
   "metadata": {},
   "outputs": [],
   "source": [
    "def strip_non_ascii(string):\n",
    "    ''' Returns the string without non ASCII characters'''\n",
    "    stripped = (c for c in string if 0 < ord(c) < 127)\n",
    "    return ''.join(stripped)"
   ]
  },
  {
   "cell_type": "code",
   "execution_count": 305,
   "metadata": {},
   "outputs": [],
   "source": [
    "def text_on_page(dict_var, id_json, list_res, page):\n",
    "    if type(dict_var) is dict:\n",
    "        for k, v in dict_var.items():\n",
    "            if k == id_json and v == page:\n",
    "                if v > page: return list_res\n",
    "                list_res.append(dict_var[\"text\"])\n",
    "            elif isinstance(v, dict):\n",
    "                text_on_page(v, id_json, list_res, page)   \n",
    "            elif isinstance(v, list):\n",
    "                for item in v:\n",
    "                    text_on_page(item, id_json, list_res, page)\n",
    "    return list_res"
   ]
  },
  {
   "cell_type": "code",
   "execution_count": 360,
   "metadata": {},
   "outputs": [
    {
     "data": {
      "text/plain": [
       "['I', ' saw a man in the building', ' with a suitcase']"
      ]
     },
     "execution_count": 360,
     "metadata": {},
     "output_type": "execute_result"
    }
   ],
   "source": [
    "\"I\\n saw a man in the building\\n with a suitcase\".split(\"\\n\")"
   ]
  },
  {
   "cell_type": "code",
   "execution_count": 363,
   "metadata": {},
   "outputs": [],
   "source": [
    "def get_page(json, page, next_line_split=False):\n",
    "    lines = []\n",
    "    for chunk in data[\"elements\"]:\n",
    "        if next_line_split:\n",
    "            lines_unsplit = text_on_page(chunk, \"page\", [], page)\n",
    "            for l in lines_unsplit:\n",
    "                more_lines = l.split(\"\\n\")\n",
    "                lines.extend(more_lines)\n",
    "        else:\n",
    "            lines.extend(text_on_page(chunk, \"page\", [], page))             \n",
    "    return lines"
   ]
  },
  {
   "cell_type": "code",
   "execution_count": 386,
   "metadata": {},
   "outputs": [
    {
     "data": {
      "text/plain": [
       "['00doenges-FM  2/2/04  11:54 AM  Page i',\n",
       " 'Urinary elimination, readiness for enhanced 558–561',\n",
       " 'Urinary incontinence, functional',\n",
       " 'Urinary incontinence, reflex 564–566',\n",
       " 'Urinary incontinence, stress 567–569',\n",
       " 'Urinary incontinence, urge 572–575',\n",
       " 'Urinary urge incontinence, risk for 576–578',\n",
       " 'Incontinence, total',\n",
       " 'Urinary retention 578–581',\n",
       " '570–572',\n",
       " '561–564',\n",
       " '232–236',\n",
       " 'ACTIVITY-EXERCISE PATTERN',\n",
       " 'Activity intolerance, risk for 60–63',\n",
       " 'Activity intolerance (specify level) 63–65',\n",
       " 'Adaptive capacity, decreased, intracranial 316–319',\n",
       " 'Infant behavior, disorganized 295–301',\n",
       " 'Infant behavior, risk for disorganized 303–304',\n",
       " 'Infant behavior, readiness for enhanced organized 301–303',\n",
       " 'Fatigue',\n",
       " 'Physical mobility, impaired 333–337',\n",
       " 'Bed mobility, impaired 331–333',\n",
       " 'Walking, impaired 597–599',\n",
       " 'Wheelchair mobility, impaired 337–339',\n",
       " 'Transfer ability, impaired 544–546',\n",
       " 'Development, risk for delayed 194–197',\n",
       " 'Autonomic dysreflexia 92–95',\n",
       " 'Autonomic dysreflexia, risk for 95–97',\n",
       " 'Disuse syndrome, risk for 200–205',\n",
       " 'Self-care deficit (specify: bathing/hygiene, dressing/grooming, feeding, toileting)',\n",
       " '425–430',\n",
       " '586–590',\n",
       " '581–586',\n",
       " 'Diversional activity deficient 205–208',\n",
       " 'Home maintenance, impaired 281–283',\n",
       " 'Dysfunctional ventilatory weaning response',\n",
       " 'Ventilation, impaired spontaneous',\n",
       " 'Airway clearance, ineffective',\n",
       " 'Breathing pattern, ineffective 117–121',\n",
       " 'Gas exchange, impaired 256–260',\n",
       " 'Cardiac output, decreased 121–126',\n",
       " 'Tissue perfusion, alteration (specify) 537–544',\n",
       " 'Peripheral neurovascular dysfunction, risk for 387–390',\n",
       " 'Surgical recovery, delayed 507–510',\n",
       " 'Growth and development, delayed 266–271',\n",
       " 'Growth, risk for disproportionate 271–275',\n",
       " 'Wandering',\n",
       " '599–602',\n",
       " '69–72',\n",
       " 'SLEEP-REST PATTERN',\n",
       " 'Sleep-pattern disturbed 472–477',\n",
       " 'Sleep deprivation 468–472',\n",
       " 'Sleep, readiness for enhanced 477–480',\n",
       " '551–554',\n",
       " 'COGNITIVE-PERCEPTUAL PATTERN',\n",
       " 'Acute pain 365–369',\n",
       " 'Chronic pain 370–374',\n",
       " 'Sensory perception, disturbed (specify) 449–454',\n",
       " 'Unilateral neglect',\n",
       " 'Knowledge deficit (specify) 319–323',\n",
       " 'Knowledge, readiness for enhanced 323–325',\n",
       " 'Memory, impaired 328–331',\n",
       " 'Thought processes, disturbed 529–533',\n",
       " 'Acute confusion 147–150',\n",
       " 'Chronic confusion 150–153',\n",
       " 'Environmental interpretation syndrome, impaired 211–214',\n",
       " 'Decisional conflict (specify)',\n",
       " '144–147',\n",
       " 'SELF-PERCEPTION-SELF-CONCEPT PATTERN',\n",
       " 'Fear',\n",
       " 'Anxiety 78–83',\n",
       " '236–239']"
      ]
     },
     "execution_count": 386,
     "metadata": {},
     "output_type": "execute_result"
    }
   ],
   "source": [
    "get_page(data, 2, True)\n"
   ]
  },
  {
   "cell_type": "code",
   "execution_count": 327,
   "metadata": {},
   "outputs": [],
   "source": [
    "def jaccard(query, text):\n",
    "    query = strip_non_ascii(query)\n",
    "    text = strip_non_ascii(text)\n",
    "    query_set = set(query.split())\n",
    "    text_set = set(text.split())\n",
    "    return len(query_set.intersection(text_set)) / len(query_set.union(text_set))"
   ]
  },
  {
   "cell_type": "code",
   "execution_count": 324,
   "metadata": {},
   "outputs": [],
   "source": [
    "# Returns dict with attributes 'page' and 'score'\n",
    "def most_similar_page(query):\n",
    "    top = dict()\n",
    "    top[\"page\"] = 0\n",
    "    top[\"score\"] = -1\n",
    "    \n",
    "    page = 1\n",
    "    page_data = get_page(data, page)\n",
    "    while (len(page_data) > 0):\n",
    "        page_text = \" \".join(page_data)\n",
    "        jacc_sim = jaccard(query, page_text)\n",
    "        if jacc_sim > top[\"score\"]:\n",
    "            top[\"score\"] = jacc_sim\n",
    "            top[\"page\"] = page\n",
    "        page += 1\n",
    "        page_data = get_page(data, page)\n",
    "    return top\n"
   ]
  },
  {
   "cell_type": "code",
   "execution_count": 350,
   "metadata": {},
   "outputs": [],
   "source": [
    "def distance(s1, s2):\n",
    "    if len(s1) > len(s2):\n",
    "        s1, s2 = s2, s1\n",
    "\n",
    "    distances = range(len(s1) + 1)\n",
    "    for i2, c2 in enumerate(s2):\n",
    "        distances_ = [i2+1]\n",
    "        for i1, c1 in enumerate(s1):\n",
    "            if c1 == c2:\n",
    "                distances_.append(distances[i1])\n",
    "            else:\n",
    "                distances_.append(1 + min((distances[i1], distances[i1 + 1], distances_[-1])))\n",
    "        distances = distances_\n",
    "    return distances[-1]"
   ]
  },
  {
   "cell_type": "code",
   "execution_count": 351,
   "metadata": {},
   "outputs": [
    {
     "data": {
      "text/plain": [
       "26"
      ]
     },
     "execution_count": 351,
     "metadata": {},
     "output_type": "execute_result"
    }
   ],
   "source": [
    "distance(\"alteration of immune system\", \"3r1p\")"
   ]
  },
  {
   "cell_type": "code",
   "execution_count": 377,
   "metadata": {},
   "outputs": [],
   "source": [
    "def max_push(lst, score, elem, maximum):\n",
    "    lst.append((score, elem))\n",
    "    lst.sort(key=lambda tup: -1 * tup[0])  \n",
    "    return lst[0:maximum]"
   ]
  },
  {
   "cell_type": "code",
   "execution_count": 382,
   "metadata": {},
   "outputs": [],
   "source": [
    "def similar_context(query, page_num):\n",
    "    sim_list = []\n",
    "    #min_dist = float('inf')\n",
    "   \n",
    "    page_data = get_page(data, page_num, True)\n",
    "    for phrase in page_data:\n",
    "        dist = distance(query, phrase)\n",
    "        sim = jaccard(query, phrase)\n",
    "        #if min_dist > dist:\n",
    "          #  min_dist = dist\n",
    "          #  context = phrase\n",
    "        sim_list = max_push(sim_list, sim, phrase, 10)\n",
    "    return sim_list"
   ]
  },
  {
   "cell_type": "code",
   "execution_count": 372,
   "metadata": {},
   "outputs": [
    {
     "data": {
      "text/plain": [
       "['03doenges-03  2/2/04  11:57 AM  Page 38',\n",
       " 'TEACHING/LEARNING—Ability  to  incorporate  and  use',\n",
       " 'information to achieve healthy lifestyle/optimal wellness',\n",
       " 'Development, risk for delayed 194–197',\n",
       " 'Growth and Development, delayed 266–271',\n",
       " 'Growth, risk for disproportionate 271–275',\n",
       " 'Health-Seeking Behaviors (specify) 278–281',\n",
       " 'Knowledge, deficient (specify)',\n",
       " 'Knowledge (specify), readiness for enhanced 323–325',\n",
       " 'Noncompliance [Adherence, ineffective] [specify] 343–347',\n",
       " 'Therapeutic Regimen Management: community, ineffective',\n",
       " '319–323',\n",
       " 'Therapeutic Regimen Management: effective 517–519',\n",
       " 'Therapeutic Regimen Management: family, ineffective',\n",
       " 'Therapeutic Regimen Management: ineffective',\n",
       " 'Therapeutic Regimen Management: readiness for enhanced',\n",
       " '522–525',\n",
       " '515–517',\n",
       " '520–522',\n",
       " '525–527',\n",
       " 'Information that appears in brackets has been added by the authors',\n",
       " 'to clarify and enhance the use of NDs.',\n",
       " 'Please  also  see  the  NANDA  diagnoses  grouped  according  to',\n",
       " 'Gordon’s Functional Health Patterns on the inside front cover.',\n",
       " '38',\n",
       " 'N U R S E ’ S   P O C K E T   G U I D E']"
      ]
     },
     "execution_count": 372,
     "metadata": {},
     "output_type": "execute_result"
    }
   ],
   "source": [
    "get_page(data, 55, True)"
   ]
  },
  {
   "cell_type": "code",
   "execution_count": 388,
   "metadata": {},
   "outputs": [
    {
     "name": "stdout",
     "output_type": "stream",
     "text": [
      "{'page': 18, 'score': 0.02727272727272727}\n",
      "(0.6666666666666666, 'Many years ago, the nursing profession identified a problem-')\n",
      "(0.16666666666666666, 'fying  the  parameters  of nursing  with  the  goal  of attaining')\n",
      "(0.15384615384615385, 'the  art  of nursing  with  the  most  relevant  elements  of systems')\n",
      "(0.15384615384615385, 'national acceptance as the basis for providing effective nursing')\n",
      "(0.15384615384615385, 'Use  of the  nursing  process  requires  the  skills  of (1)  assess-')\n",
      "(0.14285714285714285, 'nursing  process was  introduced  in  the  1950s  and  has  gained')\n",
      "(0.14285714285714285, 'Nurses have struggled for years to define nursing by identi-')\n",
      "(0.13333333333333333, 'ing curricula and is accepted in the legal definition of nursing in')\n",
      "(0.13333333333333333, 'the  nurse  practice  acts  of most  states. This  nursing  process  is')\n",
      "(0.08333333333333333, 'are important for the nurse to consider:')\n"
     ]
    }
   ],
   "source": [
    "q = \"Many years ago, the nursing profession\"\n",
    "top = most_similar_page(q)\n",
    "print(top)\n",
    "top_page = top[\"page\"]\n",
    "for pair in similar_context(q, top_page):\n",
    "    print(pair)"
   ]
  },
  {
   "cell_type": "code",
   "execution_count": 331,
   "metadata": {},
   "outputs": [
    {
     "data": {
      "text/plain": [
       "{'page': 38, 'score': 0.037037037037037035}"
      ]
     },
     "execution_count": 331,
     "metadata": {},
     "output_type": "execute_result"
    }
   ],
   "source": [
    "top"
   ]
  }
 ],
 "metadata": {
  "kernelspec": {
   "display_name": "Python 3",
   "language": "python",
   "name": "python3"
  },
  "language_info": {
   "codemirror_mode": {
    "name": "ipython",
    "version": 3
   },
   "file_extension": ".py",
   "mimetype": "text/x-python",
   "name": "python",
   "nbconvert_exporter": "python",
   "pygments_lexer": "ipython3",
   "version": "3.8.3"
  }
 },
 "nbformat": 4,
 "nbformat_minor": 4
}
