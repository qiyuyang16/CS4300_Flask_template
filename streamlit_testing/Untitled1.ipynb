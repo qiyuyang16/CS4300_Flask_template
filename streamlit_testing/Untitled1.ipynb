{
 "cells": [
  {
   "cell_type": "code",
   "execution_count": 1,
   "id": "91fe4a56",
   "metadata": {},
   "outputs": [],
   "source": [
    "file = './test-pdf.json'"
   ]
  },
  {
   "cell_type": "code",
   "execution_count": 3,
   "id": "86088035",
   "metadata": {},
   "outputs": [],
   "source": [
    "import json\n",
    "  \n",
    "# Opening JSON file\n",
    "with open(file) as json_file:\n",
    "    data = json.load(json_file)"
   ]
  },
  {
   "cell_type": "code",
   "execution_count": 9,
   "id": "5e4e1d83",
   "metadata": {},
   "outputs": [
    {
     "data": {
      "text/plain": [
       "{'style_distribution': {'_data': {'8.0': 14374,\n",
       "   '14.0': 16,\n",
       "   '6.8': 196,\n",
       "   '6.0': 312,\n",
       "   '6.79': 18,\n",
       "   '18.0': 1,\n",
       "   '25.99': 1,\n",
       "   '20.0': 25,\n",
       "   '9.0': 18660,\n",
       "   '10.0': 201,\n",
       "   '7.99': 267,\n",
       "   '8.99': 407,\n",
       "   '7.0': 402,\n",
       "   '16.0': 16,\n",
       "   '12.0': 3,\n",
       "   '6.75': 1590,\n",
       "   '6.74': 31,\n",
       "   '11.99': 1,\n",
       "   '7.5': 6,\n",
       "   '5.99': 4,\n",
       "   '6.4': 1},\n",
       "  '_body_size': 9.0,\n",
       "  '_min_found_size': 5.99,\n",
       "  '_max_found_size': 25.99,\n",
       "  '_line_margin': 0.21875},\n",
       " 'filename': 'Nurse.pdf'}"
      ]
     },
     "execution_count": 9,
     "metadata": {},
     "output_type": "execute_result"
    }
   ],
   "source": [
    "data['metadata']"
   ]
  },
  {
   "cell_type": "code",
   "execution_count": 24,
   "id": "88397c61",
   "metadata": {},
   "outputs": [
    {
     "data": {
      "text/plain": [
       "1"
      ]
     },
     "execution_count": 24,
     "metadata": {},
     "output_type": "execute_result"
    }
   ],
   "source": [
    "data['elements'][0]['children'][0]['heading']['page']"
   ]
  },
  {
   "cell_type": "code",
   "execution_count": null,
   "id": "f00ae648",
   "metadata": {},
   "outputs": [],
   "source": []
  }
 ],
 "metadata": {
  "kernelspec": {
   "display_name": "Python 3",
   "language": "python",
   "name": "python3"
  },
  "language_info": {
   "codemirror_mode": {
    "name": "ipython",
    "version": 3
   },
   "file_extension": ".py",
   "mimetype": "text/x-python",
   "name": "python",
   "nbconvert_exporter": "python",
   "pygments_lexer": "ipython3",
   "version": "3.8.5"
  }
 },
 "nbformat": 4,
 "nbformat_minor": 5
}
