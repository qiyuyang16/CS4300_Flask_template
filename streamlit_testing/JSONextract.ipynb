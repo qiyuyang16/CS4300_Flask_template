{
 "cells": [
  {
   "cell_type": "code",
   "execution_count": 1,
   "metadata": {},
   "outputs": [],
   "source": [
    "import requests\n",
    "\n",
    "data = requests.get(\"https://raw.githubusercontent.com/qiyuyang16/CS4300_microGoogle/master/streamlit_testing/test-pdf.json\").json()"
   ]
  },
  {
   "cell_type": "code",
   "execution_count": 2,
   "metadata": {},
   "outputs": [],
   "source": [
    "def text_on_page(dict_var, id_json, list_res, page):\n",
    "    if type(dict_var) is dict:\n",
    "        for k, v in dict_var.items():\n",
    "            if k == id_json and v == page:\n",
    "                if v > page: return list_res\n",
    "                list_res.append(dict_var[\"text\"])\n",
    "            elif isinstance(v, dict):\n",
    "                text_on_page(v, id_json, list_res, page)   \n",
    "            elif isinstance(v, list):\n",
    "                for item in v:\n",
    "                    text_on_page(item, id_json, list_res, page)\n",
    "    return list_res"
   ]
  },
  {
   "cell_type": "code",
   "execution_count": 3,
   "metadata": {},
   "outputs": [],
   "source": [
    "def get_page(json, page):\n",
    "    lines = []\n",
    "    for chunk in data[\"elements\"]:\n",
    "        lines.extend(text_on_page(chunk, \"page\", [], page))             \n",
    "    return lines"
   ]
  },
  {
   "cell_type": "code",
   "execution_count": 17,
   "metadata": {},
   "outputs": [
    {
     "data": {
      "text/plain": [
       "['00doenges-FM  2/2/04  11:54 AM  Page i',\n",
       " 'Urinary elimination, readiness for enhanced 558–561\\nUrinary incontinence, functional\\nUrinary incontinence, reflex 564–566\\nUrinary incontinence, stress 567–569\\nUrinary incontinence, urge 572–575\\nUrinary urge incontinence, risk for 576–578\\nIncontinence, total\\nUrinary retention 578–581',\n",
       " '570–572',\n",
       " '561–564',\n",
       " '232–236',\n",
       " 'ACTIVITY-EXERCISE PATTERN\\nActivity intolerance, risk for 60–63\\nActivity intolerance (specify level) 63–65\\nAdaptive capacity, decreased, intracranial 316–319\\nInfant behavior, disorganized 295–301\\nInfant behavior, risk for disorganized 303–304\\nInfant behavior, readiness for enhanced organized 301–303\\nFatigue\\nPhysical mobility, impaired 333–337\\nBed mobility, impaired 331–333\\nWalking, impaired 597–599\\nWheelchair mobility, impaired 337–339\\nTransfer ability, impaired 544–546\\nDevelopment, risk for delayed 194–197\\nAutonomic dysreflexia 92–95\\nAutonomic dysreflexia, risk for 95–97\\nDisuse syndrome, risk for 200–205\\nSelf-care deficit (specify: bathing/hygiene, dressing/grooming, feeding, toileting)',\n",
       " '425–430',\n",
       " '586–590',\n",
       " '581–586',\n",
       " 'Diversional activity deficient 205–208\\nHome maintenance, impaired 281–283\\nDysfunctional ventilatory weaning response\\nVentilation, impaired spontaneous\\nAirway clearance, ineffective\\nBreathing pattern, ineffective 117–121\\nGas exchange, impaired 256–260\\nCardiac output, decreased 121–126\\nTissue perfusion, alteration (specify) 537–544\\nPeripheral neurovascular dysfunction, risk for 387–390\\nSurgical recovery, delayed 507–510\\nGrowth and development, delayed 266–271\\nGrowth, risk for disproportionate 271–275\\nWandering',\n",
       " '599–602',\n",
       " '69–72',\n",
       " 'SLEEP-REST PATTERN\\nSleep-pattern disturbed 472–477\\nSleep deprivation 468–472\\nSleep, readiness for enhanced 477–480',\n",
       " '551–554',\n",
       " 'COGNITIVE-PERCEPTUAL PATTERN\\nAcute pain 365–369\\nChronic pain 370–374\\nSensory perception, disturbed (specify) 449–454\\nUnilateral neglect\\nKnowledge deficit (specify) 319–323\\nKnowledge, readiness for enhanced 323–325\\nMemory, impaired 328–331\\nThought processes, disturbed 529–533\\nAcute confusion 147–150\\nChronic confusion 150–153\\nEnvironmental interpretation syndrome, impaired 211–214\\nDecisional conflict (specify)',\n",
       " '144–147',\n",
       " 'SELF-PERCEPTION-SELF-CONCEPT PATTERN\\nFear\\nAnxiety 78–83',\n",
       " '236–239']"
      ]
     },
     "execution_count": 17,
     "metadata": {},
     "output_type": "execute_result"
    }
   ],
   "source": [
    "get_page(data, 2)\n"
   ]
  }
 ],
 "metadata": {
  "kernelspec": {
   "display_name": "Python 3",
   "language": "python",
   "name": "python3"
  },
  "language_info": {
   "codemirror_mode": {
    "name": "ipython",
    "version": 3
   },
   "file_extension": ".py",
   "mimetype": "text/x-python",
   "name": "python",
   "nbconvert_exporter": "python",
   "pygments_lexer": "ipython3",
   "version": "3.8.3"
  }
 },
 "nbformat": 4,
 "nbformat_minor": 4
}
